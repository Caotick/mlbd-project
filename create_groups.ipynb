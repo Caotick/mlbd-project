{
 "cells": [
  {
   "cell_type": "markdown",
   "metadata": {},
   "source": [
    "# File creating group\n",
    "This file is a helper file to create the subgroups in the group folders"
   ]
  },
  {
   "cell_type": "code",
   "execution_count": 1,
   "metadata": {},
   "outputs": [],
   "source": [
    "import pandas as pd\n",
    "import ast"
   ]
  },
  {
   "cell_type": "markdown",
   "metadata": {},
   "source": [
    "## Loading the data"
   ]
  },
  {
   "cell_type": "code",
   "execution_count": 7,
   "metadata": {},
   "outputs": [],
   "source": [
    "DATA_FOLDER = 'data/'\n",
    "TOP_FOLDER = DATA_FOLDER + 'lastfm-dataset-360k/'\n",
    "TIMELINE_FOLDER = DATA_FOLDER + 'lastfm-dataset-1k/'\n",
    "\n",
    "#Using just the artists\n",
    "top_user = pd.read_csv(TOP_FOLDER + 'usersha1-profile.tsv', sep = '\\t', error_bad_lines = False, header = None)\n",
    "top_data = pd.read_csv(TOP_FOLDER + 'usersha1-artmbid-artname-plays.tsv', sep = '\\t', error_bad_lines = False, header = None)\n",
    "\n",
    "spotify_data = pd.read_csv(DATA_FOLDER + 'full_spotify_info.csv', error_bad_lines = False, header = 0)"
   ]
  },
  {
   "cell_type": "code",
   "execution_count": 8,
   "metadata": {},
   "outputs": [],
   "source": [
    "top_user.rename(columns = {0 : 'ID', 1 : 'Gender', 2 : 'Age', 3 : 'Country', 4 : 'Registered'}, inplace = True)\n",
    "top_data.rename(columns = {0 : 'ID', 1 : 'Artist_ID', 2 : 'Artist', 3 : 'Plays'}, inplace = True)"
   ]
  },
  {
   "cell_type": "code",
   "execution_count": 9,
   "metadata": {},
   "outputs": [],
   "source": [
    "top_merged = top_user.merge(top_data, left_on = 'ID', right_on = 'ID')"
   ]
  },
  {
   "cell_type": "code",
   "execution_count": 10,
   "metadata": {},
   "outputs": [
    {
     "data": {
      "text/html": [
       "<div>\n",
       "<style scoped>\n",
       "    .dataframe tbody tr th:only-of-type {\n",
       "        vertical-align: middle;\n",
       "    }\n",
       "\n",
       "    .dataframe tbody tr th {\n",
       "        vertical-align: top;\n",
       "    }\n",
       "\n",
       "    .dataframe thead th {\n",
       "        text-align: right;\n",
       "    }\n",
       "</style>\n",
       "<table border=\"1\" class=\"dataframe\">\n",
       "  <thead>\n",
       "    <tr style=\"text-align: right;\">\n",
       "      <th></th>\n",
       "      <th>ID</th>\n",
       "      <th>Gender</th>\n",
       "      <th>Age</th>\n",
       "      <th>Country</th>\n",
       "      <th>Registered</th>\n",
       "      <th>Artist_ID</th>\n",
       "      <th>Artist</th>\n",
       "      <th>Plays</th>\n",
       "    </tr>\n",
       "  </thead>\n",
       "  <tbody>\n",
       "    <tr>\n",
       "      <th>0</th>\n",
       "      <td>00000c289a1829a808ac09c00daf10bc3c4e223b</td>\n",
       "      <td>f</td>\n",
       "      <td>22.0</td>\n",
       "      <td>Germany</td>\n",
       "      <td>Feb 1, 2007</td>\n",
       "      <td>3bd73256-3905-4f3a-97e2-8b341527f805</td>\n",
       "      <td>betty blowtorch</td>\n",
       "      <td>2137</td>\n",
       "    </tr>\n",
       "    <tr>\n",
       "      <th>1</th>\n",
       "      <td>00000c289a1829a808ac09c00daf10bc3c4e223b</td>\n",
       "      <td>f</td>\n",
       "      <td>22.0</td>\n",
       "      <td>Germany</td>\n",
       "      <td>Feb 1, 2007</td>\n",
       "      <td>f2fb0ff0-5679-42ec-a55c-15109ce6e320</td>\n",
       "      <td>die Ärzte</td>\n",
       "      <td>1099</td>\n",
       "    </tr>\n",
       "    <tr>\n",
       "      <th>2</th>\n",
       "      <td>00000c289a1829a808ac09c00daf10bc3c4e223b</td>\n",
       "      <td>f</td>\n",
       "      <td>22.0</td>\n",
       "      <td>Germany</td>\n",
       "      <td>Feb 1, 2007</td>\n",
       "      <td>b3ae82c2-e60b-4551-a76d-6620f1b456aa</td>\n",
       "      <td>melissa etheridge</td>\n",
       "      <td>897</td>\n",
       "    </tr>\n",
       "    <tr>\n",
       "      <th>3</th>\n",
       "      <td>00000c289a1829a808ac09c00daf10bc3c4e223b</td>\n",
       "      <td>f</td>\n",
       "      <td>22.0</td>\n",
       "      <td>Germany</td>\n",
       "      <td>Feb 1, 2007</td>\n",
       "      <td>3d6bbeb7-f90e-4d10-b440-e153c0d10b53</td>\n",
       "      <td>elvenking</td>\n",
       "      <td>717</td>\n",
       "    </tr>\n",
       "    <tr>\n",
       "      <th>4</th>\n",
       "      <td>00000c289a1829a808ac09c00daf10bc3c4e223b</td>\n",
       "      <td>f</td>\n",
       "      <td>22.0</td>\n",
       "      <td>Germany</td>\n",
       "      <td>Feb 1, 2007</td>\n",
       "      <td>bbd2ffd7-17f4-4506-8572-c1ea58c3f9a8</td>\n",
       "      <td>juliette &amp; the licks</td>\n",
       "      <td>706</td>\n",
       "    </tr>\n",
       "  </tbody>\n",
       "</table>\n",
       "</div>"
      ],
      "text/plain": [
       "                                         ID Gender   Age  Country  \\\n",
       "0  00000c289a1829a808ac09c00daf10bc3c4e223b      f  22.0  Germany   \n",
       "1  00000c289a1829a808ac09c00daf10bc3c4e223b      f  22.0  Germany   \n",
       "2  00000c289a1829a808ac09c00daf10bc3c4e223b      f  22.0  Germany   \n",
       "3  00000c289a1829a808ac09c00daf10bc3c4e223b      f  22.0  Germany   \n",
       "4  00000c289a1829a808ac09c00daf10bc3c4e223b      f  22.0  Germany   \n",
       "\n",
       "    Registered                             Artist_ID                Artist  \\\n",
       "0  Feb 1, 2007  3bd73256-3905-4f3a-97e2-8b341527f805       betty blowtorch   \n",
       "1  Feb 1, 2007  f2fb0ff0-5679-42ec-a55c-15109ce6e320             die Ärzte   \n",
       "2  Feb 1, 2007  b3ae82c2-e60b-4551-a76d-6620f1b456aa     melissa etheridge   \n",
       "3  Feb 1, 2007  3d6bbeb7-f90e-4d10-b440-e153c0d10b53             elvenking   \n",
       "4  Feb 1, 2007  bbd2ffd7-17f4-4506-8572-c1ea58c3f9a8  juliette & the licks   \n",
       "\n",
       "   Plays  \n",
       "0   2137  \n",
       "1   1099  \n",
       "2    897  \n",
       "3    717  \n",
       "4    706  "
      ]
     },
     "execution_count": 10,
     "metadata": {},
     "output_type": "execute_result"
    }
   ],
   "source": [
    "top_merged.head()"
   ]
  },
  {
   "cell_type": "markdown",
   "metadata": {},
   "source": [
    "**Function that finds the groups**"
   ]
  },
  {
   "cell_type": "code",
   "execution_count": 13,
   "metadata": {},
   "outputs": [],
   "source": [
    "def get_user_groups(df):\n",
    "    user_artists = df[['ID', 'Artist']].groupby('ID').agg(set) \n",
    "    all_max_groups= [] #List of the max groups\n",
    "    for user1_ID, user1_artists in user_artists.iterrows():\n",
    "        max_group = ([user1_ID], user1_artists.Artist) #Start with the user and try to add other users in the group\n",
    "        flag = True\n",
    "        while(flag):\n",
    "            max_group, flag = maximize_set(max_group, user_artists)\n",
    "        \n",
    "        users = sorted(max_group[0])\n",
    "        artists = sorted(max_group[1]) #Converts arg to list => We do this step of sorting to only get the group once\n",
    "        max_group = (users, artists)\n",
    "        if max_group not in all_max_groups:#Allows to not have duplicated groups\n",
    "            print(max_group[0]) # We print the group to then create the files\n",
    "            print(\"\")\n",
    "            all_max_groups.append(max_group)\n",
    "        \n",
    "    return all_max_groups\n",
    "\n",
    "def maximize_set(max_group, user_artists):\n",
    "    max_set = set()\n",
    "    for user2_ID, user2_artists in user_artists.iterrows(): \n",
    "        if(user2_ID not in max_group[0]): #Go through all the user that are not already in the group\n",
    "            new_set = max_group[1].intersection(user2_artists.Artist) \n",
    "            if(len(new_set) > len(max_set) and len(new_set) > 5): #keeps the biggest new set & nb_artists > 10\n",
    "                max_set = new_set\n",
    "                new_user_in_group = user2_ID\n",
    "    \n",
    "    if(len(max_set) == 0):\n",
    "        return (max_group[0], max_group[1]), False\n",
    "    \n",
    "    max_group[0].append(new_user_in_group)\n",
    "    return (max_group[0], max_set), True"
   ]
  },
  {
   "cell_type": "code",
   "execution_count": 14,
   "metadata": {},
   "outputs": [
    {
     "name": "stdout",
     "output_type": "stream",
     "text": [
      "['00000c289a1829a808ac09c00daf10bc3c4e223b', '55465b640e972d1131a14caede9c33f9148b5510', '73294504a5d844e9d7797914836a4de52f8fb098']\n",
      "\n",
      "['00004d2ac9316e22dc007ab2243d6fcb239e707d', '206182320eaead0f384d07a26e021ee9d567d825']\n",
      "\n",
      "['0002fa6e25794597126fa44529105cedb31a75aa', '27bb56c0e15fcd47f0ed0d4141a4c88fff42d382', '2f81b5901185b9ba55716255624659888a1b823a', '3107fa2479a9ec7f9a63ff59ceb80953a2b92932', '33f5094729686c4ca66d6b3f5b0fc7118c02f777', '4d1bcf7a7b0c67996f17a19bb7e515887f18ee9a', '5883a88e382cef004ba060ae6c3faf8c5b055510', '5fddd8398e464e447ec455cfe57ebe5f76bfe8e7', '9bf0ae09f012e39006996497196a3383a1b917d6', 'a9b595f3198ff67bf80be61aafb6ccc8284a4a45', 'b147842dce80fdad99eb165abf412ab9b22d2cf2', 'b1b4295177f564cc9e0ebcb69b073ed00b7ee1a6', 'b535952cbc9fb28c1b5db3289d4ec0bd9a66f3fc', 'b57dffdf8c26053bee968b8916c59a440f2c30da', 'c32de9222953bfd05c35e527da6be3a94e9c9cf9', 'd7fb0085f01d06937cfdf15277b96600229284c0']\n",
      "\n",
      "['0004ce56b92c99a52fdcb7a20a5f71223e543a20', '361ed2023727f3e562a0ef38d7d9175266e06c65', '443f91132654f72d2020a12231acdea677bcc097', '5fd579f0b0fc834eb0446d4499101c241d85270e']\n",
      "\n",
      "['0006e9adc35981f2d066e523596092207b723fcb', '036e72485025ca34bd73879ce10ea50958b413bb', '334de96c779787179880a0cc43cd8615f13cf403', '468433749fe973a90e0cec4f612f222e5b3872ed']\n",
      "\n",
      "['0009699debac6985d7efed77877e67cf4cc198f0', '3e136ec0bbb142bb33f7fcbc640a44c709204f17', 'c19888fd81c0df187c14dc5a768c4dbaa5114325']\n",
      "\n",
      "['000a1585c5f65532a9c9187a882892982d345a5c', '0272e0eb39ee745c740c31003701c90481f1faab', '036e72485025ca34bd73879ce10ea50958b413bb', '0d7c0565277a17c0aebdad01b4461d152d1e2c66', '0f3b0e0594bf0aa0b88313a433314105fe74e291', '18f31a72e4afb711e3907442022d0dd36d98794d', '1da5f1ed05d725c50c91f59c501172b0b541a981', '226a4d96b212b30408fdb392c3796bc12607d794', '22a32fbe59f5ff8497a5c925a80fe8e33e985c5e', '2771c0c5557bf3bc5453ead7b76308f3347ed969', '38ed2a99f2b1ed954ccf6989b5a3b66003214867', '3d5ddc16ab001827927ecc4a76ca321a74734f8f', '486e89b59a8080def10ea69cb6b553ed40f0665f', '6cbbe9819b7b225a1bdfa836b9d25ec28569347a', '8ace820ef1eb2266618fa65db500d09cb8b4d2d5', 'a811a66bacb97987fe67b640625bef44de71e7d0', 'ae104afd303fe54e947e9aa21574b66d33d40484', 'b181c0b720a08af81f1ccf03c0a7cb0402736649', 'bb63a39f3e7d78810cf516d01ac29564f5c375bb', 'be5236ce2d6f60a79b760aba3d90db88972672cc']\n",
      "\n",
      "['000bce5b008caef9cce3f2b981ec71ef20a5926e', 'e1a09655b363d7f960b701a69c6047206ea8ae8f']\n",
      "\n",
      "['000cb6427411006fe9a6193d3c4f59efed53fbef', '010619d06b9514243302b80e787c05c88747954a', '0721768adaacc26bda0c9e39de72572d6fd1af82', '1f2a9d5809d80a5d964d2d8dc686a8660481161a', '2225f430a166bad58b922542ffc78a1b9997d06b', '23261aa26dbcda5befef74cbc9536b6021211a1c', '2c9c748a768cb1fb5807fa4efd4b67a46f8d220f', '3ee5b1d15bdb33f67e2f3d7ddabba9945e4655a0', '48f411a532576f286b8134679906d82dc6e60de2', '58c5a95acad0b1afe8e8660020cbd3ef4adc845f', '5cb1f952ab773b563c057fe3281f0593a16f0690', '60a515b1288878bd1a4d87fa55a98f549816b0bb', '81d8115444360f35b2daa3a857414f9af087e87c', '8ec402896e81dc8f7492ea9db3be987f0db9bd02', '8f397428c2c883a67e4562347ad77375d6b9e165', '9b06094b0484da4f61647fc29fa02612247215a6', 'a027e37a7d9eafa9cbf4fe146627209d8895d53a', 'a7a6297d98246e911d5a13f8b42d42df9ad1af98', 'b70af018e3925646b2115301dcc5e6efbe6f7eac', 'bcf2c4d43eca6d9776f8f8dbc2990b4d4c36632f', 'bec630f088128e1f5d3bdd2771404a1af088ad97', 'caff5452752e76e8295e772c85021c5d2b209010', 'cbb96c03c3a116de6dd0c96f091794f63acda167', 'd08c610fd0dd425f432ea8cb49ede5abd8bf8722', 'd6f593e3077ddfd32555b3c44ec2758a4b5decbe', 'f2fc94213049c87046d06f8ec7440c9d5f1e65c7']\n",
      "\n"
     ]
    },
    {
     "ename": "KeyboardInterrupt",
     "evalue": "",
     "output_type": "error",
     "traceback": [
      "\u001b[1;31m---------------------------------------------------------------------------\u001b[0m",
      "\u001b[1;31mKeyboardInterrupt\u001b[0m                         Traceback (most recent call last)",
      "\u001b[1;32m<ipython-input-14-c4b6d3b22b5b>\u001b[0m in \u001b[0;36m<module>\u001b[1;34m\u001b[0m\n\u001b[0;32m      1\u001b[0m \u001b[1;31m##Need to stop it running cause it takes too much time and we don't need that many supergroups\u001b[0m\u001b[1;33m\u001b[0m\u001b[1;33m\u001b[0m\u001b[1;33m\u001b[0m\u001b[0m\n\u001b[1;32m----> 2\u001b[1;33m \u001b[0mget_user_groups\u001b[0m\u001b[1;33m(\u001b[0m\u001b[0mtop_merged\u001b[0m\u001b[1;33m[\u001b[0m\u001b[0mtop_merged\u001b[0m\u001b[1;33m[\u001b[0m\u001b[1;34m'Country'\u001b[0m\u001b[1;33m]\u001b[0m \u001b[1;33m==\u001b[0m \u001b[1;34m'Germany'\u001b[0m\u001b[1;33m]\u001b[0m\u001b[1;33m)\u001b[0m\u001b[1;33m\u001b[0m\u001b[1;33m\u001b[0m\u001b[0m\n\u001b[0m",
      "\u001b[1;32m<ipython-input-13-5d9fb4dee161>\u001b[0m in \u001b[0;36mget_user_groups\u001b[1;34m(df)\u001b[0m\n\u001b[0;32m      6\u001b[0m         \u001b[0mflag\u001b[0m \u001b[1;33m=\u001b[0m \u001b[1;32mTrue\u001b[0m\u001b[1;33m\u001b[0m\u001b[1;33m\u001b[0m\u001b[0m\n\u001b[0;32m      7\u001b[0m         \u001b[1;32mwhile\u001b[0m\u001b[1;33m(\u001b[0m\u001b[0mflag\u001b[0m\u001b[1;33m)\u001b[0m\u001b[1;33m:\u001b[0m\u001b[1;33m\u001b[0m\u001b[1;33m\u001b[0m\u001b[0m\n\u001b[1;32m----> 8\u001b[1;33m             \u001b[0mmax_group\u001b[0m\u001b[1;33m,\u001b[0m \u001b[0mflag\u001b[0m \u001b[1;33m=\u001b[0m \u001b[0mmaximize_set\u001b[0m\u001b[1;33m(\u001b[0m\u001b[0mmax_group\u001b[0m\u001b[1;33m,\u001b[0m \u001b[0muser_artists\u001b[0m\u001b[1;33m)\u001b[0m\u001b[1;33m\u001b[0m\u001b[1;33m\u001b[0m\u001b[0m\n\u001b[0m\u001b[0;32m      9\u001b[0m \u001b[1;33m\u001b[0m\u001b[0m\n\u001b[0;32m     10\u001b[0m         \u001b[0musers\u001b[0m \u001b[1;33m=\u001b[0m \u001b[0msorted\u001b[0m\u001b[1;33m(\u001b[0m\u001b[0mmax_group\u001b[0m\u001b[1;33m[\u001b[0m\u001b[1;36m0\u001b[0m\u001b[1;33m]\u001b[0m\u001b[1;33m)\u001b[0m\u001b[1;33m\u001b[0m\u001b[1;33m\u001b[0m\u001b[0m\n",
      "\u001b[1;32m<ipython-input-13-5d9fb4dee161>\u001b[0m in \u001b[0;36mmaximize_set\u001b[1;34m(max_group, user_artists)\u001b[0m\n\u001b[0;32m     20\u001b[0m \u001b[1;32mdef\u001b[0m \u001b[0mmaximize_set\u001b[0m\u001b[1;33m(\u001b[0m\u001b[0mmax_group\u001b[0m\u001b[1;33m,\u001b[0m \u001b[0muser_artists\u001b[0m\u001b[1;33m)\u001b[0m\u001b[1;33m:\u001b[0m\u001b[1;33m\u001b[0m\u001b[1;33m\u001b[0m\u001b[0m\n\u001b[0;32m     21\u001b[0m     \u001b[0mmax_set\u001b[0m \u001b[1;33m=\u001b[0m \u001b[0mset\u001b[0m\u001b[1;33m(\u001b[0m\u001b[1;33m)\u001b[0m\u001b[1;33m\u001b[0m\u001b[1;33m\u001b[0m\u001b[0m\n\u001b[1;32m---> 22\u001b[1;33m     \u001b[1;32mfor\u001b[0m \u001b[0muser2_ID\u001b[0m\u001b[1;33m,\u001b[0m \u001b[0muser2_artists\u001b[0m \u001b[1;32min\u001b[0m \u001b[0muser_artists\u001b[0m\u001b[1;33m.\u001b[0m\u001b[0miterrows\u001b[0m\u001b[1;33m(\u001b[0m\u001b[1;33m)\u001b[0m\u001b[1;33m:\u001b[0m\u001b[1;33m\u001b[0m\u001b[1;33m\u001b[0m\u001b[0m\n\u001b[0m\u001b[0;32m     23\u001b[0m         \u001b[1;32mif\u001b[0m\u001b[1;33m(\u001b[0m\u001b[0muser2_ID\u001b[0m \u001b[1;32mnot\u001b[0m \u001b[1;32min\u001b[0m \u001b[0mmax_group\u001b[0m\u001b[1;33m[\u001b[0m\u001b[1;36m0\u001b[0m\u001b[1;33m]\u001b[0m\u001b[1;33m)\u001b[0m\u001b[1;33m:\u001b[0m \u001b[1;31m#Go through all the user that are not already in the group\u001b[0m\u001b[1;33m\u001b[0m\u001b[1;33m\u001b[0m\u001b[0m\n\u001b[0;32m     24\u001b[0m             \u001b[0mnew_set\u001b[0m \u001b[1;33m=\u001b[0m \u001b[0mmax_group\u001b[0m\u001b[1;33m[\u001b[0m\u001b[1;36m1\u001b[0m\u001b[1;33m]\u001b[0m\u001b[1;33m.\u001b[0m\u001b[0mintersection\u001b[0m\u001b[1;33m(\u001b[0m\u001b[0muser2_artists\u001b[0m\u001b[1;33m.\u001b[0m\u001b[0mArtist\u001b[0m\u001b[1;33m)\u001b[0m\u001b[1;33m\u001b[0m\u001b[1;33m\u001b[0m\u001b[0m\n",
      "\u001b[1;32mC:\\ProgramData\\Anaconda3\\lib\\site-packages\\pandas\\core\\frame.py\u001b[0m in \u001b[0;36miterrows\u001b[1;34m(self)\u001b[0m\n\u001b[0;32m   1069\u001b[0m         \u001b[0mklass\u001b[0m \u001b[1;33m=\u001b[0m \u001b[0mself\u001b[0m\u001b[1;33m.\u001b[0m\u001b[0m_constructor_sliced\u001b[0m\u001b[1;33m\u001b[0m\u001b[1;33m\u001b[0m\u001b[0m\n\u001b[0;32m   1070\u001b[0m         \u001b[1;32mfor\u001b[0m \u001b[0mk\u001b[0m\u001b[1;33m,\u001b[0m \u001b[0mv\u001b[0m \u001b[1;32min\u001b[0m \u001b[0mzip\u001b[0m\u001b[1;33m(\u001b[0m\u001b[0mself\u001b[0m\u001b[1;33m.\u001b[0m\u001b[0mindex\u001b[0m\u001b[1;33m,\u001b[0m \u001b[0mself\u001b[0m\u001b[1;33m.\u001b[0m\u001b[0mvalues\u001b[0m\u001b[1;33m)\u001b[0m\u001b[1;33m:\u001b[0m\u001b[1;33m\u001b[0m\u001b[1;33m\u001b[0m\u001b[0m\n\u001b[1;32m-> 1071\u001b[1;33m             \u001b[0ms\u001b[0m \u001b[1;33m=\u001b[0m \u001b[0mklass\u001b[0m\u001b[1;33m(\u001b[0m\u001b[0mv\u001b[0m\u001b[1;33m,\u001b[0m \u001b[0mindex\u001b[0m\u001b[1;33m=\u001b[0m\u001b[0mcolumns\u001b[0m\u001b[1;33m,\u001b[0m \u001b[0mname\u001b[0m\u001b[1;33m=\u001b[0m\u001b[0mk\u001b[0m\u001b[1;33m)\u001b[0m\u001b[1;33m\u001b[0m\u001b[1;33m\u001b[0m\u001b[0m\n\u001b[0m\u001b[0;32m   1072\u001b[0m             \u001b[1;32myield\u001b[0m \u001b[0mk\u001b[0m\u001b[1;33m,\u001b[0m \u001b[0ms\u001b[0m\u001b[1;33m\u001b[0m\u001b[1;33m\u001b[0m\u001b[0m\n\u001b[0;32m   1073\u001b[0m \u001b[1;33m\u001b[0m\u001b[0m\n",
      "\u001b[1;32mC:\\ProgramData\\Anaconda3\\lib\\site-packages\\pandas\\core\\series.py\u001b[0m in \u001b[0;36m__init__\u001b[1;34m(self, data, index, dtype, name, copy, fastpath)\u001b[0m\n\u001b[0;32m    362\u001b[0m                     \u001b[0mdata\u001b[0m \u001b[1;33m=\u001b[0m \u001b[0mdata\u001b[0m\u001b[1;33m.\u001b[0m\u001b[0mcopy\u001b[0m\u001b[1;33m(\u001b[0m\u001b[1;33m)\u001b[0m\u001b[1;33m\u001b[0m\u001b[1;33m\u001b[0m\u001b[0m\n\u001b[0;32m    363\u001b[0m             \u001b[1;32melse\u001b[0m\u001b[1;33m:\u001b[0m\u001b[1;33m\u001b[0m\u001b[1;33m\u001b[0m\u001b[0m\n\u001b[1;32m--> 364\u001b[1;33m                 \u001b[0mdata\u001b[0m \u001b[1;33m=\u001b[0m \u001b[0msanitize_array\u001b[0m\u001b[1;33m(\u001b[0m\u001b[0mdata\u001b[0m\u001b[1;33m,\u001b[0m \u001b[0mindex\u001b[0m\u001b[1;33m,\u001b[0m \u001b[0mdtype\u001b[0m\u001b[1;33m,\u001b[0m \u001b[0mcopy\u001b[0m\u001b[1;33m,\u001b[0m \u001b[0mraise_cast_failure\u001b[0m\u001b[1;33m=\u001b[0m\u001b[1;32mTrue\u001b[0m\u001b[1;33m)\u001b[0m\u001b[1;33m\u001b[0m\u001b[1;33m\u001b[0m\u001b[0m\n\u001b[0m\u001b[0;32m    365\u001b[0m \u001b[1;33m\u001b[0m\u001b[0m\n\u001b[0;32m    366\u001b[0m                 \u001b[0mdata\u001b[0m \u001b[1;33m=\u001b[0m \u001b[0mSingleBlockManager\u001b[0m\u001b[1;33m.\u001b[0m\u001b[0mfrom_array\u001b[0m\u001b[1;33m(\u001b[0m\u001b[0mdata\u001b[0m\u001b[1;33m,\u001b[0m \u001b[0mindex\u001b[0m\u001b[1;33m)\u001b[0m\u001b[1;33m\u001b[0m\u001b[1;33m\u001b[0m\u001b[0m\n",
      "\u001b[1;32mC:\\ProgramData\\Anaconda3\\lib\\site-packages\\pandas\\core\\construction.py\u001b[0m in \u001b[0;36msanitize_array\u001b[1;34m(data, index, dtype, copy, raise_cast_failure)\u001b[0m\n\u001b[0;32m    543\u001b[0m                 \u001b[0msubarr\u001b[0m \u001b[1;33m=\u001b[0m \u001b[0mnp\u001b[0m\u001b[1;33m.\u001b[0m\u001b[0marray\u001b[0m\u001b[1;33m(\u001b[0m\u001b[0mdata\u001b[0m\u001b[1;33m,\u001b[0m \u001b[0mdtype\u001b[0m\u001b[1;33m=\u001b[0m\u001b[0mobject\u001b[0m\u001b[1;33m,\u001b[0m \u001b[0mcopy\u001b[0m\u001b[1;33m=\u001b[0m\u001b[0mcopy\u001b[0m\u001b[1;33m)\u001b[0m\u001b[1;33m\u001b[0m\u001b[1;33m\u001b[0m\u001b[0m\n\u001b[0;32m    544\u001b[0m \u001b[1;33m\u001b[0m\u001b[0m\n\u001b[1;32m--> 545\u001b[1;33m         \u001b[0mis_object_or_str_dtype\u001b[0m \u001b[1;33m=\u001b[0m \u001b[0mis_object_dtype\u001b[0m\u001b[1;33m(\u001b[0m\u001b[0mdtype\u001b[0m\u001b[1;33m)\u001b[0m \u001b[1;32mor\u001b[0m \u001b[0mis_string_dtype\u001b[0m\u001b[1;33m(\u001b[0m\u001b[0mdtype\u001b[0m\u001b[1;33m)\u001b[0m\u001b[1;33m\u001b[0m\u001b[1;33m\u001b[0m\u001b[0m\n\u001b[0m\u001b[0;32m    546\u001b[0m         \u001b[1;32mif\u001b[0m \u001b[0mis_object_dtype\u001b[0m\u001b[1;33m(\u001b[0m\u001b[0msubarr\u001b[0m\u001b[1;33m.\u001b[0m\u001b[0mdtype\u001b[0m\u001b[1;33m)\u001b[0m \u001b[1;32mand\u001b[0m \u001b[1;32mnot\u001b[0m \u001b[0mis_object_or_str_dtype\u001b[0m\u001b[1;33m:\u001b[0m\u001b[1;33m\u001b[0m\u001b[1;33m\u001b[0m\u001b[0m\n\u001b[0;32m    547\u001b[0m             \u001b[0minferred\u001b[0m \u001b[1;33m=\u001b[0m \u001b[0mlib\u001b[0m\u001b[1;33m.\u001b[0m\u001b[0minfer_dtype\u001b[0m\u001b[1;33m(\u001b[0m\u001b[0msubarr\u001b[0m\u001b[1;33m,\u001b[0m \u001b[0mskipna\u001b[0m\u001b[1;33m=\u001b[0m\u001b[1;32mFalse\u001b[0m\u001b[1;33m)\u001b[0m\u001b[1;33m\u001b[0m\u001b[1;33m\u001b[0m\u001b[0m\n",
      "\u001b[1;32mC:\\ProgramData\\Anaconda3\\lib\\site-packages\\pandas\\core\\dtypes\\common.py\u001b[0m in \u001b[0;36mis_object_dtype\u001b[1;34m(arr_or_dtype)\u001b[0m\n\u001b[0;32m    199\u001b[0m \u001b[1;33m\u001b[0m\u001b[0m\n\u001b[0;32m    200\u001b[0m \u001b[1;33m\u001b[0m\u001b[0m\n\u001b[1;32m--> 201\u001b[1;33m \u001b[1;32mdef\u001b[0m \u001b[0mis_object_dtype\u001b[0m\u001b[1;33m(\u001b[0m\u001b[0marr_or_dtype\u001b[0m\u001b[1;33m)\u001b[0m \u001b[1;33m->\u001b[0m \u001b[0mbool\u001b[0m\u001b[1;33m:\u001b[0m\u001b[1;33m\u001b[0m\u001b[1;33m\u001b[0m\u001b[0m\n\u001b[0m\u001b[0;32m    202\u001b[0m     \"\"\"\n\u001b[0;32m    203\u001b[0m     \u001b[0mCheck\u001b[0m \u001b[0mwhether\u001b[0m \u001b[0man\u001b[0m \u001b[0marray\u001b[0m\u001b[1;33m-\u001b[0m\u001b[0mlike\u001b[0m \u001b[1;32mor\u001b[0m \u001b[0mdtype\u001b[0m \u001b[1;32mis\u001b[0m \u001b[0mof\u001b[0m \u001b[0mthe\u001b[0m \u001b[0mobject\u001b[0m \u001b[0mdtype\u001b[0m\u001b[1;33m.\u001b[0m\u001b[1;33m\u001b[0m\u001b[1;33m\u001b[0m\u001b[0m\n",
      "\u001b[1;31mKeyboardInterrupt\u001b[0m: "
     ]
    }
   ],
   "source": [
    "##Need to stop it running cause it takes too much time and we don't need that many supergroups\n",
    "get_user_groups(top_merged[top_merged['Country'] == 'Germany'])"
   ]
  },
  {
   "cell_type": "code",
   "execution_count": 62,
   "metadata": {},
   "outputs": [
    {
     "name": "stdout",
     "output_type": "stream",
     "text": [
      "['0000c176103e538d5c9828e695fed4f7ae42dd01', '01b573f278688a642120764c503edc7b77173a1d', '119e0150c73b18247eccb4b9d103cabdf688ba08', '1561b5b3f63166e712e46d4ae3670ad9e76f203f', '1c19f4361b7f5d68db5a72450b2dec5c6ebbfbf2', '1c6f9fbbe07b2e01911af4aab6dd8183c77b27cd', '4b364898a43a75987dc771587c305ccc1530bdea', '4c365e5ab40f5bd7f2c45d0b5592e694d2fcdcfc', '582527a0d5e7b791d57ccaf1f2f2ef4a324eb4a8', '5ad63432c9a01b274c23ffbeb36b137549c67398', '60f0079ffc2b60955351c5d0ad0e5e37388449a3', '6bd1933a3581a66da1683365c69df10a515fe2bc', '77dec888169db9ba5ebc360df1c63ea8123ab419', '8c14070c590c784806e539204ce1ce9f9a6b62e5', 'bc389799489ee315495baf7eaf84100f693e4bae', 'f540eb6c7aaf56a71953e0f6d16b5a301d386697']\n",
      "['00035a0368fd249d286f683e816fbdc97cbfa7d9', '01c359055370f3c72f7e5fa7e54d13fe27e9d6e9', '0574b898b57f9da19cb18c9433b531cdb8666b57', '097e571d04ec68795d3f69d3356c32c2ae9b028e', '0a4e7a2e5ad4cfe53e3c32c7287e721108c957b3', '0d2c3a8d15b7a9951a20bd94317b11e9dc20fa7a', '0edfd0b3630ef4eed597a78db2f1984cadd75f60', '233fff208cc06bb601c42c88cb36d67c78117470', '32b350dce99b040059c919bfc81759c1ca1709d5', '34d9cd40009f572bf6168adf0b4ca1d8c26b49fc', '41cd2a2c06a61abdadef690c93f6bbdf423f032d', '4799671b78b08f8f5c7f14aba87140ba999f78dc', '4c7cf6a427a365a97d0d92715da0aeccafed1ee4', '4cd5a92633b90b45665e580fd0bb252fd984c0ab', '4fa437c0b11b64f2c384022b850a6329828cadfd', '56b28f24046146932b512ea3caad56530c6b31b9', '5863ec24407aa8114cbd6802add800e209b208a0', '6c3ada69128880fd65bd8eb5944c7d9e0859e276', '6fcee3958df8c4c3cd54c6cf6bb63bfcf13acfb0', '7010692ee31be544c80908a071a3a4362849a8ae', '96b06619b5ce0817749e36a195266417e7887d56', '9ac1bc781f8c7bea923d936e475934b899de4567', '9c3b5fe60670b6f0f5e98d0a0220f3f22cd8d961', 'a10ce391787f4de723668c478dda291a5a35e08b', 'a413973fdbc5e3feb6b28af7ec7cac4e5c24d99b', 'a47cc3e8c88fdd05c529ef0282e35e7c739e94af', 'a64e95d6a3972686fea494c846f7c0b490955ac2', 'b1871534b22e2fd0f3025e97e8095c9f87ba749c', 'b7344bc519f2edfafb6e7eaf9d2f6145d48800a1', 'c04ee1ec3760bc15a2f24afbfb04b0fac9f1c1bc', 'c8387e0ed74e8eca3b03f4f484fc342000307cb7', 'd288fdf336b537479b69bef4edeb7108c2a18ead', 'd6ba3adc2d6b81ddbaa605d249eb431c6c909f6d', 'd6df7754c8443c46fd631170c9d315fca42af3d6', 'e446f8458afc831f127230b54b9f63a60c4237fb', 'f07629b8c57736882f6920a9a0ef5690a33734b4', 'f2eb7c0078bb8814a66974a7bfb0e6774507478e', 'faaeebdb373211f4428930941792e1d04d52fae0']\n",
      "['000392e00cf41fbf48865109b72a92b3b72c2fed', '14290c1dbf8e47fa625e7de9f39adfa807bd0fdc', '3fcadcf6cc138dc5dbc843b70bb37dfe887e67de', '45390f158ab1ddd8a26f28f0864a62ab11a8658a', '7ee5af5b39cde16e7225f6b40bd29f699e7476ab', 'cb028773e4e8fdea72b03f9f4970d40bfa28beea']\n",
      "['00087f98b9db64d761d3f1404e1558da9245137a', '00b55ba1cb89e9c74eeec47de3d967ca29585be6', '09a2c6e8cc75180217f0a1461f1ce5b9fca3b1b0', '1085e00779f270d345f0cc6dbb30c955f3291d45', '12b4772e59b93e6685aa1558794f2dcc0188bf56', '18e72e21280122003739f3709cedc82bbd6826b9', '258bbbca30b89bcc72fcd666bf90439ad54f9544', '4bd53a193c06f89c2722dd291e5c40fcdd610ed6', '6e67d39c404bde374209980ecf9554ee8642c9ea', '6e92d16513b25aedacbac05cfb6cdc26ca43160e', '97a201ad8c526750691890b59202240b171a1a2f', 'efcc4933e3ddaa17a8a26c221f4309163616b43e']\n",
      "['0008ac556f2cf0ea3b53f53d84223f1c62ee3ffe', '0696ed3a3697913c39dabaf64f6248b44ee39671', '14290c1dbf8e47fa625e7de9f39adfa807bd0fdc', '1e05325b6e22ffc644ed64c9b51de93d997de816', '419dd029c20c7679ea2a2367061fa5ec8e32f5e5', '4b65f1d54cbb98872dee37867caf26f42739ac91', '5de9f23a47271c32da462a254464948207e178c1', '700430382830be41d2c0ae251f2ff5636dffb9cb', '86348184d556b7a03c500e11ded4dec20fe5c127', 'a21f58c1b8a08dcbc5dad4899fb418da6a501987', 'a7d3b7e16e7890feae6c6fbcf23ed20b29d5e63f', 'a980c53ce9a9246af8d7af20983b18a7a83e15fa', 'b24ff43c5b86b654a2a869117260dc5c655c0467', 'cbea6b1669efcdfc70438875e5b0582df6b55792', 'd592e877c3df0b2a11bea83063f56771b9d87094', 'd733b2c9a25584058f13e4ef9698400d54d94c59', 'fc5eded5593a6c64bcabaef7fab51d7aec13463c']\n",
      "['000cdac4253f2dcecbd3dff8c5d7cf8cf0426c7a', '0c0270da6241e70ad257241b05bc765e0aea6af4', '2161494de4c6326cee214cd3c8d7f08719214cfc', 'a8930d1aae491501d8160e0756b9ec7e741060d1']\n",
      "['001081f0dfe6295f20f1746a448076d71be091e2', '00b55ba1cb89e9c74eeec47de3d967ca29585be6', '0abc38fa86c1c478052e5d1c10da2c64a20f24cc', '239bff3dce54603b2095adfda31a4f79d39bae38', '58e42d5ec9ac0283349d5e51e1a6651b4cf1cb59', '67ff12133735dec04600e5d33b9c36e45b39486f', '7afd1925396ddcee236c6aa5b710c2f4f39f1a22', 'db1abb1726a19ae6c49fda170b2ced453778bd36']\n",
      "['00116ce6ccf9f2e315152821908d2f6f4389605c', '11033caf370927b01b102a50c3ceb5a2544ec398', '2b72d6051171820a04d65a69fe5ccdb056e2a3e4', '6c7d9d55cd7847d8eb636ae35f909985bdb44206', '74572402dee5f2f170b1d51d9415fc74e01bf422']\n",
      "['001177cbfd07a33aa9f54bf9c4315fa4ca670c93', '0cf2d0b3a923ca477831540d52f5e35a0be4b67c', '1b4d53292b64efd99d381c0110448d9b64233a56', '294c1e338bd7ddca1829d7aa74356d1d94ae717f']\n",
      "['00125395990f011b43477a47a4e8dd002f963d57', '100ef2217fa15a1ab9d1069bd022f99edde24081', '1a9922d295a74bca9f0fbc983ac79fee07743693', '4135cfb29586c649c4649b2fa409daf9660a1586', '68929e3aa9a15aa5e25ef9d305ef5c292d630147', 'd62a885df98b36a21c3ae084a7f8f541a7713981']\n",
      "['001649ea2c073ccbf2fb29e297009413cd7fa9c8', '0b89389cf6bfcd4fce9b91ced67ac11bed60c716', '97ddd078c45bc92340bec85f416bfdded9e55840', 'e9f82ef64e6819109c64bca9a559c7a5f78a7665', 'fbb8de04a3a529b004f31f22ade84c089f34fa9c']\n",
      "['00165ee092816685dbee5fa5152f8b35aa8dd439', '1a6f5277946ea0ad25168bdfac67fe84037241a9', '6f6e4bc54cce6441381f4ee338bb4af24025ad31', '8217e9d4e47ba2d5c73d2750cc17b5f2427f71ff', '85d665c2418a5ebaa23dcf4197f27d1baef7e490', 'b1e4e64f45d821009591e05563937c547a33db96', 'ce31df7aa437cf8033c09372a54e0c61f496eba0']\n",
      "['0018c29f20d69d17a14ba01089ec997acaffbb46', '0b7b544c028dc44f7c56964c8c32bc085c495a71', '33dc23efd81c8e80d2207073f2688beb7213121a', '473c45d113b0696370d7e71e2a5a694e1085a1e4', '7535856cfe05f1af73bb6683c729ba906c0958af', '831b99003a2536643510afdcd753daafa945e42c', '8b08d2d67e52d74a39063eebd53dc31d478ac080', '98c5eec390b83e75578d5b37f915dae5a39f3d3a', 'a76268586b4b4dda232616ccbd2c0b3e0927c53d']\n",
      "['00195ace562ee8ad824400e980d82e68eace4b54', '078e67b1c42e6344edf32234d3440a7086b59f56', '16ef7e5258e7893c25e5faf8a91f04e054bfa5f3', '1eb0b0db9e2444027490db5013746161d9c03edb', '404d388603c311dadbca4a585529f060bae81836', '7e8aa7504a824d75e008a17ac9f10501da912fef', '8649d03e9032ad10dd2d4179ca58ffbc0a5b3ae7', 'a371bbb55d5bd46d6f3a3a40a5719e8f9387c4a8', 'ebf0ec5a02ff02debe09546bb1905480b2c0049a']\n",
      "['001fb7161ff2d1b8dff3b74f98f0253fa7d0a11c', '0ba5142d7257bc49a4c1c6cc5aa1eb6abeeb426a', '0e6a06d4bf0695efd743d5780f0697fdff7cb9c2', '1591024273d9dfef5ef62432cf640e6281b86476', '1a56ede6c40374a1e5b773b80a46be9f9df3eabf', '45ce132ae8ddece90bf1c8722db731f6a42db79c', '4cd5a92633b90b45665e580fd0bb252fd984c0ab', '5c7574e689455b6ed3d4f12b61c05a6382fd25ee', 'c2dd2f3fdb290ba3573618ea9ae078c5bdde6343', 'c336faf9bb09bdc2aeedbee245e8fb3c44cfe82c', 'c5c24306d49a83173ee1a7c491363b9618b09f56']\n",
      "['00243799d78e58fcf6869efc5232b5e776b18434', '11b9e9f7494777cb47e65bb104c36910cb3d5cd9']\n",
      "['00259ccffaf39e731b9b18d3826579977c6510a4', '15481425699a2546a25ff20efa8e6b0e4df96866']\n",
      "['002961b99f36cf33003b7d4274238dc250447107', '7590077fc494b2faf687753ddf1fe20ef94884c2', 'e80c3418b6e05f62172043f6fbbc561e8c5056fd']\n",
      "['002bb84c527480dc67b2983690bb48027de80244', '3056da6627971faf7b9f6cf911ac681d53344991', '5ec8d69f927c7ca4b4fc795cbd03fb47a81d045e']\n",
      "['002ceaef45065fb8f25cf31a14ee6c314500cf99', '0d2c3a8d15b7a9951a20bd94317b11e9dc20fa7a', '2e38554d87118e8063b1ab3ac1da0bf027bed6dc', '319d7a10b7f13ee9ec685f3338cf86ff09ef1a69', '436ad11fa64875dbb6c08a3bbc5b96435a15a140', '73f02ec48fde7d92f5868dc51f40c6e3ac83a87f', '9a040d4614c359ee65568418f9f2f0966b934810', 'bfbcfaf2f733bc5cdc7958dc60a1953e9a3bed6d']\n",
      "['002d07853e3d855dc359da5bd23f10ff11444b36', '05f029fe375c7cf62aff22ce0ddc34f5cf5e2013', '19941d45b57e2a44fd8d7f000e4fb88078b085db', '27c1088f09dda573c3b67af90271026170b2e7bb', '95c7ad939fd3fed5d323ecb84984df221f0b4f86', 'd60cb805db9d953489af2d8497b7b4777b7229ab']\n",
      "['002d3ea85bb2bb76ebd0c843154e8e2bda08b5eb', '02cc2fe790b48a82a520adca52aa31f2740c317a', '1cf29a68f049a2aa5163a00c1fca233bbbfe3019', '2ca102b6a98df2e50d05bed18e1fefaf3b9acd09', '4cf28426a34eb1c70a549c41089e106bdcb17430']\n"
     ]
    },
    {
     "name": "stdout",
     "output_type": "stream",
     "text": [
      "['003148d4d476682966ecca8cc679e4cf5752142e', '18355344d956442e13c071d72a933dc5cd99a0df', '62349b43e155371b45ff8fbd06efa32f275974b7', '7c1f735c6b20b3efb96f252419e0ea5adb7b4137', '83c629980f18e60412ebad2538768561ee69d305', 'a779f1e7a283fc67245b67aa9f67f5eb0b05da61', 'bb19448a19d7053e13ba99948f60bd8425c6f14e', 'd67cc0fd7ef6ab1300d03d89743d5e4880212afa', 'd9e0f8d44dc80a755b04c4bb76a65d65fb875527']\n",
      "['0035a444da457a04de467c2eb5b2a3313e963160', '7f2d4d13498eb1faebb19471df3e0e93000618c9', 'a322a8d189fc975e271ce07accaf32a0bb17f9bd', 'da8a1bb5507e3890bd4ea52add5c8d317c81fa11']\n",
      "['00371cc2a235a9cad6a2367f6c98577e5a7b5324', '08829d0f1f8303082edce74fd40c773606be1a8c', '28fc81583b2e61492df889d3c84f5c6a14f388db', '4c85e1fc148944a36185e41903135485eebf6378', '5d56dfd1c09e44b9fdfcbf8ae5b0df3299a288c7', '6b82159d1719d15f1ad5b91ca2ae5153ea369189', '6db1ab40da4281fdf30710c990a0d8f0f3482057', '8b7a7f749dc993c12c61f39c117d7e1c0b3d877c', '990a7f25ca40dd66cbb48d5600ad944668fd3c14', '9acd8a9f430bdf6f9c5af5377de1efcfa2885dfe', 'a8575fe51ad8d809650bd328ef2af1c7d7cb3390', 'c1d1b487b25fa8f73c4e44bb79b8d99044cc0869', 'e80ad9f512401a8b14726fb4301ad965695ae9a8']\n",
      "['0039261465319fa4f5fe059597fbde77bf274d32', '1ee1b56d25b194774422fb98d8e2100ba4328b8c', '4d98852e071848f7f6bec6eefe323e30591551aa', 'cea2570fa6210a45e301775ec5ffc4e04dc6ec79', 'fb94981ed5bccb66febd1eb7c891f6622d6831c6']\n",
      "['0039b1adabf4032af4da32e79bd0d7307e71b854', '05dc3cac265e6b6554927933619d101863e8515c', '24cf386b45ccc2c88209ed094bf0b37597c2feb7', '43de4e03d92ee017ae7b26f7fade59d72df9097b', '59bc24b5cadecee1b41b21f8cead647e667e6a82', '65b7257558a591c10514776f40ea07e47fb1c82c', '7d353fc6f63b8b04fbc9158eac6836ff783a4ee5', '87338710ca9fc9438f7700ebe0b68ff0067b4289', 'afed7e7a682cfd77c350c8e55142952e8cac8534', 'b402598b25b7fb032d18e0f649c6e9a0c47b9d85', 'be57d777df569d234e37fbd76605e20db4afb7ed', 'd160507496bf0681f23372f2a324e622fc4e1293', 'dbe335514b7e9b8e4fd98031bcd68d883939875d', 'ffa15336f5fba79ee8b57aadb2a3ba6d7f9b73ac']\n",
      "['003ccac81c0652114ab94fd84d5bf36a686509e9', '08c87081f0e25f1687f29f821d8cbe978f7ea295', '10039ed8b2b7ec42afadd8c6e448794af593bc39', '17972a7f3ade09162b80ca53c1f465c4524b8abc', '18f35051178198869e4373dccb116475de6a229e', '1eb59a03fa35670a5462fd79da7a7e32190aae6a', '38646bbcd74ad6e5003e57cabc9c4aa939ea09a3', '484f6aefe96144fe508642c705080f7eae67d853', '4dc8fb09b5cbfae3b3a0abadca88cb89714a33cc', '500fbf61d2ca34464500f7f1ae6ee8b7afddaa32', '521b3933d5dcd592b3e65176a4a7c435729b903f', '5800bb4595be5ff35a4895cb140ed733dae1928e', '5c7574e689455b6ed3d4f12b61c05a6382fd25ee', '5d6152c0385483939ebf41361d09ea2600198ee6', '621b540c9250f7b692462176c0d7b4ac8c8bcbd2', '6c187b3a11914199e30e50d22118641cedddf484', '70900243c9e208e47b4d86ac520cf091fe2575ac', '7e572f79100c0bac838b924d39ea37ab15ac9ac3', '7f81db86d50ef7b68c469955aec1757cbb49e2a3', '84282199644d6c4306c5e1493970bd57836d7415', '8dc311ec7b188edd5ae2ebdcb70e542ba54f078c', 'a6c529f586913feedf1c4c8a970592abab7471e4', 'b8280278c8168e990d4746ca182c963273b8b8ee', 'baaa915b2c54df089e9232b05706740d7ceddf98', 'e023cee46058ebf8fd8d8754f1ec6f7cbc25ad7e', 'e0417dcf2f9a49b34c9fed1f0e0f92b9272b37db', 'f03e48944a93bca92c557dee9ac07426d9c8845c', 'f487427ee50293b3c21823da9fd25cea3ee53a1c']\n",
      "['003f5100a524ded7d8271d6f62634ac44151d462', 'a47cf6111ded8d3651bda4397b505c069ebcd645']\n",
      "['00445b0d0d32093a0c51ca81679fddfa9f83c40a', '68af7f6e69a6a8fa23d719836e91ef14602a48fa', '850a03e53b4e65a360378fc573ae5e36774e3e34']\n",
      "['004b9f8f283fa02c80d65a535e0cef5dffeeab4f', '012ea779b3c96fc2f7c139a217b2a82f7ecd7924', '09cca89478d6edfb18d287160b3e13deed9b90f1', '0fdb06bdfa4dd941b60c03357ca379fcc99163a9', '2acf15de9f2e7e7441d7212708eca0cdde2c5ad4', '47eeeb82182e5fef4c78223074c29c4750d787cd', '5647b23c698e4eb6bdae97b0f0eb6e8386c0315f', '57f8ebc4dbb36f89cba58eab40071eb78c20740c', '77df9166a14a63c72cfb42460a06a65343d5dde5', 'a76af242bf712d0814ffd8c66f7a2213267682f3', 'b04c9adb33f1dba3577d0c42e207553b9ed96151', 'b7104f0fddaee27d3723ac883036abbc9ecd23d2', 'e4202aa94e33877c674f86e31332c3c1cfda7535', 'fa5d2087f2f1355f89a950e6289c831ce04b9e47']\n",
      "['004d1011555c4e8d6c973a95d1b53ab936b6e65a', 'c6d887d6df40967a462f61634deb8ee7bf9c9024']\n",
      "['004db065059f186f3a7b3d5a14158921a6ca8d2b', '1c375e3ec5d4bb44c7a5414ea055e75a74c210af', '5bc4a2ecdc17963ac93a8ff24d4ffca3358db7f3']\n",
      "['0052e12c73b77f00c6653dea90bf26fd8332c5f1', '09ca9004454ebe07e3ba7965c0e4a0c0fcdec566', '170b3b8ee25dfaeaf3ec99d9925dfcb55f3d6b74', '18f1d853646d8d47472b027712fca30c84387e67', '43eb11d90ed546a17fa0fdb6aa9af5e30e132dfb', '5e4779055b203e5f48070ffe80895d03f012d18a', '68c023f420ac125ce254f885d29caeb3d10e3b19', '7e254fbbfc16344e2a8e3d571596a3f86e611c43', '86618c7892020f4e292ddbf46c79be98e87e44a8', '8dd50996485979517c3d27af640cf4a81075b9ac', 'a6da6584ddd04765532c1203af92c0df2cafd983', 'ad2debacfbe8949f9d58d5b70042ad3fe172fda9', 'b37dd0cdf8399efba50d448a46b20b6f82620cbc', 'c039c00ef744e3d138d15064572ce0fe7784e8d1', 'f9eda0111f0c814a953eb644a41e41195c1f0fcd']\n",
      "['0054e7082b91d7ccbe0e7b1b3b72a7c18a22932f', '129fde7223c7d5757cdd1f62069b070792e2fc77', '2d90a257dbb66ea7e5046f0c20fd8137f4a98681', '8854f577dbcca59cc9f24dfe55a491bac204c613', '8dd1e1d847e1ce284e2a4d40280b34c9b74761fb', 'a01310ffdb1b125e5272bd8a6b72a25994111dcb', 'd19b6a346f30f05e91a3cb5758931f226375d9fb', 'dd26d1701c50ec3c411c57a2cd95bea945e23d18']\n",
      "['0058f52b75e8fddb7458f01b945be308b1c4e100', '783788e52b1abebce9a9abddf2aa062c515d9696', '88e4c0bcd98d0866b6e78fd0527eb814462f414e']\n",
      "['005c101f28304295a98c1c50e87ff31210b35e9b', '09006019fae60b4d4b3fb2a37eaa2b160ed122d3', '16c49cf900bb0b52dc5c5384ae24363dc1892fbf', '1b502640f5d8909537bd637db03e1a42817ab017', '956ed5d90ab3ba7f250e56a350a43cc8d307196e']\n",
      "['005c34dcfb28384f4ab46610091b2b9dc6bcc10a', '022541796e9654be15ec5d7f2683756584db6ed7', '1f3be7233840b7e5e241132b5fb1141752536f14', '3e33898c4f3e6c7c2fc41f8b1807d95ff924864c', 'ec537d163dd9be1f1aa5aeb9e3e70adc9655d502', 'f8b12b4238c985edf46906b747dc94f78037ca4e']\n"
     ]
    },
    {
     "ename": "KeyboardInterrupt",
     "evalue": "",
     "output_type": "error",
     "traceback": [
      "\u001b[1;31m---------------------------------------------------------------------------\u001b[0m",
      "\u001b[1;31mKeyboardInterrupt\u001b[0m                         Traceback (most recent call last)",
      "\u001b[1;32m<ipython-input-62-22eea2155432>\u001b[0m in \u001b[0;36m<module>\u001b[1;34m\u001b[0m\n\u001b[0;32m      1\u001b[0m \u001b[1;31m#Need to stop it running cause it takes too much time\u001b[0m\u001b[1;33m\u001b[0m\u001b[1;33m\u001b[0m\u001b[1;33m\u001b[0m\u001b[0m\n\u001b[1;32m----> 2\u001b[1;33m \u001b[0mget_user_groups\u001b[0m\u001b[1;33m(\u001b[0m\u001b[0mtop_merged\u001b[0m\u001b[1;33m[\u001b[0m\u001b[0mtop_merged\u001b[0m\u001b[1;33m[\u001b[0m\u001b[1;34m'Country'\u001b[0m\u001b[1;33m]\u001b[0m \u001b[1;33m==\u001b[0m \u001b[1;34m'United Kingdom'\u001b[0m\u001b[1;33m]\u001b[0m\u001b[1;33m)\u001b[0m\u001b[1;33m\u001b[0m\u001b[1;33m\u001b[0m\u001b[0m\n\u001b[0m",
      "\u001b[1;32m<ipython-input-61-9a6c14a845cc>\u001b[0m in \u001b[0;36mget_user_groups\u001b[1;34m(df)\u001b[0m\n\u001b[0;32m      6\u001b[0m         \u001b[0mflag\u001b[0m \u001b[1;33m=\u001b[0m \u001b[1;32mTrue\u001b[0m\u001b[1;33m\u001b[0m\u001b[1;33m\u001b[0m\u001b[0m\n\u001b[0;32m      7\u001b[0m         \u001b[1;32mwhile\u001b[0m\u001b[1;33m(\u001b[0m\u001b[0mflag\u001b[0m\u001b[1;33m)\u001b[0m\u001b[1;33m:\u001b[0m\u001b[1;33m\u001b[0m\u001b[1;33m\u001b[0m\u001b[0m\n\u001b[1;32m----> 8\u001b[1;33m             \u001b[0mmax_group\u001b[0m\u001b[1;33m,\u001b[0m \u001b[0mflag\u001b[0m \u001b[1;33m=\u001b[0m \u001b[0mmaximize_set\u001b[0m\u001b[1;33m(\u001b[0m\u001b[0mmax_group\u001b[0m\u001b[1;33m,\u001b[0m \u001b[0muser_artists\u001b[0m\u001b[1;33m)\u001b[0m\u001b[1;33m\u001b[0m\u001b[1;33m\u001b[0m\u001b[0m\n\u001b[0m\u001b[0;32m      9\u001b[0m \u001b[1;33m\u001b[0m\u001b[0m\n\u001b[0;32m     10\u001b[0m         \u001b[0musers\u001b[0m \u001b[1;33m=\u001b[0m \u001b[0msorted\u001b[0m\u001b[1;33m(\u001b[0m\u001b[0mmax_group\u001b[0m\u001b[1;33m[\u001b[0m\u001b[1;36m0\u001b[0m\u001b[1;33m]\u001b[0m\u001b[1;33m)\u001b[0m\u001b[1;33m\u001b[0m\u001b[1;33m\u001b[0m\u001b[0m\n",
      "\u001b[1;32m<ipython-input-61-9a6c14a845cc>\u001b[0m in \u001b[0;36mmaximize_set\u001b[1;34m(max_group, user_artists)\u001b[0m\n\u001b[0;32m     19\u001b[0m \u001b[1;32mdef\u001b[0m \u001b[0mmaximize_set\u001b[0m\u001b[1;33m(\u001b[0m\u001b[0mmax_group\u001b[0m\u001b[1;33m,\u001b[0m \u001b[0muser_artists\u001b[0m\u001b[1;33m)\u001b[0m\u001b[1;33m:\u001b[0m\u001b[1;33m\u001b[0m\u001b[1;33m\u001b[0m\u001b[0m\n\u001b[0;32m     20\u001b[0m     \u001b[0mmax_set\u001b[0m \u001b[1;33m=\u001b[0m \u001b[0mset\u001b[0m\u001b[1;33m(\u001b[0m\u001b[1;33m)\u001b[0m\u001b[1;33m\u001b[0m\u001b[1;33m\u001b[0m\u001b[0m\n\u001b[1;32m---> 21\u001b[1;33m     \u001b[1;32mfor\u001b[0m \u001b[0muser2_ID\u001b[0m\u001b[1;33m,\u001b[0m \u001b[0muser2_artists\u001b[0m \u001b[1;32min\u001b[0m \u001b[0muser_artists\u001b[0m\u001b[1;33m.\u001b[0m\u001b[0miterrows\u001b[0m\u001b[1;33m(\u001b[0m\u001b[1;33m)\u001b[0m\u001b[1;33m:\u001b[0m\u001b[1;33m\u001b[0m\u001b[1;33m\u001b[0m\u001b[0m\n\u001b[0m\u001b[0;32m     22\u001b[0m         \u001b[1;32mif\u001b[0m\u001b[1;33m(\u001b[0m\u001b[0muser2_ID\u001b[0m \u001b[1;32mnot\u001b[0m \u001b[1;32min\u001b[0m \u001b[0mmax_group\u001b[0m\u001b[1;33m[\u001b[0m\u001b[1;36m0\u001b[0m\u001b[1;33m]\u001b[0m\u001b[1;33m)\u001b[0m\u001b[1;33m:\u001b[0m \u001b[1;31m#Go through all the user that are not already in the group\u001b[0m\u001b[1;33m\u001b[0m\u001b[1;33m\u001b[0m\u001b[0m\n\u001b[0;32m     23\u001b[0m             \u001b[0mnew_set\u001b[0m \u001b[1;33m=\u001b[0m \u001b[0mmax_group\u001b[0m\u001b[1;33m[\u001b[0m\u001b[1;36m1\u001b[0m\u001b[1;33m]\u001b[0m\u001b[1;33m.\u001b[0m\u001b[0mintersection\u001b[0m\u001b[1;33m(\u001b[0m\u001b[0muser2_artists\u001b[0m\u001b[1;33m.\u001b[0m\u001b[0mArtist\u001b[0m\u001b[1;33m)\u001b[0m\u001b[1;33m\u001b[0m\u001b[1;33m\u001b[0m\u001b[0m\n",
      "\u001b[1;32mC:\\ProgramData\\Anaconda3\\lib\\site-packages\\pandas\\core\\frame.py\u001b[0m in \u001b[0;36miterrows\u001b[1;34m(self)\u001b[0m\n\u001b[0;32m   1069\u001b[0m         \u001b[0mklass\u001b[0m \u001b[1;33m=\u001b[0m \u001b[0mself\u001b[0m\u001b[1;33m.\u001b[0m\u001b[0m_constructor_sliced\u001b[0m\u001b[1;33m\u001b[0m\u001b[1;33m\u001b[0m\u001b[0m\n\u001b[0;32m   1070\u001b[0m         \u001b[1;32mfor\u001b[0m \u001b[0mk\u001b[0m\u001b[1;33m,\u001b[0m \u001b[0mv\u001b[0m \u001b[1;32min\u001b[0m \u001b[0mzip\u001b[0m\u001b[1;33m(\u001b[0m\u001b[0mself\u001b[0m\u001b[1;33m.\u001b[0m\u001b[0mindex\u001b[0m\u001b[1;33m,\u001b[0m \u001b[0mself\u001b[0m\u001b[1;33m.\u001b[0m\u001b[0mvalues\u001b[0m\u001b[1;33m)\u001b[0m\u001b[1;33m:\u001b[0m\u001b[1;33m\u001b[0m\u001b[1;33m\u001b[0m\u001b[0m\n\u001b[1;32m-> 1071\u001b[1;33m             \u001b[0ms\u001b[0m \u001b[1;33m=\u001b[0m \u001b[0mklass\u001b[0m\u001b[1;33m(\u001b[0m\u001b[0mv\u001b[0m\u001b[1;33m,\u001b[0m \u001b[0mindex\u001b[0m\u001b[1;33m=\u001b[0m\u001b[0mcolumns\u001b[0m\u001b[1;33m,\u001b[0m \u001b[0mname\u001b[0m\u001b[1;33m=\u001b[0m\u001b[0mk\u001b[0m\u001b[1;33m)\u001b[0m\u001b[1;33m\u001b[0m\u001b[1;33m\u001b[0m\u001b[0m\n\u001b[0m\u001b[0;32m   1072\u001b[0m             \u001b[1;32myield\u001b[0m \u001b[0mk\u001b[0m\u001b[1;33m,\u001b[0m \u001b[0ms\u001b[0m\u001b[1;33m\u001b[0m\u001b[1;33m\u001b[0m\u001b[0m\n\u001b[0;32m   1073\u001b[0m \u001b[1;33m\u001b[0m\u001b[0m\n",
      "\u001b[1;32mC:\\ProgramData\\Anaconda3\\lib\\site-packages\\pandas\\core\\series.py\u001b[0m in \u001b[0;36m__init__\u001b[1;34m(self, data, index, dtype, name, copy, fastpath)\u001b[0m\n\u001b[0;32m    364\u001b[0m                 \u001b[0mdata\u001b[0m \u001b[1;33m=\u001b[0m \u001b[0msanitize_array\u001b[0m\u001b[1;33m(\u001b[0m\u001b[0mdata\u001b[0m\u001b[1;33m,\u001b[0m \u001b[0mindex\u001b[0m\u001b[1;33m,\u001b[0m \u001b[0mdtype\u001b[0m\u001b[1;33m,\u001b[0m \u001b[0mcopy\u001b[0m\u001b[1;33m,\u001b[0m \u001b[0mraise_cast_failure\u001b[0m\u001b[1;33m=\u001b[0m\u001b[1;32mTrue\u001b[0m\u001b[1;33m)\u001b[0m\u001b[1;33m\u001b[0m\u001b[1;33m\u001b[0m\u001b[0m\n\u001b[0;32m    365\u001b[0m \u001b[1;33m\u001b[0m\u001b[0m\n\u001b[1;32m--> 366\u001b[1;33m                 \u001b[0mdata\u001b[0m \u001b[1;33m=\u001b[0m \u001b[0mSingleBlockManager\u001b[0m\u001b[1;33m.\u001b[0m\u001b[0mfrom_array\u001b[0m\u001b[1;33m(\u001b[0m\u001b[0mdata\u001b[0m\u001b[1;33m,\u001b[0m \u001b[0mindex\u001b[0m\u001b[1;33m)\u001b[0m\u001b[1;33m\u001b[0m\u001b[1;33m\u001b[0m\u001b[0m\n\u001b[0m\u001b[0;32m    367\u001b[0m \u001b[1;33m\u001b[0m\u001b[0m\n\u001b[0;32m    368\u001b[0m         \u001b[0mgeneric\u001b[0m\u001b[1;33m.\u001b[0m\u001b[0mNDFrame\u001b[0m\u001b[1;33m.\u001b[0m\u001b[0m__init__\u001b[0m\u001b[1;33m(\u001b[0m\u001b[0mself\u001b[0m\u001b[1;33m,\u001b[0m \u001b[0mdata\u001b[0m\u001b[1;33m)\u001b[0m\u001b[1;33m\u001b[0m\u001b[1;33m\u001b[0m\u001b[0m\n",
      "\u001b[1;32mC:\\ProgramData\\Anaconda3\\lib\\site-packages\\pandas\\core\\internals\\managers.py\u001b[0m in \u001b[0;36mfrom_array\u001b[1;34m(cls, array, index)\u001b[0m\n\u001b[0;32m   1580\u001b[0m         \u001b[0mConstructor\u001b[0m \u001b[1;32mfor\u001b[0m \u001b[1;32mif\u001b[0m \u001b[0mwe\u001b[0m \u001b[0mhave\u001b[0m \u001b[0man\u001b[0m \u001b[0marray\u001b[0m \u001b[0mthat\u001b[0m \u001b[1;32mis\u001b[0m \u001b[1;32mnot\u001b[0m \u001b[0myet\u001b[0m \u001b[0ma\u001b[0m \u001b[0mBlock\u001b[0m\u001b[1;33m.\u001b[0m\u001b[1;33m\u001b[0m\u001b[1;33m\u001b[0m\u001b[0m\n\u001b[0;32m   1581\u001b[0m         \"\"\"\n\u001b[1;32m-> 1582\u001b[1;33m         \u001b[0mblock\u001b[0m \u001b[1;33m=\u001b[0m \u001b[0mmake_block\u001b[0m\u001b[1;33m(\u001b[0m\u001b[0marray\u001b[0m\u001b[1;33m,\u001b[0m \u001b[0mplacement\u001b[0m\u001b[1;33m=\u001b[0m\u001b[0mslice\u001b[0m\u001b[1;33m(\u001b[0m\u001b[1;36m0\u001b[0m\u001b[1;33m,\u001b[0m \u001b[0mlen\u001b[0m\u001b[1;33m(\u001b[0m\u001b[0mindex\u001b[0m\u001b[1;33m)\u001b[0m\u001b[1;33m)\u001b[0m\u001b[1;33m,\u001b[0m \u001b[0mndim\u001b[0m\u001b[1;33m=\u001b[0m\u001b[1;36m1\u001b[0m\u001b[1;33m)\u001b[0m\u001b[1;33m\u001b[0m\u001b[1;33m\u001b[0m\u001b[0m\n\u001b[0m\u001b[0;32m   1583\u001b[0m         \u001b[1;32mreturn\u001b[0m \u001b[0mcls\u001b[0m\u001b[1;33m(\u001b[0m\u001b[0mblock\u001b[0m\u001b[1;33m,\u001b[0m \u001b[0mindex\u001b[0m\u001b[1;33m)\u001b[0m\u001b[1;33m\u001b[0m\u001b[1;33m\u001b[0m\u001b[0m\n\u001b[0;32m   1584\u001b[0m \u001b[1;33m\u001b[0m\u001b[0m\n",
      "\u001b[1;32mC:\\ProgramData\\Anaconda3\\lib\\site-packages\\pandas\\core\\internals\\blocks.py\u001b[0m in \u001b[0;36mmake_block\u001b[1;34m(values, placement, klass, ndim, dtype)\u001b[0m\n\u001b[0;32m   2723\u001b[0m     \u001b[1;32mif\u001b[0m \u001b[0mklass\u001b[0m \u001b[1;32mis\u001b[0m \u001b[1;32mNone\u001b[0m\u001b[1;33m:\u001b[0m\u001b[1;33m\u001b[0m\u001b[1;33m\u001b[0m\u001b[0m\n\u001b[0;32m   2724\u001b[0m         \u001b[0mdtype\u001b[0m \u001b[1;33m=\u001b[0m \u001b[0mdtype\u001b[0m \u001b[1;32mor\u001b[0m \u001b[0mvalues\u001b[0m\u001b[1;33m.\u001b[0m\u001b[0mdtype\u001b[0m\u001b[1;33m\u001b[0m\u001b[1;33m\u001b[0m\u001b[0m\n\u001b[1;32m-> 2725\u001b[1;33m         \u001b[0mklass\u001b[0m \u001b[1;33m=\u001b[0m \u001b[0mget_block_type\u001b[0m\u001b[1;33m(\u001b[0m\u001b[0mvalues\u001b[0m\u001b[1;33m,\u001b[0m \u001b[0mdtype\u001b[0m\u001b[1;33m)\u001b[0m\u001b[1;33m\u001b[0m\u001b[1;33m\u001b[0m\u001b[0m\n\u001b[0m\u001b[0;32m   2726\u001b[0m \u001b[1;33m\u001b[0m\u001b[0m\n\u001b[0;32m   2727\u001b[0m     \u001b[1;32melif\u001b[0m \u001b[0mklass\u001b[0m \u001b[1;32mis\u001b[0m \u001b[0mDatetimeTZBlock\u001b[0m \u001b[1;32mand\u001b[0m \u001b[1;32mnot\u001b[0m \u001b[0mis_datetime64tz_dtype\u001b[0m\u001b[1;33m(\u001b[0m\u001b[0mvalues\u001b[0m\u001b[1;33m.\u001b[0m\u001b[0mdtype\u001b[0m\u001b[1;33m)\u001b[0m\u001b[1;33m:\u001b[0m\u001b[1;33m\u001b[0m\u001b[1;33m\u001b[0m\u001b[0m\n",
      "\u001b[1;32mC:\\ProgramData\\Anaconda3\\lib\\site-packages\\pandas\\core\\internals\\blocks.py\u001b[0m in \u001b[0;36mget_block_type\u001b[1;34m(values, dtype)\u001b[0m\n\u001b[0;32m   2698\u001b[0m         \u001b[1;32massert\u001b[0m \u001b[0missubclass\u001b[0m\u001b[1;33m(\u001b[0m\u001b[0mvtype\u001b[0m\u001b[1;33m,\u001b[0m \u001b[0mnp\u001b[0m\u001b[1;33m.\u001b[0m\u001b[0minteger\u001b[0m\u001b[1;33m)\u001b[0m\u001b[1;33m\u001b[0m\u001b[1;33m\u001b[0m\u001b[0m\n\u001b[0;32m   2699\u001b[0m         \u001b[0mcls\u001b[0m \u001b[1;33m=\u001b[0m \u001b[0mTimeDeltaBlock\u001b[0m\u001b[1;33m\u001b[0m\u001b[1;33m\u001b[0m\u001b[0m\n\u001b[1;32m-> 2700\u001b[1;33m     \u001b[1;32melif\u001b[0m \u001b[0missubclass\u001b[0m\u001b[1;33m(\u001b[0m\u001b[0mvtype\u001b[0m\u001b[1;33m,\u001b[0m \u001b[0mnp\u001b[0m\u001b[1;33m.\u001b[0m\u001b[0mcomplexfloating\u001b[0m\u001b[1;33m)\u001b[0m\u001b[1;33m:\u001b[0m\u001b[1;33m\u001b[0m\u001b[1;33m\u001b[0m\u001b[0m\n\u001b[0m\u001b[0;32m   2701\u001b[0m         \u001b[0mcls\u001b[0m \u001b[1;33m=\u001b[0m \u001b[0mComplexBlock\u001b[0m\u001b[1;33m\u001b[0m\u001b[1;33m\u001b[0m\u001b[0m\n\u001b[0;32m   2702\u001b[0m     \u001b[1;32melif\u001b[0m \u001b[0missubclass\u001b[0m\u001b[1;33m(\u001b[0m\u001b[0mvtype\u001b[0m\u001b[1;33m,\u001b[0m \u001b[0mnp\u001b[0m\u001b[1;33m.\u001b[0m\u001b[0minteger\u001b[0m\u001b[1;33m)\u001b[0m\u001b[1;33m:\u001b[0m\u001b[1;33m\u001b[0m\u001b[1;33m\u001b[0m\u001b[0m\n",
      "\u001b[1;31mKeyboardInterrupt\u001b[0m: "
     ]
    }
   ],
   "source": [
    "#Need to stop it running cause it takes too much time\n",
    "get_user_groups(top_merged[top_merged['Country'] == 'United Kingdom'])"
   ]
  },
  {
   "cell_type": "code",
   "execution_count": 191,
   "metadata": {},
   "outputs": [
    {
     "name": "stdout",
     "output_type": "stream",
     "text": [
      "['0000ef373bbd0d89ce796abae961f2705e8c1faf', '154344dddd65386ce1c5474a56662ce78916314b', '28fa96a4ab0a8a18650f446a3588025a0f99aa56']\n",
      "['001273e79cefff7989586ac0dbac1eb49cc57cb6', '06b9128b2fe59f1523364740c43da5a0b456c213', '150bed600366391205e8341bdbb118581a87c227', '34c2564cb70d08ad10f244491ddda2d2a5ada84c', '6f5acad3295438c2f5b82ea5409e47e9551dfcca']\n",
      "['00151290a1cee1dbc1d5dd2b0dbf3efd032a0705', '2f768ec343092f399d334f631c29685fcdc3c793']\n",
      "['001e3099a5f878f74805ffd1f76a51c92192b5ae', '131d85e6c81fd7360f9131be63bbb8f1de2eb719', '150bed600366391205e8341bdbb118581a87c227', '1a3db1e4e80aedbbc383767639c6e4fadcc3575a', '1d36988874d7fa41a399e5625629ea8da08faaf2', '293ccdde77dfcf584d22eead50f51214c02299f0', '3f516388bc554613b75db90891ba9496f6f8672d', '5fa48f81af3e8a3f62651136c847bda78cd3d6ac', '7881d66a528dc27068af1f5dfcae0709c511c5b2', 'e05f00a4a8b3eed150d3b1f9429acc20f7c6c098', 'e9c5de5cff6b65783727200ed3f9f8a4e858227f', 'f23ee5a10895f6e756874aaadf41fa6ce2bb16e6', 'f6146d91e3de13ed64241604ff5febaa834ef4d3']\n",
      "['00206024f16fcc8aeea38a32e06cd452a0fd07fa', '0a43b416c82e30a48d338fb741fe8bdf15593797', '0ddae7cfd74b93edb916622b4036cea5451a68a7', '0de0889da04b4d62ddd62a16bb25c2e57443fcce', '0e80702c19a9100a19c314ffa6daba357848270c', '0f0001f36b4a9fe2c7f136831513ec0710fb3249', '106c27145dc3fc2cb9e72928c37de3c1c163dfb7', '15412eddcd332690f41150f3775b58224579a352', '17aaffd78b585afc69982d8383a599d08ca51f48', '1b8113b4b17348afd646f750a23754b21327c666', '1ba3fb68fcaee3130d019afafa2c8df2c98f14da', '1bc2e42c1d3161b256d149c710a390e5e497d7c9', '24b442971128ea409d8a659e51cae753c7dad033', '286f55938bbc2d1c23db6cc6512980a21d99edd4', '2ba87634f5993428538f48c29430ab01c3e327b1', '2bc18bee3836d4e13eb2d9ad6cfe3f5219be58a0', '30fd2a3768beb1ce6be3d916bbadafd21ce525d6', '32c5c4c1e9291044f68f964bbd396c412002b40a', '32f4159e8a17e0c5fb5edbc153a0fcf651907aee', '365173daa77f07ca92146786ebea9d4ea3f0fd8a', '380979028392365e4f69c04f8629754df036fb31', '415c59cb0089fbabf639700211ebf0861ca48324', '47d52b79797709b3cffccca88e8a554feb74355e', '48ec6b6f0ae4c86220f3f8628e935d98edf013d3', '4c24770fb92c25a16e2d7433ac34f257baf7e205', '4d2a2731caacd0fc52c7d68b882c444b87d58423', '50aba276af25f9e9ab7c2300be41f6aca2151519', '529b466fe98442a3c87bf810dbedfa3f1898c12a', '5a04077566e1d51728d4e50f22787772912d2dc1', '5aa8a38e1c2510c141a3fdd237b2e00c99d07548', '5f1d3c22c3b71e9a33abce849e56f1f60302a504', '62d38293c4b2da3e797630f281bafce753d22ea4', '66178b1df479d62d2c5799cccaa8b61a290c1073', '667e0f39099805cd3a64c35e76c077ace790b6c1', '6781a5dc741b83e9ea48380c1eddf74b40d087f9', '684a91389e9bc941464a26988c803b649e0eeb90', '688051844515cf025498e9566a19b78cb6b87da9', '6996fb242dfd61b39ca32fcc49b8afed7d51b98d', '6b0fd69733696f8a934a48006eac57b200459884', '6b3308020cf6088704e1704ed414d1b4cc49117c', '6e33437c529457b70ffa25a4f016634d516c96ef', '705940bdc2de6244f7824e61cf81c820dd2b79ae', '764c0c1f591c5e624362333aca780df47618b548', '7b28d05c6f276b1541c06e463135aefe037ef009', '84b4e8fa7cf4ae598a376b927949b03f2e36a7f5', '853c63dc512351cacab30bbc2dae96eef55fdaf2', '88ed72118c0cb3a0f1b249baf34b659f0c271b5e', '8b8756db6e7b7da2bfc57a2e665499cad6622690', '8d0cfa08f41fdc423033a1c11072ff2300b3f58e', '99c20aef32cedcb4b703f32bc7bd38d255914ecb', '9af184159ced82029544182a84f71759cadfcff3', '9b187fccf9cd1d80ad5d39c2aff2cce3dab2c487', 'ac6f851d407860967806c7727139375491acc7d5', 'ae53985a0c684fed31801006cc5a7b9d113881f8', 'afc73b7a3d6974386d08d2d73e17886ccbb664f4', 'b24177d1c9959ccbbadc6b31b7621cb745f4b351', 'b550f938f60d3510deefc03ba947c1903d872314', 'b9f918435ebe044aa79fff5ffd2fedac7ae49498', 'c3d30192c1c378ee1bb3b62f7afb42afbf8cd442', 'c907d294d85d334cdb55f619d40950ee0b66b545', 'ca1079065f45218bc5a2114c2568f74371888679', 'cbd1df2e1aab044f98ce1bcbde1de7e62f8f2dc0', 'ccd845e7534f486b59a0d42bfc074f28439d5675', 'ce6f933224a52b8e79db0e3b9700d4ce1fab0e97', 'cedfe15b2217547856b4086010a691f17ace6a7d', 'd13a0f1a0c69bb1ec965f8e8e8b20d07f0f53c9f', 'd1e7ec54d791192735e493cff39b696073468bd3', 'd1fb51366c689de2dec2a3a002dca41b3611165d', 'db0f70c19e33f7ead00207aadce819ce8897818a', 'dba12a596d970661699de657c430bca74fc36e86', 'dc9be800ce24e753df8da8a2380c86c41ec218df', 'dda6132baee939456a7fc9f02c953bd74f5f095b', 'e0e0a608bacd3fbac0637a51e4d65c5a4a71483f', 'e27634e29c9ec8cdc24f1dbb087f52784eaffbf9', 'ec0fb304f2b80aeb0875fe7f874998609cdf710a', 'f137fd0df9203c7b5d70bf36dc0158bfeeaecf5c', 'f2aa5bcffd2a564763d6ee009a8a97a65b273039', 'f444be329124583acdcfe08802001748593eb971', 'f5ddb330be6140bd37097304794e7249aa85e1ad', 'fdfa59881e35c5e7a61a7cddc069cd21a09b0113', 'ffe96e4439e3036d7216af1b5b8a11146b2b60f3']\n",
      "['002270658626bafd2155dd87ccd54cf1748867af', '9d0cb67ac5517e25a439175f29ecb9cd7d56a984']\n",
      "['0026e191a02571bacb601574b47b0899d0720cb4', '0386d94c88a018dc0413b7d08e2f144a777bf42e', '050a967a7647bc5ea1a7c185e9588a0b999259a2', '0eeef187c5bb0fb2f3b09ef4e204fd25af62708a', '22c050327add338556086c3761ef49c71f1dd381', '31013d9f22ba55bb73fd86cd23c1c9b2cc01e9cd', '5da6f0a143469621001c50e62d6253ae5375f968', '5e19f64f02a64b60f43891deaff8e62932e4f5b7', '66267608199f76287a5d9c9e354205fc6cff0167', '6d89d66952e85ebfaf6ce7d011519582712204e9', '7dac0972ad178847c825c0d777499635be16e68c', '8bccab20a8905b5804015f22e7e7bb45c2984171', '941e8c5bcd5eb13ea7e5a171eadc70b5904b3b0a', '951b1e7b552e5cd805d05d7b2af81e086079dc6b', '9ee6b0e7e63449543589fca32d9bb9c9221002bb', 'a0bcb765f143da18c0214f311f23a5c63dfa0b5a', 'ab3103b98b5445bbd0d523b2d2b8b5bdc26a9d38', 'acb99cd7f3fcf87f749902981eb17c0e5a0afdbf', 'afc73b7a3d6974386d08d2d73e17886ccbb664f4', 'b4833ff2f228356e8d0bc0ec750d041408cfa172', 'c0edd7425493ec8f0d76b58944f557b34763882d', 'ce4184bb0d3851f3d377083ef5f110ef0f4c29a0', 'dc01497f22a427e43630b1ab1ec063df4be7f528', 'dfce56be7180eff74b6e80c6fefa079c33165805', 'e75696cbba2c7944ebfba159e6c34c3ec6f0e5c8', 'eb2678e88411c255e65c01a831e9b1eee51590cf', 'f57fd84d7d399b3c516de0ce6027518a57f2cc85']\n",
      "['00270cb70a925aa3da72130abd5038761be3fd3e', '374bd146e3a9e5d923b7a779ca111efbc7fb148d']\n",
      "['002953eed5afd0a047b8f3e3a6301a7071b5f942', '887352e280e3eda5a26df7bfc020c7b29661c854', '94156183fdf98abf8939b5ae8e3cab28d79200fa']\n",
      "['002bacc194ed8d3443e8e2a9312e15409cdf965f', '04fefd58fd173f924e060f8c65f21c40aca74ce4', '4acd84f50db4e2caf9a5cbc0692fc277f335d2a7', '4e5d85e333ee92fc83aa03b04e44754964f94b76', 'a34ff51f9d8a4ae0c6767e48e4e00d95dbeabf69']\n",
      "['002fb0d3b5f6fafe747fdd5de1a779232556c189', '031dcee31c6b145fe87cccb174b1e07b657ad20b', '04313196546f3b2c540d623994be799fdca143e3', '06cfe71f452947400a81353e7e085570982602a2', '174712744a699e60697c0f33dba80add2518e301', '3c65a1e7308bc5df61b6deaf2efba91ad39dbb00', 'c776586a3bc824a1a7bccb199e6646fb520ebac7', 'e2be40df4333e96afa2f73c7eb4df60c6cc3dfc6', 'eb3522655f81ae0dd6b02c1c1adf51e64ff10dad']\n",
      "['003026511145551b573af4202544ced3d360947a', '7666602820f0d442a24c587bdfbd2fc2140d0af5', '99f8216dbbb661766456feb0047eee84b69b1540', '9f72f93642cfcef2ad5c428a355ef0a1f2481935']\n",
      "['003425eddc040f2c2c0fe6d306b1e9497ffac24c', '04fa91eec11ce0ce9c35f54bfe5869c9ae6e2564', '0a071229b4557df4b88a5630bc2b77fd32ff7a2a', '0c398c7935891837c69cb0ca41075276ba5835a1', '0df232c73c6ed7141a3482d2c525cabe480a6a18', '12b2f26f3cd937c4f65918b0813b6826d31a45b5', '16ebeaa5a6d329c7d6a1fad20066116fe7f7c8b9', '1c29036973b68a3f1f34946fea90436992c4292e', '204b67b19928843a0453a75bf33e052676603719', '293a13f9b44a7177f444bdc371f2c04122f31c92', '2b0782b449401e0f5a21c5990dfdb1c7a24dff3d', '2c37122bc549a3dbc9f278c0126c24bee136f5d3', '2c4ac3b53de2b99d4ef7cc7159f1bac6e250eddc', '2c937dd24fb1224bb6bd440e3f572d687d3981cc', '3022b664630c482e304adc363c1665a34fe8f90f', '30f6dd063fccdb8d37c740658bc1369563897d97', '318acfb3f292bebabd9e48ca6895157517a30238', '31c17164d65fe2304cb148c7d041915ce193c7f3', '341876b06a3eb8dbc4c482e9f915b37baceb2353', '378ca7fccf326639abbb3d725c7a45f7483dbe88', '3ffb58c94dab1735496ad4cbe0b0ea74506065f5', '7a04b393826b2a4e7f1cfecc197e41b57a9203d8', '7f94a24b2d3284b1311f8a697da99a4c09034b1d', '81576f53948e066bec90011011eaaafaafa0f8a5', '84ec6dc7c26e29024c1a9c53b825502ab7f878d5', '925776f0ea563ca728cb58e0c7660759328eedfb', '962cbd2199737b30e1d1640a50fe132a87e3c7e8', '9f545d2156afc301162bf7c1e3157bd88e93dea2', '9fede38d5bbe7e8a9e3478e76bade6b65eb5cbda', 'a05c5c60e588521b17dec2d8945c66d8df4694e9', 'a7181e6cd490dac790ff5a0966d0c39f6385ed5b', 'af0ec2216f41069a0b114e59f2523ad0008416f9', 'afbf1759c0e81e2ef14f0989cbb7e4443f873d21', 'b461845a64b299e20930346e383384f739b4798f', 'ba051643771d55d870416e40891963dabd8ea142', 'bc9321c58de33216cf6df9bd7403dca7946563d6', 'bcb11acddf0b811fd4b26097e95b7216dc48edce', 'c5f2e2d80f7ad1d1ff9be11543b9577f1cbf2809', 'cb8091a84c44526e75226109b1c3bb53d27b081e', 'cd4481582a86d905e31522ed39396cdcd9f3b0f8', 'db394640538e8f107a497e964197a68d102037b3', 'e9f69307d147d8b02433b3c14ebe08f5aaedae63', 'ecd4a43902be6a8d3d50de72bdd00ea7dcc10023', 'f31c30521de527ee34b5808116ca16f7e502ac75']\n"
     ]
    },
    {
     "name": "stdout",
     "output_type": "stream",
     "text": [
      "['0034b9afca46d9757a253de06e0bed59b3090fcc', '0096458ad541f5d541ae777ff1769940f605d0da', '2fd495904e449c3b8520c3a3711b770c93c2d295', '9560ab2ca4484fb2a0ac57fab9f8adcf9789ee82', 'bcbb2627dce7b133cd3ddc320867943b0e4c4b8f']\n",
      "['003917e3f72fcb6e9ee172e7099902a623aea050', '079bb9402e53c3d1abc1f20260af3ac06f61109e', '35bf1debde98116474ced587ceb674bdb6e0fd9e', '3a5389fabcbc6ddd49e3d14fbbe7d065d34c71a1', '75956c87eb680a4b3f38d5db70aaec570f559a10', '83409f45f9e0e8387e04fb88839f7a90a7b91224', 'eccc69f6085a1184159047a0cf9f54c4cd23714f']\n",
      "['003c2e48097a6a790360973e4070f377c5657e10', '1a8c81cc88751fcad398fe72455a0d897bb7437f', '3d1d2348734262a2d74a99c4f48d67f3bcb6b6a4', 'b44fd791688ba6ebd3d0aaf7c6595383c66bbfbf']\n",
      "['003ca6ac4684fa950d0cd6610688a555b1f361c4', '9352b0b38ff95a9d2a73e701978ba8a9abd65578', 'b498353324ee10c8c555c2181b8875dc7a2e9cf0']\n",
      "['003ea38ba04de2e0bbc92377d3a36c2cf567a23a', '0851b9326c7f3d6aef359ded73e1dc92f821ace1', '0a071229b4557df4b88a5630bc2b77fd32ff7a2a', '3ffb58c94dab1735496ad4cbe0b0ea74506065f5', '5a78b3355e37df8a9ae9dfaae57aed48eef0130d', '8cc32434de9f47ca071fc7f5485d722badfcf322', 'b53e37e2d6f9ea6a61a8aa7001d45a85724a27d1']\n",
      "['004059e4ea7812dbada7d2e791c8f8a4a7bb15b1', '0096458ad541f5d541ae777ff1769940f605d0da', '00adb3c6677ef54c50ad4a44835ee5376ef04727', '07eb35aa9c3f671f128b3853821e17e969e56494', '1f2d5ea24570435d329f81ccedefd176906695e1', '203e35cc4cc90b49a9eddcc0b9fa35541606a456', '22bfadfae04f3e94f0490eabc560d077fd610c76', '28727430566a10a807f0bb53ecbc28692b8e56e4', '2dd5e900109577b617242642858da16203d1a1de', '2f96283c4fed426e98c27edc4e1de83a4c58079c', '32e20be96d69ce7c3b96ddaf901d6e2a21b05f14', '4416b92c9ea019bd2351b07f682766e3a2100021', '4d6ee9b08b9f642cb3663f4765a37237bb6baa5f', '694f460edaf270f3970289fbda78b65c1766fdd1', '6bd22be6e58d9b70ed97327b96e2dfafab872602', '6d94f9157325fa18a2a8c97711039c85053ea034', '8b26da164929e155c93b22301ca65249ed2549f4', '94525b160410bc057523aa00a45d678c52936cb7', '9ce046b58f137ef61d04fa213813669c53d373d1', '9dcd28c629cde6d57b16f703bcf7736cc533856d', '9f71a39472c05fd29b3af2bd1ee4b39ba342e341', '9fe80493c43e4d15f0698a06ee324c770ea9623f', 'b5a18c2908be34a28dc79f8cabecbbf0ec2c2287', 'b62c5b92810b3d1e9a17259e0ce08aa94c6c1a51', 'bed427929abc1828e045f6ad6de8bdb959cf844a', 'c13565107e89f167db190fd77490931a017909b7', 'c2500280edc3e1657d55032836eb3924083bca27', 'c2597e7d3fce78c15110e56ceeb320b6662f2b25', 'c474bf759902d32cb30618cfbaefd57e3b7b2767', 'c6801b0469cf352f852a4ee8e23f7c55e94048d8', 'c6c2a20b22ab83b90e1ddf5565f1072ddc083484', 'c8798d697fa89c4fed88f4a6dfa4a3db2d6f0972', 'd3034ad49645687e0d4da21bac02d73cfbf804d7', 'daed856405eb8f2cae604a882f60a2f05850b1ba', 'daf31f7480f17e5989d131bf5c6d52ec5a0844e7', 'ea8d5623003df22c8d92f8c2883a38fcc3a24676', 'eb9ab32df89caf2b78bd616e21af7df3f848d3d4', 'ec4eb7ad8b5822fcdafe5a10d4a02197227139f2', 'f3d18490e4ad010ba78bd4bd0ccd6de4522c27b0']\n",
      "['004268ce68d528c07bd6752d92781e7cfd70ae00', '08aa069f7b6e56015f0253d4fc900fdc96f1fbf2']\n",
      "['00430f0078e2f4dbf4443265f6d0ef0d0eadfbba', '0d9f5586d13c37b976e545e30f65d5545e525cd4', '496bce73d46b9c5a348658fdf932da936250869a', 'eb3000794f93b130b0490b6ac9fa0b2f9cedf1f6']\n",
      "['00456ba983e5d59c62459149b7662dcf10d72e69', '0d1701fb28cea3cc15adb0386165a8c7253894af', '285f9eaa2470aba982421497a7d5d0e9980d5bd5', '380e4c27b28b9009e39b4ada9ffcbff02ee54af9', '40ef9ad6f104a1f1a58c0f6639319fb3a299081b', '4cf56f3b2791352180e3914f85cee2d88507de68', '5a5dec593511e575e33bd0f690344e7ec8af7a45', '642681a3751d1324cf9d672cf962ff3eb2fbcba7', '667e4150e3eeeba837f044134a8c8d01b635d1ca', '66ef2eb4c2072e77afe1407ff6a79c6c3205e3cc', '8199fb374d4fe721f73a816f9abf71e00ca9eeff', '96cc7f4e6b5e6adcc395b7fe92c8a8a9677e99bd', '9cfbabad0dc410d6c05f1361a5468fb47328de9a', 'a1db5dfc16cb883dbebcf83d8341748de6d77759', 'b2af61b5806305ce00d99af91ee43a3d8cc9ccc7', 'bb96ea42ce62f0cab86eef1e89df689f28a3b490', 'c70aa3b922b340962a6d3cac3fd40b3307bb5a33', 'd340dd63784ecf6f0d9874936777fce611fbc3a1', 'da60dac9394dabc492b16fa9f4a886c3a6e4a3b7', 'e1e90814bb7be46fc87011cecfbcb25e36e43c55']\n",
      "['0049fb552b78716e2f130d9d13f72de1b0341260', '076743b91ffba0f39b8000140c509a0fdc2193fc', '0a551d1492f1f18cfc2e575d043cf7cfe71b4126', '1e2b8d413c59ed4ebe4e514b91864e82d8296f8e', '6215eb54c24e48ea4133a93ae4d04d09dce60b0b']\n",
      "['004c2bdebc925fbe98191f27ac76eec872225fe6', '1e283c4ebcdfbdfefac0bccbb4127cf817e1bbad']\n",
      "['004ed5c9a44cc3471375fa694cd88e01e398c978', '063108645528df8e55c3b1ce6c4f52522593f046', '0b5d10eb26870193d3f0236c9f554375c08c0f4e', '186b69eb5c8f9fe328bc1cd8162634ca96649474', '3f6ed0aeab08d986d58ed1196da9138ec346afab', '531ae3e629ca938c5703bce146aa123bc02646eb', '6e88a9d97b7ea0e8e5a5f87773762b40765cddcf', 'c8b86a8392c30894a4f402b84d4d1353ea74b420', 'f69f5bee7f0e919a0b23baeaab50d37655823322']\n",
      "['005070c9c89651c5f443e1d49d9d17ff2932b43d', '00e97ffd7763b025a63f30db31c1b604c1e1abb7', '07637541e00daf91e498028ef9b00bf08f505220', '174aa0ead5ccd1c8fff4888a571bd3e66d52f5a6', '227046a33632feae2b6def8a93cb4cf48542fb48', '285be5e991fb7aebf218799da085f42e59adbacc', '2900a88a32bfed605fd703d96c8cafa10355e8a3', '893e305d7694b6f06745458936723b061c282ace', 'ac8a5a001177e6401b21c4de50db1bad54f13356', 'e0d28bd76e91484aa9aecfaf6de5026530b384db']\n",
      "['00522caeccf7a643df405a91457caa186cd95141', '142c1889619b46d77de48e67594840a96e38c122', '2922ee4e64f33358b9bcacd556e7dbda19e9c887', '443a9feb3e459bc071fe2fa0adaaaf8e0c26f864', '79642d1ef19c9572869d1b207da573b68882ae6a', '8900f978006dfb9ba8dabe6a713d4122ba7fbe74', '8fe69d6b52af616e4bdd87ae11f206a7ac9f1546', '997e91f686cc6d152527be5a1da191a8886d5624', 'b6c0d1abc663b911b061a5279e95668bba699232', 'bdc93414b420c51996839e6fb0e95c7ef40b0361']\n",
      "['0057ec15ebf78f74e84da3f2caebbbbb5bfd5c8b', '00adb3c6677ef54c50ad4a44835ee5376ef04727', '071b5c4a1c203026b10c691f8cc8dfbf8f12b527', '297cf65dc5d263d6965bbba5b630e7e0d059f4bb', '4416b92c9ea019bd2351b07f682766e3a2100021', '817a5110ab880617ea4b47873f5cd5047d8528db', '9f71a39472c05fd29b3af2bd1ee4b39ba342e341', 'a9c6967ffe51c44b5f64c4cb45b9a93a1322c27d', 'b058df729e325ced24d8abc6b8fafd6301045601', 'd2ff03808cb5b6efbe1c6106a7e854c79005dcf8', 'dc0a94e6200f2c48f8baff3b248f07b99789c871', 'e0f34a8081f2d67df42106261cf58d3489a0d60b']\n",
      "['005a5746da2730d0b54578d629a2a48f785b4acf', '0a88dba9c5a4400a44e6937d50d9070a37c4f7d2', 'da6d95cab40e851e0540ac1b3272d1d495faab34']\n"
     ]
    },
    {
     "ename": "KeyboardInterrupt",
     "evalue": "",
     "output_type": "error",
     "traceback": [
      "\u001b[1;31m---------------------------------------------------------------------------\u001b[0m",
      "\u001b[1;31mKeyboardInterrupt\u001b[0m                         Traceback (most recent call last)",
      "\u001b[1;32m<ipython-input-191-dffb662b88d6>\u001b[0m in \u001b[0;36m<module>\u001b[1;34m\u001b[0m\n\u001b[1;32m----> 1\u001b[1;33m \u001b[0mget_user_groups\u001b[0m\u001b[1;33m(\u001b[0m\u001b[0mtop_merged\u001b[0m\u001b[1;33m[\u001b[0m\u001b[0mtop_merged\u001b[0m\u001b[1;33m[\u001b[0m\u001b[1;34m'Country'\u001b[0m\u001b[1;33m]\u001b[0m \u001b[1;33m==\u001b[0m \u001b[1;34m'Poland'\u001b[0m\u001b[1;33m]\u001b[0m\u001b[1;33m)\u001b[0m\u001b[1;33m\u001b[0m\u001b[1;33m\u001b[0m\u001b[0m\n\u001b[0m",
      "\u001b[1;32m<ipython-input-189-f65aa04bc20d>\u001b[0m in \u001b[0;36mget_user_groups\u001b[1;34m(df)\u001b[0m\n\u001b[0;32m      6\u001b[0m         \u001b[0mflag\u001b[0m \u001b[1;33m=\u001b[0m \u001b[1;32mTrue\u001b[0m\u001b[1;33m\u001b[0m\u001b[1;33m\u001b[0m\u001b[0m\n\u001b[0;32m      7\u001b[0m         \u001b[1;32mwhile\u001b[0m\u001b[1;33m(\u001b[0m\u001b[0mflag\u001b[0m\u001b[1;33m)\u001b[0m\u001b[1;33m:\u001b[0m\u001b[1;33m\u001b[0m\u001b[1;33m\u001b[0m\u001b[0m\n\u001b[1;32m----> 8\u001b[1;33m             \u001b[0mmax_group\u001b[0m\u001b[1;33m,\u001b[0m \u001b[0mflag\u001b[0m \u001b[1;33m=\u001b[0m \u001b[0mmaximize_set\u001b[0m\u001b[1;33m(\u001b[0m\u001b[0mmax_group\u001b[0m\u001b[1;33m,\u001b[0m \u001b[0muser_artists\u001b[0m\u001b[1;33m)\u001b[0m\u001b[1;33m\u001b[0m\u001b[1;33m\u001b[0m\u001b[0m\n\u001b[0m\u001b[0;32m      9\u001b[0m \u001b[1;33m\u001b[0m\u001b[0m\n\u001b[0;32m     10\u001b[0m         \u001b[0musers\u001b[0m \u001b[1;33m=\u001b[0m \u001b[0msorted\u001b[0m\u001b[1;33m(\u001b[0m\u001b[0mmax_group\u001b[0m\u001b[1;33m[\u001b[0m\u001b[1;36m0\u001b[0m\u001b[1;33m]\u001b[0m\u001b[1;33m)\u001b[0m\u001b[1;33m\u001b[0m\u001b[1;33m\u001b[0m\u001b[0m\n",
      "\u001b[1;32m<ipython-input-189-f65aa04bc20d>\u001b[0m in \u001b[0;36mmaximize_set\u001b[1;34m(max_group, user_artists)\u001b[0m\n\u001b[0;32m     19\u001b[0m \u001b[1;32mdef\u001b[0m \u001b[0mmaximize_set\u001b[0m\u001b[1;33m(\u001b[0m\u001b[0mmax_group\u001b[0m\u001b[1;33m,\u001b[0m \u001b[0muser_artists\u001b[0m\u001b[1;33m)\u001b[0m\u001b[1;33m:\u001b[0m\u001b[1;33m\u001b[0m\u001b[1;33m\u001b[0m\u001b[0m\n\u001b[0;32m     20\u001b[0m     \u001b[0mmax_set\u001b[0m \u001b[1;33m=\u001b[0m \u001b[0mset\u001b[0m\u001b[1;33m(\u001b[0m\u001b[1;33m)\u001b[0m\u001b[1;33m\u001b[0m\u001b[1;33m\u001b[0m\u001b[0m\n\u001b[1;32m---> 21\u001b[1;33m     \u001b[1;32mfor\u001b[0m \u001b[0muser2_ID\u001b[0m\u001b[1;33m,\u001b[0m \u001b[0muser2_artists\u001b[0m \u001b[1;32min\u001b[0m \u001b[0muser_artists\u001b[0m\u001b[1;33m.\u001b[0m\u001b[0miterrows\u001b[0m\u001b[1;33m(\u001b[0m\u001b[1;33m)\u001b[0m\u001b[1;33m:\u001b[0m\u001b[1;33m\u001b[0m\u001b[1;33m\u001b[0m\u001b[0m\n\u001b[0m\u001b[0;32m     22\u001b[0m         \u001b[1;32mif\u001b[0m\u001b[1;33m(\u001b[0m\u001b[0muser2_ID\u001b[0m \u001b[1;32mnot\u001b[0m \u001b[1;32min\u001b[0m \u001b[0mmax_group\u001b[0m\u001b[1;33m[\u001b[0m\u001b[1;36m0\u001b[0m\u001b[1;33m]\u001b[0m\u001b[1;33m)\u001b[0m\u001b[1;33m:\u001b[0m \u001b[1;31m#Go through all the user that are not already in the group\u001b[0m\u001b[1;33m\u001b[0m\u001b[1;33m\u001b[0m\u001b[0m\n\u001b[0;32m     23\u001b[0m             \u001b[0mnew_set\u001b[0m \u001b[1;33m=\u001b[0m \u001b[0mmax_group\u001b[0m\u001b[1;33m[\u001b[0m\u001b[1;36m1\u001b[0m\u001b[1;33m]\u001b[0m\u001b[1;33m.\u001b[0m\u001b[0mintersection\u001b[0m\u001b[1;33m(\u001b[0m\u001b[0muser2_artists\u001b[0m\u001b[1;33m.\u001b[0m\u001b[0mArtist\u001b[0m\u001b[1;33m)\u001b[0m\u001b[1;33m\u001b[0m\u001b[1;33m\u001b[0m\u001b[0m\n",
      "\u001b[1;32mC:\\ProgramData\\Anaconda3\\lib\\site-packages\\pandas\\core\\frame.py\u001b[0m in \u001b[0;36miterrows\u001b[1;34m(self)\u001b[0m\n\u001b[0;32m   1069\u001b[0m         \u001b[0mklass\u001b[0m \u001b[1;33m=\u001b[0m \u001b[0mself\u001b[0m\u001b[1;33m.\u001b[0m\u001b[0m_constructor_sliced\u001b[0m\u001b[1;33m\u001b[0m\u001b[1;33m\u001b[0m\u001b[0m\n\u001b[0;32m   1070\u001b[0m         \u001b[1;32mfor\u001b[0m \u001b[0mk\u001b[0m\u001b[1;33m,\u001b[0m \u001b[0mv\u001b[0m \u001b[1;32min\u001b[0m \u001b[0mzip\u001b[0m\u001b[1;33m(\u001b[0m\u001b[0mself\u001b[0m\u001b[1;33m.\u001b[0m\u001b[0mindex\u001b[0m\u001b[1;33m,\u001b[0m \u001b[0mself\u001b[0m\u001b[1;33m.\u001b[0m\u001b[0mvalues\u001b[0m\u001b[1;33m)\u001b[0m\u001b[1;33m:\u001b[0m\u001b[1;33m\u001b[0m\u001b[1;33m\u001b[0m\u001b[0m\n\u001b[1;32m-> 1071\u001b[1;33m             \u001b[0ms\u001b[0m \u001b[1;33m=\u001b[0m \u001b[0mklass\u001b[0m\u001b[1;33m(\u001b[0m\u001b[0mv\u001b[0m\u001b[1;33m,\u001b[0m \u001b[0mindex\u001b[0m\u001b[1;33m=\u001b[0m\u001b[0mcolumns\u001b[0m\u001b[1;33m,\u001b[0m \u001b[0mname\u001b[0m\u001b[1;33m=\u001b[0m\u001b[0mk\u001b[0m\u001b[1;33m)\u001b[0m\u001b[1;33m\u001b[0m\u001b[1;33m\u001b[0m\u001b[0m\n\u001b[0m\u001b[0;32m   1072\u001b[0m             \u001b[1;32myield\u001b[0m \u001b[0mk\u001b[0m\u001b[1;33m,\u001b[0m \u001b[0ms\u001b[0m\u001b[1;33m\u001b[0m\u001b[1;33m\u001b[0m\u001b[0m\n\u001b[0;32m   1073\u001b[0m \u001b[1;33m\u001b[0m\u001b[0m\n",
      "\u001b[1;32mC:\\ProgramData\\Anaconda3\\lib\\site-packages\\pandas\\core\\series.py\u001b[0m in \u001b[0;36m__init__\u001b[1;34m(self, data, index, dtype, name, copy, fastpath)\u001b[0m\n\u001b[0;32m    362\u001b[0m                     \u001b[0mdata\u001b[0m \u001b[1;33m=\u001b[0m \u001b[0mdata\u001b[0m\u001b[1;33m.\u001b[0m\u001b[0mcopy\u001b[0m\u001b[1;33m(\u001b[0m\u001b[1;33m)\u001b[0m\u001b[1;33m\u001b[0m\u001b[1;33m\u001b[0m\u001b[0m\n\u001b[0;32m    363\u001b[0m             \u001b[1;32melse\u001b[0m\u001b[1;33m:\u001b[0m\u001b[1;33m\u001b[0m\u001b[1;33m\u001b[0m\u001b[0m\n\u001b[1;32m--> 364\u001b[1;33m                 \u001b[0mdata\u001b[0m \u001b[1;33m=\u001b[0m \u001b[0msanitize_array\u001b[0m\u001b[1;33m(\u001b[0m\u001b[0mdata\u001b[0m\u001b[1;33m,\u001b[0m \u001b[0mindex\u001b[0m\u001b[1;33m,\u001b[0m \u001b[0mdtype\u001b[0m\u001b[1;33m,\u001b[0m \u001b[0mcopy\u001b[0m\u001b[1;33m,\u001b[0m \u001b[0mraise_cast_failure\u001b[0m\u001b[1;33m=\u001b[0m\u001b[1;32mTrue\u001b[0m\u001b[1;33m)\u001b[0m\u001b[1;33m\u001b[0m\u001b[1;33m\u001b[0m\u001b[0m\n\u001b[0m\u001b[0;32m    365\u001b[0m \u001b[1;33m\u001b[0m\u001b[0m\n\u001b[0;32m    366\u001b[0m                 \u001b[0mdata\u001b[0m \u001b[1;33m=\u001b[0m \u001b[0mSingleBlockManager\u001b[0m\u001b[1;33m.\u001b[0m\u001b[0mfrom_array\u001b[0m\u001b[1;33m(\u001b[0m\u001b[0mdata\u001b[0m\u001b[1;33m,\u001b[0m \u001b[0mindex\u001b[0m\u001b[1;33m)\u001b[0m\u001b[1;33m\u001b[0m\u001b[1;33m\u001b[0m\u001b[0m\n",
      "\u001b[1;32mC:\\ProgramData\\Anaconda3\\lib\\site-packages\\pandas\\core\\construction.py\u001b[0m in \u001b[0;36msanitize_array\u001b[1;34m(data, index, dtype, copy, raise_cast_failure)\u001b[0m\n\u001b[0;32m    459\u001b[0m         \u001b[1;32melse\u001b[0m\u001b[1;33m:\u001b[0m\u001b[1;33m\u001b[0m\u001b[1;33m\u001b[0m\u001b[0m\n\u001b[0;32m    460\u001b[0m             \u001b[1;31m# we will try to copy be-definition here\u001b[0m\u001b[1;33m\u001b[0m\u001b[1;33m\u001b[0m\u001b[1;33m\u001b[0m\u001b[0m\n\u001b[1;32m--> 461\u001b[1;33m             \u001b[0msubarr\u001b[0m \u001b[1;33m=\u001b[0m \u001b[0m_try_cast\u001b[0m\u001b[1;33m(\u001b[0m\u001b[0mdata\u001b[0m\u001b[1;33m,\u001b[0m \u001b[0mdtype\u001b[0m\u001b[1;33m,\u001b[0m \u001b[0mcopy\u001b[0m\u001b[1;33m,\u001b[0m \u001b[0mraise_cast_failure\u001b[0m\u001b[1;33m)\u001b[0m\u001b[1;33m\u001b[0m\u001b[1;33m\u001b[0m\u001b[0m\n\u001b[0m\u001b[0;32m    462\u001b[0m \u001b[1;33m\u001b[0m\u001b[0m\n\u001b[0;32m    463\u001b[0m     \u001b[1;32melif\u001b[0m \u001b[0misinstance\u001b[0m\u001b[1;33m(\u001b[0m\u001b[0mdata\u001b[0m\u001b[1;33m,\u001b[0m \u001b[0mABCExtensionArray\u001b[0m\u001b[1;33m)\u001b[0m\u001b[1;33m:\u001b[0m\u001b[1;33m\u001b[0m\u001b[1;33m\u001b[0m\u001b[0m\n",
      "\u001b[1;32mC:\\ProgramData\\Anaconda3\\lib\\site-packages\\pandas\\core\\construction.py\u001b[0m in \u001b[0;36m_try_cast\u001b[1;34m(arr, dtype, copy, raise_cast_failure)\u001b[0m\n\u001b[0;32m    569\u001b[0m     \u001b[1;31m# perf shortcut as this is the most common case\u001b[0m\u001b[1;33m\u001b[0m\u001b[1;33m\u001b[0m\u001b[1;33m\u001b[0m\u001b[0m\n\u001b[0;32m    570\u001b[0m     \u001b[1;32mif\u001b[0m \u001b[0misinstance\u001b[0m\u001b[1;33m(\u001b[0m\u001b[0marr\u001b[0m\u001b[1;33m,\u001b[0m \u001b[0mnp\u001b[0m\u001b[1;33m.\u001b[0m\u001b[0mndarray\u001b[0m\u001b[1;33m)\u001b[0m\u001b[1;33m:\u001b[0m\u001b[1;33m\u001b[0m\u001b[1;33m\u001b[0m\u001b[0m\n\u001b[1;32m--> 571\u001b[1;33m         \u001b[1;32mif\u001b[0m \u001b[0mmaybe_castable\u001b[0m\u001b[1;33m(\u001b[0m\u001b[0marr\u001b[0m\u001b[1;33m)\u001b[0m \u001b[1;32mand\u001b[0m \u001b[1;32mnot\u001b[0m \u001b[0mcopy\u001b[0m \u001b[1;32mand\u001b[0m \u001b[0mdtype\u001b[0m \u001b[1;32mis\u001b[0m \u001b[1;32mNone\u001b[0m\u001b[1;33m:\u001b[0m\u001b[1;33m\u001b[0m\u001b[1;33m\u001b[0m\u001b[0m\n\u001b[0m\u001b[0;32m    572\u001b[0m             \u001b[1;32mreturn\u001b[0m \u001b[0marr\u001b[0m\u001b[1;33m\u001b[0m\u001b[1;33m\u001b[0m\u001b[0m\n\u001b[0;32m    573\u001b[0m \u001b[1;33m\u001b[0m\u001b[0m\n",
      "\u001b[1;32mC:\\ProgramData\\Anaconda3\\lib\\site-packages\\pandas\\core\\dtypes\\cast.py\u001b[0m in \u001b[0;36mmaybe_castable\u001b[1;34m(arr)\u001b[0m\n\u001b[0;32m   1268\u001b[0m         \u001b[1;32mreturn\u001b[0m \u001b[0mis_timedelta64_ns_dtype\u001b[0m\u001b[1;33m(\u001b[0m\u001b[0marr\u001b[0m\u001b[1;33m.\u001b[0m\u001b[0mdtype\u001b[0m\u001b[1;33m)\u001b[0m\u001b[1;33m\u001b[0m\u001b[1;33m\u001b[0m\u001b[0m\n\u001b[0;32m   1269\u001b[0m \u001b[1;33m\u001b[0m\u001b[0m\n\u001b[1;32m-> 1270\u001b[1;33m     \u001b[1;32mreturn\u001b[0m \u001b[0marr\u001b[0m\u001b[1;33m.\u001b[0m\u001b[0mdtype\u001b[0m\u001b[1;33m.\u001b[0m\u001b[0mname\u001b[0m \u001b[1;32mnot\u001b[0m \u001b[1;32min\u001b[0m \u001b[0mPOSSIBLY_CAST_DTYPES\u001b[0m\u001b[1;33m\u001b[0m\u001b[1;33m\u001b[0m\u001b[0m\n\u001b[0m\u001b[0;32m   1271\u001b[0m \u001b[1;33m\u001b[0m\u001b[0m\n\u001b[0;32m   1272\u001b[0m \u001b[1;33m\u001b[0m\u001b[0m\n",
      "\u001b[1;32mC:\\ProgramData\\Anaconda3\\lib\\site-packages\\numpy\\core\\_dtype.py\u001b[0m in \u001b[0;36m_name_get\u001b[1;34m(dtype)\u001b[0m\n\u001b[0;32m    349\u001b[0m \u001b[1;33m\u001b[0m\u001b[0m\n\u001b[0;32m    350\u001b[0m     \u001b[1;31m# append metadata to datetimes\u001b[0m\u001b[1;33m\u001b[0m\u001b[1;33m\u001b[0m\u001b[1;33m\u001b[0m\u001b[0m\n\u001b[1;32m--> 351\u001b[1;33m     \u001b[1;32mif\u001b[0m \u001b[0mdtype\u001b[0m\u001b[1;33m.\u001b[0m\u001b[0mtype\u001b[0m \u001b[1;32min\u001b[0m \u001b[1;33m(\u001b[0m\u001b[0mnp\u001b[0m\u001b[1;33m.\u001b[0m\u001b[0mdatetime64\u001b[0m\u001b[1;33m,\u001b[0m \u001b[0mnp\u001b[0m\u001b[1;33m.\u001b[0m\u001b[0mtimedelta64\u001b[0m\u001b[1;33m)\u001b[0m\u001b[1;33m:\u001b[0m\u001b[1;33m\u001b[0m\u001b[1;33m\u001b[0m\u001b[0m\n\u001b[0m\u001b[0;32m    352\u001b[0m         \u001b[0mname\u001b[0m \u001b[1;33m+=\u001b[0m \u001b[0m_datetime_metadata_str\u001b[0m\u001b[1;33m(\u001b[0m\u001b[0mdtype\u001b[0m\u001b[1;33m)\u001b[0m\u001b[1;33m\u001b[0m\u001b[1;33m\u001b[0m\u001b[0m\n\u001b[0;32m    353\u001b[0m \u001b[1;33m\u001b[0m\u001b[0m\n",
      "\u001b[1;31mKeyboardInterrupt\u001b[0m: "
     ]
    }
   ],
   "source": [
    "get_user_groups(top_merged[top_merged['Country'] == 'Poland'])"
   ]
  },
  {
   "cell_type": "code",
   "execution_count": 201,
   "metadata": {},
   "outputs": [
    {
     "name": "stdout",
     "output_type": "stream",
     "text": [
      "['00033e1695a2eb4e5fe2322260cf9f112072342f', '4becf2c5d3b6708e9d44223b09b9a1d8d4f9e0fb']\n",
      "['0008bc10d01b73000360d4781cbf8984b169563c', '4537157b592365d11fe44bb3cd4eda5918af2d9e', '5c0cae293e603fcb977bf2ed41727b99d572ff07', '86006dbdef89878e0dfc075eecd6549d71f6312c', '9130674fc5692d46f070475efa367e33f5502fc3', 'b7d2e5a57ef9c32796115a02fb22fa95b57529be']\n",
      "['0009839f678c6d9b679b7537daeb02bdad31005d']\n",
      "['000af18e0a8c33fe3ad809c3d10cfbae84d1bdd9', '1f4f3f9c005fc2e1de3cc0b35da421b52a8b2eda', '43ca5896660d023c7f7f5637205804025f231718', '90845602ff48b3b03f57acdfd2638266e97379b7']\n",
      "['000fa11f810cfe0fb5972f9ebe38246cff34f3a9', '6fa85806fe4e99dd8592850517b2865731af6b86']\n",
      "['000fff7e107172b2fdee439636daccf8287b34a7', 'b897cadcdab6be6a8042ab3ea7ce8c42c806c13b', 'ebba39ef651ee0ee8d81b8a126895c12dfe599a5']\n",
      "['00108be8919f5f8e1249af2207579f9861c1e1d6', '368a98380718a5b484a0c7037b1521790bd02764', '861a875549c651d8a3baa88b972177a3248a0962']\n",
      "['00135b381367024e7efdd4ee13f981f9ebf31a65', '7aa68e8311ab785a81e5352b5c6d8b5cc6d2f17f']\n",
      "['001b86cd5bf7392abb6564f4f9a4d80d514a73c4', '639c6bbbceae1a0bf07397ca61e75342b95a61cf']\n",
      "['002058c4108f24164a77a140ec002e4c43cd6273', '33a75872fe1135d15711026fac237a7e1014aaf5', '8240590f4c58da320c3d682b4fbadd2865e3c630', 'a9700f02d589071e53bf5f7dafdda4c3a356e34b']\n",
      "['0020f0d59136e584c574df92bbe5001a53bdeca8', '09d40924cfe0bbfdb4f0ad4fbcb49761be1e1748', '63822aa937e8cb66f1e51d701aac56254ce62f60', '92a1cbed50a6a2cfe4abe14f7811a4d638fe0b90']\n",
      "['002405aebe604d62f328ec09ba51776781e9545b', '2b829a3a520aad285ad9ed45dde530c37833a454']\n",
      "['0024cd03616cfa4593466644dea6eca741f17b59']\n",
      "['0025750042be30bdc76faa8cdee830fba1e52dce', '013a999396eebe976b50e1974918dffcced5f36d']\n",
      "['002975ba1b77512b992daaf06c55ff0a490751c8', '6a43d9f84d1d157b5310942dfc5d95608adf61f7', 'a7121449589f3c82139b01a395e0e668e9cca1e0', 'f4249cc7029a17efbb86c254972508f69089f94b']\n",
      "['00363efab8b2b7927cd6160aaf440b9a8701062a', 'c88af61341d42ef57ef681c6b19c9f318fa87e1e']\n",
      "['00370c033122714d432ce07fd769157823ea6c20', '251aab2264d7870aefdbe6d4b602dc056e54b3e4', '40ff3dc52daa915e6ac4b0d6ac4a7ee4151d7f36', '5314ec5ffb038eb066237150021fab053978e72d', '5c1a0ec5f081ce4f2ac63bdd024cb180d4abda36', '6e832ffba6cdc94e66440ee3ec5f8a4f398275a3', '87a8bada5db8eeaadd4acfbc0232e5cbc60f7c02', '8a12714e2e605deb2746e99c296f3fd416588c8c', '9c7e85238d839b812cabe8b71759a4fb63ef8f8f', 'b22685a966088fd87d51224a13d7421804f22ef6', 'c8c9f76413e5ba9a1f54714cc617a3a57eb14601', 'ea43ec46db5733cb504ca74bf68560f1469ffe9f']\n",
      "['003b55f4e412fe936f198a390931ec34b7db4f77', '31314b6000392dd7b3c55268629895b1053524c7', '8e08e9eff800f95d7bb0ebc18dd1c1a6f5d1f75e', '9dc2acea47b024461edc09872a130c32ab1eabfe', 'd825b9d05ccc6a5796a656a5766b23c678e33010', 'e3533c358a4654dccbb7477825f993d9c1d78cf4']\n",
      "['003c72db16440e592df0927f5f667756f0b53b1a', '017b507a34b7fef6b792a53a9f1ef3b81ffc01e0', '04aa57f2f8b8e89f98f0a429c2e1d0c4642e670f', '164a9e66cee2970e8cb351f9623a146ae82e3a33', '19612d74faccdf96dc9feed68df522ebe25260c2', '22a2caeb1fc4db59f5e86f175da323d24aa67b82', '31f504e28084185e11ec01589582201243dc9171', '5b882f18ff4dc36ba30b0ec95fa1ef3e1136547b', '8357ee7caaf9dc38c118fcaaf55966f5898a9fa1', '8b95a30eb154686c02d49f048c9691861e992e27', '97d0905caf83681d4c7aa126322a1b8c5efb496e', 'a55242d466cf78ea0e36d8965eaab742e72750f2', 'e4a048c709bb306188599094afefdbb083f69ff7', 'ef86b17fe1bebd5aa00955e5bf7aa77ee69bf101']\n",
      "['003dc1eaf59995415b645c1f3373632a7fb3696a', '0108aaf1a211987343da59242267fc511a34425a', '09d812350249531a070dba4e99507016dc9af1a8', '131d41c9d564ea32e3662aaf68e46d3adc23cf07', '151ba3f977667d4548538b67884f998ae4c4d769', '168751713e459aa48abdd4f3539d3bb2debbc106', '1ed58ddba838b79bf584feff69694fded3f7373a', '207d189354da012810f2fc7f992d55fec4d498ae', '3cbb0043ddd38b9dbfad95f3dbe14f9fab1a9a84', '4ffe74bef44fff70fa5769c1430baf32a12f8d64', '5347e43432dabfbde6c53a4af2fc1044a4f3877a', '587abedf6e9a82169e54fb387a7cf98fce4581d7', '6d262ef51b2ef9493fbf33ea69079aca7a2e5904', '71f36cfd987087edb948be298e40c468683319ce', '82ad0549a58116add245ec9fc258aa965bff361f', '918124ddfcd6d36a0430ad3db29f52ad9dfe36e7', 'b0f35af8984b09d3e74b8b2aab530032c0acd87e', 'b7cef9e4623fb1f2afb630f022d679163fc07328', 'c4665a0ead9d2455dc12ecee1344ed378b8c8d96', 'f96d08b5d3aaddc894f7f80a5a1cee78d8eb4d5f']\n",
      "['0043c388c34d8f48879f8f9fa2be3f6ba9bd54ed', '00668bed7d7c4fb5e5e280acd6165bae3b510222', '371913e0ef05b66c8c457fa2cb12513d417c4f27']\n",
      "['00499b1629d8fcdf6a91c97a19f1c8b39f09a684', '3ef5f87994ffc6334f52662cc4393dae73d77316']\n",
      "['004a3a3d91d0890a3b25db93a6d10679701a552c', '01b19e65926af66fe3bb543e24e0d5f8445f58cc', '16de61317714763d6d64811aebe253c67dce4c99', '1c307b947fd14eca2c0cdc787e4ee18acf942040', '1d5d79d3282727df712667670c52039f7eeff64e', '41fd10b529e091f3a566375f2f10f81b604fdd02', '4ac002b922a6b450a1172df3ca9d48d882b4c0ad', '530debecdb5740d93d3737d75ec062cba070960e', '61de73f577ef03b973adba64d531e2e31b5be9fc', '656faf6dc53e1af2c234549a59f3308eaf9074a2', '8197f239f154bac1210c7e82b952de0bfaca9133', '8d192e3596f83251ed4479e83ad27e1f5e230abc', '903746f2eb9079e8e10b1110f59bc2387a6d3b85', 'a8c83fa33601eb64bf37d166763192aa8d83f404', 'cba18ce0d06f6c224cd8224511894942b61605e2', 'cde0b647ca4c6803913ca30af9fe6a2ce612f465']\n",
      "['0052558924bffd5317a258167fa5c084aa76bb4e', '7e584d3a5d41b911d9a7512e784d49818b8cdfe9', 'a2460fe5bb635fed5b975a4984745a4dce62cdf1']\n",
      "['005402009f922ee8ed4d04c39916445272eafb4a', 'cf80ab22aa24cbd2f35068f06237b355a6f55638']\n",
      "['00583f402d1718547c8ac1307be7087c83a24f12', '1d8fd245fb4b2286a84079cbb3ab1ee97e17a320', '42ad6af1f668d4cdb5ae692bd8041405ce575585', '5a63c0c54fa3bf897d472d24acef42773be8f395', '6160bd753214991abcc688d89542434577aeaf16', 'b913d99d1b308968f1515972d407949787130373', 'ee3d45c1d468cb4c5ab5f5995d777aaf93f41de9']\n",
      "['005a4bcd136aeb8bb84cac6a6627d6ae69e01c5b', '3506ae2bc6213aadba7de1888d01631f79b2a72e']\n",
      "['005c0e40de5d9376831bcd6d8e3b066459606d6b', '01a0db38b06a0c126f3cebede9c500cc696242a6', '0e2c6d31e37f3c4791afb14be826ac5643e68d6f', '268341e50c8adfce1e9b570fdc9140e0ff93e787', '302bffc1734fd2f81a51aeaefdb3a628751a625c', '337cb892d757ea21830b7318d1a03328ea806dc5', '36828ea60ace73ed3158fb46ca0322e96b0079e8', '647545deba5a145db120ccb1bf5cd644aab8a3b1', '6b5afbf9cf32fd3ceec30b64a9cde640378bed9d', '7938ee510f90c871c1556e5605707d75d1f139ca', '90b75e77a9a337d0e64cc7bf442185f23fb0d81f', '9a84a773eca62fad653d2ccd91e0376fd8f310c5', 'a9d5e0abc65edf96167016aa6ffa6419a651b2c3', 'b8085e8c33216f0de653e2d64c1acf908481112f', 'bdf9d239be05c002cefb6d8fe48096b838e99a70', 'be02e69092e92b82c4febe751ab5be9e9caafc46', 'ca81ee1545c9cbf01a8066b5e339df4bb8ea8c31', 'ce49a303553eda3e07066f27fcd5776346f10170', 'e465db8ce0a6b0423188f56f952d5850c14ad587', 'ecfc3f5a770dd8c6726dbba4d7e04a7b02371fb6', 'f7cd4a8f373eeda80d9a59534333070c4f01efab']\n",
      "['0020f0d59136e584c574df92bbe5001a53bdeca8', '005fbae43b31e63486b6ed0a2669b39f6f16bca4', '040fe3eaa48ed4bc9c307cf724c99e7f1f9230d3', '09c8fb7f61742a966cb32a60e1c068aa4a115b60', '0b4abbc43f1d28475c10ec3e5096cf3f13029a76', '0ca40fe4a2db05df432ef7da626e4fbf13142d18', '14f8e244c7b9efe752caeea946b48be496a62b39', '168a6a1d8bd6d88ac8abfc4c8b36dc3f7185c5a5', '1b1ec87f08036cc5d9d7458fcf388f7f4963351e', '26d5b521109b141254ba86dc0d9f0a165f4e1c2b', '31f5872f8ceac86e44b65a5816feabddd66a4a3a', '37a8d36651d0dd45f38b56431debf036590c1c8b', '3aeca749aa2623425dde77a735dcabb05338ecaa', '3c9b76b9b10cba6f686242945315dc9bd9f1752f', '4547277112f0ba1fbbe61d04942a7b3557b8c6e3', '52378138bbea38f44e3c8b5c8e69d2e29c36afe5', '53b29a29aa1d32df8cbc8109af1af847528a729e', '566e097b4155cc5abd5dd856d013ef9397f81a91', '5a20550ea1ec0af75c7a6460a440d94f6174d515', '5a93e2b40d4ce4807b4f06e23e0b50b6a535081e', '5cf3bf52a1aef51879f4ff026d9b1cf62cfbde02', '60f72a63d4bf15063ac532b5c1d2f83833551606', '7e7c593d38a6e2a7496754eb2fbd5a164b6608ac', '85f450eb2d654f769ee506dd6992e2c173b409aa', '88b6ddeb9ae62acf609d2bfa2e28c3522b56ea96', '8bca94d4719b23e41b808e9d61ca1b2913a8ee42', '9385d29c7ab64054d01ffcdede5b197c28ad4e6c', '98807781891078469e6e58aa7afdd1d4285236a6', 'a2f7335bfbbc5974dd227a10e3fd8de4a7d5b0ff', 'aa5e3f4fd5fe4216151dafa60ec58bc9f02be1b2', 'ab4c4200983a39525dd7030311000274a18e83b5', 'b1c8a16869e39a132714b8d31e7bafea497a6646', 'baefdde999d3047e6335764932b4e2c3935813fd', 'c0aff42c44e6e02ccc4c295da29203f6da2f2ac5', 'ca23626a8ed4ea6ea6613bcfd6f437208272766f', 'cc581415801ca1b41d4da0c86aa83b7c5faebc05', 'd31c36e7197a81284b6df4071ea5d8c0dbe05f86', 'd4376a025b424184fafaff44f373a34a40b2e999', 'd45c1a6d1d92ab5ebf30094e46c76e0ec92cb597', 'e226b8738110841dec5ce61eb2e98318b90d73b0', 'e98f3817378348ddbd26c30a775dd1a84f39fceb', 'f4aaf81168399a51b35ef38aa50fbdb446e695b4', 'fc7fa8375c6728b07aa51efb4e0929788bab4638', 'fedea00316c7e19eac0e218fe9cad30ae024ccda', 'ff3deb909f57db4f7b8228ee3c673f24aa4d0cde']\n"
     ]
    },
    {
     "name": "stdout",
     "output_type": "stream",
     "text": [
      "['00668bed7d7c4fb5e5e280acd6165bae3b510222', '0197669ff76dd9ce4491d8010f9dff01ffc8decb', '077ab2e02e6a4584fde1afb79493a4fbd054f977', '07d2cc8eaa68eb532990885f32050bd186b06961', '0fb9cf409ca244ec8a3253d9b7aebe5271a98dd3', '1c1dd2aee37f967dbaca30ff1a37f9c02042c0a9', '2d86103a3df100fd08d0245bd15be47b84ef1327', '3b2cd8a4e235ba4eb268e11bf4d967587aa19943', '3d1aa9035437af81398017ee6fe3fb0106f3602f', '40ff3dc52daa915e6ac4b0d6ac4a7ee4151d7f36', '5630737a5c1fd5a1adb5d80f15b46809ff774ba4', '66b67f4b676fc113a0dceca90e26ad4582ea69b3', '9b17edcb6827e3392f6e1f8c822dae13efad8bd0', 'ae202c777c79a3147fa8c8d2ba46c1e122189c74', 'b048e8ba55594c9c72f3e5e0d805a40c4debc579', 'c408198d67c9e36b65435c63eff878948ee7e8cc', 'c74946a8a3e7b61c20cdd3075d2b5ff8bc35af2c', 'cbf927aa3ea77020057b98b33ae75682286f4849', 'd1d6a5626d2596888aff58eced8ff2b748f7966c', 'd6e94152b3a2c3a7da559ea5e3d0889b2f91c4ac', 'e7b67128c1be904160481fddbee6420a6ea3356d']\n",
      "['0068fb636eea5339fce042713c5871f5697b84a7', '2dc294d2f6fb1d2511b705f8ea6ec9bade49d181']\n",
      "['0069593a356492db73e0a3336c8c58352d35723e', '1985e26465a5022c84a8a12b482914acbc169cce', '7d61c98df96b9a45de3819022ed2053b624add24', 'a98bf26cd0f3ba0c648609083bfb8c9314d7f084']\n",
      "['00699c24a6223dea8c676f9431b4065158060b45', '47e9208ca87635cbf3ab5891aae9b9f41ba072cb', '6aa1d9f07412b0d9544aafb635daace3d52617b1', 'c914d64c3baf027225d421029b29c4506993b589']\n",
      "['006eab63f2f34aff346a3d4b72c3b1781eb83214', '130186eaba3619cd5fa28e28e57707943732d48b']\n",
      "['006ee571d46691be0f199458383ba3091f76f0f8', '50166209bb5749b4bca111c739ddaccc9f71fbe7', '86179e225a0c43d18c7069d6bbc6d790b2d3811f']\n",
      "['007ec9665941352ee74c0998377ec8d5db3afb83', '0a33583694dad3e6507bda4d66ea78894c6d80f7']\n",
      "['007fcb24cab2dcbaa6dbf5ae4c7084c6538251b1', '02262060784a8b55a35f4bcbdb7493da4bd9a40d', '13153f90f34b8ab01330e30d3e9ba015826d783a', '1ffa6186d6a067fead378d70f59851a7e9ecf91a', '31ba9eb8a78a1eb171a23508fffc2f74fda053ed', '475535548ce2978a402fed5b46fc9e669c571784', '4caaf03f465920fd040ac687daa5813c2777e1e5', '7655ef384c622bb57e2e9c3e03056ea8d47cc641', '7aa68e8311ab785a81e5352b5c6d8b5cc6d2f17f', '98ec20417e38e40cbb3be0206f77640e5e02916d', '9b1ea575fb85007e10f83c9b7245c08697fe9ad1', 'add1e0232f0788b0084a9bb156863b6d09722d21', 'd8a7283fe0554aaa6ad51dd30dae17cc067ea06e', 'd90d0944f6b9a052b83f8d02ba553e2ba84bac11', 'f6d63d609875d55f103d409223e33fa8039e782b', 'f8368a8be18f660eacf6126dd6c1c2e23b862b5b', 'fb3a2e44258b69c1cc6de69def11d481705cacd7', 'ff42d5e0ba6b76588673799ccedf49382bb69fa3']\n",
      "['0088080d16d8856718db1be3d0e796b52ffef109', '1d072de06eed5e2c8e3ede2994eb62afdde92dfe', '6024cf21675b3bf3d72213d3476ea00a701ac11b']\n",
      "['008ae9e1643d5567761d29b14b2342c381f1b703', '25506cb61fe17c6b669c8c08d5bcff6e2d6728b8']\n",
      "['008c5b0283bda3bdacdebf1085f247c8ca62b30f', '02893de48e144df2b3d8e6aaac067d9ffbc21188', '5a63c0c54fa3bf897d472d24acef42773be8f395', '6149e34003c813644e226084fc809d3d99fa7c7d', '6a43d9f84d1d157b5310942dfc5d95608adf61f7', 'b6fe792ff4db3bc99c0c69168bdec7bc11c4590a', 'ebdbf2255d41d9170ef41d5f4d126c13f9ebfa8e', 'ee3d45c1d468cb4c5ab5f5995d777aaf93f41de9', 'f47c228db4e40ace33a4407cf44fafd615b94b06']\n",
      "['0090c0443d29bf607ced964262a581587060d55d', '1325454dbbc5c7f891602cd4aac365c4d56cab85', '3c4bcff3feb4eb07f222a7de8f0c45b66f52cd97', '498d5e03d9f9c75f74ab874f70362cd15b718583', '62cf9529f62c1012a142588be20a9daaeaf81f95', 'bc8c62584956f8ed5e64c0ed40b07b130bbd3479']\n",
      "['00939913a3a500af1c0a9c27dc6b3b58f09198b9', '522a8f07009b3f3685551f6188eea7d7f522416d', '9b409f93892702db29e8cc8de18c016380d19b87']\n",
      "['009be698921c7871eb32c730a9fb27899265fad8', '59e483eafe99f83addedbd8b21b8c450e049373f']\n",
      "['00a1f80c65c66c5d50d8c354df86760d89c03645', '2b698305a03122767761ef8ca12f1a88ebc362c2', 'aaaf92e992dbcad6edc17a0949d4a0ec04920299']\n",
      "['00a38385d1b364408d82f1072ac6f2bfacbbae08', '060f95a8580cecd3ce9b0daf43b158e8b7ca9420', '1c13b7670a2bc17e01c6452e5a4053f216ff805e', '3261d00ff0e52e989c0f5cc2e7f743c9f28e9556', '4299b5b9099ed850348b2f5f6b0c7222f11d31c6', '52a9ec2e16150aa6ef2e07d2d7c4f603de0f162a', 'a78d03014c5c2d3858cd35139d7f886647044766', 'b51052c68dd708766868566a0220b7ebbdd40de9', 'd200b2f34e2f6f3606d381d473852d52e14e356c']\n",
      "['00a5120f2ee979fe060ea3d0b56713a6dea8ce00', '30d41a38da63fc32e65d1223739eea1ec66d5a43', '8c4194f5dfb44345c9bd20a4a5893918180e386b']\n",
      "['00a761043a6413df3fe898f4e9f3f90e9399d088', '062224ba2fa19be0386bf4726e30b3f373e8241b', '30d55ba3ed1f338bae0433a74a8947629a2aa009', '31f7cc4a166b3f85a4d9ea9d008cd5e330e8b9d9', '5232bf8476652e12ff93987ccf06807641dd630d', '5314ec5ffb038eb066237150021fab053978e72d', '5a31178ce45813aec928dca2527cff79d4f583ce', '6077da21b42a776dccff88dd69764a182990ec48', '63cf31ebc111b4440a8fdfae33f7beac679b7626', '6e832ffba6cdc94e66440ee3ec5f8a4f398275a3', '8294db002af29de7134e4205e508bfa88087dcdc', '8b95a30eb154686c02d49f048c9691861e992e27', 'b3ac12b98654692d21efab08a3402c98a85d352b', 'b82b83fe9adf8d35e3f10e75b8cc1e132c783568', 'd016440d1c6cc6066eff74b838059cb5c5382b1d', 'd3d5d3712b0533ca5db5fe5e9f97c6ef66f59624', 'e4a048c709bb306188599094afefdbb083f69ff7']\n",
      "['00a9a73c52f8c190dc3443f903318b29f02ffa1a', '16de61317714763d6d64811aebe253c67dce4c99', '3b2101a10787b767e215f24505d7350f175ac112', '3d012e019c12c4b8bd4127869c93800e12157a23', '403231514444d36de3675c52c72e1e78d05871b3', '48eeca54a16b0afd4474813c8b7254c6e8c3a7d3', '94c39cb543f7761e293f46050e0600b79283f2c0', 'a4c04ad130b08f4bc06aedad7bb7993bead260ff', 'c455e75efe05dccc063166b5f59be98a20c1c265']\n",
      "['00ad7e173f9ed914d22098afee8517fce445044b', '24e8fddd02641651e6e51fdc1d51a57657472b8b', '50356ea7aa6ad2c8841b6387fca50e6f386af046', '8b0da2291ed39e6d1f3431c328a3051693c81e75', '9457c852a7afd3da8d78c1ce9fa442b3632fd866', 'be226042d4e6bf130d431defdcf2b71c214b3d1f']\n",
      "['00b34ec7a274a554458d7cce49548af655c3da10', '1299284ee51530479f215258771391ea7ee84a9f', '16d65f0278c79051909f120e4d935ce4b0c29c73', '50f3ce1fa21180bbf9e22dec1272ecea5e915a0c', '6a43d9f84d1d157b5310942dfc5d95608adf61f7', '7116a886f0ba9744d2ac467881871a7c3ba9ecc5', 'b1da200deedffff00f7f65b41a34097520c5f73a']\n",
      "['00b4ef2701cde996e2c4f2f2a840f335d9bc27bc', '052bc41b76329f227ddc110bed2db13e9f27dcdb', '5e99de262ad6c1dc47908b3db191eb916eb77c44', 'e8e1347a86b243d8c48927bc62b73c86612e3b1c']\n",
      "['00b5158e17837252749e20809c015405a78673e3', '556dea56de386b41a6c12e701338d1f93e2c4c7e']\n",
      "['00b58ae509ec906d7288541d68d97a14a0ebf0e4', '1c1dd2aee37f967dbaca30ff1a37f9c02042c0a9', '44a2caf101c11cae20f88a7d70eda913640e3e61', '67e8a17b8a9dc4a85d54b82e7385d54d853bf744', '9682d83368f3c1868cce55acacb7b4fccefc5565']\n",
      "['00bcc62ffef3d5cf263d9c16461a39c18996afce', '00cb2efeaa80437d9fd708b633b650d7c877f7b5', '037cdcd10575fec6de9555cd2d65884bc3a7f1f6', '0ccdaac4c8272c4960129f675d83968288eadafb', '10583288b41e96e7da8a592fef8834c03e8f31f1', '1bd96f131a14c56589d6500f93c395cf802ca5f7', '1bd9f236bcda2eff7dcef50f5e07ca494de4ae44', '20da9f8d19bbe2816205ad36ba6a3bc7c9dd6907', '2e1807d9c09ddfa42daa66b669bb61fcaa8a7ad2', '3b8d42633a68319be66e996939ac86b702f73a1b', '3cffb36fa6da406cea18b1a80b0f5ce8beb54d3b', '43ca5896660d023c7f7f5637205804025f231718', '9e06fcccf7c7984c3150f2448167c0c6055fc268', 'adf75cd77b3a556734d34a6574c252bfcadfd004', 'b63aaa4adabf16fe57d908bf6762dc5f02570542', 'ff9c75c20edbaa0a21d4a16c34cbfa73609fb3f0']\n",
      "['00bccd2c6fea26d513cfae4d2f6774da2aaedfe8', '0e27d229abdfa17f9ea4d68b8bc069bc1e6a380b', '0e46cf398b7bee5380e4537732e0925a6f228aa4', '1123e9c1d9e49d7553c5fadb9ebadf804565e06c', '11b5112103afb0f930a5f7a008b2d8930d5c32cd', '83632e3296e153e751b4cc01e8e4719c929e84dc', '8d76d1e36e5711249f2c7673eb0dd4c7a46f9db6', '98aeb3fa97c8ce9e41195b8c2d4cadea40128513', 'aa5e3f4fd5fe4216151dafa60ec58bc9f02be1b2', 'b3f71961ef3212903435b207d78c84ac0d97ab65', 'dd0ae2b1351e396f77cdcc8c8685f4e55fce1ab6']\n",
      "['00bd337d5d5be04ee216bc7fcb6d394df1766618', '321b472c02e02ca7c33e21666e67a2666364fa70', '345dba9c0435366027d2d14dc67b3191cb9a43c3']\n",
      "['00bfd167f1fb59f8beb4d15c9c8e46b391717b21', '7f1e15625c0272c6b51b0e0ef01ccdfb089678fe', '99b195dead7311d858ffdba9aae9474d6860ae46', 'c6e810bb531b3d97ecaa7e699056f607e9e93c17', 'f8669ca0dd5e066b8f53134c9a5491ae71ae212f']\n",
      "['00c09237083c031da151a95c8640600dddef8db1', '04a46f04ae03448df5f183e7478413406b4504db', '0eef111020163983e47d24391c10727acd07c4cf', '123314dd7b1684db2d973067e44e9d4b5ef7f8e7', '139d1f23cc7694b8c42b7c802b6d0b9d6a75db58', '28ddcf74e3e09e294a4f3415f3f685fac7e07f90', '7b04a8bc6557f90547f124a576423eb2d6b44171', '9c5e14caedd7f8501d7ad70d998c0e4578756383', 'e5c9c5d052d87061700999c26da0b7347d4e6ba1', 'f4a91e1282ff3def5665c4c25585ae9fc3f21343', 'fd36cf68c802b577f7a49c72467eb209c0d1f22a']\n"
     ]
    },
    {
     "name": "stdout",
     "output_type": "stream",
     "text": [
      "['00c488fb55458cc4e135559a44f7f856dde2842b']\n",
      "['00c4a5af2cf0e3ae8814e9010b4ad74dafc51c08', '09e109cb9a5de04f9230a531926124d4b7e95c0c', '2f157f3bde8c3dc97e95ef280101c775fe661d96', '31d4668771e02081774ba2597e74df6609b5fc86', '6d21b891e260edc4ddb97af38c75d76b32bf2e53', '8c416fecb50c068716c98285aa928c993f6d52ee']\n",
      "['00c9a104d247d4ad4791e466e27007bfd75d5fc4', '2af0cf06176195116a324148f1dcbab430487d94', '2e1a3899d577ae7199fe13821a2b4f8e3b670c40', '33050efbf75ebd36f401e458cc5f41920d973028', '39c793a1e4e980dbcdf8c599f460bf2438ca3534', '56e3a167375ad682f1e08b778e4742af2bba01e2', 'ba551015ad8c3076421e02052dca26580f922271', 'c8d55d320d3294cddd135834635e64930586f5ed', 'e8298437391709c4fd3fbe27bd649993205c3e7b']\n",
      "['00ca2c74138555821c4c2fd6e875b650b58113b9', '3621593dabb3cede2c8452957e52727210706e7b', '47dcba48f8cfd74d043f70b6ee5bbb6dc91e8284', '69203ea357ffa4bf69de106cbf0f5d78ac07cf7f']\n",
      "['00cb2efeaa80437d9fd708b633b650d7c877f7b5', '0288a992a06d822a2b737f91c729ee81492789c1', '0a1b17935d40e4724647660ae0d16cbdf6de08d4', '10583288b41e96e7da8a592fef8834c03e8f31f1', '14cc1300b767b7acfb9608577eff3e068f33997c', '1570c96d491041414b692f9c833306799f072e84', '1bd9f236bcda2eff7dcef50f5e07ca494de4ae44', '2077bdfd9ff519a552b5f9e28f0cbb05512c2f23', '2e1807d9c09ddfa42daa66b669bb61fcaa8a7ad2', '321487e0e7c5130053c8d0fce4443144cbe4cdeb', '324c59d2db45cabf3deea101911866d1bc809ebc', '395f611ed27a759420898316ebb8a83cfc9a5dae', '3b8d42633a68319be66e996939ac86b702f73a1b', '3cb7f6b10d02e5dc8e7871c0ce33d5af908233d1', '43ca5896660d023c7f7f5637205804025f231718', '4ce262e579c12ceee0681d51a46deb32db9bfdbc', '5f10c3e8153a86b294bb6f474ec3c20c45a74835', '756a18fdc1caec90cc993be6d48bff5ca1cfa943', '856ebc30f17418aa8494efb417996dd22f950197', '912c5acaeef85d6d20f5079e2c031262c7ac9eb6', '91532284dc38652a23f03e3ff3503dda44363b92', '9340610c18e4f21ef323ea94fc2af5e5779e72e5', '9be4491a54e72ce17a3f4f93221b6ebfb31314aa', '9c26522ee304e8a902fb220ec6843a647be2b9bb', 'be412108b1e3f240a5b9ead746435f1d6b699c36', 'c9c43a0ee12627a4fdff6f4810461a51c468362d', 'd62b017641cc80a9fdc4e5d331cbe38acfb4c2b3', 'db49aa52b523320e4e1c807d6fa06cbb01553565', 'fa3c6166247915471a36c66f65a6452992d291ba', 'fa8205078da8421980e327d28a4c2c4323441833', 'ff8eb76b80f2441818c6ef6fe972a1b0485192f7', 'ff9c75c20edbaa0a21d4a16c34cbfa73609fb3f0']\n"
     ]
    },
    {
     "ename": "KeyboardInterrupt",
     "evalue": "",
     "output_type": "error",
     "traceback": [
      "\u001b[1;31m---------------------------------------------------------------------------\u001b[0m",
      "\u001b[1;31mKeyboardInterrupt\u001b[0m                         Traceback (most recent call last)",
      "\u001b[1;32m<ipython-input-201-64d7646f93ea>\u001b[0m in \u001b[0;36m<module>\u001b[1;34m\u001b[0m\n\u001b[1;32m----> 1\u001b[1;33m \u001b[0mget_user_groups\u001b[0m\u001b[1;33m(\u001b[0m\u001b[0mtop_merged\u001b[0m\u001b[1;33m[\u001b[0m\u001b[0mtop_merged\u001b[0m\u001b[1;33m[\u001b[0m\u001b[1;34m'Country'\u001b[0m\u001b[1;33m]\u001b[0m \u001b[1;33m==\u001b[0m \u001b[1;34m'Russian Federation'\u001b[0m\u001b[1;33m]\u001b[0m\u001b[1;33m)\u001b[0m\u001b[1;33m\u001b[0m\u001b[1;33m\u001b[0m\u001b[0m\n\u001b[0m",
      "\u001b[1;32m<ipython-input-189-f65aa04bc20d>\u001b[0m in \u001b[0;36mget_user_groups\u001b[1;34m(df)\u001b[0m\n\u001b[0;32m      6\u001b[0m         \u001b[0mflag\u001b[0m \u001b[1;33m=\u001b[0m \u001b[1;32mTrue\u001b[0m\u001b[1;33m\u001b[0m\u001b[1;33m\u001b[0m\u001b[0m\n\u001b[0;32m      7\u001b[0m         \u001b[1;32mwhile\u001b[0m\u001b[1;33m(\u001b[0m\u001b[0mflag\u001b[0m\u001b[1;33m)\u001b[0m\u001b[1;33m:\u001b[0m\u001b[1;33m\u001b[0m\u001b[1;33m\u001b[0m\u001b[0m\n\u001b[1;32m----> 8\u001b[1;33m             \u001b[0mmax_group\u001b[0m\u001b[1;33m,\u001b[0m \u001b[0mflag\u001b[0m \u001b[1;33m=\u001b[0m \u001b[0mmaximize_set\u001b[0m\u001b[1;33m(\u001b[0m\u001b[0mmax_group\u001b[0m\u001b[1;33m,\u001b[0m \u001b[0muser_artists\u001b[0m\u001b[1;33m)\u001b[0m\u001b[1;33m\u001b[0m\u001b[1;33m\u001b[0m\u001b[0m\n\u001b[0m\u001b[0;32m      9\u001b[0m \u001b[1;33m\u001b[0m\u001b[0m\n\u001b[0;32m     10\u001b[0m         \u001b[0musers\u001b[0m \u001b[1;33m=\u001b[0m \u001b[0msorted\u001b[0m\u001b[1;33m(\u001b[0m\u001b[0mmax_group\u001b[0m\u001b[1;33m[\u001b[0m\u001b[1;36m0\u001b[0m\u001b[1;33m]\u001b[0m\u001b[1;33m)\u001b[0m\u001b[1;33m\u001b[0m\u001b[1;33m\u001b[0m\u001b[0m\n",
      "\u001b[1;32m<ipython-input-189-f65aa04bc20d>\u001b[0m in \u001b[0;36mmaximize_set\u001b[1;34m(max_group, user_artists)\u001b[0m\n\u001b[0;32m     19\u001b[0m \u001b[1;32mdef\u001b[0m \u001b[0mmaximize_set\u001b[0m\u001b[1;33m(\u001b[0m\u001b[0mmax_group\u001b[0m\u001b[1;33m,\u001b[0m \u001b[0muser_artists\u001b[0m\u001b[1;33m)\u001b[0m\u001b[1;33m:\u001b[0m\u001b[1;33m\u001b[0m\u001b[1;33m\u001b[0m\u001b[0m\n\u001b[0;32m     20\u001b[0m     \u001b[0mmax_set\u001b[0m \u001b[1;33m=\u001b[0m \u001b[0mset\u001b[0m\u001b[1;33m(\u001b[0m\u001b[1;33m)\u001b[0m\u001b[1;33m\u001b[0m\u001b[1;33m\u001b[0m\u001b[0m\n\u001b[1;32m---> 21\u001b[1;33m     \u001b[1;32mfor\u001b[0m \u001b[0muser2_ID\u001b[0m\u001b[1;33m,\u001b[0m \u001b[0muser2_artists\u001b[0m \u001b[1;32min\u001b[0m \u001b[0muser_artists\u001b[0m\u001b[1;33m.\u001b[0m\u001b[0miterrows\u001b[0m\u001b[1;33m(\u001b[0m\u001b[1;33m)\u001b[0m\u001b[1;33m:\u001b[0m\u001b[1;33m\u001b[0m\u001b[1;33m\u001b[0m\u001b[0m\n\u001b[0m\u001b[0;32m     22\u001b[0m         \u001b[1;32mif\u001b[0m\u001b[1;33m(\u001b[0m\u001b[0muser2_ID\u001b[0m \u001b[1;32mnot\u001b[0m \u001b[1;32min\u001b[0m \u001b[0mmax_group\u001b[0m\u001b[1;33m[\u001b[0m\u001b[1;36m0\u001b[0m\u001b[1;33m]\u001b[0m\u001b[1;33m)\u001b[0m\u001b[1;33m:\u001b[0m \u001b[1;31m#Go through all the user that are not already in the group\u001b[0m\u001b[1;33m\u001b[0m\u001b[1;33m\u001b[0m\u001b[0m\n\u001b[0;32m     23\u001b[0m             \u001b[0mnew_set\u001b[0m \u001b[1;33m=\u001b[0m \u001b[0mmax_group\u001b[0m\u001b[1;33m[\u001b[0m\u001b[1;36m1\u001b[0m\u001b[1;33m]\u001b[0m\u001b[1;33m.\u001b[0m\u001b[0mintersection\u001b[0m\u001b[1;33m(\u001b[0m\u001b[0muser2_artists\u001b[0m\u001b[1;33m.\u001b[0m\u001b[0mArtist\u001b[0m\u001b[1;33m)\u001b[0m\u001b[1;33m\u001b[0m\u001b[1;33m\u001b[0m\u001b[0m\n",
      "\u001b[1;32mC:\\ProgramData\\Anaconda3\\lib\\site-packages\\pandas\\core\\frame.py\u001b[0m in \u001b[0;36miterrows\u001b[1;34m(self)\u001b[0m\n\u001b[0;32m   1069\u001b[0m         \u001b[0mklass\u001b[0m \u001b[1;33m=\u001b[0m \u001b[0mself\u001b[0m\u001b[1;33m.\u001b[0m\u001b[0m_constructor_sliced\u001b[0m\u001b[1;33m\u001b[0m\u001b[1;33m\u001b[0m\u001b[0m\n\u001b[0;32m   1070\u001b[0m         \u001b[1;32mfor\u001b[0m \u001b[0mk\u001b[0m\u001b[1;33m,\u001b[0m \u001b[0mv\u001b[0m \u001b[1;32min\u001b[0m \u001b[0mzip\u001b[0m\u001b[1;33m(\u001b[0m\u001b[0mself\u001b[0m\u001b[1;33m.\u001b[0m\u001b[0mindex\u001b[0m\u001b[1;33m,\u001b[0m \u001b[0mself\u001b[0m\u001b[1;33m.\u001b[0m\u001b[0mvalues\u001b[0m\u001b[1;33m)\u001b[0m\u001b[1;33m:\u001b[0m\u001b[1;33m\u001b[0m\u001b[1;33m\u001b[0m\u001b[0m\n\u001b[1;32m-> 1071\u001b[1;33m             \u001b[0ms\u001b[0m \u001b[1;33m=\u001b[0m \u001b[0mklass\u001b[0m\u001b[1;33m(\u001b[0m\u001b[0mv\u001b[0m\u001b[1;33m,\u001b[0m \u001b[0mindex\u001b[0m\u001b[1;33m=\u001b[0m\u001b[0mcolumns\u001b[0m\u001b[1;33m,\u001b[0m \u001b[0mname\u001b[0m\u001b[1;33m=\u001b[0m\u001b[0mk\u001b[0m\u001b[1;33m)\u001b[0m\u001b[1;33m\u001b[0m\u001b[1;33m\u001b[0m\u001b[0m\n\u001b[0m\u001b[0;32m   1072\u001b[0m             \u001b[1;32myield\u001b[0m \u001b[0mk\u001b[0m\u001b[1;33m,\u001b[0m \u001b[0ms\u001b[0m\u001b[1;33m\u001b[0m\u001b[1;33m\u001b[0m\u001b[0m\n\u001b[0;32m   1073\u001b[0m \u001b[1;33m\u001b[0m\u001b[0m\n",
      "\u001b[1;32mC:\\ProgramData\\Anaconda3\\lib\\site-packages\\pandas\\core\\series.py\u001b[0m in \u001b[0;36m__init__\u001b[1;34m(self, data, index, dtype, name, copy, fastpath)\u001b[0m\n\u001b[0;32m    241\u001b[0m \u001b[1;33m\u001b[0m\u001b[0m\n\u001b[0;32m    242\u001b[0m         if (\n\u001b[1;32m--> 243\u001b[1;33m             \u001b[0misinstance\u001b[0m\u001b[1;33m(\u001b[0m\u001b[0mdata\u001b[0m\u001b[1;33m,\u001b[0m \u001b[0mSingleBlockManager\u001b[0m\u001b[1;33m)\u001b[0m\u001b[1;33m\u001b[0m\u001b[1;33m\u001b[0m\u001b[0m\n\u001b[0m\u001b[0;32m    244\u001b[0m             \u001b[1;32mand\u001b[0m \u001b[0mindex\u001b[0m \u001b[1;32mis\u001b[0m \u001b[1;32mNone\u001b[0m\u001b[1;33m\u001b[0m\u001b[1;33m\u001b[0m\u001b[0m\n\u001b[0;32m    245\u001b[0m             \u001b[1;32mand\u001b[0m \u001b[0mdtype\u001b[0m \u001b[1;32mis\u001b[0m \u001b[1;32mNone\u001b[0m\u001b[1;33m\u001b[0m\u001b[1;33m\u001b[0m\u001b[0m\n",
      "\u001b[1;31mKeyboardInterrupt\u001b[0m: "
     ]
    }
   ],
   "source": [
    "get_user_groups(top_merged[top_merged['Country'] == 'Russian Federation'])"
   ]
  },
  {
   "cell_type": "markdown",
   "metadata": {},
   "source": [
    "Here are the groups we decided to keep : (We keep 3 groups per nation and we try to maximize the number of people in the groups)"
   ]
  },
  {
   "cell_type": "code",
   "execution_count": 16,
   "metadata": {},
   "outputs": [],
   "source": [
    "german_groups = {\n",
    "                'group0':['000cb6427411006fe9a6193d3c4f59efed53fbef', '010619d06b9514243302b80e787c05c88747954a', '0721768adaacc26bda0c9e39de72572d6fd1af82', '1f2a9d5809d80a5d964d2d8dc686a8660481161a', '2225f430a166bad58b922542ffc78a1b9997d06b', '23261aa26dbcda5befef74cbc9536b6021211a1c', '2c9c748a768cb1fb5807fa4efd4b67a46f8d220f', '3ee5b1d15bdb33f67e2f3d7ddabba9945e4655a0', '48f411a532576f286b8134679906d82dc6e60de2', '58c5a95acad0b1afe8e8660020cbd3ef4adc845f', '5cb1f952ab773b563c057fe3281f0593a16f0690', '60a515b1288878bd1a4d87fa55a98f549816b0bb', '81d8115444360f35b2daa3a857414f9af087e87c', '8ec402896e81dc8f7492ea9db3be987f0db9bd02', '8f397428c2c883a67e4562347ad77375d6b9e165', '9b06094b0484da4f61647fc29fa02612247215a6', 'a027e37a7d9eafa9cbf4fe146627209d8895d53a', 'a7a6297d98246e911d5a13f8b42d42df9ad1af98', 'b70af018e3925646b2115301dcc5e6efbe6f7eac', 'bcf2c4d43eca6d9776f8f8dbc2990b4d4c36632f', 'bec630f088128e1f5d3bdd2771404a1af088ad97', 'caff5452752e76e8295e772c85021c5d2b209010', 'cbb96c03c3a116de6dd0c96f091794f63acda167', 'd08c610fd0dd425f432ea8cb49ede5abd8bf8722', 'd6f593e3077ddfd32555b3c44ec2758a4b5decbe', 'f2fc94213049c87046d06f8ec7440c9d5f1e65c7'],\n",
    "                'group1':['0025719f0cfae17ad6498cdf7cb8dfa71f34169c', '0272e0eb39ee745c740c31003701c90481f1faab', '04ae799addf59daf5bdc25ffd9238f11d1c1ecb8', '04bc3e12e55952fb503520563dcab060f9fd6ff8', '10466bef5bcff9736920c28579847d9548faaa88', '1255ae6687729904665ece08a51057cfa48a7055', '143fc974cff01e7f0c9abcd5ce8a135e301f4316', '1445cfa9ac8d3c76ff75948d2918fe73216a3bae', '174991d5e1ae47b71e9cac4b1da35564eb117d91', '187aecd1e9fbf8aaa5d424fb9ea5973d8c14bd62', '1cbbbe339db5089bb3c5164f8c906dd751f6d610', '1dbf08998a6a74c03b3b7e3fb0bdf057d2ff5a9c', '1f0e0c02ad0f61e9620e3e8165138732ae25e0d4', '285fbe3a8461e7ac69d7a31800c0984e3b2cfe2a', '292f258a4ee1f572713975c325d3f1133f8b8458', '2b6878078de19cb15a572e332fb74952dd5e6ebc', '2fdb4c56afd90f1ada7ab2d3ff5e497993d74de5', '332b89d095e9120e2fcc164030eded51c8d08ff6', '359c0c54fe5676925468f6cb1cc4b9f24918b1cc', '3744481a361577016eff82de1858fa65622ef597', '378bdfeb1bef7787d4783d58d9dba2f9b4dfdfaa', '3c464a8d1528717958786975bab1b06755d1e816', '43d394f00b461991728fb5f0f336dd6ccf9dc39c', '44a06f66c01ebadccd8afbedf149de8eba6f37c0', '44ffc8e3eaf0bba4e95a1bd2c632037b5a37f416', '4a85df34d891de61d71b9b59dd969021ff14e6d0', '4fc4b6ee2a4e21c70f144788bce8790c4c94b8f3', '542151a903ee5908a10c12055371d161185ad544', '55b884001ccf2aed39889366218dc2d7f41235f6', '5a04687647f96915c9797719466c314b8d82de2d', '5aab1fc2ad9066a7c00341163cc7b4dae4f1859a', '5d5e607496c8a68e342ccd9a2151977e5da4145a', '60779a8930749968e83e137cd8cfab12c9f130bc', '665e851e7e28c23bd4060b17be46a9e85a4c5a17', '691c172c89793f9e0eed8f69bc72ad7ab5fdd2d7', '6d894d55da4b06f4dd7ce684f5648cd997338b40', '77a25f5dc3db74a922decec68abb36fe44b799bc', '79a980fc3798687b66fd8e5976de615e0b53e5e7', '7d397de9d3ed4bf29e94ad2ca1bf325a425c55a5', '7edc5b4ace167b34359e5ba30082db417abc08c5', '84589f0f86d0e171979a985aa0c1f5756628bd10', '8482751a10b6822370b02a0c942d720e1adbe961', '86c1bfcc3b6603b27922833ac5738b3793fccb19', '88af5762a22f75cf6fbcd93e6acd535f025d8ac3', '95eb5c62ca73443d959c5699dfb41bde8b0c72c8', '9d69ae51a7be855e4049f2904dc0c571c2d99a1f', 'a224171c1a0e7aa83a5f9593019b4e6d2b982043', 'aa4e2e7dddf35215e9b8ede9ce59d26c7d4d2e7d', 'aad38ab6a09202d04c13af26acdc8be02178c57f', 'aae7bdf3d22fce35d05416ecaeee48367c92dd18', 'b337e162577aaaaed22dc7c6090db9a3490bfe70', 'b7642ca84c53d6f76cb23204b8a0b2701aacb2aa', 'b7b1f9264345be1976d5c9778fff96c7a98246f0', 'b8885b1e8af96b492322d86422eead68ddce9097', 'b8f3f62aa48d8199955baf6b09844b49be9fbd3f', 'b9f7d872c79730aafbfe3cc6d250ab996db805bd', 'bccb683a77376b3034455f8349afd6ac68927089', 'bdfd18d99f13199588fd6849b0ff0fc58f624c12', 'be092b27b834f4b9d2a7e281bd5aea5cf96be1ec', 'be39a2cdd82209ec341d8b81e5f81977f08f9435', 'be7a182c5fa6746489b6d83161a230cbbb222e39', 'ca5fca37985cecb3308f537a29b9235a6d6be202', 'cc21eaebb7c1b1192feca3aa85f82e045dab63fb', 'dab425a36680e8f40fa844e788ff1ab9f0ce9193', 'db198df1d5fd923f2363b2ecb5dec1ef9780806e', 'dc6fa188f4ab7a21e9bd3ca5288cb8fb45ecbd86', 'dd308ed62cd53d44e1e7b646bfb946d1f76bd0a7', 'dd715310465d2b3fdb7bb45be088fe52b8416827', 'e0a6c638fb2456bee94f8117b481e9853e2f84ef', 'e1d38b074d1ee50d7fea07c8ab07e20a274d8e88', 'e6c3460350a941a510e0f7529b14ec3cc49f0fdf', 'e6f6ae6c6693ac22fc487e71ae3548f564d41b39', 'e8691cdc1db0b7ea13a3206904b1e4e832e71584', 'e8a894b081d44410f25a75b23b2c94fb510b8522', 'f357b50c29565c0d826e5f8a5b948f96b2b9959c', 'f3f75f71b255a6fc2a88e14ad168e4a3e1f36caa', 'f65b01703aa4e3a6581da6789a22214be4b57df9', 'fa5244dc9bc9ab9529396ad7c345f6df09cc7ed8', 'fac6e0a20a04b1504bae818515d58e79584ee33f', 'ff2b5d534f44c6000b08b791985d2c4f96114d50'\n",
    "                ],\n",
    "                'group2':['0027bdefcde28fe58e126906c08c58d843b77c69', '0ce986bcbc983c6ae73e317157fe76d9cacb96e0', '17304e89848cf3dac6017d3184a6b05f8f4ceda8', '182786420504460b94fa39e19b1e09ca19bcf93f', '18e3887f682621509786f8f6646f3cdf4e932465', '1a35322b5fb1e1026c626596294084f2d984579c', '1ebfd10c0c75b40ff35cf9c3d4c5128cf3afd87e', '3a792a7f2dc74d701cc706315790dd5dc882e9b7', '3c0e2aff637ecd919560c5f26b203902f20adfe0', '3f1a7a36d1d6bc8d7a45a156511d508c23ecb2da', '40c5ef92ef99c53e1c2841d88925b9391fe18e49', '416323791c46c7eee51325b1850bd5a1850963d0', '464725eb4eec9b3adfe65a332586c1d7689fcf7c', '517915056877c8fbe2864ee381735dad35756c7d', '5d5e46848071c01eb419988fa56bbcd3afdb17bc', '623843c45e7bc0af486a5b3cc05c5345a9d7bc77', '6d0550dd4e44e37418ef08e1b26b330645063aba', '7ae9603574caba81283abc3bcf004906c92e111d', '81cfe2a1a28b0cce06a7da464a333ae68c948851', '97388598646291e7d3be16bc10a087cd7f17169c', '9c84ea627978c968c84e978b8b02b61ffa637c88', 'a4293ba8532be409c02b55bbbd8b8961c790d343', 'aaa944ba91b4652485463fab3d3dad90a74b6904', 'b189cddbc216012eda5e5c426a683ea3e29b5040', 'b2132ddfb2d5aa53acd401afea6f25c2d0830a8c', 'bd6e3331998bdb7f324c8b33c2a15cb4c0b07af9', 'c281f3ac96eb197b6cead6e1565d08d5c46b9faf', 'c83fafe1e59f989d2b1119531a83663fcf03d071', 'c94a94ecc06a09853e5f4a1452dd0d577204b95e', 'd7ee0d8ecf834f54ac020848c83bfe4e6afcfb50', 'd9f8e8522c6e5d8e15c5fa3fca00e82f8668ac0b', 'df4c4bf7ffd2c33aecd0e80d77ef6407f8436128', 'f9d58154a1ec8ba952d8fe938d90e1334e6bed5c', 'ff6fbb1db9615f8c7011920313d6beb8f585ce58'\n",
    "                          ]}"
   ]
  },
  {
   "cell_type": "code",
   "execution_count": 17,
   "metadata": {},
   "outputs": [],
   "source": [
    "english_groups = {'group0': ['0000c176103e538d5c9828e695fed4f7ae42dd01', '01b573f278688a642120764c503edc7b77173a1d', '119e0150c73b18247eccb4b9d103cabdf688ba08', '1561b5b3f63166e712e46d4ae3670ad9e76f203f', '1c19f4361b7f5d68db5a72450b2dec5c6ebbfbf2', '1c6f9fbbe07b2e01911af4aab6dd8183c77b27cd', '4b364898a43a75987dc771587c305ccc1530bdea', '4c365e5ab40f5bd7f2c45d0b5592e694d2fcdcfc', '582527a0d5e7b791d57ccaf1f2f2ef4a324eb4a8', '5ad63432c9a01b274c23ffbeb36b137549c67398', '60f0079ffc2b60955351c5d0ad0e5e37388449a3', '6bd1933a3581a66da1683365c69df10a515fe2bc', '77dec888169db9ba5ebc360df1c63ea8123ab419', '8c14070c590c784806e539204ce1ce9f9a6b62e5', 'bc389799489ee315495baf7eaf84100f693e4bae', 'f540eb6c7aaf56a71953e0f6d16b5a301d386697'],\n",
    "                 'group1':['00035a0368fd249d286f683e816fbdc97cbfa7d9', '01c359055370f3c72f7e5fa7e54d13fe27e9d6e9', '0574b898b57f9da19cb18c9433b531cdb8666b57', '097e571d04ec68795d3f69d3356c32c2ae9b028e', '0a4e7a2e5ad4cfe53e3c32c7287e721108c957b3', '0d2c3a8d15b7a9951a20bd94317b11e9dc20fa7a', '0edfd0b3630ef4eed597a78db2f1984cadd75f60', '233fff208cc06bb601c42c88cb36d67c78117470', '32b350dce99b040059c919bfc81759c1ca1709d5', '34d9cd40009f572bf6168adf0b4ca1d8c26b49fc', '41cd2a2c06a61abdadef690c93f6bbdf423f032d', '4799671b78b08f8f5c7f14aba87140ba999f78dc', '4c7cf6a427a365a97d0d92715da0aeccafed1ee4', '4cd5a92633b90b45665e580fd0bb252fd984c0ab', '4fa437c0b11b64f2c384022b850a6329828cadfd', '56b28f24046146932b512ea3caad56530c6b31b9', '5863ec24407aa8114cbd6802add800e209b208a0', '6c3ada69128880fd65bd8eb5944c7d9e0859e276', '6fcee3958df8c4c3cd54c6cf6bb63bfcf13acfb0', '7010692ee31be544c80908a071a3a4362849a8ae', '96b06619b5ce0817749e36a195266417e7887d56', '9ac1bc781f8c7bea923d936e475934b899de4567', '9c3b5fe60670b6f0f5e98d0a0220f3f22cd8d961', 'a10ce391787f4de723668c478dda291a5a35e08b', 'a413973fdbc5e3feb6b28af7ec7cac4e5c24d99b', 'a47cc3e8c88fdd05c529ef0282e35e7c739e94af', 'a64e95d6a3972686fea494c846f7c0b490955ac2', 'b1871534b22e2fd0f3025e97e8095c9f87ba749c', 'b7344bc519f2edfafb6e7eaf9d2f6145d48800a1', 'c04ee1ec3760bc15a2f24afbfb04b0fac9f1c1bc', 'c8387e0ed74e8eca3b03f4f484fc342000307cb7', 'd288fdf336b537479b69bef4edeb7108c2a18ead', 'd6ba3adc2d6b81ddbaa605d249eb431c6c909f6d', 'd6df7754c8443c46fd631170c9d315fca42af3d6', 'e446f8458afc831f127230b54b9f63a60c4237fb', 'f07629b8c57736882f6920a9a0ef5690a33734b4', 'f2eb7c0078bb8814a66974a7bfb0e6774507478e', 'faaeebdb373211f4428930941792e1d04d52fae0'],\n",
    "                'group2':['0008ac556f2cf0ea3b53f53d84223f1c62ee3ffe', '0696ed3a3697913c39dabaf64f6248b44ee39671', '14290c1dbf8e47fa625e7de9f39adfa807bd0fdc', '1e05325b6e22ffc644ed64c9b51de93d997de816', '419dd029c20c7679ea2a2367061fa5ec8e32f5e5', '4b65f1d54cbb98872dee37867caf26f42739ac91', '5de9f23a47271c32da462a254464948207e178c1', '700430382830be41d2c0ae251f2ff5636dffb9cb', '86348184d556b7a03c500e11ded4dec20fe5c127', 'a21f58c1b8a08dcbc5dad4899fb418da6a501987', 'a7d3b7e16e7890feae6c6fbcf23ed20b29d5e63f', 'a980c53ce9a9246af8d7af20983b18a7a83e15fa', 'b24ff43c5b86b654a2a869117260dc5c655c0467', 'cbea6b1669efcdfc70438875e5b0582df6b55792', 'd592e877c3df0b2a11bea83063f56771b9d87094', 'd733b2c9a25584058f13e4ef9698400d54d94c59', 'fc5eded5593a6c64bcabaef7fab51d7aec13463c']\n",
    "                 }"
   ]
  },
  {
   "cell_type": "code",
   "execution_count": 18,
   "metadata": {},
   "outputs": [],
   "source": [
    "polish_groups = {'group0':['00206024f16fcc8aeea38a32e06cd452a0fd07fa', '0a43b416c82e30a48d338fb741fe8bdf15593797', '0ddae7cfd74b93edb916622b4036cea5451a68a7', '0de0889da04b4d62ddd62a16bb25c2e57443fcce', '0e80702c19a9100a19c314ffa6daba357848270c', '0f0001f36b4a9fe2c7f136831513ec0710fb3249', '106c27145dc3fc2cb9e72928c37de3c1c163dfb7', '15412eddcd332690f41150f3775b58224579a352', '17aaffd78b585afc69982d8383a599d08ca51f48', '1b8113b4b17348afd646f750a23754b21327c666', '1ba3fb68fcaee3130d019afafa2c8df2c98f14da', '1bc2e42c1d3161b256d149c710a390e5e497d7c9', '24b442971128ea409d8a659e51cae753c7dad033', '286f55938bbc2d1c23db6cc6512980a21d99edd4', '2ba87634f5993428538f48c29430ab01c3e327b1', '2bc18bee3836d4e13eb2d9ad6cfe3f5219be58a0', '30fd2a3768beb1ce6be3d916bbadafd21ce525d6', '32c5c4c1e9291044f68f964bbd396c412002b40a', '32f4159e8a17e0c5fb5edbc153a0fcf651907aee', '365173daa77f07ca92146786ebea9d4ea3f0fd8a', '380979028392365e4f69c04f8629754df036fb31', '415c59cb0089fbabf639700211ebf0861ca48324', '47d52b79797709b3cffccca88e8a554feb74355e', '48ec6b6f0ae4c86220f3f8628e935d98edf013d3', '4c24770fb92c25a16e2d7433ac34f257baf7e205', '4d2a2731caacd0fc52c7d68b882c444b87d58423', '50aba276af25f9e9ab7c2300be41f6aca2151519', '529b466fe98442a3c87bf810dbedfa3f1898c12a', '5a04077566e1d51728d4e50f22787772912d2dc1', '5aa8a38e1c2510c141a3fdd237b2e00c99d07548', '5f1d3c22c3b71e9a33abce849e56f1f60302a504', '62d38293c4b2da3e797630f281bafce753d22ea4', '66178b1df479d62d2c5799cccaa8b61a290c1073', '667e0f39099805cd3a64c35e76c077ace790b6c1', '6781a5dc741b83e9ea48380c1eddf74b40d087f9', '684a91389e9bc941464a26988c803b649e0eeb90', '688051844515cf025498e9566a19b78cb6b87da9', '6996fb242dfd61b39ca32fcc49b8afed7d51b98d', '6b0fd69733696f8a934a48006eac57b200459884', '6b3308020cf6088704e1704ed414d1b4cc49117c', '6e33437c529457b70ffa25a4f016634d516c96ef', '705940bdc2de6244f7824e61cf81c820dd2b79ae', '764c0c1f591c5e624362333aca780df47618b548', '7b28d05c6f276b1541c06e463135aefe037ef009', '84b4e8fa7cf4ae598a376b927949b03f2e36a7f5', '853c63dc512351cacab30bbc2dae96eef55fdaf2', '88ed72118c0cb3a0f1b249baf34b659f0c271b5e', '8b8756db6e7b7da2bfc57a2e665499cad6622690', '8d0cfa08f41fdc423033a1c11072ff2300b3f58e', '99c20aef32cedcb4b703f32bc7bd38d255914ecb', '9af184159ced82029544182a84f71759cadfcff3', '9b187fccf9cd1d80ad5d39c2aff2cce3dab2c487', 'ac6f851d407860967806c7727139375491acc7d5', 'ae53985a0c684fed31801006cc5a7b9d113881f8', 'afc73b7a3d6974386d08d2d73e17886ccbb664f4', 'b24177d1c9959ccbbadc6b31b7621cb745f4b351', 'b550f938f60d3510deefc03ba947c1903d872314', 'b9f918435ebe044aa79fff5ffd2fedac7ae49498', 'c3d30192c1c378ee1bb3b62f7afb42afbf8cd442', 'c907d294d85d334cdb55f619d40950ee0b66b545', 'ca1079065f45218bc5a2114c2568f74371888679', 'cbd1df2e1aab044f98ce1bcbde1de7e62f8f2dc0', 'ccd845e7534f486b59a0d42bfc074f28439d5675', 'ce6f933224a52b8e79db0e3b9700d4ce1fab0e97', 'cedfe15b2217547856b4086010a691f17ace6a7d', 'd13a0f1a0c69bb1ec965f8e8e8b20d07f0f53c9f', 'd1e7ec54d791192735e493cff39b696073468bd3', 'd1fb51366c689de2dec2a3a002dca41b3611165d', 'db0f70c19e33f7ead00207aadce819ce8897818a', 'dba12a596d970661699de657c430bca74fc36e86', 'dc9be800ce24e753df8da8a2380c86c41ec218df', 'dda6132baee939456a7fc9f02c953bd74f5f095b', 'e0e0a608bacd3fbac0637a51e4d65c5a4a71483f', 'e27634e29c9ec8cdc24f1dbb087f52784eaffbf9', 'ec0fb304f2b80aeb0875fe7f874998609cdf710a', 'f137fd0df9203c7b5d70bf36dc0158bfeeaecf5c', 'f2aa5bcffd2a564763d6ee009a8a97a65b273039', 'f444be329124583acdcfe08802001748593eb971', 'f5ddb330be6140bd37097304794e7249aa85e1ad', 'fdfa59881e35c5e7a61a7cddc069cd21a09b0113', 'ffe96e4439e3036d7216af1b5b8a11146b2b60f3'],\n",
    "                 'group1':['0026e191a02571bacb601574b47b0899d0720cb4', '0386d94c88a018dc0413b7d08e2f144a777bf42e', '050a967a7647bc5ea1a7c185e9588a0b999259a2', '0eeef187c5bb0fb2f3b09ef4e204fd25af62708a', '22c050327add338556086c3761ef49c71f1dd381', '31013d9f22ba55bb73fd86cd23c1c9b2cc01e9cd', '5da6f0a143469621001c50e62d6253ae5375f968', '5e19f64f02a64b60f43891deaff8e62932e4f5b7', '66267608199f76287a5d9c9e354205fc6cff0167', '6d89d66952e85ebfaf6ce7d011519582712204e9', '7dac0972ad178847c825c0d777499635be16e68c', '8bccab20a8905b5804015f22e7e7bb45c2984171', '941e8c5bcd5eb13ea7e5a171eadc70b5904b3b0a', '951b1e7b552e5cd805d05d7b2af81e086079dc6b', '9ee6b0e7e63449543589fca32d9bb9c9221002bb', 'a0bcb765f143da18c0214f311f23a5c63dfa0b5a', 'ab3103b98b5445bbd0d523b2d2b8b5bdc26a9d38', 'acb99cd7f3fcf87f749902981eb17c0e5a0afdbf', 'afc73b7a3d6974386d08d2d73e17886ccbb664f4', 'b4833ff2f228356e8d0bc0ec750d041408cfa172', 'c0edd7425493ec8f0d76b58944f557b34763882d', 'ce4184bb0d3851f3d377083ef5f110ef0f4c29a0', 'dc01497f22a427e43630b1ab1ec063df4be7f528', 'dfce56be7180eff74b6e80c6fefa079c33165805', 'e75696cbba2c7944ebfba159e6c34c3ec6f0e5c8', 'eb2678e88411c255e65c01a831e9b1eee51590cf', 'f57fd84d7d399b3c516de0ce6027518a57f2cc85'],\n",
    "                'group2':['003425eddc040f2c2c0fe6d306b1e9497ffac24c', '04fa91eec11ce0ce9c35f54bfe5869c9ae6e2564', '0a071229b4557df4b88a5630bc2b77fd32ff7a2a', '0c398c7935891837c69cb0ca41075276ba5835a1', '0df232c73c6ed7141a3482d2c525cabe480a6a18', '12b2f26f3cd937c4f65918b0813b6826d31a45b5', '16ebeaa5a6d329c7d6a1fad20066116fe7f7c8b9', '1c29036973b68a3f1f34946fea90436992c4292e', '204b67b19928843a0453a75bf33e052676603719', '293a13f9b44a7177f444bdc371f2c04122f31c92', '2b0782b449401e0f5a21c5990dfdb1c7a24dff3d', '2c37122bc549a3dbc9f278c0126c24bee136f5d3', '2c4ac3b53de2b99d4ef7cc7159f1bac6e250eddc', '2c937dd24fb1224bb6bd440e3f572d687d3981cc', '3022b664630c482e304adc363c1665a34fe8f90f', '30f6dd063fccdb8d37c740658bc1369563897d97', '318acfb3f292bebabd9e48ca6895157517a30238', '31c17164d65fe2304cb148c7d041915ce193c7f3', '341876b06a3eb8dbc4c482e9f915b37baceb2353', '378ca7fccf326639abbb3d725c7a45f7483dbe88', '3ffb58c94dab1735496ad4cbe0b0ea74506065f5', '7a04b393826b2a4e7f1cfecc197e41b57a9203d8', '7f94a24b2d3284b1311f8a697da99a4c09034b1d', '81576f53948e066bec90011011eaaafaafa0f8a5', '84ec6dc7c26e29024c1a9c53b825502ab7f878d5', '925776f0ea563ca728cb58e0c7660759328eedfb', '962cbd2199737b30e1d1640a50fe132a87e3c7e8', '9f545d2156afc301162bf7c1e3157bd88e93dea2', '9fede38d5bbe7e8a9e3478e76bade6b65eb5cbda', 'a05c5c60e588521b17dec2d8945c66d8df4694e9', 'a7181e6cd490dac790ff5a0966d0c39f6385ed5b', 'af0ec2216f41069a0b114e59f2523ad0008416f9', 'afbf1759c0e81e2ef14f0989cbb7e4443f873d21', 'b461845a64b299e20930346e383384f739b4798f', 'ba051643771d55d870416e40891963dabd8ea142', 'bc9321c58de33216cf6df9bd7403dca7946563d6', 'bcb11acddf0b811fd4b26097e95b7216dc48edce', 'c5f2e2d80f7ad1d1ff9be11543b9577f1cbf2809', 'cb8091a84c44526e75226109b1c3bb53d27b081e', 'cd4481582a86d905e31522ed39396cdcd9f3b0f8', 'db394640538e8f107a497e964197a68d102037b3', 'e9f69307d147d8b02433b3c14ebe08f5aaedae63', 'ecd4a43902be6a8d3d50de72bdd00ea7dcc10023', 'f31c30521de527ee34b5808116ca16f7e502ac75'],\n",
    "                }"
   ]
  },
  {
   "cell_type": "code",
   "execution_count": 19,
   "metadata": {},
   "outputs": [],
   "source": [
    "russian_groups = {'group0': ['003dc1eaf59995415b645c1f3373632a7fb3696a', '0108aaf1a211987343da59242267fc511a34425a', '09d812350249531a070dba4e99507016dc9af1a8', '131d41c9d564ea32e3662aaf68e46d3adc23cf07', '151ba3f977667d4548538b67884f998ae4c4d769', '168751713e459aa48abdd4f3539d3bb2debbc106', '1ed58ddba838b79bf584feff69694fded3f7373a', '207d189354da012810f2fc7f992d55fec4d498ae', '3cbb0043ddd38b9dbfad95f3dbe14f9fab1a9a84', '4ffe74bef44fff70fa5769c1430baf32a12f8d64', '5347e43432dabfbde6c53a4af2fc1044a4f3877a', '587abedf6e9a82169e54fb387a7cf98fce4581d7', '6d262ef51b2ef9493fbf33ea69079aca7a2e5904', '71f36cfd987087edb948be298e40c468683319ce', '82ad0549a58116add245ec9fc258aa965bff361f', '918124ddfcd6d36a0430ad3db29f52ad9dfe36e7', 'b0f35af8984b09d3e74b8b2aab530032c0acd87e', 'b7cef9e4623fb1f2afb630f022d679163fc07328', 'c4665a0ead9d2455dc12ecee1344ed378b8c8d96', 'f96d08b5d3aaddc894f7f80a5a1cee78d8eb4d5f'],\n",
    "                  'group1': ['004a3a3d91d0890a3b25db93a6d10679701a552c', '01b19e65926af66fe3bb543e24e0d5f8445f58cc', '16de61317714763d6d64811aebe253c67dce4c99', '1c307b947fd14eca2c0cdc787e4ee18acf942040', '1d5d79d3282727df712667670c52039f7eeff64e', '41fd10b529e091f3a566375f2f10f81b604fdd02', '4ac002b922a6b450a1172df3ca9d48d882b4c0ad', '530debecdb5740d93d3737d75ec062cba070960e', '61de73f577ef03b973adba64d531e2e31b5be9fc', '656faf6dc53e1af2c234549a59f3308eaf9074a2', '8197f239f154bac1210c7e82b952de0bfaca9133', '8d192e3596f83251ed4479e83ad27e1f5e230abc', '903746f2eb9079e8e10b1110f59bc2387a6d3b85', 'a8c83fa33601eb64bf37d166763192aa8d83f404', 'cba18ce0d06f6c224cd8224511894942b61605e2', 'cde0b647ca4c6803913ca30af9fe6a2ce612f465'],\n",
    "                  'group2': ['005c0e40de5d9376831bcd6d8e3b066459606d6b', '01a0db38b06a0c126f3cebede9c500cc696242a6', '0e2c6d31e37f3c4791afb14be826ac5643e68d6f', '268341e50c8adfce1e9b570fdc9140e0ff93e787', '302bffc1734fd2f81a51aeaefdb3a628751a625c', '337cb892d757ea21830b7318d1a03328ea806dc5', '36828ea60ace73ed3158fb46ca0322e96b0079e8', '647545deba5a145db120ccb1bf5cd644aab8a3b1', '6b5afbf9cf32fd3ceec30b64a9cde640378bed9d', '7938ee510f90c871c1556e5605707d75d1f139ca', '90b75e77a9a337d0e64cc7bf442185f23fb0d81f', '9a84a773eca62fad653d2ccd91e0376fd8f310c5', 'a9d5e0abc65edf96167016aa6ffa6419a651b2c3', 'b8085e8c33216f0de653e2d64c1acf908481112f', 'bdf9d239be05c002cefb6d8fe48096b838e99a70', 'be02e69092e92b82c4febe751ab5be9e9caafc46', 'ca81ee1545c9cbf01a8066b5e339df4bb8ea8c31', 'ce49a303553eda3e07066f27fcd5776346f10170', 'e465db8ce0a6b0423188f56f952d5850c14ad587', 'ecfc3f5a770dd8c6726dbba4d7e04a7b02371fb6', 'f7cd4a8f373eeda80d9a59534333070c4f01efab'],\n",
    "                 }"
   ]
  },
  {
   "cell_type": "code",
   "execution_count": 20,
   "metadata": {},
   "outputs": [
    {
     "name": "stdout",
     "output_type": "stream",
     "text": [
      "20\n",
      "16\n",
      "21\n"
     ]
    }
   ],
   "source": [
    "for group in russian_groups:\n",
    "    print(len(russian_groups[group]))"
   ]
  },
  {
   "cell_type": "code",
   "execution_count": 21,
   "metadata": {},
   "outputs": [
    {
     "name": "stdout",
     "output_type": "stream",
     "text": [
      "81\n",
      "27\n",
      "44\n"
     ]
    }
   ],
   "source": [
    "for group in polish_groups:\n",
    "    print(len(polish_groups[group]))"
   ]
  },
  {
   "cell_type": "code",
   "execution_count": 22,
   "metadata": {},
   "outputs": [
    {
     "name": "stdout",
     "output_type": "stream",
     "text": [
      "16\n",
      "38\n",
      "17\n"
     ]
    }
   ],
   "source": [
    "for group in english_groups:\n",
    "    print(len(english_groups[group]))"
   ]
  },
  {
   "cell_type": "code",
   "execution_count": 23,
   "metadata": {},
   "outputs": [
    {
     "name": "stdout",
     "output_type": "stream",
     "text": [
      "26\n",
      "80\n",
      "34\n"
     ]
    }
   ],
   "source": [
    "for group in german_groups:\n",
    "    print(len(german_groups[group]))"
   ]
  },
  {
   "cell_type": "markdown",
   "metadata": {},
   "source": [
    "Groups with many users are more interesting as sampling from them can create lots of different possibilities."
   ]
  },
  {
   "cell_type": "code",
   "execution_count": 24,
   "metadata": {},
   "outputs": [],
   "source": [
    "GROUP_FOLDER = 'data/groups/'"
   ]
  },
  {
   "cell_type": "code",
   "execution_count": 25,
   "metadata": {},
   "outputs": [],
   "source": [
    "\n",
    "i=0\n",
    "for group in german_groups:\n",
    "    group_i = top_merged[top_merged['ID'].isin(german_groups[group])]\n",
    "    group_i = group_i.reset_index().drop(columns = 'index')\n",
    "    group_i.to_csv(f'{GROUP_FOLDER}german_group_{i}.csv')\n",
    "    i+=1"
   ]
  },
  {
   "cell_type": "code",
   "execution_count": 26,
   "metadata": {},
   "outputs": [],
   "source": [
    "i=0\n",
    "for group in english_groups:\n",
    "    group_i = top_merged[top_merged['ID'].isin(english_groups[group])]\n",
    "    group_i = group_i.reset_index().drop(columns = 'index')\n",
    "    group_i.to_csv(f'{GROUP_FOLDER}english_group_{i}.csv')\n",
    "    i+=1"
   ]
  },
  {
   "cell_type": "code",
   "execution_count": 27,
   "metadata": {},
   "outputs": [],
   "source": [
    "i = 0\n",
    "for group in russian_groups:\n",
    "    group_i = top_merged[top_merged['ID'].isin(russian_groups[group])]\n",
    "    group_i = group_i.reset_index().drop(columns = 'index')\n",
    "    group_i.to_csv(f'{GROUP_FOLDER}russian_group_{i}.csv')\n",
    "    i+=1"
   ]
  },
  {
   "cell_type": "code",
   "execution_count": 28,
   "metadata": {},
   "outputs": [],
   "source": [
    "i=0\n",
    "for group in polish_groups:\n",
    "    group_i = top_merged[top_merged['ID'].isin(polish_groups[group])]\n",
    "    group_i = group_i.reset_index().drop(columns = 'index')\n",
    "    group_i.to_csv(f'{GROUP_FOLDER}polish_group_{i}.csv')\n",
    "    i+=1"
   ]
  }
 ],
 "metadata": {
  "kernelspec": {
   "display_name": "Python 3",
   "language": "python",
   "name": "python3"
  },
  "language_info": {
   "codemirror_mode": {
    "name": "ipython",
    "version": 3
   },
   "file_extension": ".py",
   "mimetype": "text/x-python",
   "name": "python",
   "nbconvert_exporter": "python",
   "pygments_lexer": "ipython3",
   "version": "3.7.6"
  }
 },
 "nbformat": 4,
 "nbformat_minor": 4
}
