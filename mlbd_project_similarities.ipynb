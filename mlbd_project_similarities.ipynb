{
 "cells": [
  {
   "cell_type": "markdown",
   "metadata": {},
   "source": [
    "# MLBD : Project on the music dataset\n",
    "\n",
    "The base subject is : Predicting a playlist that satisfies group members (e.g., to decide the music to play in a party). By playlist we mean a set of songs that can be from the same artist or multiple ones.\n",
    "\n",
    "Research questions : \n",
    "- How do we compute the metrics for similarity between user ?\n",
    "- What is the impact of the number of plays ?\n",
    "- What is the impact of the gender, age and country on the kind of music people are listening to ?\n",
    "- Not a question : Use the Spotify API to access to the genre, maybe. (using Spotipy)\n",
    "- See what we can get from the Spotify API !\n",
    "- Can we generate a music playlist for multiple users based on what they listened?"
   ]
  },
  {
   "cell_type": "markdown",
   "metadata": {},
   "source": [
    "### 1. Imports"
   ]
  },
  {
   "cell_type": "code",
   "execution_count": 2,
   "metadata": {},
   "outputs": [],
   "source": [
    "import numpy as np\n",
    "import pandas as pd\n",
    "import matplotlib.pyplot as plt\n",
    "import seaborn as sns"
   ]
  },
  {
   "cell_type": "markdown",
   "metadata": {},
   "source": [
    "### 2. Load the data"
   ]
  },
  {
   "cell_type": "code",
   "execution_count": 5,
   "metadata": {
    "jupyter": {
     "outputs_hidden": true
    }
   },
   "outputs": [
    {
     "name": "stderr",
     "output_type": "stream",
     "text": [
      "b'Skipping line 2120260: expected 6 fields, saw 8\\n'\n",
      "b'Skipping line 2446318: expected 6 fields, saw 8\\n'\n",
      "b'Skipping line 11141081: expected 6 fields, saw 8\\n'\n",
      "b'Skipping line 11152099: expected 6 fields, saw 12\\nSkipping line 11152402: expected 6 fields, saw 8\\n'\n",
      "b'Skipping line 11882087: expected 6 fields, saw 8\\n'\n",
      "b'Skipping line 12902539: expected 6 fields, saw 8\\nSkipping line 12935044: expected 6 fields, saw 8\\n'\n",
      "b'Skipping line 17589539: expected 6 fields, saw 8\\n'\n"
     ]
    }
   ],
   "source": [
    "DATA_FOLDER = 'data/'\n",
    "TOP_FOLDER = DATA_FOLDER + 'lastfm-dataset-360k/'\n",
    "TIMELINE_FOLDER = DATA_FOLDER + 'lastfm-dataset-1k/'\n",
    "\n",
    "top_user = pd.read_csv(TOP_FOLDER + 'usersha1-profile.tsv', sep = '\\t', error_bad_lines = False, header = None)\n",
    "top_data = pd.read_csv(TOP_FOLDER + 'usersha1-artmbid-artname-plays.tsv', sep = '\\t', error_bad_lines = False, header = None)\n",
    "\n",
    "timeline_user = pd.read_csv(TIMELINE_FOLDER + 'userid-profile.tsv', sep = '\\t', error_bad_lines = False, header = 0)\n",
    "timeline_data = pd.read_csv(TIMELINE_FOLDER + 'userid-timestamp-artid-artname-traid-traname.tsv', sep = '\\t', error_bad_lines = False, header = None)"
   ]
  },
  {
   "cell_type": "markdown",
   "metadata": {},
   "source": [
    "# EDA"
   ]
  },
  {
   "cell_type": "code",
   "execution_count": 6,
   "metadata": {},
   "outputs": [],
   "source": [
    "top_user.rename(columns = {0 : 'ID', 1 : 'Gender', 2 : 'Age', 3 : 'Country', 4 : 'Registered'}, inplace = True)\n",
    "top_data.rename(columns = {0 : 'ID', 1 : 'Artist_ID', 2 : 'Artist', 3 : 'Plays'}, inplace = True)\n",
    "timeline_user.rename(columns = {'#id' : 'ID', 'gender' : 'Gender', 'age' : 'Age', 'country' : 'Country', 'registered' : 'Registered'}, inplace = True)\n",
    "timeline_data.rename(columns = {0 : 'ID', 1 : 'Timestamp', 2 : 'Artist_ID', 3 : 'Artist', 4 : 'Track_ID', 5 : 'Track'}, inplace = True)"
   ]
  },
  {
   "cell_type": "code",
   "execution_count": 7,
   "metadata": {},
   "outputs": [
    {
     "name": "stdout",
     "output_type": "stream",
     "text": [
      "ID                0\n",
      "Gender        32775\n",
      "Age           74900\n",
      "Country           0\n",
      "Registered        0\n",
      "dtype: int64 \n",
      "\n",
      "ID                0\n",
      "Artist_ID    226137\n",
      "Artist          204\n",
      "Plays             0\n",
      "dtype: int64 \n",
      "\n",
      "ID              0\n",
      "Gender        108\n",
      "Age           706\n",
      "Country        85\n",
      "Registered      8\n",
      "dtype: int64 \n",
      "\n",
      "ID                 0\n",
      "Timestamp          0\n",
      "Artist_ID     600848\n",
      "Artist             0\n",
      "Track_ID     2162719\n",
      "Track             12\n",
      "dtype: int64\n"
     ]
    }
   ],
   "source": [
    "# we'll check the number of NaNs for each dataset\n",
    "print(top_user.isna().sum(), '\\n')\n",
    "print(top_data.isna().sum(), '\\n')\n",
    "print(timeline_user.isna().sum(), '\\n')\n",
    "print(timeline_data.isna().sum())"
   ]
  },
  {
   "cell_type": "code",
   "execution_count": 8,
   "metadata": {},
   "outputs": [],
   "source": [
    "top_merged = top_data.merge(top_user, left_on='ID', right_on='ID')\n",
    "top_merged = top_merged.drop(columns=['Artist_ID', 'Registered'])\n",
    "top_merged = top_merged.drop(top_merged[top_merged.isna().any(axis = 1)].index)"
   ]
  },
  {
   "cell_type": "code",
   "execution_count": 9,
   "metadata": {},
   "outputs": [],
   "source": [
    "# !!! it seems that we lose aproximetely 100k users by merging two datasets above. \n",
    "# But I guess we can't do anything with that, but probably it's good to mention it in eda ~rap\n",
    "\n",
    "# We decide to eliminate users, which have less than 6 favourite artists (as per Aleandro's advice)\n",
    "top_merged_IDs = top_merged.groupby(['ID']).size().reset_index()\n",
    "users_id = top_merged_IDs[top_merged_IDs[0] > 5]['ID']\n",
    "top_merged = top_merged[top_merged['ID'].isin(users_id)]"
   ]
  },
  {
   "cell_type": "code",
   "execution_count": 10,
   "metadata": {
    "scrolled": false
   },
   "outputs": [
    {
     "data": {
      "text/html": [
       "<div>\n",
       "<style scoped>\n",
       "    .dataframe tbody tr th:only-of-type {\n",
       "        vertical-align: middle;\n",
       "    }\n",
       "\n",
       "    .dataframe tbody tr th {\n",
       "        vertical-align: top;\n",
       "    }\n",
       "\n",
       "    .dataframe thead th {\n",
       "        text-align: right;\n",
       "    }\n",
       "</style>\n",
       "<table border=\"1\" class=\"dataframe\">\n",
       "  <thead>\n",
       "    <tr style=\"text-align: right;\">\n",
       "      <th></th>\n",
       "      <th>Artist</th>\n",
       "      <th>Sum of plays</th>\n",
       "    </tr>\n",
       "  </thead>\n",
       "  <tbody>\n",
       "    <tr>\n",
       "      <td>0</td>\n",
       "      <td>04)]</td>\n",
       "      <td>1</td>\n",
       "    </tr>\n",
       "    <tr>\n",
       "      <td>1</td>\n",
       "      <td>john mcdonough</td>\n",
       "      <td>1</td>\n",
       "    </tr>\n",
       "    <tr>\n",
       "      <td>2</td>\n",
       "      <td>john mcdaniel iii</td>\n",
       "      <td>1</td>\n",
       "    </tr>\n",
       "    <tr>\n",
       "      <td>3</td>\n",
       "      <td>john mcbain</td>\n",
       "      <td>1</td>\n",
       "    </tr>\n",
       "    <tr>\n",
       "      <td>4</td>\n",
       "      <td>john mcarthur</td>\n",
       "      <td>1</td>\n",
       "    </tr>\n",
       "    <tr>\n",
       "      <td>...</td>\n",
       "      <td>...</td>\n",
       "      <td>...</td>\n",
       "    </tr>\n",
       "    <tr>\n",
       "      <td>249789</td>\n",
       "      <td>muse</td>\n",
       "      <td>37313</td>\n",
       "    </tr>\n",
       "    <tr>\n",
       "      <td>249790</td>\n",
       "      <td>red hot chili peppers</td>\n",
       "      <td>38358</td>\n",
       "    </tr>\n",
       "    <tr>\n",
       "      <td>249791</td>\n",
       "      <td>coldplay</td>\n",
       "      <td>50624</td>\n",
       "    </tr>\n",
       "    <tr>\n",
       "      <td>249792</td>\n",
       "      <td>the beatles</td>\n",
       "      <td>57372</td>\n",
       "    </tr>\n",
       "    <tr>\n",
       "      <td>249793</td>\n",
       "      <td>radiohead</td>\n",
       "      <td>57700</td>\n",
       "    </tr>\n",
       "  </tbody>\n",
       "</table>\n",
       "<p>249794 rows × 2 columns</p>\n",
       "</div>"
      ],
      "text/plain": [
       "                       Artist  Sum of plays\n",
       "0                        04)]             1\n",
       "1              john mcdonough             1\n",
       "2           john mcdaniel iii             1\n",
       "3                 john mcbain             1\n",
       "4               john mcarthur             1\n",
       "...                       ...           ...\n",
       "249789                   muse         37313\n",
       "249790  red hot chili peppers         38358\n",
       "249791               coldplay         50624\n",
       "249792            the beatles         57372\n",
       "249793              radiohead         57700\n",
       "\n",
       "[249794 rows x 2 columns]"
      ]
     },
     "execution_count": 10,
     "metadata": {},
     "output_type": "execute_result"
    }
   ],
   "source": [
    "# we have almost 300k artists\n",
    "top_plays = top_merged.groupby(['Artist']).size().sort_values(ascending = True).reset_index(name = 'Sum of plays')\n",
    "# we check how many times an artist occurs in dataset\n",
    "top_plays"
   ]
  },
  {
   "cell_type": "code",
   "execution_count": 16,
   "metadata": {},
   "outputs": [],
   "source": [
    "# to reduce the dataset, we'll drop artists who were listened only by less than x users\n",
    "top_artists = top_plays[top_plays['Sum of plays'] > 1000]['Artist']\n",
    "top_merged = top_merged.loc[top_merged['Artist'].isin(top_artists)].reset_index().drop(columns = ['index'])"
   ]
  },
  {
   "cell_type": "code",
   "execution_count": 17,
   "metadata": {},
   "outputs": [
    {
     "data": {
      "text/plain": [
       "247646              los piratas\n",
       "247647     charlotte gainsbourg\n",
       "247648             edvard grieg\n",
       "247649          the wallflowers\n",
       "247650                    milow\n",
       "                  ...          \n",
       "249789                     muse\n",
       "249790    red hot chili peppers\n",
       "249791                 coldplay\n",
       "249792              the beatles\n",
       "249793                radiohead\n",
       "Name: Artist, Length: 2148, dtype: object"
      ]
     },
     "execution_count": 17,
     "metadata": {},
     "output_type": "execute_result"
    }
   ],
   "source": [
    "top_artists"
   ]
  },
  {
   "cell_type": "markdown",
   "metadata": {},
   "source": [
    "## Computing Prediction"
   ]
  },
  {
   "cell_type": "markdown",
   "metadata": {},
   "source": [
    "### Predicting only based on the user average listens\n",
    "\n",
    "Trivially predict the mean of the user: $\\large pred(u,i) = \\mu_{u} = \\sum_{k \\in I(u)} \\frac{Plays(u, k)}{|I(u)|}$\n",
    "\n",
    "where, $u$ is the usere we're making the prediction for, $i$ is the artist we want to predict the number of plays, $I(u)$ is the set of Artist the user has listened to.\n",
    "\n",
    "Have still to measure the performance ? How?"
   ]
  },
  {
   "cell_type": "code",
   "execution_count": 31,
   "metadata": {},
   "outputs": [
    {
     "data": {
      "text/html": [
       "<div>\n",
       "<style scoped>\n",
       "    .dataframe tbody tr th:only-of-type {\n",
       "        vertical-align: middle;\n",
       "    }\n",
       "\n",
       "    .dataframe tbody tr th {\n",
       "        vertical-align: top;\n",
       "    }\n",
       "\n",
       "    .dataframe thead th {\n",
       "        text-align: right;\n",
       "    }\n",
       "</style>\n",
       "<table border=\"1\" class=\"dataframe\">\n",
       "  <thead>\n",
       "    <tr style=\"text-align: right;\">\n",
       "      <th></th>\n",
       "      <th>ID</th>\n",
       "      <th>Artist</th>\n",
       "      <th>Plays</th>\n",
       "      <th>Gender</th>\n",
       "      <th>Age</th>\n",
       "      <th>Country</th>\n",
       "    </tr>\n",
       "  </thead>\n",
       "  <tbody>\n",
       "    <tr>\n",
       "      <td>0</td>\n",
       "      <td>00000c289a1829a808ac09c00daf10bc3c4e223b</td>\n",
       "      <td>betty blowtorch</td>\n",
       "      <td>2137</td>\n",
       "      <td>f</td>\n",
       "      <td>22.0</td>\n",
       "      <td>Germany</td>\n",
       "    </tr>\n",
       "    <tr>\n",
       "      <td>1</td>\n",
       "      <td>00000c289a1829a808ac09c00daf10bc3c4e223b</td>\n",
       "      <td>die Ärzte</td>\n",
       "      <td>1099</td>\n",
       "      <td>f</td>\n",
       "      <td>22.0</td>\n",
       "      <td>Germany</td>\n",
       "    </tr>\n",
       "    <tr>\n",
       "      <td>2</td>\n",
       "      <td>00000c289a1829a808ac09c00daf10bc3c4e223b</td>\n",
       "      <td>melissa etheridge</td>\n",
       "      <td>897</td>\n",
       "      <td>f</td>\n",
       "      <td>22.0</td>\n",
       "      <td>Germany</td>\n",
       "    </tr>\n",
       "    <tr>\n",
       "      <td>3</td>\n",
       "      <td>00000c289a1829a808ac09c00daf10bc3c4e223b</td>\n",
       "      <td>elvenking</td>\n",
       "      <td>717</td>\n",
       "      <td>f</td>\n",
       "      <td>22.0</td>\n",
       "      <td>Germany</td>\n",
       "    </tr>\n",
       "    <tr>\n",
       "      <td>4</td>\n",
       "      <td>00000c289a1829a808ac09c00daf10bc3c4e223b</td>\n",
       "      <td>juliette &amp; the licks</td>\n",
       "      <td>706</td>\n",
       "      <td>f</td>\n",
       "      <td>22.0</td>\n",
       "      <td>Germany</td>\n",
       "    </tr>\n",
       "  </tbody>\n",
       "</table>\n",
       "</div>"
      ],
      "text/plain": [
       "                                         ID                Artist  Plays  \\\n",
       "0  00000c289a1829a808ac09c00daf10bc3c4e223b       betty blowtorch   2137   \n",
       "1  00000c289a1829a808ac09c00daf10bc3c4e223b             die Ärzte   1099   \n",
       "2  00000c289a1829a808ac09c00daf10bc3c4e223b     melissa etheridge    897   \n",
       "3  00000c289a1829a808ac09c00daf10bc3c4e223b             elvenking    717   \n",
       "4  00000c289a1829a808ac09c00daf10bc3c4e223b  juliette & the licks    706   \n",
       "\n",
       "  Gender   Age  Country  \n",
       "0      f  22.0  Germany  \n",
       "1      f  22.0  Germany  \n",
       "2      f  22.0  Germany  \n",
       "3      f  22.0  Germany  \n",
       "4      f  22.0  Germany  "
      ]
     },
     "execution_count": 31,
     "metadata": {},
     "output_type": "execute_result"
    }
   ],
   "source": [
    "top_merged = top_data.merge(top_user, left_on='ID', right_on='ID')\n",
    "top_merged = top_merged.drop(columns=['Artist_ID', 'Registered'])\n",
    "top_merged = top_merged.drop(top_merged[top_merged.isna().any(axis = 1)].index)\n",
    "top_merged.head()"
   ]
  },
  {
   "cell_type": "code",
   "execution_count": 32,
   "metadata": {},
   "outputs": [],
   "source": [
    "users_plays = top_merged.groupby('ID')['Plays'].sum()\n",
    "users_with_n_listens = users_plays[users_plays > 2000] #Select only users that have played more than 2000 across all artists"
   ]
  },
  {
   "cell_type": "code",
   "execution_count": 33,
   "metadata": {},
   "outputs": [
    {
     "data": {
      "text/plain": [
       "ID\n",
       "00000c289a1829a808ac09c00daf10bc3c4e223b    16716\n",
       "00007a47085b9aab8af55f52ec8846ac479ac4fe     6115\n",
       "0000c176103e538d5c9828e695fed4f7ae42dd01    25424\n",
       "0000ee7dd906373efa37f4e1185bfe1e3f8695ae     7252\n",
       "0000ef373bbd0d89ce796abae961f2705e8c1faf     3240\n",
       "                                            ...  \n",
       "fffe7823f67b433b45f22056467db921c1d3d7d0     3224\n",
       "fffe8637bd8234309e871409c7ebef99a720afc1    11207\n",
       "fffe8c7f952d9b960a56ed4dcb40a415d924b224    11434\n",
       "ffff9af9ae04d263dae91cb838b1f3a6725f5ffb     5408\n",
       "ffff9ef87a7d9494ada2f9ade4b9ff637c0759ac     7440\n",
       "Name: Plays, Length: 216163, dtype: int64"
      ]
     },
     "execution_count": 33,
     "metadata": {},
     "output_type": "execute_result"
    }
   ],
   "source": [
    "users_with_n_listens"
   ]
  },
  {
   "cell_type": "code",
   "execution_count": 34,
   "metadata": {},
   "outputs": [],
   "source": [
    "top_users = top_merged.loc[top_merged['ID'].isin(users_with_n_listens.index)].reset_index()"
   ]
  },
  {
   "cell_type": "code",
   "execution_count": 35,
   "metadata": {},
   "outputs": [
    {
     "data": {
      "text/html": [
       "<div>\n",
       "<style scoped>\n",
       "    .dataframe tbody tr th:only-of-type {\n",
       "        vertical-align: middle;\n",
       "    }\n",
       "\n",
       "    .dataframe tbody tr th {\n",
       "        vertical-align: top;\n",
       "    }\n",
       "\n",
       "    .dataframe thead th {\n",
       "        text-align: right;\n",
       "    }\n",
       "</style>\n",
       "<table border=\"1\" class=\"dataframe\">\n",
       "  <thead>\n",
       "    <tr style=\"text-align: right;\">\n",
       "      <th></th>\n",
       "      <th>index</th>\n",
       "      <th>ID</th>\n",
       "      <th>Artist</th>\n",
       "      <th>Plays</th>\n",
       "      <th>Gender</th>\n",
       "      <th>Age</th>\n",
       "      <th>Country</th>\n",
       "    </tr>\n",
       "  </thead>\n",
       "  <tbody>\n",
       "    <tr>\n",
       "      <td>0</td>\n",
       "      <td>0</td>\n",
       "      <td>00000c289a1829a808ac09c00daf10bc3c4e223b</td>\n",
       "      <td>betty blowtorch</td>\n",
       "      <td>2137</td>\n",
       "      <td>f</td>\n",
       "      <td>22.0</td>\n",
       "      <td>Germany</td>\n",
       "    </tr>\n",
       "    <tr>\n",
       "      <td>1</td>\n",
       "      <td>1</td>\n",
       "      <td>00000c289a1829a808ac09c00daf10bc3c4e223b</td>\n",
       "      <td>die Ärzte</td>\n",
       "      <td>1099</td>\n",
       "      <td>f</td>\n",
       "      <td>22.0</td>\n",
       "      <td>Germany</td>\n",
       "    </tr>\n",
       "    <tr>\n",
       "      <td>2</td>\n",
       "      <td>2</td>\n",
       "      <td>00000c289a1829a808ac09c00daf10bc3c4e223b</td>\n",
       "      <td>melissa etheridge</td>\n",
       "      <td>897</td>\n",
       "      <td>f</td>\n",
       "      <td>22.0</td>\n",
       "      <td>Germany</td>\n",
       "    </tr>\n",
       "    <tr>\n",
       "      <td>3</td>\n",
       "      <td>3</td>\n",
       "      <td>00000c289a1829a808ac09c00daf10bc3c4e223b</td>\n",
       "      <td>elvenking</td>\n",
       "      <td>717</td>\n",
       "      <td>f</td>\n",
       "      <td>22.0</td>\n",
       "      <td>Germany</td>\n",
       "    </tr>\n",
       "    <tr>\n",
       "      <td>4</td>\n",
       "      <td>4</td>\n",
       "      <td>00000c289a1829a808ac09c00daf10bc3c4e223b</td>\n",
       "      <td>juliette &amp; the licks</td>\n",
       "      <td>706</td>\n",
       "      <td>f</td>\n",
       "      <td>22.0</td>\n",
       "      <td>Germany</td>\n",
       "    </tr>\n",
       "    <tr>\n",
       "      <td>...</td>\n",
       "      <td>...</td>\n",
       "      <td>...</td>\n",
       "      <td>...</td>\n",
       "      <td>...</td>\n",
       "      <td>...</td>\n",
       "      <td>...</td>\n",
       "      <td>...</td>\n",
       "    </tr>\n",
       "    <tr>\n",
       "      <td>10796591</td>\n",
       "      <td>17535564</td>\n",
       "      <td>ffff9ef87a7d9494ada2f9ade4b9ff637c0759ac</td>\n",
       "      <td>tristania</td>\n",
       "      <td>61</td>\n",
       "      <td>m</td>\n",
       "      <td>21.0</td>\n",
       "      <td>Belgium</td>\n",
       "    </tr>\n",
       "    <tr>\n",
       "      <td>10796592</td>\n",
       "      <td>17535565</td>\n",
       "      <td>ffff9ef87a7d9494ada2f9ade4b9ff637c0759ac</td>\n",
       "      <td>xandria</td>\n",
       "      <td>61</td>\n",
       "      <td>m</td>\n",
       "      <td>21.0</td>\n",
       "      <td>Belgium</td>\n",
       "    </tr>\n",
       "    <tr>\n",
       "      <td>10796593</td>\n",
       "      <td>17535566</td>\n",
       "      <td>ffff9ef87a7d9494ada2f9ade4b9ff637c0759ac</td>\n",
       "      <td>alice cooper</td>\n",
       "      <td>59</td>\n",
       "      <td>m</td>\n",
       "      <td>21.0</td>\n",
       "      <td>Belgium</td>\n",
       "    </tr>\n",
       "    <tr>\n",
       "      <td>10796594</td>\n",
       "      <td>17535567</td>\n",
       "      <td>ffff9ef87a7d9494ada2f9ade4b9ff637c0759ac</td>\n",
       "      <td>lamb of god</td>\n",
       "      <td>58</td>\n",
       "      <td>m</td>\n",
       "      <td>21.0</td>\n",
       "      <td>Belgium</td>\n",
       "    </tr>\n",
       "    <tr>\n",
       "      <td>10796595</td>\n",
       "      <td>17535568</td>\n",
       "      <td>ffff9ef87a7d9494ada2f9ade4b9ff637c0759ac</td>\n",
       "      <td>dragonforce</td>\n",
       "      <td>57</td>\n",
       "      <td>m</td>\n",
       "      <td>21.0</td>\n",
       "      <td>Belgium</td>\n",
       "    </tr>\n",
       "  </tbody>\n",
       "</table>\n",
       "<p>10796596 rows × 7 columns</p>\n",
       "</div>"
      ],
      "text/plain": [
       "             index                                        ID  \\\n",
       "0                0  00000c289a1829a808ac09c00daf10bc3c4e223b   \n",
       "1                1  00000c289a1829a808ac09c00daf10bc3c4e223b   \n",
       "2                2  00000c289a1829a808ac09c00daf10bc3c4e223b   \n",
       "3                3  00000c289a1829a808ac09c00daf10bc3c4e223b   \n",
       "4                4  00000c289a1829a808ac09c00daf10bc3c4e223b   \n",
       "...            ...                                       ...   \n",
       "10796591  17535564  ffff9ef87a7d9494ada2f9ade4b9ff637c0759ac   \n",
       "10796592  17535565  ffff9ef87a7d9494ada2f9ade4b9ff637c0759ac   \n",
       "10796593  17535566  ffff9ef87a7d9494ada2f9ade4b9ff637c0759ac   \n",
       "10796594  17535567  ffff9ef87a7d9494ada2f9ade4b9ff637c0759ac   \n",
       "10796595  17535568  ffff9ef87a7d9494ada2f9ade4b9ff637c0759ac   \n",
       "\n",
       "                        Artist  Plays Gender   Age  Country  \n",
       "0              betty blowtorch   2137      f  22.0  Germany  \n",
       "1                    die Ärzte   1099      f  22.0  Germany  \n",
       "2            melissa etheridge    897      f  22.0  Germany  \n",
       "3                    elvenking    717      f  22.0  Germany  \n",
       "4         juliette & the licks    706      f  22.0  Germany  \n",
       "...                        ...    ...    ...   ...      ...  \n",
       "10796591             tristania     61      m  21.0  Belgium  \n",
       "10796592               xandria     61      m  21.0  Belgium  \n",
       "10796593          alice cooper     59      m  21.0  Belgium  \n",
       "10796594           lamb of god     58      m  21.0  Belgium  \n",
       "10796595           dragonforce     57      m  21.0  Belgium  \n",
       "\n",
       "[10796596 rows x 7 columns]"
      ]
     },
     "execution_count": 35,
     "metadata": {},
     "output_type": "execute_result"
    }
   ],
   "source": [
    "top_users"
   ]
  },
  {
   "cell_type": "code",
   "execution_count": 41,
   "metadata": {},
   "outputs": [],
   "source": [
    "top_artists = top_plays[top_plays['Sum of plays'] > 500]['Artist']"
   ]
  },
  {
   "cell_type": "code",
   "execution_count": 42,
   "metadata": {},
   "outputs": [],
   "source": [
    "top = top_users.loc[top_users['Artist'].isin(top_artists)].reset_index().drop(columns = ['index'])"
   ]
  },
  {
   "cell_type": "code",
   "execution_count": 45,
   "metadata": {},
   "outputs": [],
   "source": [
    "pred_data = top.drop(columns = ['Gender', 'Age', 'Country']).copy()"
   ]
  },
  {
   "cell_type": "code",
   "execution_count": 46,
   "metadata": {},
   "outputs": [
    {
     "data": {
      "text/html": [
       "<div>\n",
       "<style scoped>\n",
       "    .dataframe tbody tr th:only-of-type {\n",
       "        vertical-align: middle;\n",
       "    }\n",
       "\n",
       "    .dataframe tbody tr th {\n",
       "        vertical-align: top;\n",
       "    }\n",
       "\n",
       "    .dataframe thead th {\n",
       "        text-align: right;\n",
       "    }\n",
       "</style>\n",
       "<table border=\"1\" class=\"dataframe\">\n",
       "  <thead>\n",
       "    <tr style=\"text-align: right;\">\n",
       "      <th></th>\n",
       "      <th>level_0</th>\n",
       "      <th>ID</th>\n",
       "      <th>Artist</th>\n",
       "      <th>Plays</th>\n",
       "    </tr>\n",
       "  </thead>\n",
       "  <tbody>\n",
       "    <tr>\n",
       "      <td>0</td>\n",
       "      <td>1</td>\n",
       "      <td>00000c289a1829a808ac09c00daf10bc3c4e223b</td>\n",
       "      <td>die Ärzte</td>\n",
       "      <td>1099</td>\n",
       "    </tr>\n",
       "    <tr>\n",
       "      <td>1</td>\n",
       "      <td>2</td>\n",
       "      <td>00000c289a1829a808ac09c00daf10bc3c4e223b</td>\n",
       "      <td>melissa etheridge</td>\n",
       "      <td>897</td>\n",
       "    </tr>\n",
       "    <tr>\n",
       "      <td>2</td>\n",
       "      <td>3</td>\n",
       "      <td>00000c289a1829a808ac09c00daf10bc3c4e223b</td>\n",
       "      <td>elvenking</td>\n",
       "      <td>717</td>\n",
       "    </tr>\n",
       "    <tr>\n",
       "      <td>3</td>\n",
       "      <td>5</td>\n",
       "      <td>00000c289a1829a808ac09c00daf10bc3c4e223b</td>\n",
       "      <td>red hot chili peppers</td>\n",
       "      <td>691</td>\n",
       "    </tr>\n",
       "    <tr>\n",
       "      <td>4</td>\n",
       "      <td>7</td>\n",
       "      <td>00000c289a1829a808ac09c00daf10bc3c4e223b</td>\n",
       "      <td>the black dahlia murder</td>\n",
       "      <td>507</td>\n",
       "    </tr>\n",
       "    <tr>\n",
       "      <td>...</td>\n",
       "      <td>...</td>\n",
       "      <td>...</td>\n",
       "      <td>...</td>\n",
       "      <td>...</td>\n",
       "    </tr>\n",
       "    <tr>\n",
       "      <td>7805496</td>\n",
       "      <td>10796591</td>\n",
       "      <td>ffff9ef87a7d9494ada2f9ade4b9ff637c0759ac</td>\n",
       "      <td>tristania</td>\n",
       "      <td>61</td>\n",
       "    </tr>\n",
       "    <tr>\n",
       "      <td>7805497</td>\n",
       "      <td>10796592</td>\n",
       "      <td>ffff9ef87a7d9494ada2f9ade4b9ff637c0759ac</td>\n",
       "      <td>xandria</td>\n",
       "      <td>61</td>\n",
       "    </tr>\n",
       "    <tr>\n",
       "      <td>7805498</td>\n",
       "      <td>10796593</td>\n",
       "      <td>ffff9ef87a7d9494ada2f9ade4b9ff637c0759ac</td>\n",
       "      <td>alice cooper</td>\n",
       "      <td>59</td>\n",
       "    </tr>\n",
       "    <tr>\n",
       "      <td>7805499</td>\n",
       "      <td>10796594</td>\n",
       "      <td>ffff9ef87a7d9494ada2f9ade4b9ff637c0759ac</td>\n",
       "      <td>lamb of god</td>\n",
       "      <td>58</td>\n",
       "    </tr>\n",
       "    <tr>\n",
       "      <td>7805500</td>\n",
       "      <td>10796595</td>\n",
       "      <td>ffff9ef87a7d9494ada2f9ade4b9ff637c0759ac</td>\n",
       "      <td>dragonforce</td>\n",
       "      <td>57</td>\n",
       "    </tr>\n",
       "  </tbody>\n",
       "</table>\n",
       "<p>7805501 rows × 4 columns</p>\n",
       "</div>"
      ],
      "text/plain": [
       "          level_0                                        ID  \\\n",
       "0               1  00000c289a1829a808ac09c00daf10bc3c4e223b   \n",
       "1               2  00000c289a1829a808ac09c00daf10bc3c4e223b   \n",
       "2               3  00000c289a1829a808ac09c00daf10bc3c4e223b   \n",
       "3               5  00000c289a1829a808ac09c00daf10bc3c4e223b   \n",
       "4               7  00000c289a1829a808ac09c00daf10bc3c4e223b   \n",
       "...           ...                                       ...   \n",
       "7805496  10796591  ffff9ef87a7d9494ada2f9ade4b9ff637c0759ac   \n",
       "7805497  10796592  ffff9ef87a7d9494ada2f9ade4b9ff637c0759ac   \n",
       "7805498  10796593  ffff9ef87a7d9494ada2f9ade4b9ff637c0759ac   \n",
       "7805499  10796594  ffff9ef87a7d9494ada2f9ade4b9ff637c0759ac   \n",
       "7805500  10796595  ffff9ef87a7d9494ada2f9ade4b9ff637c0759ac   \n",
       "\n",
       "                          Artist  Plays  \n",
       "0                      die Ärzte   1099  \n",
       "1              melissa etheridge    897  \n",
       "2                      elvenking    717  \n",
       "3          red hot chili peppers    691  \n",
       "4        the black dahlia murder    507  \n",
       "...                          ...    ...  \n",
       "7805496                tristania     61  \n",
       "7805497                  xandria     61  \n",
       "7805498             alice cooper     59  \n",
       "7805499              lamb of god     58  \n",
       "7805500              dragonforce     57  \n",
       "\n",
       "[7805501 rows x 4 columns]"
      ]
     },
     "execution_count": 46,
     "metadata": {},
     "output_type": "execute_result"
    }
   ],
   "source": [
    "pred_data"
   ]
  },
  {
   "cell_type": "code",
   "execution_count": null,
   "metadata": {},
   "outputs": [],
   "source": [
    "#Need to select how we reduce the dataset\n",
    "data_user_avg = pred_data.iloc[0:10000]"
   ]
  },
  {
   "cell_type": "code",
   "execution_count": null,
   "metadata": {},
   "outputs": [],
   "source": [
    "avg_listens = data_user_avg.groupby(\"ID\").mean('Plays').reset_index()"
   ]
  },
  {
   "cell_type": "code",
   "execution_count": null,
   "metadata": {},
   "outputs": [],
   "source": [
    "def compute_pred_avg_user(user, artist_i, avg_listens):\n",
    "    return int(avg_listens[avg_listens['ID'] == user]['Plays'])"
   ]
  },
  {
   "cell_type": "code",
   "execution_count": null,
   "metadata": {},
   "outputs": [],
   "source": [
    "user = data_user_avg.iloc[72]['ID']\n",
    "artists = \"the strokes\"\n",
    "compute_pred_avg_user(user, \"the strokes\", avg_listens)"
   ]
  },
  {
   "cell_type": "markdown",
   "metadata": {},
   "source": [
    "### Predicting only based on the artist average listens\n",
    "\n",
    "\n",
    "Trivially predict the mean of the artist for each user: $\\large pred(u,i) = \\mu_{i} =\\sum_{v \\in U(i)} \\frac{Plays(v,i)}{|U(i)|}$\n",
    "\n",
    "where $U(i)$ is the set of users that has listened artist i\n",
    "\n"
   ]
  },
  {
   "cell_type": "code",
   "execution_count": null,
   "metadata": {},
   "outputs": [],
   "source": [
    "#Need to select how we reduce the dataset\n",
    "data_artist_avg = pred_data.iloc[0:10000]"
   ]
  },
  {
   "cell_type": "code",
   "execution_count": null,
   "metadata": {},
   "outputs": [],
   "source": [
    "avg_artist_listens = data_artist_avg.groupby(\"Artist\").mean('Plays').reset_index()"
   ]
  },
  {
   "cell_type": "code",
   "execution_count": null,
   "metadata": {},
   "outputs": [],
   "source": [
    "def compute_pred_avg_artist(user, artist_i, avg_listens):\n",
    "    return int(avg_listens[avg_listens['Artist'] == artist_i]['Plays'])"
   ]
  },
  {
   "cell_type": "code",
   "execution_count": null,
   "metadata": {},
   "outputs": [],
   "source": [
    "user = data_artist_avg.iloc[72]['ID']\n",
    "artist = \"the strokes\"\n",
    "compute_pred_avg_artist(user, \"the strokes\", avg_artist_listens)"
   ]
  },
  {
   "cell_type": "markdown",
   "metadata": {},
   "source": [
    "###  Using User similarity\n",
    "\n",
    "**First idea**: Compute similarity based on Jaccard distance: Each user has a set of artist he has listened to.\n",
    "\n",
    "$\\large sim(u,v)$ = Jacc$(I(u), I(v))$ = $\\Large \\frac{|I(u) \\cap I(v)|}{|I(u) \\cup I(v)|}$\n",
    "\n",
    "Once we have this similarity, check if a new artist will be listened a lot by the user by comparing it to all the other users that have listened to him, this is the user-specific sum : \n",
    "\n",
    "$\\large p(u, i) = \\frac{\\sum_{v \\in U(i)} sim(u,v) \\cdot Plays(v,i)}{ \\sum_{v \\in U(i)} sim(u,v)}$\n",
    "\n",
    "where $U(i)$ is the set of users that have listened to the group $i$"
   ]
  },
  {
   "cell_type": "code",
   "execution_count": null,
   "metadata": {},
   "outputs": [],
   "source": [
    "#Replace data_similarity by the data we decide to use finally we ensure that each user has listened to at least one user\n",
    "data_similarity = pred_data.iloc[0:10000]"
   ]
  },
  {
   "cell_type": "code",
   "execution_count": null,
   "metadata": {},
   "outputs": [],
   "source": [
    "group = data_similarity[['ID','Artist']].groupby('ID').agg(set)\n",
    "matrice = np.zeros((len(group), len(group)))\n",
    "\n",
    "def compute_sim_users_artist(user_set):\n",
    "    matrice = np.zeros((len(user_set), len(user_set)))\n",
    "    mapping = {}\n",
    "    \n",
    "    for i in range(len(matrice)):\n",
    "        print(i)\n",
    "        mapping[user_set.iloc[i].name] = i\n",
    "        for j in range(i+1, len(matrice[i])):\n",
    "            matrice[i,j]=len((user_set.iloc[i].Artist.intersection(user_set.iloc[j].Artist)))/len(user_set.iloc[i].Artist.union(user_set.iloc[j].Artist))\n",
    "    return matrice, mapping"
   ]
  },
  {
   "cell_type": "code",
   "execution_count": null,
   "metadata": {},
   "outputs": [],
   "source": [
    "#Technique is too slow\n",
    "user_sim, mapping = compute_sim_users_artist(group)"
   ]
  },
  {
   "cell_type": "code",
   "execution_count": null,
   "metadata": {},
   "outputs": [],
   "source": [
    "len(user_sim)\n",
    "values = user_sim[np.where(user_sim != 0)]\n",
    "\n",
    "sns.histplot(values.flatten())\n",
    "plt.yscale(\"log\")\n",
    "plt.title(\"User non-zero similarity distribution\")"
   ]
  },
  {
   "cell_type": "code",
   "execution_count": null,
   "metadata": {},
   "outputs": [],
   "source": [
    "def compute_pred_sim_users(user, artist, user_has_artist, sim_matrix):\n",
    "    user_id = mapping[user]\n",
    "    num = 0\n",
    "    denom = 0\n",
    "    for i in user_has_artist:\n",
    "        \n",
    "        if mapping[i] < user_id: ## Our matrice of similarities is a upper triangular one\n",
    "            num += int(data_similarity[(data_similarity['Artist'] == artist)\n",
    "                               & (data_similarity['ID'] == i)]['Plays']) * sim_matrix[mapping[i], user_id]\n",
    "            denom += sim_matrix[mapping[i], user_id]\n",
    "        \n",
    "        else:\n",
    "            num += int(data_similarity[(data_similarity['Artist'] == artist)\n",
    "                               & (data_similarity['ID'] == i)]['Plays']) * sim_matrix[user_id, mapping[i]]\n",
    "            denom += sim_matrix[user_id, mapping[i]]\n",
    "        \n",
    "    if denom == 0:\n",
    "        return 0\n",
    "    else:\n",
    "        return int(num/denom)"
   ]
  },
  {
   "cell_type": "code",
   "execution_count": null,
   "metadata": {},
   "outputs": [],
   "source": [
    "user = data_similarity.iloc[72]['ID']\n",
    "artist = \"the strokes\"\n",
    "user_has_artist = set(data_similarity[(data_similarity['Artist'] == artist) & (data_similarity['ID'] != user)]['ID'])\n",
    "compute_pred_sim_users(user, artist, user_has_artist, user_sim)"
   ]
  },
  {
   "cell_type": "markdown",
   "metadata": {},
   "source": [
    "**Second idea**: Add user specific mean in the prediction\n",
    "\n",
    "Previously we do not consider at all the user, we just find the users that rate this item. We try to integrate this in this method:\n",
    "\n",
    "We will use the user-specific sum:\n",
    "$\\large \\tilde{u} =  \\frac{\\sum_{v \\in U(i)} sim(u,v) \\cdot (Plays(v,i) - \\mu_{v})}{ \\sum_{v \\in U(i)} sim(u,v)} $\n",
    "\n",
    "Then we compute: \n",
    "\n",
    "$\\large p(u, i) = \\mu_{u} + \\tilde{u} $\n"
   ]
  },
  {
   "cell_type": "code",
   "execution_count": null,
   "metadata": {},
   "outputs": [],
   "source": [
    "def compute_pred_user_item_with_matrix(user, artist, user_has_artist, sim_matrix):\n",
    "    user_id = mapping[user]\n",
    "    num = 0\n",
    "    denom = 0\n",
    "    for i in user_has_artist:\n",
    "        \n",
    "        if mapping[i] < user_id: ## Our matrice of similarities is a upper triangular one\n",
    "            num += (sim_matrix[mapping[i], user_id]) * int(data_similarity[(data_similarity['Artist'] == artist)\n",
    "                               & (data_similarity['ID'] == i)]['Plays'] - data_similarity[data_similarity['ID'] == i]['Plays'].mean())\n",
    "            \n",
    "            denom += sim_matrix[mapping[i], user_id]\n",
    "        \n",
    "        else:\n",
    "            num += sim_matrix[user_id, mapping[i]] * int(data_similarity[(data_similarity['Artist'] == artist)\n",
    "                               & (data_similarity['ID'] == i)]['Plays'] -  data_similarity[data_similarity['ID'] == i]['Plays'].mean()) \n",
    "            denom += sim_matrix[user_id, mapping[i]]\n",
    "        \n",
    "    if denom == 0:\n",
    "        return 0\n",
    "    else:\n",
    "        return  int(data_similarity[data_similarity['ID'] == user]['Plays'].mean() + num/denom)"
   ]
  },
  {
   "cell_type": "code",
   "execution_count": null,
   "metadata": {},
   "outputs": [],
   "source": [
    "user = data_similarity.iloc[9996]['ID']\n",
    "artist = \"david bowie\"\n",
    "user_has_artist = set(data_similarity[(data_similarity['Artist'] == artist) & (data_similarity['ID'] != user)]['ID'])\n",
    "\n",
    "compute_pred_user_item_with_matrix(user, artist, user_has_artist, user_sim)"
   ]
  },
  {
   "cell_type": "markdown",
   "metadata": {},
   "source": [
    "Second method that doesn't use similarity matrix (computes this value on the fly)"
   ]
  },
  {
   "cell_type": "code",
   "execution_count": null,
   "metadata": {},
   "outputs": [],
   "source": [
    "def compute_pred_user_item(user, artist, df):\n",
    "    user_artists = set(df[df['ID'] == user]['Artist'])\n",
    "    artist_has_user = set(df[(df['Artist'] == artist) & (df['ID'] != user)]['ID'])\n",
    "    \n",
    "    print(len(artist_has_user))\n",
    "    \n",
    "    num = 0\n",
    "    denom = 0\n",
    "    \n",
    "    for i, x in enumerate(artist_has_user):\n",
    "        user_i_artists = set(df[df['ID'] == x]['Artist'])\n",
    "        sim_with_i = len(user_artists.intersection(user_i_artists))/len(user_artists.union(user_i_artists))\n",
    "        \n",
    "        num += sim_with_i * (int(df[(df['ID'] == x) & (df['Artist'] == artist)]['Plays']) - int(df[df['ID'] == x]['Plays'].mean()))\n",
    "        denom += sim_with_i\n",
    "    \n",
    "    if denom == 0:\n",
    "        return df[df['ID'] == user]['Plays'].mean()\n",
    "    else:\n",
    "        return df[df['ID'] == user]['Plays'].mean() + num/denom\n",
    "    \n",
    "    \n",
    "    \n",
    "\n",
    "    "
   ]
  },
  {
   "cell_type": "code",
   "execution_count": null,
   "metadata": {},
   "outputs": [],
   "source": []
  },
  {
   "cell_type": "code",
   "execution_count": null,
   "metadata": {},
   "outputs": [],
   "source": []
  }
 ],
 "metadata": {
  "kernelspec": {
   "display_name": "Python 3",
   "language": "python",
   "name": "python3"
  },
  "language_info": {
   "codemirror_mode": {
    "name": "ipython",
    "version": 3
   },
   "file_extension": ".py",
   "mimetype": "text/x-python",
   "name": "python",
   "nbconvert_exporter": "python",
   "pygments_lexer": "ipython3",
   "version": "3.7.4"
  }
 },
 "nbformat": 4,
 "nbformat_minor": 4
}
