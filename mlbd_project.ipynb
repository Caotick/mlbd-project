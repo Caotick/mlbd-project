{
 "cells": [
  {
   "cell_type": "markdown",
   "metadata": {},
   "source": [
    "# MLBD : Project on the music dataset\n",
    "\n",
    "The base subject is : Predicting a playlist that satisfies group members (e.g., to decide the music to play in a party). By playlist we mean a set of songs that can be from the same artist or multiple ones.\n",
    "\n",
    "Research questions : \n",
    "- How do we compute the metrics for similarity between user ?\n",
    "- What is the impact of the number of plays ?\n",
    "- What is the impact of the gender, age and country on the kind of music people are listening to ?\n",
    "- Not a question : Use the Spotify API to access to the genre, maybe. (using Spotipy)\n",
    "- See what we can get from the Spotify API !\n",
    "- Can we generate a music playlist for multiple users based on what they listened?"
   ]
  },
  {
   "cell_type": "markdown",
   "metadata": {},
   "source": [
    "### 1. Imports"
   ]
  },
  {
   "cell_type": "code",
   "execution_count": 1,
   "metadata": {},
   "outputs": [],
   "source": [
    "import numpy as np\n",
    "import pandas as pd\n",
    "import matplotlib.pyplot as plt\n",
    "import seaborn as sns\n",
    "import spotipy\n",
    "from spotipy.oauth2 import SpotifyClientCredentials\n",
    "import credentials\n",
    "import ast"
   ]
  },
  {
   "cell_type": "code",
   "execution_count": 2,
   "metadata": {},
   "outputs": [],
   "source": [
    "sp = spotipy.Spotify(auth_manager = SpotifyClientCredentials(client_id = credentials.clientId, client_secret = credentials.clientSecret))"
   ]
  },
  {
   "cell_type": "markdown",
   "metadata": {},
   "source": [
    "### 2. Load the data"
   ]
  },
  {
   "cell_type": "code",
   "execution_count": 3,
   "metadata": {},
   "outputs": [
    {
     "name": "stderr",
     "output_type": "stream",
     "text": [
      "b'Skipping line 2120260: expected 6 fields, saw 8\\n'\n",
      "b'Skipping line 2446318: expected 6 fields, saw 8\\n'\n",
      "b'Skipping line 11141081: expected 6 fields, saw 8\\n'\n",
      "b'Skipping line 11152099: expected 6 fields, saw 12\\nSkipping line 11152402: expected 6 fields, saw 8\\n'\n",
      "b'Skipping line 11882087: expected 6 fields, saw 8\\n'\n",
      "b'Skipping line 12902539: expected 6 fields, saw 8\\nSkipping line 12935044: expected 6 fields, saw 8\\n'\n",
      "b'Skipping line 17589539: expected 6 fields, saw 8\\n'\n"
     ]
    }
   ],
   "source": [
    "DATA_FOLDER = 'data/'\n",
    "TOP_FOLDER = DATA_FOLDER + 'lastfm-dataset-360k/'\n",
    "TIMELINE_FOLDER = DATA_FOLDER + 'lastfm-dataset-1k/'\n",
    "\n",
    "top_user = pd.read_csv(TOP_FOLDER + 'usersha1-profile.tsv', sep = '\\t', error_bad_lines = False, header = None)\n",
    "top_data = pd.read_csv(TOP_FOLDER + 'usersha1-artmbid-artname-plays.tsv', sep = '\\t', error_bad_lines = False, header = None)\n",
    "\n",
    "timeline_user = pd.read_csv(TIMELINE_FOLDER + 'userid-profile.tsv', sep = '\\t', error_bad_lines = False, header = 0)\n",
    "timeline_data = pd.read_csv(TIMELINE_FOLDER + 'userid-timestamp-artid-artname-traid-traname.tsv', sep = '\\t', error_bad_lines = False, header = None)\n",
    "\n",
    "# This file was created using the data expansion done in part 4\n",
    "add_data = pd.read_csv(DATA_FOLDER + 'full_spotify_info.csv', error_bad_lines = False, header = 0)\n",
    "\n",
    "top_user.rename(columns = {0 : 'ID', 1 : 'Gender', 2 : 'Age', 3 : 'Country', 4 : 'Registered'}, inplace = True)\n",
    "top_data.rename(columns = {0 : 'ID', 1 : 'Artist_ID', 2 : 'Artist', 3 : 'Plays'}, inplace = True)\n",
    "timeline_user.rename(columns = {'#id' : 'ID', 'gender' : 'Gender', 'age' : 'Age', 'country' : 'Country', 'registered' : 'Registered'}, inplace = True)\n",
    "timeline_data.rename(columns = {0 : 'ID', 1 : 'Timestamp', 2 : 'Artist_ID', 3 : 'Artist', 4 : 'Track_ID', 5 : 'Track'}, inplace = True)"
   ]
  },
  {
   "cell_type": "markdown",
   "metadata": {},
   "source": [
    "# EDA"
   ]
  },
  {
   "cell_type": "code",
   "execution_count": 4,
   "metadata": {},
   "outputs": [
    {
     "name": "stdout",
     "output_type": "stream",
     "text": [
      "ID                0\n",
      "Gender        32775\n",
      "Age           74900\n",
      "Country           0\n",
      "Registered        0\n",
      "dtype: int64 \n",
      "\n",
      "ID                0\n",
      "Artist_ID    226137\n",
      "Artist          204\n",
      "Plays             0\n",
      "dtype: int64 \n",
      "\n",
      "ID              0\n",
      "Gender        108\n",
      "Age           706\n",
      "Country        85\n",
      "Registered      8\n",
      "dtype: int64 \n",
      "\n",
      "ID                 0\n",
      "Timestamp          0\n",
      "Artist_ID     600848\n",
      "Artist             0\n",
      "Track_ID     2162719\n",
      "Track             12\n",
      "dtype: int64\n"
     ]
    }
   ],
   "source": [
    "# we'll check the number of NaNs for each dataset\n",
    "print(top_user.isna().sum(), '\\n')\n",
    "print(top_data.isna().sum(), '\\n')\n",
    "print(timeline_user.isna().sum(), '\\n')\n",
    "print(timeline_data.isna().sum())"
   ]
  },
  {
   "cell_type": "code",
   "execution_count": 5,
   "metadata": {},
   "outputs": [
    {
     "name": "stdout",
     "output_type": "stream",
     "text": [
      "(359347, 5)\n"
     ]
    },
    {
     "data": {
      "text/html": [
       "<div>\n",
       "<style scoped>\n",
       "    .dataframe tbody tr th:only-of-type {\n",
       "        vertical-align: middle;\n",
       "    }\n",
       "\n",
       "    .dataframe tbody tr th {\n",
       "        vertical-align: top;\n",
       "    }\n",
       "\n",
       "    .dataframe thead th {\n",
       "        text-align: right;\n",
       "    }\n",
       "</style>\n",
       "<table border=\"1\" class=\"dataframe\">\n",
       "  <thead>\n",
       "    <tr style=\"text-align: right;\">\n",
       "      <th></th>\n",
       "      <th>ID</th>\n",
       "      <th>Gender</th>\n",
       "      <th>Age</th>\n",
       "      <th>Country</th>\n",
       "      <th>Registered</th>\n",
       "    </tr>\n",
       "  </thead>\n",
       "  <tbody>\n",
       "    <tr>\n",
       "      <td>0</td>\n",
       "      <td>00000c289a1829a808ac09c00daf10bc3c4e223b</td>\n",
       "      <td>f</td>\n",
       "      <td>22.0</td>\n",
       "      <td>Germany</td>\n",
       "      <td>Feb 1, 2007</td>\n",
       "    </tr>\n",
       "    <tr>\n",
       "      <td>1</td>\n",
       "      <td>00001411dc427966b17297bf4d69e7e193135d89</td>\n",
       "      <td>f</td>\n",
       "      <td>NaN</td>\n",
       "      <td>Canada</td>\n",
       "      <td>Dec 4, 2007</td>\n",
       "    </tr>\n",
       "    <tr>\n",
       "      <td>2</td>\n",
       "      <td>00004d2ac9316e22dc007ab2243d6fcb239e707d</td>\n",
       "      <td>NaN</td>\n",
       "      <td>NaN</td>\n",
       "      <td>Germany</td>\n",
       "      <td>Sep 1, 2006</td>\n",
       "    </tr>\n",
       "  </tbody>\n",
       "</table>\n",
       "</div>"
      ],
      "text/plain": [
       "                                         ID Gender   Age  Country   Registered\n",
       "0  00000c289a1829a808ac09c00daf10bc3c4e223b      f  22.0  Germany  Feb 1, 2007\n",
       "1  00001411dc427966b17297bf4d69e7e193135d89      f   NaN   Canada  Dec 4, 2007\n",
       "2  00004d2ac9316e22dc007ab2243d6fcb239e707d    NaN   NaN  Germany  Sep 1, 2006"
      ]
     },
     "execution_count": 5,
     "metadata": {},
     "output_type": "execute_result"
    }
   ],
   "source": [
    "print(top_user.shape)\n",
    "top_user.head(3)"
   ]
  },
  {
   "cell_type": "code",
   "execution_count": 6,
   "metadata": {
    "scrolled": true
   },
   "outputs": [
    {
     "name": "stdout",
     "output_type": "stream",
     "text": [
      "(17535655, 4)\n"
     ]
    },
    {
     "data": {
      "text/html": [
       "<div>\n",
       "<style scoped>\n",
       "    .dataframe tbody tr th:only-of-type {\n",
       "        vertical-align: middle;\n",
       "    }\n",
       "\n",
       "    .dataframe tbody tr th {\n",
       "        vertical-align: top;\n",
       "    }\n",
       "\n",
       "    .dataframe thead th {\n",
       "        text-align: right;\n",
       "    }\n",
       "</style>\n",
       "<table border=\"1\" class=\"dataframe\">\n",
       "  <thead>\n",
       "    <tr style=\"text-align: right;\">\n",
       "      <th></th>\n",
       "      <th>ID</th>\n",
       "      <th>Artist_ID</th>\n",
       "      <th>Artist</th>\n",
       "      <th>Plays</th>\n",
       "    </tr>\n",
       "  </thead>\n",
       "  <tbody>\n",
       "    <tr>\n",
       "      <td>0</td>\n",
       "      <td>00000c289a1829a808ac09c00daf10bc3c4e223b</td>\n",
       "      <td>3bd73256-3905-4f3a-97e2-8b341527f805</td>\n",
       "      <td>betty blowtorch</td>\n",
       "      <td>2137</td>\n",
       "    </tr>\n",
       "    <tr>\n",
       "      <td>1</td>\n",
       "      <td>00000c289a1829a808ac09c00daf10bc3c4e223b</td>\n",
       "      <td>f2fb0ff0-5679-42ec-a55c-15109ce6e320</td>\n",
       "      <td>die Ärzte</td>\n",
       "      <td>1099</td>\n",
       "    </tr>\n",
       "    <tr>\n",
       "      <td>2</td>\n",
       "      <td>00000c289a1829a808ac09c00daf10bc3c4e223b</td>\n",
       "      <td>b3ae82c2-e60b-4551-a76d-6620f1b456aa</td>\n",
       "      <td>melissa etheridge</td>\n",
       "      <td>897</td>\n",
       "    </tr>\n",
       "  </tbody>\n",
       "</table>\n",
       "</div>"
      ],
      "text/plain": [
       "                                         ID  \\\n",
       "0  00000c289a1829a808ac09c00daf10bc3c4e223b   \n",
       "1  00000c289a1829a808ac09c00daf10bc3c4e223b   \n",
       "2  00000c289a1829a808ac09c00daf10bc3c4e223b   \n",
       "\n",
       "                              Artist_ID             Artist  Plays  \n",
       "0  3bd73256-3905-4f3a-97e2-8b341527f805    betty blowtorch   2137  \n",
       "1  f2fb0ff0-5679-42ec-a55c-15109ce6e320          die Ärzte   1099  \n",
       "2  b3ae82c2-e60b-4551-a76d-6620f1b456aa  melissa etheridge    897  "
      ]
     },
     "execution_count": 6,
     "metadata": {},
     "output_type": "execute_result"
    }
   ],
   "source": [
    "print(top_data.shape)\n",
    "top_data.head(3)"
   ]
  },
  {
   "cell_type": "code",
   "execution_count": 7,
   "metadata": {},
   "outputs": [],
   "source": [
    "top_merged = top_data.merge(top_user, left_on='ID', right_on='ID')\n",
    "top_merged = top_merged.drop(columns=['Artist_ID', 'Registered'])\n",
    "top_merged = top_merged.drop(top_merged[top_merged.isna().any(axis = 1)].index)"
   ]
  },
  {
   "cell_type": "code",
   "execution_count": 8,
   "metadata": {},
   "outputs": [],
   "source": [
    "# !!! it seems that we lose aproximetely 100k users by merging two datasets above. \n",
    "# But I guess we can't do anything with that, but probably it's good to mention it in eda ~rap\n",
    "\n",
    "# We decide to eliminate users, which have less than 6 favourite artists (as per Aleandro's advice)\n",
    "top_merged_IDs = top_merged.groupby(['ID']).size().reset_index()\n",
    "users_id = top_merged_IDs[top_merged_IDs[0] > 5]['ID']\n",
    "top_merged = top_merged[top_merged['ID'].isin(users_id)]"
   ]
  },
  {
   "cell_type": "code",
   "execution_count": 9,
   "metadata": {},
   "outputs": [
    {
     "data": {
      "text/html": [
       "<div>\n",
       "<style scoped>\n",
       "    .dataframe tbody tr th:only-of-type {\n",
       "        vertical-align: middle;\n",
       "    }\n",
       "\n",
       "    .dataframe tbody tr th {\n",
       "        vertical-align: top;\n",
       "    }\n",
       "\n",
       "    .dataframe thead th {\n",
       "        text-align: right;\n",
       "    }\n",
       "</style>\n",
       "<table border=\"1\" class=\"dataframe\">\n",
       "  <thead>\n",
       "    <tr style=\"text-align: right;\">\n",
       "      <th></th>\n",
       "      <th>Artist</th>\n",
       "      <th>Sum of occurances</th>\n",
       "    </tr>\n",
       "  </thead>\n",
       "  <tbody>\n",
       "    <tr>\n",
       "      <td>0</td>\n",
       "      <td>04)]</td>\n",
       "      <td>1</td>\n",
       "    </tr>\n",
       "    <tr>\n",
       "      <td>1</td>\n",
       "      <td>john p  kee</td>\n",
       "      <td>1</td>\n",
       "    </tr>\n",
       "    <tr>\n",
       "      <td>2</td>\n",
       "      <td>john o’callaghan ft. jaren</td>\n",
       "      <td>1</td>\n",
       "    </tr>\n",
       "    <tr>\n",
       "      <td>3</td>\n",
       "      <td>john oneil</td>\n",
       "      <td>1</td>\n",
       "    </tr>\n",
       "    <tr>\n",
       "      <td>4</td>\n",
       "      <td>john olav nilsen</td>\n",
       "      <td>1</td>\n",
       "    </tr>\n",
       "    <tr>\n",
       "      <td>...</td>\n",
       "      <td>...</td>\n",
       "      <td>...</td>\n",
       "    </tr>\n",
       "    <tr>\n",
       "      <td>249789</td>\n",
       "      <td>metallica</td>\n",
       "      <td>2567</td>\n",
       "    </tr>\n",
       "    <tr>\n",
       "      <td>249790</td>\n",
       "      <td>pink floyd</td>\n",
       "      <td>2568</td>\n",
       "    </tr>\n",
       "    <tr>\n",
       "      <td>249791</td>\n",
       "      <td>nine inch nails</td>\n",
       "      <td>2600</td>\n",
       "    </tr>\n",
       "    <tr>\n",
       "      <td>249792</td>\n",
       "      <td>radiohead</td>\n",
       "      <td>2979</td>\n",
       "    </tr>\n",
       "    <tr>\n",
       "      <td>249793</td>\n",
       "      <td>the beatles</td>\n",
       "      <td>3260</td>\n",
       "    </tr>\n",
       "  </tbody>\n",
       "</table>\n",
       "<p>249794 rows × 2 columns</p>\n",
       "</div>"
      ],
      "text/plain": [
       "                            Artist  Sum of occurances\n",
       "0                             04)]                  1\n",
       "1                      john p  kee                  1\n",
       "2       john o’callaghan ft. jaren                  1\n",
       "3                       john oneil                  1\n",
       "4                 john olav nilsen                  1\n",
       "...                            ...                ...\n",
       "249789                   metallica               2567\n",
       "249790                  pink floyd               2568\n",
       "249791             nine inch nails               2600\n",
       "249792                   radiohead               2979\n",
       "249793                 the beatles               3260\n",
       "\n",
       "[249794 rows x 2 columns]"
      ]
     },
     "execution_count": 9,
     "metadata": {},
     "output_type": "execute_result"
    }
   ],
   "source": [
    "# we have almost 300k artists\n",
    "top = top_merged.groupby(['Artist', 'Plays']).size().reset_index()\n",
    "# we check how many times an artist occurs in dataset\n",
    "artists_occ = top.groupby('Artist').size().sort_values(ascending = True).reset_index(name = 'Sum of occurances')\n",
    "artists_occ"
   ]
  },
  {
   "cell_type": "code",
   "execution_count": 10,
   "metadata": {},
   "outputs": [],
   "source": [
    "# to reduce the dataset, we'll drop artists who were listened only by less than x users\n",
    "top_artists = artists_occ[artists_occ['Sum of occurances'] > 1000]['Artist']\n",
    "top_merged = top_merged.loc[top_merged['Artist'].isin(top_artists)].reset_index().drop(columns = ['index'])"
   ]
  },
  {
   "cell_type": "code",
   "execution_count": 12,
   "metadata": {},
   "outputs": [],
   "source": [
    "top_merged = top_merged.drop(columns=['ID'])\n",
    "columns_merged = ['Artist', 'Gender', 'Country']\n",
    "\n",
    "for col in columns_merged:\n",
    "    top_merged = top_merged.replace(to_replace=top_merged[col].unique(), value=np.arange(top_merged[col].unique().shape[0]))\n",
    "top_merged = top_merged.astype('int32')"
   ]
  },
  {
   "cell_type": "code",
   "execution_count": 13,
   "metadata": {},
   "outputs": [
    {
     "data": {
      "text/html": [
       "<div>\n",
       "<style scoped>\n",
       "    .dataframe tbody tr th:only-of-type {\n",
       "        vertical-align: middle;\n",
       "    }\n",
       "\n",
       "    .dataframe tbody tr th {\n",
       "        vertical-align: top;\n",
       "    }\n",
       "\n",
       "    .dataframe thead th {\n",
       "        text-align: right;\n",
       "    }\n",
       "</style>\n",
       "<table border=\"1\" class=\"dataframe\">\n",
       "  <thead>\n",
       "    <tr style=\"text-align: right;\">\n",
       "      <th></th>\n",
       "      <th>Artist</th>\n",
       "      <th>Plays</th>\n",
       "      <th>Gender</th>\n",
       "      <th>Age</th>\n",
       "      <th>Country</th>\n",
       "    </tr>\n",
       "  </thead>\n",
       "  <tbody>\n",
       "    <tr>\n",
       "      <td>Artist</td>\n",
       "      <td>1.000000</td>\n",
       "      <td>-0.002203</td>\n",
       "      <td>-0.014845</td>\n",
       "      <td>-0.007306</td>\n",
       "      <td>-0.011223</td>\n",
       "    </tr>\n",
       "    <tr>\n",
       "      <td>Plays</td>\n",
       "      <td>-0.002203</td>\n",
       "      <td>1.000000</td>\n",
       "      <td>0.029597</td>\n",
       "      <td>-0.010733</td>\n",
       "      <td>-0.010402</td>\n",
       "    </tr>\n",
       "    <tr>\n",
       "      <td>Gender</td>\n",
       "      <td>-0.014845</td>\n",
       "      <td>0.029597</td>\n",
       "      <td>1.000000</td>\n",
       "      <td>0.054026</td>\n",
       "      <td>-0.002794</td>\n",
       "    </tr>\n",
       "    <tr>\n",
       "      <td>Age</td>\n",
       "      <td>-0.007306</td>\n",
       "      <td>-0.010733</td>\n",
       "      <td>0.054026</td>\n",
       "      <td>1.000000</td>\n",
       "      <td>-0.006493</td>\n",
       "    </tr>\n",
       "    <tr>\n",
       "      <td>Country</td>\n",
       "      <td>-0.011223</td>\n",
       "      <td>-0.010402</td>\n",
       "      <td>-0.002794</td>\n",
       "      <td>-0.006493</td>\n",
       "      <td>1.000000</td>\n",
       "    </tr>\n",
       "  </tbody>\n",
       "</table>\n",
       "</div>"
      ],
      "text/plain": [
       "           Artist     Plays    Gender       Age   Country\n",
       "Artist   1.000000 -0.002203 -0.014845 -0.007306 -0.011223\n",
       "Plays   -0.002203  1.000000  0.029597 -0.010733 -0.010402\n",
       "Gender  -0.014845  0.029597  1.000000  0.054026 -0.002794\n",
       "Age     -0.007306 -0.010733  0.054026  1.000000 -0.006493\n",
       "Country -0.011223 -0.010402 -0.002794 -0.006493  1.000000"
      ]
     },
     "execution_count": 13,
     "metadata": {},
     "output_type": "execute_result"
    }
   ],
   "source": [
    "normalized_top_merged = (top_merged - top_merged.mean()) / top_merged.std()\n",
    "normalized_top_merged.corr()"
   ]
  },
  {
   "cell_type": "code",
   "execution_count": 14,
   "metadata": {},
   "outputs": [
    {
     "name": "stdout",
     "output_type": "stream",
     "text": [
      "(992, 5)\n"
     ]
    },
    {
     "data": {
      "text/html": [
       "<div>\n",
       "<style scoped>\n",
       "    .dataframe tbody tr th:only-of-type {\n",
       "        vertical-align: middle;\n",
       "    }\n",
       "\n",
       "    .dataframe tbody tr th {\n",
       "        vertical-align: top;\n",
       "    }\n",
       "\n",
       "    .dataframe thead th {\n",
       "        text-align: right;\n",
       "    }\n",
       "</style>\n",
       "<table border=\"1\" class=\"dataframe\">\n",
       "  <thead>\n",
       "    <tr style=\"text-align: right;\">\n",
       "      <th></th>\n",
       "      <th>ID</th>\n",
       "      <th>Gender</th>\n",
       "      <th>Age</th>\n",
       "      <th>Country</th>\n",
       "      <th>Registered</th>\n",
       "    </tr>\n",
       "  </thead>\n",
       "  <tbody>\n",
       "    <tr>\n",
       "      <td>0</td>\n",
       "      <td>user_000001</td>\n",
       "      <td>m</td>\n",
       "      <td>NaN</td>\n",
       "      <td>Japan</td>\n",
       "      <td>Aug 13, 2006</td>\n",
       "    </tr>\n",
       "    <tr>\n",
       "      <td>1</td>\n",
       "      <td>user_000002</td>\n",
       "      <td>f</td>\n",
       "      <td>NaN</td>\n",
       "      <td>Peru</td>\n",
       "      <td>Feb 24, 2006</td>\n",
       "    </tr>\n",
       "    <tr>\n",
       "      <td>2</td>\n",
       "      <td>user_000003</td>\n",
       "      <td>m</td>\n",
       "      <td>22.0</td>\n",
       "      <td>United States</td>\n",
       "      <td>Oct 30, 2005</td>\n",
       "    </tr>\n",
       "  </tbody>\n",
       "</table>\n",
       "</div>"
      ],
      "text/plain": [
       "            ID Gender   Age        Country    Registered\n",
       "0  user_000001      m   NaN          Japan  Aug 13, 2006\n",
       "1  user_000002      f   NaN           Peru  Feb 24, 2006\n",
       "2  user_000003      m  22.0  United States  Oct 30, 2005"
      ]
     },
     "execution_count": 14,
     "metadata": {},
     "output_type": "execute_result"
    }
   ],
   "source": [
    "print(timeline_user.shape)\n",
    "timeline_user.head(3)"
   ]
  },
  {
   "cell_type": "code",
   "execution_count": 15,
   "metadata": {},
   "outputs": [
    {
     "name": "stdout",
     "output_type": "stream",
     "text": [
      "(19098853, 6)\n"
     ]
    },
    {
     "data": {
      "text/html": [
       "<div>\n",
       "<style scoped>\n",
       "    .dataframe tbody tr th:only-of-type {\n",
       "        vertical-align: middle;\n",
       "    }\n",
       "\n",
       "    .dataframe tbody tr th {\n",
       "        vertical-align: top;\n",
       "    }\n",
       "\n",
       "    .dataframe thead th {\n",
       "        text-align: right;\n",
       "    }\n",
       "</style>\n",
       "<table border=\"1\" class=\"dataframe\">\n",
       "  <thead>\n",
       "    <tr style=\"text-align: right;\">\n",
       "      <th></th>\n",
       "      <th>ID</th>\n",
       "      <th>Timestamp</th>\n",
       "      <th>Artist_ID</th>\n",
       "      <th>Artist</th>\n",
       "      <th>Track_ID</th>\n",
       "      <th>Track</th>\n",
       "    </tr>\n",
       "  </thead>\n",
       "  <tbody>\n",
       "    <tr>\n",
       "      <td>0</td>\n",
       "      <td>user_000001</td>\n",
       "      <td>2009-05-04T23:08:57Z</td>\n",
       "      <td>f1b1cf71-bd35-4e99-8624-24a6e15f133a</td>\n",
       "      <td>Deep Dish</td>\n",
       "      <td>NaN</td>\n",
       "      <td>Fuck Me Im Famous (Pacha Ibiza)-09-28-2007</td>\n",
       "    </tr>\n",
       "    <tr>\n",
       "      <td>1</td>\n",
       "      <td>user_000001</td>\n",
       "      <td>2009-05-04T13:54:10Z</td>\n",
       "      <td>a7f7df4a-77d8-4f12-8acd-5c60c93f4de8</td>\n",
       "      <td>坂本龍一</td>\n",
       "      <td>NaN</td>\n",
       "      <td>Composition 0919 (Live_2009_4_15)</td>\n",
       "    </tr>\n",
       "    <tr>\n",
       "      <td>2</td>\n",
       "      <td>user_000001</td>\n",
       "      <td>2009-05-04T13:52:04Z</td>\n",
       "      <td>a7f7df4a-77d8-4f12-8acd-5c60c93f4de8</td>\n",
       "      <td>坂本龍一</td>\n",
       "      <td>NaN</td>\n",
       "      <td>Mc2 (Live_2009_4_15)</td>\n",
       "    </tr>\n",
       "  </tbody>\n",
       "</table>\n",
       "</div>"
      ],
      "text/plain": [
       "            ID             Timestamp                             Artist_ID  \\\n",
       "0  user_000001  2009-05-04T23:08:57Z  f1b1cf71-bd35-4e99-8624-24a6e15f133a   \n",
       "1  user_000001  2009-05-04T13:54:10Z  a7f7df4a-77d8-4f12-8acd-5c60c93f4de8   \n",
       "2  user_000001  2009-05-04T13:52:04Z  a7f7df4a-77d8-4f12-8acd-5c60c93f4de8   \n",
       "\n",
       "      Artist Track_ID                                       Track  \n",
       "0  Deep Dish      NaN  Fuck Me Im Famous (Pacha Ibiza)-09-28-2007  \n",
       "1       坂本龍一      NaN           Composition 0919 (Live_2009_4_15)  \n",
       "2       坂本龍一      NaN                        Mc2 (Live_2009_4_15)  "
      ]
     },
     "execution_count": 15,
     "metadata": {},
     "output_type": "execute_result"
    }
   ],
   "source": [
    "print(timeline_data.shape)\n",
    "timeline_data.head(3)"
   ]
  },
  {
   "cell_type": "code",
   "execution_count": 16,
   "metadata": {},
   "outputs": [
    {
     "data": {
      "text/html": [
       "<div>\n",
       "<style scoped>\n",
       "    .dataframe tbody tr th:only-of-type {\n",
       "        vertical-align: middle;\n",
       "    }\n",
       "\n",
       "    .dataframe tbody tr th {\n",
       "        vertical-align: top;\n",
       "    }\n",
       "\n",
       "    .dataframe thead th {\n",
       "        text-align: right;\n",
       "    }\n",
       "</style>\n",
       "<table border=\"1\" class=\"dataframe\">\n",
       "  <thead>\n",
       "    <tr style=\"text-align: right;\">\n",
       "      <th></th>\n",
       "      <th>ID</th>\n",
       "      <th>Timestamp</th>\n",
       "      <th>Artist</th>\n",
       "      <th>Track</th>\n",
       "      <th>Gender</th>\n",
       "      <th>Age</th>\n",
       "      <th>Country</th>\n",
       "      <th>Registered</th>\n",
       "    </tr>\n",
       "  </thead>\n",
       "  <tbody>\n",
       "    <tr>\n",
       "      <td>74123</td>\n",
       "      <td>user_000003</td>\n",
       "      <td>2009-05-04T10:29:04Z</td>\n",
       "      <td>Samuli Kemppi</td>\n",
       "      <td>Samuli Kemppi - January 2009</td>\n",
       "      <td>m</td>\n",
       "      <td>22.0</td>\n",
       "      <td>United States</td>\n",
       "      <td>Oct 30, 2005</td>\n",
       "    </tr>\n",
       "    <tr>\n",
       "      <td>74124</td>\n",
       "      <td>user_000003</td>\n",
       "      <td>2009-04-21T16:56:35Z</td>\n",
       "      <td>Dirt Nasty</td>\n",
       "      <td>True Hollywood Story</td>\n",
       "      <td>m</td>\n",
       "      <td>22.0</td>\n",
       "      <td>United States</td>\n",
       "      <td>Oct 30, 2005</td>\n",
       "    </tr>\n",
       "    <tr>\n",
       "      <td>74125</td>\n",
       "      <td>user_000003</td>\n",
       "      <td>2009-04-21T16:47:11Z</td>\n",
       "      <td>Dirt Nasty</td>\n",
       "      <td>Gotta Leave This Town</td>\n",
       "      <td>m</td>\n",
       "      <td>22.0</td>\n",
       "      <td>United States</td>\n",
       "      <td>Oct 30, 2005</td>\n",
       "    </tr>\n",
       "  </tbody>\n",
       "</table>\n",
       "</div>"
      ],
      "text/plain": [
       "                ID             Timestamp         Artist  \\\n",
       "74123  user_000003  2009-05-04T10:29:04Z  Samuli Kemppi   \n",
       "74124  user_000003  2009-04-21T16:56:35Z     Dirt Nasty   \n",
       "74125  user_000003  2009-04-21T16:47:11Z     Dirt Nasty   \n",
       "\n",
       "                              Track Gender   Age        Country    Registered  \n",
       "74123  Samuli Kemppi - January 2009      m  22.0  United States  Oct 30, 2005  \n",
       "74124          True Hollywood Story      m  22.0  United States  Oct 30, 2005  \n",
       "74125         Gotta Leave This Town      m  22.0  United States  Oct 30, 2005  "
      ]
     },
     "execution_count": 16,
     "metadata": {},
     "output_type": "execute_result"
    }
   ],
   "source": [
    "timeline_merged = timeline_data.merge(timeline_user, left_on = 'ID', right_on= 'ID')\n",
    "timeline_merged = timeline_merged.drop(columns = ['Artist_ID', 'Track_ID'])\n",
    "timeline_merged = timeline_merged.drop(timeline_merged[timeline_merged.isna().any(axis = 1)].index)\n",
    "timeline_merged.head(3)"
   ]
  },
  {
   "cell_type": "markdown",
   "metadata": {},
   "source": [
    "### 3. Analysis"
   ]
  },
  {
   "cell_type": "code",
   "execution_count": 17,
   "metadata": {},
   "outputs": [],
   "source": [
    "max_track = timeline_data.groupby(['ID', 'Track', 'Artist']).count()['Timestamp'].sort_values().groupby(level = 0).tail(1)"
   ]
  },
  {
   "cell_type": "code",
   "execution_count": 18,
   "metadata": {},
   "outputs": [
    {
     "data": {
      "image/png": "[encoded data removed]",
      "text/plain": [
       "<Figure size 936x360 with 1 Axes>"
      ]
     },
     "metadata": {
      "needs_background": "light"
     },
     "output_type": "display_data"
    }
   ],
   "source": [
    "max_track.reset_index().hist(bins = 100, figsize = (13, 5))\n",
    "plt.yscale('log')\n",
    "plt.title('Maximal number of times that users listened to the same track')\n",
    "plt.xlabel('Number of times the same track was listened to')\n",
    "plt.ylabel('Number of users')\n",
    "_ = plt.xticks(range(0, 2200, 200))"
   ]
  },
  {
   "cell_type": "markdown",
   "metadata": {},
   "source": [
    "We can observe that most people did not listen to the same song for more than 200 times, with a big chunk of it found under 100."
   ]
  },
  {
   "cell_type": "code",
   "execution_count": 19,
   "metadata": {},
   "outputs": [],
   "source": [
    "max_top = top_data.groupby(['ID'])['Plays'].max()"
   ]
  },
  {
   "cell_type": "code",
   "execution_count": 20,
   "metadata": {},
   "outputs": [
    {
     "data": {
      "text/plain": [
       "Text(0, 0.5, 'Number of users')"
      ]
     },
     "execution_count": 20,
     "metadata": {},
     "output_type": "execute_result"
    },
    {
     "data": {
      "image/png": "[encoded data removed]",
      "text/plain": [
       "<Figure size 936x360 with 1 Axes>"
      ]
     },
     "metadata": {
      "needs_background": "light"
     },
     "output_type": "display_data"
    }
   ],
   "source": [
    "max_top.reset_index().hist(bins = 100, figsize = (13, 5))\n",
    "plt.yscale('log')\n",
    "plt.title('Number of plays for most listened artist per user')\n",
    "plt.xlabel('Number of plays')\n",
    "plt.ylabel('Number of users')"
   ]
  },
  {
   "cell_type": "code",
   "execution_count": 21,
   "metadata": {},
   "outputs": [
    {
     "data": {
      "text/plain": [
       "419157"
      ]
     },
     "execution_count": 21,
     "metadata": {},
     "output_type": "execute_result"
    }
   ],
   "source": [
    "top_data['Plays'].max()"
   ]
  },
  {
   "cell_type": "code",
   "execution_count": 22,
   "metadata": {},
   "outputs": [
    {
     "data": {
      "text/html": [
       "<div>\n",
       "<style scoped>\n",
       "    .dataframe tbody tr th:only-of-type {\n",
       "        vertical-align: middle;\n",
       "    }\n",
       "\n",
       "    .dataframe tbody tr th {\n",
       "        vertical-align: top;\n",
       "    }\n",
       "\n",
       "    .dataframe thead th {\n",
       "        text-align: right;\n",
       "    }\n",
       "</style>\n",
       "<table border=\"1\" class=\"dataframe\">\n",
       "  <thead>\n",
       "    <tr style=\"text-align: right;\">\n",
       "      <th></th>\n",
       "      <th>ID</th>\n",
       "      <th>Artist_ID</th>\n",
       "      <th>Artist</th>\n",
       "      <th>Plays</th>\n",
       "    </tr>\n",
       "  </thead>\n",
       "  <tbody>\n",
       "    <tr>\n",
       "      <td>9654928</td>\n",
       "      <td>8d0384537845e7f2b1b8b3e8a9f67eb8d9439794</td>\n",
       "      <td>dcaa4f81-bfb7-44eb-8594-4e74f004b6e4</td>\n",
       "      <td>nofx</td>\n",
       "      <td>419157</td>\n",
       "    </tr>\n",
       "  </tbody>\n",
       "</table>\n",
       "</div>"
      ],
      "text/plain": [
       "                                               ID  \\\n",
       "9654928  8d0384537845e7f2b1b8b3e8a9f67eb8d9439794   \n",
       "\n",
       "                                    Artist_ID Artist   Plays  \n",
       "9654928  dcaa4f81-bfb7-44eb-8594-4e74f004b6e4   nofx  419157  "
      ]
     },
     "execution_count": 22,
     "metadata": {},
     "output_type": "execute_result"
    }
   ],
   "source": [
    "top_data[top_data['Plays'] == 419157]"
   ]
  },
  {
   "cell_type": "code",
   "execution_count": 23,
   "metadata": {},
   "outputs": [
    {
     "data": {
      "text/html": [
       "<div>\n",
       "<style scoped>\n",
       "    .dataframe tbody tr th:only-of-type {\n",
       "        vertical-align: middle;\n",
       "    }\n",
       "\n",
       "    .dataframe tbody tr th {\n",
       "        vertical-align: top;\n",
       "    }\n",
       "\n",
       "    .dataframe thead th {\n",
       "        text-align: right;\n",
       "    }\n",
       "</style>\n",
       "<table border=\"1\" class=\"dataframe\">\n",
       "  <thead>\n",
       "    <tr style=\"text-align: right;\">\n",
       "      <th></th>\n",
       "      <th>ID</th>\n",
       "      <th>Gender</th>\n",
       "      <th>Age</th>\n",
       "      <th>Country</th>\n",
       "      <th>Registered</th>\n",
       "    </tr>\n",
       "  </thead>\n",
       "  <tbody>\n",
       "    <tr>\n",
       "      <td>197654</td>\n",
       "      <td>8d0384537845e7f2b1b8b3e8a9f67eb8d9439794</td>\n",
       "      <td>m</td>\n",
       "      <td>31.0</td>\n",
       "      <td>Austria</td>\n",
       "      <td>Nov 11, 2005</td>\n",
       "    </tr>\n",
       "  </tbody>\n",
       "</table>\n",
       "</div>"
      ],
      "text/plain": [
       "                                              ID Gender   Age  Country  \\\n",
       "197654  8d0384537845e7f2b1b8b3e8a9f67eb8d9439794      m  31.0  Austria   \n",
       "\n",
       "          Registered  \n",
       "197654  Nov 11, 2005  "
      ]
     },
     "execution_count": 23,
     "metadata": {},
     "output_type": "execute_result"
    }
   ],
   "source": [
    "top_user[top_user['ID'] == '8d0384537845e7f2b1b8b3e8a9f67eb8d9439794']"
   ]
  },
  {
   "cell_type": "markdown",
   "metadata": {},
   "source": [
    "Once again, most user can be found at the start of scale, but some users are truly amazing, with the max plays sitting at 419157. After some research, nofx, the artist this user has been listening to, mainly makes music of about 2 minutes, still this user has more or less listened to 1.6 years of nofx in about 4 years. (could be a bot?)"
   ]
  },
  {
   "cell_type": "code",
   "execution_count": 24,
   "metadata": {},
   "outputs": [
    {
     "data": {
      "text/plain": [
       "Text(0, 0.5, 'Number of artists')"
      ]
     },
     "execution_count": 24,
     "metadata": {},
     "output_type": "execute_result"
    },
    {
     "data": {
      "image/png": "[encoded data removed]",
      "text/plain": [
       "<Figure size 936x360 with 1 Axes>"
      ]
     },
     "metadata": {
      "needs_background": "light"
     },
     "output_type": "display_data"
    }
   ],
   "source": [
    "top_data.groupby('Artist').count()['ID'].reset_index().hist(bins = 100, figsize = (13, 5))\n",
    "plt.yscale('log')\n",
    "plt.title('Number of user which have the same favorite artists')\n",
    "plt.xlabel('Number of users')\n",
    "plt.ylabel('Number of artists')"
   ]
  },
  {
   "cell_type": "markdown",
   "metadata": {},
   "source": [
    "We see that most artist have very few users in common, but the fact that quite some artists have more than 10000 users listening to them seems promising."
   ]
  },
  {
   "cell_type": "markdown",
   "metadata": {},
   "source": [
    "### 4. Data expansion\n",
    "\n",
    "We will use the Spotify API to fetch some additional informations about the artists. We chose to limit ourselves to the artist which have more than 20 users listening to them and a minimum of 50 plays per user.\n",
    "\n",
    "This part does not need to be run again."
   ]
  },
  {
   "cell_type": "code",
   "execution_count": 4,
   "metadata": {},
   "outputs": [],
   "source": [
    "def spotipySearch(x) :\n",
    "    s = sp.search(q = 'artist:' + str(x), type = 'artist')\n",
    "    inter = s['artists']['items']\n",
    "    if(len(inter) > 0) :\n",
    "        inter[0]\n",
    "    else :\n",
    "        return []"
   ]
  },
  {
   "cell_type": "code",
   "execution_count": 5,
   "metadata": {},
   "outputs": [
    {
     "data": {
      "text/plain": [
       "44623"
      ]
     },
     "execution_count": 5,
     "metadata": {},
     "output_type": "execute_result"
    }
   ],
   "source": [
    "nbUser = top_data.groupby(by = 'Artist').size()\n",
    "multipleUsers = nbUser[nbUser > 20].reset_index()[['Artist']]\n",
    "mostListened = top_data[top_data['Plays'] > 50][['Artist']]\n",
    "filteredArtist = multipleUsers.merge(mostListened, on = 'Artist')['Artist'].unique()\n",
    "filteredArtist.size"
   ]
  },
  {
   "cell_type": "code",
   "execution_count": 6,
   "metadata": {},
   "outputs": [
    {
     "data": {
      "text/html": [
       "<div>\n",
       "<style scoped>\n",
       "    .dataframe tbody tr th:only-of-type {\n",
       "        vertical-align: middle;\n",
       "    }\n",
       "\n",
       "    .dataframe tbody tr th {\n",
       "        vertical-align: top;\n",
       "    }\n",
       "\n",
       "    .dataframe thead th {\n",
       "        text-align: right;\n",
       "    }\n",
       "</style>\n",
       "<table border=\"1\" class=\"dataframe\">\n",
       "  <thead>\n",
       "    <tr style=\"text-align: right;\">\n",
       "      <th></th>\n",
       "      <th>Artist</th>\n",
       "    </tr>\n",
       "  </thead>\n",
       "  <tbody>\n",
       "    <tr>\n",
       "      <th>0</th>\n",
       "      <td>!!!</td>\n",
       "    </tr>\n",
       "    <tr>\n",
       "      <th>1</th>\n",
       "      <td>!action pact!</td>\n",
       "    </tr>\n",
       "    <tr>\n",
       "      <th>2</th>\n",
       "      <td>!deladap</td>\n",
       "    </tr>\n",
       "    <tr>\n",
       "      <th>3</th>\n",
       "      <td>!distain</td>\n",
       "    </tr>\n",
       "    <tr>\n",
       "      <th>4</th>\n",
       "      <td>!t.o.o.h.!</td>\n",
       "    </tr>\n",
       "  </tbody>\n",
       "</table>\n",
       "</div>"
      ],
      "text/plain": [
       "          Artist\n",
       "0            !!!\n",
       "1  !action pact!\n",
       "2       !deladap\n",
       "3       !distain\n",
       "4     !t.o.o.h.!"
      ]
     },
     "execution_count": 6,
     "metadata": {},
     "output_type": "execute_result"
    }
   ],
   "source": [
    "top_data_genre = pd.DataFrame(data = {'Artist' : filteredArtist})\n",
    "top_data_genre.head()"
   ]
  },
  {
   "cell_type": "code",
   "execution_count": 9,
   "metadata": {},
   "outputs": [
    {
     "data": {
      "text/html": [
       "<div>\n",
       "<style scoped>\n",
       "    .dataframe tbody tr th:only-of-type {\n",
       "        vertical-align: middle;\n",
       "    }\n",
       "\n",
       "    .dataframe tbody tr th {\n",
       "        vertical-align: top;\n",
       "    }\n",
       "\n",
       "    .dataframe thead th {\n",
       "        text-align: right;\n",
       "    }\n",
       "</style>\n",
       "<table border=\"1\" class=\"dataframe\">\n",
       "  <thead>\n",
       "    <tr style=\"text-align: right;\">\n",
       "      <th></th>\n",
       "      <th>Artist</th>\n",
       "      <th>Info</th>\n",
       "    </tr>\n",
       "  </thead>\n",
       "  <tbody>\n",
       "    <tr>\n",
       "      <th>0</th>\n",
       "      <td>!!!</td>\n",
       "      <td>{'external_urls': {'spotify': 'https://open.sp...</td>\n",
       "    </tr>\n",
       "    <tr>\n",
       "      <th>1</th>\n",
       "      <td>!action pact!</td>\n",
       "      <td>[]</td>\n",
       "    </tr>\n",
       "    <tr>\n",
       "      <th>2</th>\n",
       "      <td>!deladap</td>\n",
       "      <td>[]</td>\n",
       "    </tr>\n",
       "    <tr>\n",
       "      <th>3</th>\n",
       "      <td>!distain</td>\n",
       "      <td>{'external_urls': {'spotify': 'https://open.sp...</td>\n",
       "    </tr>\n",
       "    <tr>\n",
       "      <th>4</th>\n",
       "      <td>!t.o.o.h.!</td>\n",
       "      <td>[]</td>\n",
       "    </tr>\n",
       "  </tbody>\n",
       "</table>\n",
       "</div>"
      ],
      "text/plain": [
       "          Artist                                               Info\n",
       "0            !!!  {'external_urls': {'spotify': 'https://open.sp...\n",
       "1  !action pact!                                                 []\n",
       "2       !deladap                                                 []\n",
       "3       !distain  {'external_urls': {'spotify': 'https://open.sp...\n",
       "4     !t.o.o.h.!                                                 []"
      ]
     },
     "execution_count": 9,
     "metadata": {},
     "output_type": "execute_result"
    }
   ],
   "source": [
    "top_data_genre['Info'] = top_data_genre.Artist.apply(lambda x: spotipySearch(x))\n",
    "top_data_genre.head()"
   ]
  },
  {
   "cell_type": "code",
   "execution_count": 10,
   "metadata": {},
   "outputs": [],
   "source": [
    "top_data_genre.to_csv(DATA_FOLDER + 'full_spotify_correct_info.csv', index = False)"
   ]
  },
  {
   "cell_type": "markdown",
   "metadata": {},
   "source": [
    "### 5. Spotify API data analysis"
   ]
  },
  {
   "cell_type": "markdown",
   "metadata": {},
   "source": [
    "We first need to change the Info column from a string to a dictionary"
   ]
  },
  {
   "cell_type": "code",
   "execution_count": 11,
   "metadata": {},
   "outputs": [
    {
     "data": {
      "text/html": [
       "<div>\n",
       "<style scoped>\n",
       "    .dataframe tbody tr th:only-of-type {\n",
       "        vertical-align: middle;\n",
       "    }\n",
       "\n",
       "    .dataframe tbody tr th {\n",
       "        vertical-align: top;\n",
       "    }\n",
       "\n",
       "    .dataframe thead th {\n",
       "        text-align: right;\n",
       "    }\n",
       "</style>\n",
       "<table border=\"1\" class=\"dataframe\">\n",
       "  <thead>\n",
       "    <tr style=\"text-align: right;\">\n",
       "      <th></th>\n",
       "      <th>Artist</th>\n",
       "      <th>Info</th>\n",
       "    </tr>\n",
       "  </thead>\n",
       "  <tbody>\n",
       "    <tr>\n",
       "      <th>0</th>\n",
       "      <td>!!!</td>\n",
       "      <td>{'external_urls': {'spotify': 'https://open.sp...</td>\n",
       "    </tr>\n",
       "    <tr>\n",
       "      <th>1</th>\n",
       "      <td>!action pact!</td>\n",
       "      <td>{'external_urls': {'spotify': 'https://open.sp...</td>\n",
       "    </tr>\n",
       "    <tr>\n",
       "      <th>2</th>\n",
       "      <td>!deladap</td>\n",
       "      <td>{'external_urls': {'spotify': 'https://open.sp...</td>\n",
       "    </tr>\n",
       "    <tr>\n",
       "      <th>3</th>\n",
       "      <td>!distain</td>\n",
       "      <td>{'external_urls': {'spotify': 'https://open.sp...</td>\n",
       "    </tr>\n",
       "    <tr>\n",
       "      <th>4</th>\n",
       "      <td>!t.o.o.h.!</td>\n",
       "      <td>{'external_urls': {'spotify': 'https://open.sp...</td>\n",
       "    </tr>\n",
       "  </tbody>\n",
       "</table>\n",
       "</div>"
      ],
      "text/plain": [
       "          Artist                                               Info\n",
       "0            !!!  {'external_urls': {'spotify': 'https://open.sp...\n",
       "1  !action pact!  {'external_urls': {'spotify': 'https://open.sp...\n",
       "2       !deladap  {'external_urls': {'spotify': 'https://open.sp...\n",
       "3       !distain  {'external_urls': {'spotify': 'https://open.sp...\n",
       "4     !t.o.o.h.!  {'external_urls': {'spotify': 'https://open.sp..."
      ]
     },
     "execution_count": 11,
     "metadata": {},
     "output_type": "execute_result"
    }
   ],
   "source": [
    "add_data['Info'] = add_data['Info'].map(lambda x: x if isinstance(x, str) else \"{}\").map(lambda x: ast.literal_eval(x))\n",
    "add_data.head()"
   ]
  },
  {
   "cell_type": "code",
   "execution_count": 12,
   "metadata": {},
   "outputs": [
    {
     "data": {
      "text/html": [
       "<div>\n",
       "<style scoped>\n",
       "    .dataframe tbody tr th:only-of-type {\n",
       "        vertical-align: middle;\n",
       "    }\n",
       "\n",
       "    .dataframe tbody tr th {\n",
       "        vertical-align: top;\n",
       "    }\n",
       "\n",
       "    .dataframe thead th {\n",
       "        text-align: right;\n",
       "    }\n",
       "</style>\n",
       "<table border=\"1\" class=\"dataframe\">\n",
       "  <thead>\n",
       "    <tr style=\"text-align: right;\">\n",
       "      <th></th>\n",
       "      <th>Artist</th>\n",
       "      <th>Info</th>\n",
       "      <th>Genres</th>\n",
       "    </tr>\n",
       "  </thead>\n",
       "  <tbody>\n",
       "    <tr>\n",
       "      <th>0</th>\n",
       "      <td>!!!</td>\n",
       "      <td>{'external_urls': {'spotify': 'https://open.sp...</td>\n",
       "      <td>[alternative dance, dance rock, dance-punk, el...</td>\n",
       "    </tr>\n",
       "    <tr>\n",
       "      <th>1</th>\n",
       "      <td>!action pact!</td>\n",
       "      <td>{'external_urls': {'spotify': 'https://open.sp...</td>\n",
       "      <td>[anarcho-punk, uk82]</td>\n",
       "    </tr>\n",
       "    <tr>\n",
       "      <th>2</th>\n",
       "      <td>!deladap</td>\n",
       "      <td>{'external_urls': {'spotify': 'https://open.sp...</td>\n",
       "      <td>[balkan brass, electro swing]</td>\n",
       "    </tr>\n",
       "    <tr>\n",
       "      <th>3</th>\n",
       "      <td>!distain</td>\n",
       "      <td>{'external_urls': {'spotify': 'https://open.sp...</td>\n",
       "      <td>[dark electro, futurepop, neo-synthpop]</td>\n",
       "    </tr>\n",
       "    <tr>\n",
       "      <th>4</th>\n",
       "      <td>!t.o.o.h.!</td>\n",
       "      <td>{'external_urls': {'spotify': 'https://open.sp...</td>\n",
       "      <td>[technical grindcore]</td>\n",
       "    </tr>\n",
       "  </tbody>\n",
       "</table>\n",
       "</div>"
      ],
      "text/plain": [
       "          Artist                                               Info  \\\n",
       "0            !!!  {'external_urls': {'spotify': 'https://open.sp...   \n",
       "1  !action pact!  {'external_urls': {'spotify': 'https://open.sp...   \n",
       "2       !deladap  {'external_urls': {'spotify': 'https://open.sp...   \n",
       "3       !distain  {'external_urls': {'spotify': 'https://open.sp...   \n",
       "4     !t.o.o.h.!  {'external_urls': {'spotify': 'https://open.sp...   \n",
       "\n",
       "                                              Genres  \n",
       "0  [alternative dance, dance rock, dance-punk, el...  \n",
       "1                               [anarcho-punk, uk82]  \n",
       "2                      [balkan brass, electro swing]  \n",
       "3            [dark electro, futurepop, neo-synthpop]  \n",
       "4                              [technical grindcore]  "
      ]
     },
     "execution_count": 12,
     "metadata": {},
     "output_type": "execute_result"
    }
   ],
   "source": [
    "add_data['Genres'] = add_data['Info'].map(lambda x: x['genres'] if len(x) > 0 else [])\n",
    "add_data.head()"
   ]
  },
  {
   "cell_type": "code",
   "execution_count": 13,
   "metadata": {},
   "outputs": [
    {
     "data": {
      "text/plain": [
       "4258"
      ]
     },
     "execution_count": 13,
     "metadata": {},
     "output_type": "execute_result"
    }
   ],
   "source": [
    "genres = add_data['Genres'].tolist()\n",
    "all_genres = [item for sublist in genres for item in sublist]\n",
    "unique_genres = set(all_genres)\n",
    "len(unique_genres)"
   ]
  },
  {
   "cell_type": "code",
   "execution_count": 14,
   "metadata": {},
   "outputs": [
    {
     "data": {
      "text/plain": [
       "[('rock', 665),\n",
       " ('dance pop', 511),\n",
       " ('hip hop', 475),\n",
       " ('country rock', 460),\n",
       " ('pop rock', 454),\n",
       " ('pop', 449),\n",
       " ('rap', 415),\n",
       " ('mellow gold', 412),\n",
       " ('adult standards', 402),\n",
       " ('classic rock', 395),\n",
       " ('alternative metal', 391),\n",
       " ('alternative rock', 387),\n",
       " ('soft rock', 387),\n",
       " ('folk rock', 381),\n",
       " ('pop rap', 366),\n",
       " ('indie rock', 362),\n",
       " ('album rock', 362),\n",
       " ('art rock', 358),\n",
       " ('new wave pop', 357),\n",
       " ('folk', 356),\n",
       " ('urban contemporary', 350),\n",
       " ('hard rock', 349),\n",
       " ('latin', 346),\n",
       " ('funk', 345),\n",
       " ('post-teen pop', 334)]"
      ]
     },
     "execution_count": 14,
     "metadata": {},
     "output_type": "execute_result"
    }
   ],
   "source": [
    "from collections import Counter\n",
    "c = Counter(all_genres)\n",
    "c.most_common(25)"
   ]
  },
  {
   "cell_type": "code",
   "execution_count": 15,
   "metadata": {},
   "outputs": [],
   "source": [
    "def best_genre(l, c) :\n",
    "    best = \"\"\n",
    "    best_num = 0\n",
    "    for elem in l:\n",
    "        if(c[elem] > best_num) :\n",
    "            best = elem\n",
    "            best_num = c[elem]\n",
    "    return best"
   ]
  },
  {
   "cell_type": "code",
   "execution_count": 16,
   "metadata": {},
   "outputs": [
    {
     "data": {
      "text/html": [
       "<div>\n",
       "<style scoped>\n",
       "    .dataframe tbody tr th:only-of-type {\n",
       "        vertical-align: middle;\n",
       "    }\n",
       "\n",
       "    .dataframe tbody tr th {\n",
       "        vertical-align: top;\n",
       "    }\n",
       "\n",
       "    .dataframe thead th {\n",
       "        text-align: right;\n",
       "    }\n",
       "</style>\n",
       "<table border=\"1\" class=\"dataframe\">\n",
       "  <thead>\n",
       "    <tr style=\"text-align: right;\">\n",
       "      <th></th>\n",
       "      <th>Artist</th>\n",
       "      <th>Info</th>\n",
       "      <th>Genres</th>\n",
       "      <th>best_genre</th>\n",
       "    </tr>\n",
       "  </thead>\n",
       "  <tbody>\n",
       "    <tr>\n",
       "      <th>0</th>\n",
       "      <td>!!!</td>\n",
       "      <td>{'external_urls': {'spotify': 'https://open.sp...</td>\n",
       "      <td>[alternative dance, dance rock, dance-punk, el...</td>\n",
       "      <td>electronica</td>\n",
       "    </tr>\n",
       "    <tr>\n",
       "      <th>1</th>\n",
       "      <td>!action pact!</td>\n",
       "      <td>{'external_urls': {'spotify': 'https://open.sp...</td>\n",
       "      <td>[anarcho-punk, uk82]</td>\n",
       "      <td>uk82</td>\n",
       "    </tr>\n",
       "    <tr>\n",
       "      <th>2</th>\n",
       "      <td>!deladap</td>\n",
       "      <td>{'external_urls': {'spotify': 'https://open.sp...</td>\n",
       "      <td>[balkan brass, electro swing]</td>\n",
       "      <td>balkan brass</td>\n",
       "    </tr>\n",
       "    <tr>\n",
       "      <th>3</th>\n",
       "      <td>!distain</td>\n",
       "      <td>{'external_urls': {'spotify': 'https://open.sp...</td>\n",
       "      <td>[dark electro, futurepop, neo-synthpop]</td>\n",
       "      <td>neo-synthpop</td>\n",
       "    </tr>\n",
       "    <tr>\n",
       "      <th>4</th>\n",
       "      <td>!t.o.o.h.!</td>\n",
       "      <td>{'external_urls': {'spotify': 'https://open.sp...</td>\n",
       "      <td>[technical grindcore]</td>\n",
       "      <td>technical grindcore</td>\n",
       "    </tr>\n",
       "  </tbody>\n",
       "</table>\n",
       "</div>"
      ],
      "text/plain": [
       "          Artist                                               Info  \\\n",
       "0            !!!  {'external_urls': {'spotify': 'https://open.sp...   \n",
       "1  !action pact!  {'external_urls': {'spotify': 'https://open.sp...   \n",
       "2       !deladap  {'external_urls': {'spotify': 'https://open.sp...   \n",
       "3       !distain  {'external_urls': {'spotify': 'https://open.sp...   \n",
       "4     !t.o.o.h.!  {'external_urls': {'spotify': 'https://open.sp...   \n",
       "\n",
       "                                              Genres           best_genre  \n",
       "0  [alternative dance, dance rock, dance-punk, el...          electronica  \n",
       "1                               [anarcho-punk, uk82]                 uk82  \n",
       "2                      [balkan brass, electro swing]         balkan brass  \n",
       "3            [dark electro, futurepop, neo-synthpop]         neo-synthpop  \n",
       "4                              [technical grindcore]  technical grindcore  "
      ]
     },
     "execution_count": 16,
     "metadata": {},
     "output_type": "execute_result"
    }
   ],
   "source": [
    "add_data['best_genre'] = add_data['Genres'].map(lambda x: best_genre(x, c))\n",
    "add_data.head()"
   ]
  },
  {
   "cell_type": "code",
   "execution_count": 17,
   "metadata": {},
   "outputs": [
    {
     "data": {
      "image/png": "[encoded data removed]",
      "text/plain": [
       "<Figure size 936x360 with 1 Axes>"
      ]
     },
     "metadata": {
      "needs_background": "light"
     },
     "output_type": "display_data"
    }
   ],
   "source": [
    "add_data.groupby('best_genre').size().hist(bins = 25, figsize = (13, 5))\n",
    "plt.yscale('log')\n",
    "plt.title('Number of artists which have the same best genre')\n",
    "plt.xlabel('Number of artists')\n",
    "_ = plt.ylabel('Number of genres')"
   ]
  },
  {
   "cell_type": "code",
   "execution_count": 18,
   "metadata": {},
   "outputs": [
    {
     "data": {
      "text/plain": [
       "best_genre\n",
       "                    11522\n",
       "a cappella             20\n",
       "abstract                4\n",
       "abstract beats          3\n",
       "abstract hip hop       42\n",
       "                    ...  \n",
       "zim urban groove        1\n",
       "zither                  1\n",
       "zolo                   15\n",
       "zouk                   13\n",
       "zydeco                  1\n",
       "Length: 2732, dtype: int64"
      ]
     },
     "execution_count": 18,
     "metadata": {},
     "output_type": "execute_result"
    }
   ],
   "source": [
    "add_data.groupby('best_genre').size()"
   ]
  },
  {
   "cell_type": "markdown",
   "metadata": {},
   "source": [
    "In this case, we see that there are 11522 artists which do not have any genres attached to them, this probably comes from a lack of information about these artists in general from Spotify."
   ]
  },
  {
   "cell_type": "code",
   "execution_count": 19,
   "metadata": {},
   "outputs": [],
   "source": [
    "add_data = add_data[add_data['Genres'].map(len) > 0]"
   ]
  },
  {
   "cell_type": "code",
   "execution_count": 20,
   "metadata": {},
   "outputs": [
    {
     "data": {
      "image/png": "[encoded data removed]",
      "text/plain": [
       "<Figure size 936x360 with 1 Axes>"
      ]
     },
     "metadata": {
      "needs_background": "light"
     },
     "output_type": "display_data"
    }
   ],
   "source": [
    "add_data.groupby('best_genre').size().hist(bins = 25, figsize = (13, 5))\n",
    "plt.yscale('log')\n",
    "plt.title('Number of artists which have the same best genre (without no genre)')\n",
    "plt.xlabel('Number of artists')\n",
    "_ = plt.ylabel('Number of genres')"
   ]
  },
  {
   "cell_type": "code",
   "execution_count": 21,
   "metadata": {},
   "outputs": [],
   "source": [
    "add_data['Popularity'] = add_data['Info'].apply(lambda x: x['followers']['total'])"
   ]
  },
  {
   "cell_type": "code",
   "execution_count": 22,
   "metadata": {},
   "outputs": [
    {
     "data": {
      "image/png": "[encoded data removed]",
      "text/plain": [
       "<Figure size 936x360 with 1 Axes>"
      ]
     },
     "metadata": {
      "needs_background": "light"
     },
     "output_type": "display_data"
    }
   ],
   "source": [
    "add_data['Popularity'].hist(bins = 50, figsize = (13, 5))\n",
    "plt.yscale('log')\n",
    "plt.title('Number of artists per popularity')\n",
    "plt.xlabel('Popularity')\n",
    "_ = plt.ylabel('Number of artists')"
   ]
  },
  {
   "cell_type": "code",
   "execution_count": 23,
   "metadata": {},
   "outputs": [
    {
     "data": {
      "text/plain": [
       "Artist\n",
       "canto finlandia           1\n",
       "비                         2\n",
       "fatima                    2\n",
       "david wright              2\n",
       "manian                    2\n",
       "                     ...   \n",
       "drake              54510167\n",
       "ari                61638703\n",
       "aria               61638703\n",
       "arian              61638703\n",
       "she                79118817\n",
       "Name: Popularity, Length: 33101, dtype: int64"
      ]
     },
     "execution_count": 23,
     "metadata": {},
     "output_type": "execute_result"
    }
   ],
   "source": [
    "add_data.set_index('Artist')['Popularity'].sort_values()"
   ]
  },
  {
   "cell_type": "code",
   "execution_count": 24,
   "metadata": {},
   "outputs": [
    {
     "data": {
      "text/plain": [
       "{'external_urls': {'spotify': 'https://open.spotify.com/artist/6eUKZXaKkcviH0Ku9w2n3V'},\n",
       " 'followers': {'href': None, 'total': 79118817},\n",
       " 'genres': ['pop', 'uk pop'],\n",
       " 'href': 'https://api.spotify.com/v1/artists/6eUKZXaKkcviH0Ku9w2n3V',\n",
       " 'id': '6eUKZXaKkcviH0Ku9w2n3V',\n",
       " 'images': [{'height': 640,\n",
       "   'url': 'https://i.scdn.co/image/c9e693f336bc004af00c51bbf0a157e8b5af75f2',\n",
       "   'width': 640},\n",
       "  {'height': 320,\n",
       "   'url': 'https://i.scdn.co/image/ebe13258cf525b7399ea1b34a25d38172b3023a1',\n",
       "   'width': 320},\n",
       "  {'height': 160,\n",
       "   'url': 'https://i.scdn.co/image/05fc0a0a6b74757e87da8081c358f5ee972466db',\n",
       "   'width': 160}],\n",
       " 'name': 'Ed Sheeran',\n",
       " 'popularity': 92,\n",
       " 'type': 'artist',\n",
       " 'uri': 'spotify:artist:6eUKZXaKkcviH0Ku9w2n3V'}"
      ]
     },
     "execution_count": 24,
     "metadata": {},
     "output_type": "execute_result"
    }
   ],
   "source": [
    "add_data['Info'][34368]"
   ]
  },
  {
   "cell_type": "markdown",
   "metadata": {},
   "source": [
    "We can see that there are some issues with the Spotify API part where Artist such as She will be take as Ed Sheeran. This will be fixed by setting a bigger threshold on the number of users which are listening to the same artist."
   ]
  },
  {
   "cell_type": "code",
   "execution_count": 25,
   "metadata": {},
   "outputs": [
    {
     "data": {
      "text/html": [
       "<div>\n",
       "<style scoped>\n",
       "    .dataframe tbody tr th:only-of-type {\n",
       "        vertical-align: middle;\n",
       "    }\n",
       "\n",
       "    .dataframe tbody tr th {\n",
       "        vertical-align: top;\n",
       "    }\n",
       "\n",
       "    .dataframe thead th {\n",
       "        text-align: right;\n",
       "    }\n",
       "</style>\n",
       "<table border=\"1\" class=\"dataframe\">\n",
       "  <thead>\n",
       "    <tr style=\"text-align: right;\">\n",
       "      <th></th>\n",
       "      <th>ID</th>\n",
       "      <th>Artist_ID</th>\n",
       "      <th>Artist</th>\n",
       "      <th>Plays</th>\n",
       "      <th>Percent</th>\n",
       "    </tr>\n",
       "  </thead>\n",
       "  <tbody>\n",
       "    <tr>\n",
       "      <th>0</th>\n",
       "      <td>00000c289a1829a808ac09c00daf10bc3c4e223b</td>\n",
       "      <td>3bd73256-3905-4f3a-97e2-8b341527f805</td>\n",
       "      <td>betty blowtorch</td>\n",
       "      <td>2137</td>\n",
       "      <td>0.127842</td>\n",
       "    </tr>\n",
       "    <tr>\n",
       "      <th>1</th>\n",
       "      <td>00000c289a1829a808ac09c00daf10bc3c4e223b</td>\n",
       "      <td>f2fb0ff0-5679-42ec-a55c-15109ce6e320</td>\n",
       "      <td>die Ärzte</td>\n",
       "      <td>1099</td>\n",
       "      <td>0.065745</td>\n",
       "    </tr>\n",
       "    <tr>\n",
       "      <th>2</th>\n",
       "      <td>00000c289a1829a808ac09c00daf10bc3c4e223b</td>\n",
       "      <td>b3ae82c2-e60b-4551-a76d-6620f1b456aa</td>\n",
       "      <td>melissa etheridge</td>\n",
       "      <td>897</td>\n",
       "      <td>0.053661</td>\n",
       "    </tr>\n",
       "    <tr>\n",
       "      <th>3</th>\n",
       "      <td>00000c289a1829a808ac09c00daf10bc3c4e223b</td>\n",
       "      <td>3d6bbeb7-f90e-4d10-b440-e153c0d10b53</td>\n",
       "      <td>elvenking</td>\n",
       "      <td>717</td>\n",
       "      <td>0.042893</td>\n",
       "    </tr>\n",
       "    <tr>\n",
       "      <th>4</th>\n",
       "      <td>00000c289a1829a808ac09c00daf10bc3c4e223b</td>\n",
       "      <td>bbd2ffd7-17f4-4506-8572-c1ea58c3f9a8</td>\n",
       "      <td>juliette &amp; the licks</td>\n",
       "      <td>706</td>\n",
       "      <td>0.042235</td>\n",
       "    </tr>\n",
       "  </tbody>\n",
       "</table>\n",
       "</div>"
      ],
      "text/plain": [
       "                                         ID  \\\n",
       "0  00000c289a1829a808ac09c00daf10bc3c4e223b   \n",
       "1  00000c289a1829a808ac09c00daf10bc3c4e223b   \n",
       "2  00000c289a1829a808ac09c00daf10bc3c4e223b   \n",
       "3  00000c289a1829a808ac09c00daf10bc3c4e223b   \n",
       "4  00000c289a1829a808ac09c00daf10bc3c4e223b   \n",
       "\n",
       "                              Artist_ID                Artist  Plays   Percent  \n",
       "0  3bd73256-3905-4f3a-97e2-8b341527f805       betty blowtorch   2137  0.127842  \n",
       "1  f2fb0ff0-5679-42ec-a55c-15109ce6e320             die Ärzte   1099  0.065745  \n",
       "2  b3ae82c2-e60b-4551-a76d-6620f1b456aa     melissa etheridge    897  0.053661  \n",
       "3  3d6bbeb7-f90e-4d10-b440-e153c0d10b53             elvenking    717  0.042893  \n",
       "4  bbd2ffd7-17f4-4506-8572-c1ea58c3f9a8  juliette & the licks    706  0.042235  "
      ]
     },
     "execution_count": 25,
     "metadata": {},
     "output_type": "execute_result"
    }
   ],
   "source": [
    "top_data_percent = top_data.copy()\n",
    "top_data_percent['Percent'] = top_data['Plays'] / top_data[['ID', 'Plays']].groupby('ID').Plays.transform('sum')\n",
    "top_data_percent.head()"
   ]
  },
  {
   "cell_type": "code",
   "execution_count": 26,
   "metadata": {},
   "outputs": [
    {
     "data": {
      "text/html": [
       "<div>\n",
       "<style scoped>\n",
       "    .dataframe tbody tr th:only-of-type {\n",
       "        vertical-align: middle;\n",
       "    }\n",
       "\n",
       "    .dataframe tbody tr th {\n",
       "        vertical-align: top;\n",
       "    }\n",
       "\n",
       "    .dataframe thead th {\n",
       "        text-align: right;\n",
       "    }\n",
       "</style>\n",
       "<table border=\"1\" class=\"dataframe\">\n",
       "  <thead>\n",
       "    <tr style=\"text-align: right;\">\n",
       "      <th></th>\n",
       "      <th>ID</th>\n",
       "      <th>Artist_ID</th>\n",
       "      <th>Artist</th>\n",
       "      <th>Plays</th>\n",
       "      <th>Percent</th>\n",
       "      <th>Info</th>\n",
       "      <th>Genres</th>\n",
       "      <th>best_genre</th>\n",
       "      <th>Popularity</th>\n",
       "    </tr>\n",
       "  </thead>\n",
       "  <tbody>\n",
       "    <tr>\n",
       "      <th>0</th>\n",
       "      <td>00000c289a1829a808ac09c00daf10bc3c4e223b</td>\n",
       "      <td>3bd73256-3905-4f3a-97e2-8b341527f805</td>\n",
       "      <td>betty blowtorch</td>\n",
       "      <td>2137</td>\n",
       "      <td>0.127842</td>\n",
       "      <td>{'external_urls': {'spotify': 'https://open.sp...</td>\n",
       "      <td>[riot grrrl]</td>\n",
       "      <td>riot grrrl</td>\n",
       "      <td>6907</td>\n",
       "    </tr>\n",
       "    <tr>\n",
       "      <th>1</th>\n",
       "      <td>0159d9ae1c8d76ab7fe3aa868a38e1da56cc06ab</td>\n",
       "      <td>3bd73256-3905-4f3a-97e2-8b341527f805</td>\n",
       "      <td>betty blowtorch</td>\n",
       "      <td>42</td>\n",
       "      <td>0.011105</td>\n",
       "      <td>{'external_urls': {'spotify': 'https://open.sp...</td>\n",
       "      <td>[riot grrrl]</td>\n",
       "      <td>riot grrrl</td>\n",
       "      <td>6907</td>\n",
       "    </tr>\n",
       "    <tr>\n",
       "      <th>2</th>\n",
       "      <td>0285490bb23814cf0dc18a5668261e243572d4eb</td>\n",
       "      <td>3bd73256-3905-4f3a-97e2-8b341527f805</td>\n",
       "      <td>betty blowtorch</td>\n",
       "      <td>41</td>\n",
       "      <td>0.010299</td>\n",
       "      <td>{'external_urls': {'spotify': 'https://open.sp...</td>\n",
       "      <td>[riot grrrl]</td>\n",
       "      <td>riot grrrl</td>\n",
       "      <td>6907</td>\n",
       "    </tr>\n",
       "    <tr>\n",
       "      <th>3</th>\n",
       "      <td>03d2e7186a6c29f281f6ff8b9bb2f7503822e7de</td>\n",
       "      <td>3bd73256-3905-4f3a-97e2-8b341527f805</td>\n",
       "      <td>betty blowtorch</td>\n",
       "      <td>67</td>\n",
       "      <td>0.010819</td>\n",
       "      <td>{'external_urls': {'spotify': 'https://open.sp...</td>\n",
       "      <td>[riot grrrl]</td>\n",
       "      <td>riot grrrl</td>\n",
       "      <td>6907</td>\n",
       "    </tr>\n",
       "    <tr>\n",
       "      <th>4</th>\n",
       "      <td>04e0999468b2bbd922f0fdd41ffd9a5f26f97609</td>\n",
       "      <td>3bd73256-3905-4f3a-97e2-8b341527f805</td>\n",
       "      <td>betty blowtorch</td>\n",
       "      <td>3</td>\n",
       "      <td>0.006122</td>\n",
       "      <td>{'external_urls': {'spotify': 'https://open.sp...</td>\n",
       "      <td>[riot grrrl]</td>\n",
       "      <td>riot grrrl</td>\n",
       "      <td>6907</td>\n",
       "    </tr>\n",
       "  </tbody>\n",
       "</table>\n",
       "</div>"
      ],
      "text/plain": [
       "                                         ID  \\\n",
       "0  00000c289a1829a808ac09c00daf10bc3c4e223b   \n",
       "1  0159d9ae1c8d76ab7fe3aa868a38e1da56cc06ab   \n",
       "2  0285490bb23814cf0dc18a5668261e243572d4eb   \n",
       "3  03d2e7186a6c29f281f6ff8b9bb2f7503822e7de   \n",
       "4  04e0999468b2bbd922f0fdd41ffd9a5f26f97609   \n",
       "\n",
       "                              Artist_ID           Artist  Plays   Percent  \\\n",
       "0  3bd73256-3905-4f3a-97e2-8b341527f805  betty blowtorch   2137  0.127842   \n",
       "1  3bd73256-3905-4f3a-97e2-8b341527f805  betty blowtorch     42  0.011105   \n",
       "2  3bd73256-3905-4f3a-97e2-8b341527f805  betty blowtorch     41  0.010299   \n",
       "3  3bd73256-3905-4f3a-97e2-8b341527f805  betty blowtorch     67  0.010819   \n",
       "4  3bd73256-3905-4f3a-97e2-8b341527f805  betty blowtorch      3  0.006122   \n",
       "\n",
       "                                                Info        Genres  \\\n",
       "0  {'external_urls': {'spotify': 'https://open.sp...  [riot grrrl]   \n",
       "1  {'external_urls': {'spotify': 'https://open.sp...  [riot grrrl]   \n",
       "2  {'external_urls': {'spotify': 'https://open.sp...  [riot grrrl]   \n",
       "3  {'external_urls': {'spotify': 'https://open.sp...  [riot grrrl]   \n",
       "4  {'external_urls': {'spotify': 'https://open.sp...  [riot grrrl]   \n",
       "\n",
       "   best_genre  Popularity  \n",
       "0  riot grrrl        6907  \n",
       "1  riot grrrl        6907  \n",
       "2  riot grrrl        6907  \n",
       "3  riot grrrl        6907  \n",
       "4  riot grrrl        6907  "
      ]
     },
     "execution_count": 26,
     "metadata": {},
     "output_type": "execute_result"
    }
   ],
   "source": [
    "all_data = top_data_percent.merge(add_data, on = 'Artist')\n",
    "all_data.head()"
   ]
  },
  {
   "cell_type": "code",
   "execution_count": 27,
   "metadata": {},
   "outputs": [
    {
     "data": {
      "image/png": "[encoded data removed]",
      "text/plain": [
       "<Figure size 936x360 with 1 Axes>"
      ]
     },
     "metadata": {
      "needs_background": "light"
     },
     "output_type": "display_data"
    }
   ],
   "source": [
    "all_data[['best_genre', 'Percent']].groupby('best_genre').sum().hist(bins = 100, figsize = (13, 5))\n",
    "plt.yscale('log')\n",
    "plt.title('Sum of percent of listening time per genre')\n",
    "plt.xlabel('Sum of percent')\n",
    "_ = plt.ylabel('Number of genres')"
   ]
  },
  {
   "cell_type": "code",
   "execution_count": 28,
   "metadata": {},
   "outputs": [
    {
     "data": {
      "text/html": [
       "<div>\n",
       "<style scoped>\n",
       "    .dataframe tbody tr th:only-of-type {\n",
       "        vertical-align: middle;\n",
       "    }\n",
       "\n",
       "    .dataframe tbody tr th {\n",
       "        vertical-align: top;\n",
       "    }\n",
       "\n",
       "    .dataframe thead th {\n",
       "        text-align: right;\n",
       "    }\n",
       "</style>\n",
       "<table border=\"1\" class=\"dataframe\">\n",
       "  <thead>\n",
       "    <tr style=\"text-align: right;\">\n",
       "      <th></th>\n",
       "      <th>Percent</th>\n",
       "    </tr>\n",
       "    <tr>\n",
       "      <th>best_genre</th>\n",
       "      <th></th>\n",
       "    </tr>\n",
       "  </thead>\n",
       "  <tbody>\n",
       "    <tr>\n",
       "      <th>kansas city hip hop</th>\n",
       "      <td>0.224099</td>\n",
       "    </tr>\n",
       "    <tr>\n",
       "      <th>belarusian pop</th>\n",
       "      <td>0.228380</td>\n",
       "    </tr>\n",
       "    <tr>\n",
       "      <th>ukrainian pop</th>\n",
       "      <td>0.242180</td>\n",
       "    </tr>\n",
       "    <tr>\n",
       "      <th>death doom</th>\n",
       "      <td>0.248212</td>\n",
       "    </tr>\n",
       "    <tr>\n",
       "      <th>backing track</th>\n",
       "      <td>0.254336</td>\n",
       "    </tr>\n",
       "    <tr>\n",
       "      <th>...</th>\n",
       "      <td>...</td>\n",
       "    </tr>\n",
       "    <tr>\n",
       "      <th>pop rock</th>\n",
       "      <td>10153.048772</td>\n",
       "    </tr>\n",
       "    <tr>\n",
       "      <th>electronica</th>\n",
       "      <td>13105.578309</td>\n",
       "    </tr>\n",
       "    <tr>\n",
       "      <th>alternative metal</th>\n",
       "      <td>16197.245614</td>\n",
       "    </tr>\n",
       "    <tr>\n",
       "      <th>dance pop</th>\n",
       "      <td>17389.158200</td>\n",
       "    </tr>\n",
       "    <tr>\n",
       "      <th>rock</th>\n",
       "      <td>63034.968513</td>\n",
       "    </tr>\n",
       "  </tbody>\n",
       "</table>\n",
       "<p>2731 rows × 1 columns</p>\n",
       "</div>"
      ],
      "text/plain": [
       "                          Percent\n",
       "best_genre                       \n",
       "kansas city hip hop      0.224099\n",
       "belarusian pop           0.228380\n",
       "ukrainian pop            0.242180\n",
       "death doom               0.248212\n",
       "backing track            0.254336\n",
       "...                           ...\n",
       "pop rock             10153.048772\n",
       "electronica          13105.578309\n",
       "alternative metal    16197.245614\n",
       "dance pop            17389.158200\n",
       "rock                 63034.968513\n",
       "\n",
       "[2731 rows x 1 columns]"
      ]
     },
     "execution_count": 28,
     "metadata": {},
     "output_type": "execute_result"
    }
   ],
   "source": [
    "all_data[['best_genre', 'Percent']].groupby('best_genre').sum().sort_values(by = 'Percent')"
   ]
  },
  {
   "cell_type": "code",
   "execution_count": 29,
   "metadata": {},
   "outputs": [
    {
     "data": {
      "text/html": [
       "<div>\n",
       "<style scoped>\n",
       "    .dataframe tbody tr th:only-of-type {\n",
       "        vertical-align: middle;\n",
       "    }\n",
       "\n",
       "    .dataframe tbody tr th {\n",
       "        vertical-align: top;\n",
       "    }\n",
       "\n",
       "    .dataframe thead th {\n",
       "        text-align: right;\n",
       "    }\n",
       "</style>\n",
       "<table border=\"1\" class=\"dataframe\">\n",
       "  <thead>\n",
       "    <tr style=\"text-align: right;\">\n",
       "      <th></th>\n",
       "      <th>ID</th>\n",
       "      <th>Artist_ID</th>\n",
       "      <th>Artist</th>\n",
       "      <th>Plays</th>\n",
       "      <th>Percent</th>\n",
       "      <th>Info</th>\n",
       "      <th>Genres</th>\n",
       "      <th>best_genre</th>\n",
       "      <th>Popularity</th>\n",
       "    </tr>\n",
       "  </thead>\n",
       "  <tbody>\n",
       "    <tr>\n",
       "      <th>11549</th>\n",
       "      <td>00000c289a1829a808ac09c00daf10bc3c4e223b</td>\n",
       "      <td>8bfac288-ccc5-448d-9573-c33ea2aa5c30</td>\n",
       "      <td>red hot chili peppers</td>\n",
       "      <td>691</td>\n",
       "      <td>0.041338</td>\n",
       "      <td>{'external_urls': {'spotify': 'https://open.sp...</td>\n",
       "      <td>[alternative rock, funk metal, funk rock, perm...</td>\n",
       "      <td>rock</td>\n",
       "      <td>15833481</td>\n",
       "    </tr>\n",
       "    <tr>\n",
       "      <th>11550</th>\n",
       "      <td>000429493d9716b66b02180d208d09b5b89fbe64</td>\n",
       "      <td>8bfac288-ccc5-448d-9573-c33ea2aa5c30</td>\n",
       "      <td>red hot chili peppers</td>\n",
       "      <td>234</td>\n",
       "      <td>0.016528</td>\n",
       "      <td>{'external_urls': {'spotify': 'https://open.sp...</td>\n",
       "      <td>[alternative rock, funk metal, funk rock, perm...</td>\n",
       "      <td>rock</td>\n",
       "      <td>15833481</td>\n",
       "    </tr>\n",
       "    <tr>\n",
       "      <th>11551</th>\n",
       "      <td>0007e26aafcfc0b6dcb87d7041583fbb7cced88a</td>\n",
       "      <td>8bfac288-ccc5-448d-9573-c33ea2aa5c30</td>\n",
       "      <td>red hot chili peppers</td>\n",
       "      <td>159</td>\n",
       "      <td>0.024473</td>\n",
       "      <td>{'external_urls': {'spotify': 'https://open.sp...</td>\n",
       "      <td>[alternative rock, funk metal, funk rock, perm...</td>\n",
       "      <td>rock</td>\n",
       "      <td>15833481</td>\n",
       "    </tr>\n",
       "    <tr>\n",
       "      <th>11552</th>\n",
       "      <td>000b0bb32f149504e1df3cce85b6bfd20cef3dd0</td>\n",
       "      <td>8bfac288-ccc5-448d-9573-c33ea2aa5c30</td>\n",
       "      <td>red hot chili peppers</td>\n",
       "      <td>46</td>\n",
       "      <td>0.004650</td>\n",
       "      <td>{'external_urls': {'spotify': 'https://open.sp...</td>\n",
       "      <td>[alternative rock, funk metal, funk rock, perm...</td>\n",
       "      <td>rock</td>\n",
       "      <td>15833481</td>\n",
       "    </tr>\n",
       "    <tr>\n",
       "      <th>11553</th>\n",
       "      <td>000b2ee840cbda56e0f41c8f248c4fb7ee275db3</td>\n",
       "      <td>8bfac288-ccc5-448d-9573-c33ea2aa5c30</td>\n",
       "      <td>red hot chili peppers</td>\n",
       "      <td>87</td>\n",
       "      <td>0.009189</td>\n",
       "      <td>{'external_urls': {'spotify': 'https://open.sp...</td>\n",
       "      <td>[alternative rock, funk metal, funk rock, perm...</td>\n",
       "      <td>rock</td>\n",
       "      <td>15833481</td>\n",
       "    </tr>\n",
       "    <tr>\n",
       "      <th>...</th>\n",
       "      <td>...</td>\n",
       "      <td>...</td>\n",
       "      <td>...</td>\n",
       "      <td>...</td>\n",
       "      <td>...</td>\n",
       "      <td>...</td>\n",
       "      <td>...</td>\n",
       "      <td>...</td>\n",
       "      <td>...</td>\n",
       "    </tr>\n",
       "    <tr>\n",
       "      <th>15547851</th>\n",
       "      <td>d20a1f4cf8c57854033155fe0f00df287607b65e</td>\n",
       "      <td>e6fe63ef-5fb8-4f83-a59d-fc13d85d5454</td>\n",
       "      <td>joe jackson band</td>\n",
       "      <td>141</td>\n",
       "      <td>0.011405</td>\n",
       "      <td>{'external_urls': {'spotify': 'https://open.sp...</td>\n",
       "      <td>[album rock, art rock, classic rock, classic u...</td>\n",
       "      <td>rock</td>\n",
       "      <td>263716</td>\n",
       "    </tr>\n",
       "    <tr>\n",
       "      <th>15547852</th>\n",
       "      <td>d77ad46a66cde6391040d20e00828b9fcc427f1a</td>\n",
       "      <td>e6fe63ef-5fb8-4f83-a59d-fc13d85d5454</td>\n",
       "      <td>joe jackson band</td>\n",
       "      <td>4</td>\n",
       "      <td>0.021978</td>\n",
       "      <td>{'external_urls': {'spotify': 'https://open.sp...</td>\n",
       "      <td>[album rock, art rock, classic rock, classic u...</td>\n",
       "      <td>rock</td>\n",
       "      <td>263716</td>\n",
       "    </tr>\n",
       "    <tr>\n",
       "      <th>15547853</th>\n",
       "      <td>d8773c223484c42c8c49a5faa3ad8cd32e2a86d6</td>\n",
       "      <td>e6fe63ef-5fb8-4f83-a59d-fc13d85d5454</td>\n",
       "      <td>joe jackson band</td>\n",
       "      <td>4</td>\n",
       "      <td>0.012346</td>\n",
       "      <td>{'external_urls': {'spotify': 'https://open.sp...</td>\n",
       "      <td>[album rock, art rock, classic rock, classic u...</td>\n",
       "      <td>rock</td>\n",
       "      <td>263716</td>\n",
       "    </tr>\n",
       "    <tr>\n",
       "      <th>15547854</th>\n",
       "      <td>d9dbb3881fa3829f2979298839e523ceae1d2f90</td>\n",
       "      <td>e6fe63ef-5fb8-4f83-a59d-fc13d85d5454</td>\n",
       "      <td>joe jackson band</td>\n",
       "      <td>268</td>\n",
       "      <td>0.011484</td>\n",
       "      <td>{'external_urls': {'spotify': 'https://open.sp...</td>\n",
       "      <td>[album rock, art rock, classic rock, classic u...</td>\n",
       "      <td>rock</td>\n",
       "      <td>263716</td>\n",
       "    </tr>\n",
       "    <tr>\n",
       "      <th>15547855</th>\n",
       "      <td>fb9f2a1bb215d5d7787e095d68aab96f935e9d69</td>\n",
       "      <td>e6fe63ef-5fb8-4f83-a59d-fc13d85d5454</td>\n",
       "      <td>joe jackson band</td>\n",
       "      <td>265</td>\n",
       "      <td>0.011478</td>\n",
       "      <td>{'external_urls': {'spotify': 'https://open.sp...</td>\n",
       "      <td>[album rock, art rock, classic rock, classic u...</td>\n",
       "      <td>rock</td>\n",
       "      <td>263716</td>\n",
       "    </tr>\n",
       "  </tbody>\n",
       "</table>\n",
       "<p>2948667 rows × 9 columns</p>\n",
       "</div>"
      ],
      "text/plain": [
       "                                                ID  \\\n",
       "11549     00000c289a1829a808ac09c00daf10bc3c4e223b   \n",
       "11550     000429493d9716b66b02180d208d09b5b89fbe64   \n",
       "11551     0007e26aafcfc0b6dcb87d7041583fbb7cced88a   \n",
       "11552     000b0bb32f149504e1df3cce85b6bfd20cef3dd0   \n",
       "11553     000b2ee840cbda56e0f41c8f248c4fb7ee275db3   \n",
       "...                                            ...   \n",
       "15547851  d20a1f4cf8c57854033155fe0f00df287607b65e   \n",
       "15547852  d77ad46a66cde6391040d20e00828b9fcc427f1a   \n",
       "15547853  d8773c223484c42c8c49a5faa3ad8cd32e2a86d6   \n",
       "15547854  d9dbb3881fa3829f2979298839e523ceae1d2f90   \n",
       "15547855  fb9f2a1bb215d5d7787e095d68aab96f935e9d69   \n",
       "\n",
       "                                     Artist_ID                 Artist  Plays  \\\n",
       "11549     8bfac288-ccc5-448d-9573-c33ea2aa5c30  red hot chili peppers    691   \n",
       "11550     8bfac288-ccc5-448d-9573-c33ea2aa5c30  red hot chili peppers    234   \n",
       "11551     8bfac288-ccc5-448d-9573-c33ea2aa5c30  red hot chili peppers    159   \n",
       "11552     8bfac288-ccc5-448d-9573-c33ea2aa5c30  red hot chili peppers     46   \n",
       "11553     8bfac288-ccc5-448d-9573-c33ea2aa5c30  red hot chili peppers     87   \n",
       "...                                        ...                    ...    ...   \n",
       "15547851  e6fe63ef-5fb8-4f83-a59d-fc13d85d5454       joe jackson band    141   \n",
       "15547852  e6fe63ef-5fb8-4f83-a59d-fc13d85d5454       joe jackson band      4   \n",
       "15547853  e6fe63ef-5fb8-4f83-a59d-fc13d85d5454       joe jackson band      4   \n",
       "15547854  e6fe63ef-5fb8-4f83-a59d-fc13d85d5454       joe jackson band    268   \n",
       "15547855  e6fe63ef-5fb8-4f83-a59d-fc13d85d5454       joe jackson band    265   \n",
       "\n",
       "           Percent                                               Info  \\\n",
       "11549     0.041338  {'external_urls': {'spotify': 'https://open.sp...   \n",
       "11550     0.016528  {'external_urls': {'spotify': 'https://open.sp...   \n",
       "11551     0.024473  {'external_urls': {'spotify': 'https://open.sp...   \n",
       "11552     0.004650  {'external_urls': {'spotify': 'https://open.sp...   \n",
       "11553     0.009189  {'external_urls': {'spotify': 'https://open.sp...   \n",
       "...            ...                                                ...   \n",
       "15547851  0.011405  {'external_urls': {'spotify': 'https://open.sp...   \n",
       "15547852  0.021978  {'external_urls': {'spotify': 'https://open.sp...   \n",
       "15547853  0.012346  {'external_urls': {'spotify': 'https://open.sp...   \n",
       "15547854  0.011484  {'external_urls': {'spotify': 'https://open.sp...   \n",
       "15547855  0.011478  {'external_urls': {'spotify': 'https://open.sp...   \n",
       "\n",
       "                                                     Genres best_genre  \\\n",
       "11549     [alternative rock, funk metal, funk rock, perm...       rock   \n",
       "11550     [alternative rock, funk metal, funk rock, perm...       rock   \n",
       "11551     [alternative rock, funk metal, funk rock, perm...       rock   \n",
       "11552     [alternative rock, funk metal, funk rock, perm...       rock   \n",
       "11553     [alternative rock, funk metal, funk rock, perm...       rock   \n",
       "...                                                     ...        ...   \n",
       "15547851  [album rock, art rock, classic rock, classic u...       rock   \n",
       "15547852  [album rock, art rock, classic rock, classic u...       rock   \n",
       "15547853  [album rock, art rock, classic rock, classic u...       rock   \n",
       "15547854  [album rock, art rock, classic rock, classic u...       rock   \n",
       "15547855  [album rock, art rock, classic rock, classic u...       rock   \n",
       "\n",
       "          Popularity  \n",
       "11549       15833481  \n",
       "11550       15833481  \n",
       "11551       15833481  \n",
       "11552       15833481  \n",
       "11553       15833481  \n",
       "...              ...  \n",
       "15547851      263716  \n",
       "15547852      263716  \n",
       "15547853      263716  \n",
       "15547854      263716  \n",
       "15547855      263716  \n",
       "\n",
       "[2948667 rows x 9 columns]"
      ]
     },
     "execution_count": 29,
     "metadata": {},
     "output_type": "execute_result"
    }
   ],
   "source": [
    "all_data[all_data['best_genre'] == 'rock']"
   ]
  },
  {
   "cell_type": "code",
   "execution_count": 33,
   "metadata": {},
   "outputs": [
    {
     "data": {
      "text/html": [
       "<div>\n",
       "<style scoped>\n",
       "    .dataframe tbody tr th:only-of-type {\n",
       "        vertical-align: middle;\n",
       "    }\n",
       "\n",
       "    .dataframe tbody tr th {\n",
       "        vertical-align: top;\n",
       "    }\n",
       "\n",
       "    .dataframe thead th {\n",
       "        text-align: right;\n",
       "    }\n",
       "</style>\n",
       "<table border=\"1\" class=\"dataframe\">\n",
       "  <thead>\n",
       "    <tr style=\"text-align: right;\">\n",
       "      <th></th>\n",
       "      <th>Artist</th>\n",
       "    </tr>\n",
       "  </thead>\n",
       "  <tbody>\n",
       "    <tr>\n",
       "      <th>0</th>\n",
       "      <td>!!!</td>\n",
       "    </tr>\n",
       "    <tr>\n",
       "      <th>1</th>\n",
       "      <td>#####</td>\n",
       "    </tr>\n",
       "    <tr>\n",
       "      <th>2</th>\n",
       "      <td>(hed) planet earth</td>\n",
       "    </tr>\n",
       "    <tr>\n",
       "      <th>3</th>\n",
       "      <td>*nsync</td>\n",
       "    </tr>\n",
       "    <tr>\n",
       "      <th>4</th>\n",
       "      <td>+44</td>\n",
       "    </tr>\n",
       "    <tr>\n",
       "      <th>...</th>\n",
       "      <td>...</td>\n",
       "    </tr>\n",
       "    <tr>\n",
       "      <th>5175</th>\n",
       "      <td>椎名林檎</td>\n",
       "    </tr>\n",
       "    <tr>\n",
       "      <th>5176</th>\n",
       "      <td>浜崎あゆみ</td>\n",
       "    </tr>\n",
       "    <tr>\n",
       "      <th>5177</th>\n",
       "      <td>菅野よう子</td>\n",
       "    </tr>\n",
       "    <tr>\n",
       "      <th>5178</th>\n",
       "      <td>近藤浩治</td>\n",
       "    </tr>\n",
       "    <tr>\n",
       "      <th>5179</th>\n",
       "      <td>동방신기</td>\n",
       "    </tr>\n",
       "  </tbody>\n",
       "</table>\n",
       "<p>5180 rows × 1 columns</p>\n",
       "</div>"
      ],
      "text/plain": [
       "                  Artist\n",
       "0                    !!!\n",
       "1                  #####\n",
       "2     (hed) planet earth\n",
       "3                 *nsync\n",
       "4                    +44\n",
       "...                  ...\n",
       "5175                椎名林檎\n",
       "5176               浜崎あゆみ\n",
       "5177               菅野よう子\n",
       "5178                近藤浩治\n",
       "5179                동방신기\n",
       "\n",
       "[5180 rows x 1 columns]"
      ]
     },
     "execution_count": 33,
     "metadata": {},
     "output_type": "execute_result"
    }
   ],
   "source": [
    "# We need to use this on the merged dataset\n",
    "multipleUsers = nbUser[nbUser > 500].reset_index()[['Artist']]\n",
    "multipleUsers"
   ]
  },
  {
   "cell_type": "code",
   "execution_count": null,
   "metadata": {},
   "outputs": [],
   "source": []
  }
 ],
 "metadata": {
  "kernelspec": {
   "display_name": "Python 3",
   "language": "python",
   "name": "python3"
  },
  "language_info": {
   "codemirror_mode": {
    "name": "ipython",
    "version": 3
   },
   "file_extension": ".py",
   "mimetype": "text/x-python",
   "name": "python",
   "nbconvert_exporter": "python",
   "pygments_lexer": "ipython3",
   "version": "3.8.5"
  }
 },
 "nbformat": 4,
 "nbformat_minor": 4
}
