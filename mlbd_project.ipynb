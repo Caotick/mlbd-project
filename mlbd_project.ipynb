{
 "cells": [
  {
   "cell_type": "markdown",
   "metadata": {},
   "source": [
    "# MLBD : Project on the music dataset\n",
    "\n",
    "The base subject is : Predicting a playlist that satisfies group members (e.g., to decide the music to play in a party). By playlist we mean a set of artists.\n",
    "\n",
    "Research questions : \n",
    "- Can we generate a playlist of artists for multiple users based on what they listened?"
   ]
  },
  {
   "cell_type": "markdown",
   "metadata": {},
   "source": [
    "### 1. Imports"
   ]
  },
  {
   "cell_type": "code",
   "execution_count": 72,
   "metadata": {},
   "outputs": [],
   "source": [
    "import numpy as np\n",
    "import pandas as pd\n",
    "import matplotlib.pyplot as plt\n",
    "import seaborn as sns\n",
    "import time\n",
    "\n",
    "#import spotipy\n",
    "#from spotipy.oauth2 import SpotifyClientCredentials, SpotifyOAuth\n",
    "#import credentials\n",
    "import ast\n",
    "import os"
   ]
  },
  {
   "cell_type": "code",
   "execution_count": 2,
   "metadata": {},
   "outputs": [],
   "source": [
    "#sp = spotipy.Spotify(auth_manager = SpotifyClientCredentials(client_id = credentials.clientId, client_secret = credentials.clientSecret))"
   ]
  },
  {
   "cell_type": "markdown",
   "metadata": {},
   "source": [
    "### 2. Load the data"
   ]
  },
  {
   "cell_type": "code",
   "execution_count": 3,
   "metadata": {
    "jupyter": {
     "outputs_hidden": true
    }
   },
   "outputs": [],
   "source": [
    "DATA_FOLDER = 'data/'\n",
    "TOP_FOLDER = DATA_FOLDER + 'lastfm-dataset-360k/'\n",
    "TIMELINE_FOLDER = DATA_FOLDER + 'lastfm-dataset-1k/'\n",
    "\n",
    "#Using just the artists\n",
    "top_user = pd.read_csv(TOP_FOLDER + 'usersha1-profile.tsv', sep = '\\t', error_bad_lines = False, header = None)\n",
    "top_data = pd.read_csv(TOP_FOLDER + 'usersha1-artmbid-artname-plays.tsv', sep = '\\t', error_bad_lines = False, header = None)\n",
    "\n",
    "# This file was created using the data expansion done in part 3\n",
    "spotify_data = pd.read_csv(DATA_FOLDER + 'full_spotify_info.csv', error_bad_lines = False, header = 0)\n",
    "\n",
    "#timeline_user = pd.read_csv(TIMELINE_FOLDER + 'userid-profile.tsv', sep = '\\t', error_bad_lines = False, header = 0)\n",
    "#timeline_data = pd.read_csv(TIMELINE_FOLDER + 'userid-timestamp-artid-artname-traid-traname.tsv', sep = '\\t', error_bad_lines = False, header = None)"
   ]
  },
  {
   "cell_type": "code",
   "execution_count": 4,
   "metadata": {},
   "outputs": [
    {
     "data": {
      "text/html": [
       "<div>\n",
       "<style scoped>\n",
       "    .dataframe tbody tr th:only-of-type {\n",
       "        vertical-align: middle;\n",
       "    }\n",
       "\n",
       "    .dataframe tbody tr th {\n",
       "        vertical-align: top;\n",
       "    }\n",
       "\n",
       "    .dataframe thead th {\n",
       "        text-align: right;\n",
       "    }\n",
       "</style>\n",
       "<table border=\"1\" class=\"dataframe\">\n",
       "  <thead>\n",
       "    <tr style=\"text-align: right;\">\n",
       "      <th></th>\n",
       "      <th>0</th>\n",
       "      <th>1</th>\n",
       "      <th>2</th>\n",
       "      <th>3</th>\n",
       "      <th>4</th>\n",
       "    </tr>\n",
       "  </thead>\n",
       "  <tbody>\n",
       "    <tr>\n",
       "      <th>0</th>\n",
       "      <td>00000c289a1829a808ac09c00daf10bc3c4e223b</td>\n",
       "      <td>f</td>\n",
       "      <td>22.0</td>\n",
       "      <td>Germany</td>\n",
       "      <td>Feb 1, 2007</td>\n",
       "    </tr>\n",
       "    <tr>\n",
       "      <th>1</th>\n",
       "      <td>00001411dc427966b17297bf4d69e7e193135d89</td>\n",
       "      <td>f</td>\n",
       "      <td>NaN</td>\n",
       "      <td>Canada</td>\n",
       "      <td>Dec 4, 2007</td>\n",
       "    </tr>\n",
       "    <tr>\n",
       "      <th>2</th>\n",
       "      <td>00004d2ac9316e22dc007ab2243d6fcb239e707d</td>\n",
       "      <td>NaN</td>\n",
       "      <td>NaN</td>\n",
       "      <td>Germany</td>\n",
       "      <td>Sep 1, 2006</td>\n",
       "    </tr>\n",
       "    <tr>\n",
       "      <th>3</th>\n",
       "      <td>000063d3fe1cf2ba248b9e3c3f0334845a27a6bf</td>\n",
       "      <td>m</td>\n",
       "      <td>19.0</td>\n",
       "      <td>Mexico</td>\n",
       "      <td>Apr 28, 2008</td>\n",
       "    </tr>\n",
       "    <tr>\n",
       "      <th>4</th>\n",
       "      <td>00007a47085b9aab8af55f52ec8846ac479ac4fe</td>\n",
       "      <td>m</td>\n",
       "      <td>28.0</td>\n",
       "      <td>United States</td>\n",
       "      <td>Jan 27, 2006</td>\n",
       "    </tr>\n",
       "  </tbody>\n",
       "</table>\n",
       "</div>"
      ],
      "text/plain": [
       "                                          0    1     2              3  \\\n",
       "0  00000c289a1829a808ac09c00daf10bc3c4e223b    f  22.0        Germany   \n",
       "1  00001411dc427966b17297bf4d69e7e193135d89    f   NaN         Canada   \n",
       "2  00004d2ac9316e22dc007ab2243d6fcb239e707d  NaN   NaN        Germany   \n",
       "3  000063d3fe1cf2ba248b9e3c3f0334845a27a6bf    m  19.0         Mexico   \n",
       "4  00007a47085b9aab8af55f52ec8846ac479ac4fe    m  28.0  United States   \n",
       "\n",
       "              4  \n",
       "0   Feb 1, 2007  \n",
       "1   Dec 4, 2007  \n",
       "2   Sep 1, 2006  \n",
       "3  Apr 28, 2008  \n",
       "4  Jan 27, 2006  "
      ]
     },
     "execution_count": 4,
     "metadata": {},
     "output_type": "execute_result"
    }
   ],
   "source": [
    "top_user.head()"
   ]
  },
  {
   "cell_type": "code",
   "execution_count": 5,
   "metadata": {},
   "outputs": [
    {
     "data": {
      "text/html": [
       "<div>\n",
       "<style scoped>\n",
       "    .dataframe tbody tr th:only-of-type {\n",
       "        vertical-align: middle;\n",
       "    }\n",
       "\n",
       "    .dataframe tbody tr th {\n",
       "        vertical-align: top;\n",
       "    }\n",
       "\n",
       "    .dataframe thead th {\n",
       "        text-align: right;\n",
       "    }\n",
       "</style>\n",
       "<table border=\"1\" class=\"dataframe\">\n",
       "  <thead>\n",
       "    <tr style=\"text-align: right;\">\n",
       "      <th></th>\n",
       "      <th>0</th>\n",
       "      <th>1</th>\n",
       "      <th>2</th>\n",
       "      <th>3</th>\n",
       "    </tr>\n",
       "  </thead>\n",
       "  <tbody>\n",
       "    <tr>\n",
       "      <th>0</th>\n",
       "      <td>00000c289a1829a808ac09c00daf10bc3c4e223b</td>\n",
       "      <td>3bd73256-3905-4f3a-97e2-8b341527f805</td>\n",
       "      <td>betty blowtorch</td>\n",
       "      <td>2137</td>\n",
       "    </tr>\n",
       "    <tr>\n",
       "      <th>1</th>\n",
       "      <td>00000c289a1829a808ac09c00daf10bc3c4e223b</td>\n",
       "      <td>f2fb0ff0-5679-42ec-a55c-15109ce6e320</td>\n",
       "      <td>die Ärzte</td>\n",
       "      <td>1099</td>\n",
       "    </tr>\n",
       "    <tr>\n",
       "      <th>2</th>\n",
       "      <td>00000c289a1829a808ac09c00daf10bc3c4e223b</td>\n",
       "      <td>b3ae82c2-e60b-4551-a76d-6620f1b456aa</td>\n",
       "      <td>melissa etheridge</td>\n",
       "      <td>897</td>\n",
       "    </tr>\n",
       "    <tr>\n",
       "      <th>3</th>\n",
       "      <td>00000c289a1829a808ac09c00daf10bc3c4e223b</td>\n",
       "      <td>3d6bbeb7-f90e-4d10-b440-e153c0d10b53</td>\n",
       "      <td>elvenking</td>\n",
       "      <td>717</td>\n",
       "    </tr>\n",
       "    <tr>\n",
       "      <th>4</th>\n",
       "      <td>00000c289a1829a808ac09c00daf10bc3c4e223b</td>\n",
       "      <td>bbd2ffd7-17f4-4506-8572-c1ea58c3f9a8</td>\n",
       "      <td>juliette &amp; the licks</td>\n",
       "      <td>706</td>\n",
       "    </tr>\n",
       "  </tbody>\n",
       "</table>\n",
       "</div>"
      ],
      "text/plain": [
       "                                          0  \\\n",
       "0  00000c289a1829a808ac09c00daf10bc3c4e223b   \n",
       "1  00000c289a1829a808ac09c00daf10bc3c4e223b   \n",
       "2  00000c289a1829a808ac09c00daf10bc3c4e223b   \n",
       "3  00000c289a1829a808ac09c00daf10bc3c4e223b   \n",
       "4  00000c289a1829a808ac09c00daf10bc3c4e223b   \n",
       "\n",
       "                                      1                     2     3  \n",
       "0  3bd73256-3905-4f3a-97e2-8b341527f805       betty blowtorch  2137  \n",
       "1  f2fb0ff0-5679-42ec-a55c-15109ce6e320             die Ärzte  1099  \n",
       "2  b3ae82c2-e60b-4551-a76d-6620f1b456aa     melissa etheridge   897  \n",
       "3  3d6bbeb7-f90e-4d10-b440-e153c0d10b53             elvenking   717  \n",
       "4  bbd2ffd7-17f4-4506-8572-c1ea58c3f9a8  juliette & the licks   706  "
      ]
     },
     "execution_count": 5,
     "metadata": {},
     "output_type": "execute_result"
    }
   ],
   "source": [
    "top_data.head()"
   ]
  },
  {
   "cell_type": "markdown",
   "metadata": {},
   "source": [
    "As we see, the columns have not proper names, we reformat them in this cell:"
   ]
  },
  {
   "cell_type": "code",
   "execution_count": 6,
   "metadata": {},
   "outputs": [],
   "source": [
    "#Need to rename the columns\n",
    "top_user.rename(columns = {0 : 'ID', 1 : 'Gender', 2 : 'Age', 3 : 'Country', 4 : 'Registered'}, inplace = True)\n",
    "top_data.rename(columns = {0 : 'ID', 1 : 'Artist_ID', 2 : 'Artist', 3 : 'Plays'}, inplace = True)"
   ]
  },
  {
   "cell_type": "code",
   "execution_count": 7,
   "metadata": {},
   "outputs": [
    {
     "data": {
      "text/plain": [
       "(359347, 5)"
      ]
     },
     "execution_count": 7,
     "metadata": {},
     "output_type": "execute_result"
    }
   ],
   "source": [
    "top_user.shape"
   ]
  },
  {
   "cell_type": "code",
   "execution_count": 8,
   "metadata": {
    "scrolled": true
   },
   "outputs": [
    {
     "data": {
      "text/plain": [
       "(17535655, 4)"
      ]
     },
     "execution_count": 8,
     "metadata": {},
     "output_type": "execute_result"
    }
   ],
   "source": [
    "top_data.shape"
   ]
  },
  {
   "cell_type": "markdown",
   "metadata": {},
   "source": [
    "We have 359'347 users in the users dataset and 17'535'655 entries of type (user, Artist, Plays)"
   ]
  },
  {
   "cell_type": "code",
   "execution_count": 9,
   "metadata": {},
   "outputs": [
    {
     "name": "stdout",
     "output_type": "stream",
     "text": [
      "ID                0\n",
      "Gender        32775\n",
      "Age           74900\n",
      "Country           0\n",
      "Registered        0\n",
      "dtype: int64 \n",
      "\n",
      "ID                0\n",
      "Artist_ID    226137\n",
      "Artist          204\n",
      "Plays             0\n",
      "dtype: int64 \n",
      "\n"
     ]
    }
   ],
   "source": [
    "# we'll check the number of NaNs for each dataset\n",
    "print(top_user.isna().sum(), '\\n')\n",
    "print(top_data.isna().sum(), '\\n')"
   ]
  },
  {
   "cell_type": "markdown",
   "metadata": {},
   "source": [
    "There is no missing entries for the user dataset, however we miss a lot of artist_ID and some artists name. We therefore remove the 204 artists with no name as there we can't recommand them."
   ]
  },
  {
   "cell_type": "code",
   "execution_count": 10,
   "metadata": {},
   "outputs": [],
   "source": [
    "to_drop = top_data[top_data['Artist'].isna()].index\n",
    "top_data = top_data.drop(to_drop)"
   ]
  },
  {
   "cell_type": "markdown",
   "metadata": {},
   "source": [
    "Let's see how many artists we have and users that have at least listen to one music:"
   ]
  },
  {
   "cell_type": "code",
   "execution_count": 11,
   "metadata": {},
   "outputs": [
    {
     "name": "stdout",
     "output_type": "stream",
     "text": [
      "The dataset has 292363 artists\n"
     ]
    }
   ],
   "source": [
    "print(f\"The dataset has {len(top_data.groupby('Artist').count())} artists\")"
   ]
  },
  {
   "cell_type": "code",
   "execution_count": 12,
   "metadata": {},
   "outputs": [
    {
     "name": "stdout",
     "output_type": "stream",
     "text": [
      "The music dataset has 358868 users, meaning that 479 did not listen to anything and have therefore no matching entries\n"
     ]
    }
   ],
   "source": [
    "nb_users_in_top_data = len(top_data.groupby('ID').count())\n",
    "print(f\"The music dataset has {nb_users_in_top_data} users, meaning that {359347-nb_users_in_top_data} did not listen to anything and have therefore no matching entries\")"
   ]
  },
  {
   "cell_type": "markdown",
   "metadata": {},
   "source": [
    "### 3. Data expansion using spotify API"
   ]
  },
  {
   "cell_type": "code",
   "execution_count": 13,
   "metadata": {},
   "outputs": [],
   "source": [
    "import time\n",
    "def spotipySearch(x) :\n",
    "    s = sp.search(q = 'artist:' + str(x), type = 'artist')\n",
    "    inter = s['artists']['items']\n",
    "    if(len(inter) > 0) :\n",
    "        inter[0]\n",
    "        time.sleep(1) \n",
    "    else :\n",
    "        return []\n",
    "        time.sleep(1)"
   ]
  },
  {
   "cell_type": "code",
   "execution_count": 14,
   "metadata": {},
   "outputs": [
    {
     "data": {
      "text/plain": [
       "44623"
      ]
     },
     "execution_count": 14,
     "metadata": {},
     "output_type": "execute_result"
    }
   ],
   "source": [
    "nbUser = top_data.groupby(by = 'Artist').size()\n",
    "multipleUsers = nbUser[nbUser > 20].reset_index()[['Artist']] #We take artists that have more than 20 users listening to them\n",
    "mostListened = top_data[top_data['Plays'] > 50][['Artist']] #As well as more than 50 total Plays\n",
    "filteredArtist = multipleUsers.merge(mostListened, on = 'Artist')['Artist'].unique()\n",
    "filteredArtist.size"
   ]
  },
  {
   "cell_type": "code",
   "execution_count": 15,
   "metadata": {},
   "outputs": [
    {
     "data": {
      "text/html": [
       "<div>\n",
       "<style scoped>\n",
       "    .dataframe tbody tr th:only-of-type {\n",
       "        vertical-align: middle;\n",
       "    }\n",
       "\n",
       "    .dataframe tbody tr th {\n",
       "        vertical-align: top;\n",
       "    }\n",
       "\n",
       "    .dataframe thead th {\n",
       "        text-align: right;\n",
       "    }\n",
       "</style>\n",
       "<table border=\"1\" class=\"dataframe\">\n",
       "  <thead>\n",
       "    <tr style=\"text-align: right;\">\n",
       "      <th></th>\n",
       "      <th>Artist</th>\n",
       "    </tr>\n",
       "  </thead>\n",
       "  <tbody>\n",
       "    <tr>\n",
       "      <th>0</th>\n",
       "      <td>!!!</td>\n",
       "    </tr>\n",
       "    <tr>\n",
       "      <th>1</th>\n",
       "      <td>!action pact!</td>\n",
       "    </tr>\n",
       "    <tr>\n",
       "      <th>2</th>\n",
       "      <td>!deladap</td>\n",
       "    </tr>\n",
       "    <tr>\n",
       "      <th>3</th>\n",
       "      <td>!distain</td>\n",
       "    </tr>\n",
       "    <tr>\n",
       "      <th>4</th>\n",
       "      <td>!t.o.o.h.!</td>\n",
       "    </tr>\n",
       "  </tbody>\n",
       "</table>\n",
       "</div>"
      ],
      "text/plain": [
       "          Artist\n",
       "0            !!!\n",
       "1  !action pact!\n",
       "2       !deladap\n",
       "3       !distain\n",
       "4     !t.o.o.h.!"
      ]
     },
     "execution_count": 15,
     "metadata": {},
     "output_type": "execute_result"
    }
   ],
   "source": [
    "top_data_genre = pd.DataFrame(data = {'Artist' : filteredArtist})\n",
    "top_data_genre.head()"
   ]
  },
  {
   "cell_type": "code",
   "execution_count": 16,
   "metadata": {},
   "outputs": [
    {
     "data": {
      "text/html": [
       "<div>\n",
       "<style scoped>\n",
       "    .dataframe tbody tr th:only-of-type {\n",
       "        vertical-align: middle;\n",
       "    }\n",
       "\n",
       "    .dataframe tbody tr th {\n",
       "        vertical-align: top;\n",
       "    }\n",
       "\n",
       "    .dataframe thead th {\n",
       "        text-align: right;\n",
       "    }\n",
       "</style>\n",
       "<table border=\"1\" class=\"dataframe\">\n",
       "  <thead>\n",
       "    <tr style=\"text-align: right;\">\n",
       "      <th></th>\n",
       "      <th>Artist</th>\n",
       "    </tr>\n",
       "  </thead>\n",
       "  <tbody>\n",
       "    <tr>\n",
       "      <th>0</th>\n",
       "      <td>!!!</td>\n",
       "    </tr>\n",
       "    <tr>\n",
       "      <th>1</th>\n",
       "      <td>!action pact!</td>\n",
       "    </tr>\n",
       "    <tr>\n",
       "      <th>2</th>\n",
       "      <td>!deladap</td>\n",
       "    </tr>\n",
       "    <tr>\n",
       "      <th>3</th>\n",
       "      <td>!distain</td>\n",
       "    </tr>\n",
       "    <tr>\n",
       "      <th>4</th>\n",
       "      <td>!t.o.o.h.!</td>\n",
       "    </tr>\n",
       "  </tbody>\n",
       "</table>\n",
       "</div>"
      ],
      "text/plain": [
       "          Artist\n",
       "0            !!!\n",
       "1  !action pact!\n",
       "2       !deladap\n",
       "3       !distain\n",
       "4     !t.o.o.h.!"
      ]
     },
     "execution_count": 16,
     "metadata": {},
     "output_type": "execute_result"
    }
   ],
   "source": [
    "#top_data_genre['Info'] = top_data_genre.Artist.apply(lambda x: spotipySearch(x))\n",
    "top_data_genre.head()"
   ]
  },
  {
   "cell_type": "code",
   "execution_count": 17,
   "metadata": {},
   "outputs": [],
   "source": [
    "#top_data_genre.to_csv(DATA_FOLDER + 'full_spotify_correct_info.csv', index = False)"
   ]
  },
  {
   "cell_type": "markdown",
   "metadata": {},
   "source": [
    "### 4.Spotify API Data analysis"
   ]
  },
  {
   "cell_type": "markdown",
   "metadata": {},
   "source": [
    "We first need to change the Info column from a string to a dictionary"
   ]
  },
  {
   "cell_type": "code",
   "execution_count": 18,
   "metadata": {},
   "outputs": [
    {
     "data": {
      "text/html": [
       "<div>\n",
       "<style scoped>\n",
       "    .dataframe tbody tr th:only-of-type {\n",
       "        vertical-align: middle;\n",
       "    }\n",
       "\n",
       "    .dataframe tbody tr th {\n",
       "        vertical-align: top;\n",
       "    }\n",
       "\n",
       "    .dataframe thead th {\n",
       "        text-align: right;\n",
       "    }\n",
       "</style>\n",
       "<table border=\"1\" class=\"dataframe\">\n",
       "  <thead>\n",
       "    <tr style=\"text-align: right;\">\n",
       "      <th></th>\n",
       "      <th>Artist</th>\n",
       "      <th>Info</th>\n",
       "    </tr>\n",
       "  </thead>\n",
       "  <tbody>\n",
       "    <tr>\n",
       "      <th>0</th>\n",
       "      <td>!!!</td>\n",
       "      <td>{'external_urls': {'spotify': 'https://open.sp...</td>\n",
       "    </tr>\n",
       "    <tr>\n",
       "      <th>1</th>\n",
       "      <td>!action pact!</td>\n",
       "      <td>{'external_urls': {'spotify': 'https://open.sp...</td>\n",
       "    </tr>\n",
       "    <tr>\n",
       "      <th>2</th>\n",
       "      <td>!deladap</td>\n",
       "      <td>{'external_urls': {'spotify': 'https://open.sp...</td>\n",
       "    </tr>\n",
       "    <tr>\n",
       "      <th>3</th>\n",
       "      <td>!distain</td>\n",
       "      <td>{'external_urls': {'spotify': 'https://open.sp...</td>\n",
       "    </tr>\n",
       "    <tr>\n",
       "      <th>4</th>\n",
       "      <td>!t.o.o.h.!</td>\n",
       "      <td>{'external_urls': {'spotify': 'https://open.sp...</td>\n",
       "    </tr>\n",
       "  </tbody>\n",
       "</table>\n",
       "</div>"
      ],
      "text/plain": [
       "          Artist                                               Info\n",
       "0            !!!  {'external_urls': {'spotify': 'https://open.sp...\n",
       "1  !action pact!  {'external_urls': {'spotify': 'https://open.sp...\n",
       "2       !deladap  {'external_urls': {'spotify': 'https://open.sp...\n",
       "3       !distain  {'external_urls': {'spotify': 'https://open.sp...\n",
       "4     !t.o.o.h.!  {'external_urls': {'spotify': 'https://open.sp..."
      ]
     },
     "execution_count": 18,
     "metadata": {},
     "output_type": "execute_result"
    }
   ],
   "source": [
    "add_data = spotify_data.copy()\n",
    "add_data['Info'] = add_data['Info'].map(lambda x: x if isinstance(x, str) else \"{}\").map(lambda x: ast.literal_eval(x))\n",
    "add_data.head()"
   ]
  },
  {
   "cell_type": "code",
   "execution_count": 19,
   "metadata": {},
   "outputs": [
    {
     "data": {
      "text/html": [
       "<div>\n",
       "<style scoped>\n",
       "    .dataframe tbody tr th:only-of-type {\n",
       "        vertical-align: middle;\n",
       "    }\n",
       "\n",
       "    .dataframe tbody tr th {\n",
       "        vertical-align: top;\n",
       "    }\n",
       "\n",
       "    .dataframe thead th {\n",
       "        text-align: right;\n",
       "    }\n",
       "</style>\n",
       "<table border=\"1\" class=\"dataframe\">\n",
       "  <thead>\n",
       "    <tr style=\"text-align: right;\">\n",
       "      <th></th>\n",
       "      <th>Artist</th>\n",
       "      <th>Info</th>\n",
       "      <th>Genres</th>\n",
       "    </tr>\n",
       "  </thead>\n",
       "  <tbody>\n",
       "    <tr>\n",
       "      <th>0</th>\n",
       "      <td>!!!</td>\n",
       "      <td>{'external_urls': {'spotify': 'https://open.sp...</td>\n",
       "      <td>[alternative dance, dance rock, dance-punk, el...</td>\n",
       "    </tr>\n",
       "    <tr>\n",
       "      <th>1</th>\n",
       "      <td>!action pact!</td>\n",
       "      <td>{'external_urls': {'spotify': 'https://open.sp...</td>\n",
       "      <td>[anarcho-punk, uk82]</td>\n",
       "    </tr>\n",
       "    <tr>\n",
       "      <th>2</th>\n",
       "      <td>!deladap</td>\n",
       "      <td>{'external_urls': {'spotify': 'https://open.sp...</td>\n",
       "      <td>[balkan brass, electro swing]</td>\n",
       "    </tr>\n",
       "    <tr>\n",
       "      <th>3</th>\n",
       "      <td>!distain</td>\n",
       "      <td>{'external_urls': {'spotify': 'https://open.sp...</td>\n",
       "      <td>[dark electro, futurepop, neo-synthpop]</td>\n",
       "    </tr>\n",
       "    <tr>\n",
       "      <th>4</th>\n",
       "      <td>!t.o.o.h.!</td>\n",
       "      <td>{'external_urls': {'spotify': 'https://open.sp...</td>\n",
       "      <td>[technical grindcore]</td>\n",
       "    </tr>\n",
       "  </tbody>\n",
       "</table>\n",
       "</div>"
      ],
      "text/plain": [
       "          Artist                                               Info  \\\n",
       "0            !!!  {'external_urls': {'spotify': 'https://open.sp...   \n",
       "1  !action pact!  {'external_urls': {'spotify': 'https://open.sp...   \n",
       "2       !deladap  {'external_urls': {'spotify': 'https://open.sp...   \n",
       "3       !distain  {'external_urls': {'spotify': 'https://open.sp...   \n",
       "4     !t.o.o.h.!  {'external_urls': {'spotify': 'https://open.sp...   \n",
       "\n",
       "                                              Genres  \n",
       "0  [alternative dance, dance rock, dance-punk, el...  \n",
       "1                               [anarcho-punk, uk82]  \n",
       "2                      [balkan brass, electro swing]  \n",
       "3            [dark electro, futurepop, neo-synthpop]  \n",
       "4                              [technical grindcore]  "
      ]
     },
     "execution_count": 19,
     "metadata": {},
     "output_type": "execute_result"
    }
   ],
   "source": [
    "add_data['Genres'] = add_data['Info'].map(lambda x: x['genres'] if len(x) > 0 else [])\n",
    "add_data.head()"
   ]
  },
  {
   "cell_type": "code",
   "execution_count": 20,
   "metadata": {},
   "outputs": [
    {
     "data": {
      "text/plain": [
       "4258"
      ]
     },
     "execution_count": 20,
     "metadata": {},
     "output_type": "execute_result"
    }
   ],
   "source": [
    "genres = add_data['Genres'].tolist()\n",
    "all_genres = [item for sublist in genres for item in sublist]\n",
    "unique_genres = set(all_genres)\n",
    "len(unique_genres)"
   ]
  },
  {
   "cell_type": "code",
   "execution_count": 21,
   "metadata": {},
   "outputs": [
    {
     "data": {
      "text/plain": [
       "[('rock', 665),\n",
       " ('dance pop', 511),\n",
       " ('hip hop', 475),\n",
       " ('country rock', 460),\n",
       " ('pop rock', 454),\n",
       " ('pop', 449),\n",
       " ('rap', 415),\n",
       " ('mellow gold', 412),\n",
       " ('adult standards', 402),\n",
       " ('classic rock', 395),\n",
       " ('alternative metal', 391),\n",
       " ('alternative rock', 387),\n",
       " ('soft rock', 387),\n",
       " ('folk rock', 381),\n",
       " ('pop rap', 366),\n",
       " ('indie rock', 362),\n",
       " ('album rock', 362),\n",
       " ('art rock', 358),\n",
       " ('new wave pop', 357),\n",
       " ('folk', 356),\n",
       " ('urban contemporary', 350),\n",
       " ('hard rock', 349),\n",
       " ('latin', 346),\n",
       " ('funk', 345),\n",
       " ('post-teen pop', 334)]"
      ]
     },
     "execution_count": 21,
     "metadata": {},
     "output_type": "execute_result"
    }
   ],
   "source": [
    "from collections import Counter\n",
    "c = Counter(all_genres)\n",
    "c.most_common(25)"
   ]
  },
  {
   "cell_type": "code",
   "execution_count": 22,
   "metadata": {},
   "outputs": [],
   "source": [
    "def best_genre(l, c) :\n",
    "    best = \"\"\n",
    "    best_num = 0\n",
    "    for elem in l:\n",
    "        if(c[elem] > best_num) :\n",
    "            best = elem\n",
    "            best_num = c[elem]\n",
    "    return best"
   ]
  },
  {
   "cell_type": "code",
   "execution_count": 23,
   "metadata": {},
   "outputs": [
    {
     "data": {
      "text/html": [
       "<div>\n",
       "<style scoped>\n",
       "    .dataframe tbody tr th:only-of-type {\n",
       "        vertical-align: middle;\n",
       "    }\n",
       "\n",
       "    .dataframe tbody tr th {\n",
       "        vertical-align: top;\n",
       "    }\n",
       "\n",
       "    .dataframe thead th {\n",
       "        text-align: right;\n",
       "    }\n",
       "</style>\n",
       "<table border=\"1\" class=\"dataframe\">\n",
       "  <thead>\n",
       "    <tr style=\"text-align: right;\">\n",
       "      <th></th>\n",
       "      <th>Artist</th>\n",
       "      <th>Info</th>\n",
       "      <th>Genres</th>\n",
       "      <th>best_genre</th>\n",
       "    </tr>\n",
       "  </thead>\n",
       "  <tbody>\n",
       "    <tr>\n",
       "      <th>0</th>\n",
       "      <td>!!!</td>\n",
       "      <td>{'external_urls': {'spotify': 'https://open.sp...</td>\n",
       "      <td>[alternative dance, dance rock, dance-punk, el...</td>\n",
       "      <td>electronica</td>\n",
       "    </tr>\n",
       "    <tr>\n",
       "      <th>1</th>\n",
       "      <td>!action pact!</td>\n",
       "      <td>{'external_urls': {'spotify': 'https://open.sp...</td>\n",
       "      <td>[anarcho-punk, uk82]</td>\n",
       "      <td>uk82</td>\n",
       "    </tr>\n",
       "    <tr>\n",
       "      <th>2</th>\n",
       "      <td>!deladap</td>\n",
       "      <td>{'external_urls': {'spotify': 'https://open.sp...</td>\n",
       "      <td>[balkan brass, electro swing]</td>\n",
       "      <td>balkan brass</td>\n",
       "    </tr>\n",
       "    <tr>\n",
       "      <th>3</th>\n",
       "      <td>!distain</td>\n",
       "      <td>{'external_urls': {'spotify': 'https://open.sp...</td>\n",
       "      <td>[dark electro, futurepop, neo-synthpop]</td>\n",
       "      <td>neo-synthpop</td>\n",
       "    </tr>\n",
       "    <tr>\n",
       "      <th>4</th>\n",
       "      <td>!t.o.o.h.!</td>\n",
       "      <td>{'external_urls': {'spotify': 'https://open.sp...</td>\n",
       "      <td>[technical grindcore]</td>\n",
       "      <td>technical grindcore</td>\n",
       "    </tr>\n",
       "  </tbody>\n",
       "</table>\n",
       "</div>"
      ],
      "text/plain": [
       "          Artist                                               Info  \\\n",
       "0            !!!  {'external_urls': {'spotify': 'https://open.sp...   \n",
       "1  !action pact!  {'external_urls': {'spotify': 'https://open.sp...   \n",
       "2       !deladap  {'external_urls': {'spotify': 'https://open.sp...   \n",
       "3       !distain  {'external_urls': {'spotify': 'https://open.sp...   \n",
       "4     !t.o.o.h.!  {'external_urls': {'spotify': 'https://open.sp...   \n",
       "\n",
       "                                              Genres           best_genre  \n",
       "0  [alternative dance, dance rock, dance-punk, el...          electronica  \n",
       "1                               [anarcho-punk, uk82]                 uk82  \n",
       "2                      [balkan brass, electro swing]         balkan brass  \n",
       "3            [dark electro, futurepop, neo-synthpop]         neo-synthpop  \n",
       "4                              [technical grindcore]  technical grindcore  "
      ]
     },
     "execution_count": 23,
     "metadata": {},
     "output_type": "execute_result"
    }
   ],
   "source": [
    "add_data['best_genre'] = add_data['Genres'].map(lambda x: best_genre(x, c))\n",
    "add_data.head()"
   ]
  },
  {
   "cell_type": "code",
   "execution_count": 24,
   "metadata": {},
   "outputs": [
    {
     "data": {
      "image/png": "[encoded data removed]",
      "text/plain": [
       "<Figure size 936x360 with 1 Axes>"
      ]
     },
     "metadata": {
      "needs_background": "light"
     },
     "output_type": "display_data"
    }
   ],
   "source": [
    "\n",
    "add_data.groupby('best_genre').size().hist(bins = 25, figsize = (13, 5))\n",
    "plt.yscale('log')\n",
    "plt.title('Number of artists which have the same best genre')\n",
    "plt.xlabel('Number of artists')\n",
    "_ = plt.ylabel('Number of genres')"
   ]
  },
  {
   "cell_type": "code",
   "execution_count": 25,
   "metadata": {},
   "outputs": [
    {
     "data": {
      "text/plain": [
       "best_genre\n",
       "                    11522\n",
       "a cappella             20\n",
       "abstract                4\n",
       "abstract beats          3\n",
       "abstract hip hop       42\n",
       "                    ...  \n",
       "zim urban groove        1\n",
       "zither                  1\n",
       "zolo                   15\n",
       "zouk                   13\n",
       "zydeco                  1\n",
       "Length: 2732, dtype: int64"
      ]
     },
     "execution_count": 25,
     "metadata": {},
     "output_type": "execute_result"
    }
   ],
   "source": [
    "add_data.groupby('best_genre').size()"
   ]
  },
  {
   "cell_type": "markdown",
   "metadata": {},
   "source": [
    "In this case, we see that there are 11522 artists which do not have any genres attached to them, this probably comes from a lack of information about these artists in general from Spotify."
   ]
  },
  {
   "cell_type": "code",
   "execution_count": 26,
   "metadata": {},
   "outputs": [],
   "source": [
    "add_data = add_data[add_data['Genres'].map(len) > 0]"
   ]
  },
  {
   "cell_type": "code",
   "execution_count": 27,
   "metadata": {},
   "outputs": [
    {
     "data": {
      "image/png": "[encoded data removed]",
      "text/plain": [
       "<Figure size 936x360 with 1 Axes>"
      ]
     },
     "metadata": {
      "needs_background": "light"
     },
     "output_type": "display_data"
    }
   ],
   "source": [
    "add_data.groupby('best_genre').size().hist(bins = 25, figsize = (13, 5))\n",
    "plt.yscale('log')\n",
    "plt.title('Number of artists which have the same best genre (without no genre)')\n",
    "plt.xlabel('Number of artists')\n",
    "_ = plt.ylabel('Number of genres')"
   ]
  },
  {
   "cell_type": "code",
   "execution_count": 28,
   "metadata": {},
   "outputs": [],
   "source": [
    "add_data['Popularity'] = add_data['Info'].apply(lambda x: x['popularity'])"
   ]
  },
  {
   "cell_type": "code",
   "execution_count": 29,
   "metadata": {},
   "outputs": [
    {
     "data": {
      "image/png": "[encoded data removed]",
      "text/plain": [
       "<Figure size 936x360 with 1 Axes>"
      ]
     },
     "metadata": {
      "needs_background": "light"
     },
     "output_type": "display_data"
    }
   ],
   "source": [
    "\n",
    "add_data['Popularity'].hist(bins = 50, figsize = (13, 5))\n",
    "plt.yscale('log')\n",
    "plt.title('Number of artists per popularity')\n",
    "plt.xlabel('Popularity')\n",
    "_ = plt.ylabel('Number of artists')"
   ]
  },
  {
   "cell_type": "code",
   "execution_count": 30,
   "metadata": {},
   "outputs": [
    {
     "data": {
      "text/plain": [
       "Artist\n",
       "sanso-xtro                 0\n",
       "mika bomb                  0\n",
       "monkey hole                0\n",
       "murder at the registry     0\n",
       "les têtes raides           0\n",
       "                          ..\n",
       "bun b                     98\n",
       "dr                        98\n",
       "drake                     98\n",
       "taylor swift              99\n",
       "swift                     99\n",
       "Name: Popularity, Length: 33101, dtype: int64"
      ]
     },
     "execution_count": 30,
     "metadata": {},
     "output_type": "execute_result"
    }
   ],
   "source": [
    "add_data.set_index('Artist')['Popularity'].sort_values()"
   ]
  },
  {
   "cell_type": "code",
   "execution_count": 31,
   "metadata": {},
   "outputs": [
    {
     "data": {
      "text/plain": [
       "{'external_urls': {'spotify': 'https://open.spotify.com/artist/6eUKZXaKkcviH0Ku9w2n3V'},\n",
       " 'followers': {'href': None, 'total': 79118817},\n",
       " 'genres': ['pop', 'uk pop'],\n",
       " 'href': 'https://api.spotify.com/v1/artists/6eUKZXaKkcviH0Ku9w2n3V',\n",
       " 'id': '6eUKZXaKkcviH0Ku9w2n3V',\n",
       " 'images': [{'height': 640,\n",
       "   'url': 'https://i.scdn.co/image/c9e693f336bc004af00c51bbf0a157e8b5af75f2',\n",
       "   'width': 640},\n",
       "  {'height': 320,\n",
       "   'url': 'https://i.scdn.co/image/ebe13258cf525b7399ea1b34a25d38172b3023a1',\n",
       "   'width': 320},\n",
       "  {'height': 160,\n",
       "   'url': 'https://i.scdn.co/image/05fc0a0a6b74757e87da8081c358f5ee972466db',\n",
       "   'width': 160}],\n",
       " 'name': 'Ed Sheeran',\n",
       " 'popularity': 92,\n",
       " 'type': 'artist',\n",
       " 'uri': 'spotify:artist:6eUKZXaKkcviH0Ku9w2n3V'}"
      ]
     },
     "execution_count": 31,
     "metadata": {},
     "output_type": "execute_result"
    }
   ],
   "source": [
    "add_data['Info'][34368]"
   ]
  },
  {
   "cell_type": "markdown",
   "metadata": {},
   "source": [
    "We can see that there are some issues with the Spotify API part where Artist such as She will be take as Ed Sheeran. This will be fixed by setting a bigger threshold on the number of users which are listening to the same artist."
   ]
  },
  {
   "cell_type": "code",
   "execution_count": 32,
   "metadata": {},
   "outputs": [
    {
     "data": {
      "text/html": [
       "<div>\n",
       "<style scoped>\n",
       "    .dataframe tbody tr th:only-of-type {\n",
       "        vertical-align: middle;\n",
       "    }\n",
       "\n",
       "    .dataframe tbody tr th {\n",
       "        vertical-align: top;\n",
       "    }\n",
       "\n",
       "    .dataframe thead th {\n",
       "        text-align: right;\n",
       "    }\n",
       "</style>\n",
       "<table border=\"1\" class=\"dataframe\">\n",
       "  <thead>\n",
       "    <tr style=\"text-align: right;\">\n",
       "      <th></th>\n",
       "      <th>ID</th>\n",
       "      <th>Artist_ID</th>\n",
       "      <th>Artist</th>\n",
       "      <th>Plays</th>\n",
       "      <th>Percent</th>\n",
       "    </tr>\n",
       "  </thead>\n",
       "  <tbody>\n",
       "    <tr>\n",
       "      <th>0</th>\n",
       "      <td>00000c289a1829a808ac09c00daf10bc3c4e223b</td>\n",
       "      <td>3bd73256-3905-4f3a-97e2-8b341527f805</td>\n",
       "      <td>betty blowtorch</td>\n",
       "      <td>2137</td>\n",
       "      <td>0.127842</td>\n",
       "    </tr>\n",
       "    <tr>\n",
       "      <th>1</th>\n",
       "      <td>00000c289a1829a808ac09c00daf10bc3c4e223b</td>\n",
       "      <td>f2fb0ff0-5679-42ec-a55c-15109ce6e320</td>\n",
       "      <td>die Ärzte</td>\n",
       "      <td>1099</td>\n",
       "      <td>0.065745</td>\n",
       "    </tr>\n",
       "    <tr>\n",
       "      <th>2</th>\n",
       "      <td>00000c289a1829a808ac09c00daf10bc3c4e223b</td>\n",
       "      <td>b3ae82c2-e60b-4551-a76d-6620f1b456aa</td>\n",
       "      <td>melissa etheridge</td>\n",
       "      <td>897</td>\n",
       "      <td>0.053661</td>\n",
       "    </tr>\n",
       "    <tr>\n",
       "      <th>3</th>\n",
       "      <td>00000c289a1829a808ac09c00daf10bc3c4e223b</td>\n",
       "      <td>3d6bbeb7-f90e-4d10-b440-e153c0d10b53</td>\n",
       "      <td>elvenking</td>\n",
       "      <td>717</td>\n",
       "      <td>0.042893</td>\n",
       "    </tr>\n",
       "    <tr>\n",
       "      <th>4</th>\n",
       "      <td>00000c289a1829a808ac09c00daf10bc3c4e223b</td>\n",
       "      <td>bbd2ffd7-17f4-4506-8572-c1ea58c3f9a8</td>\n",
       "      <td>juliette &amp; the licks</td>\n",
       "      <td>706</td>\n",
       "      <td>0.042235</td>\n",
       "    </tr>\n",
       "  </tbody>\n",
       "</table>\n",
       "</div>"
      ],
      "text/plain": [
       "                                         ID  \\\n",
       "0  00000c289a1829a808ac09c00daf10bc3c4e223b   \n",
       "1  00000c289a1829a808ac09c00daf10bc3c4e223b   \n",
       "2  00000c289a1829a808ac09c00daf10bc3c4e223b   \n",
       "3  00000c289a1829a808ac09c00daf10bc3c4e223b   \n",
       "4  00000c289a1829a808ac09c00daf10bc3c4e223b   \n",
       "\n",
       "                              Artist_ID                Artist  Plays   Percent  \n",
       "0  3bd73256-3905-4f3a-97e2-8b341527f805       betty blowtorch   2137  0.127842  \n",
       "1  f2fb0ff0-5679-42ec-a55c-15109ce6e320             die Ärzte   1099  0.065745  \n",
       "2  b3ae82c2-e60b-4551-a76d-6620f1b456aa     melissa etheridge    897  0.053661  \n",
       "3  3d6bbeb7-f90e-4d10-b440-e153c0d10b53             elvenking    717  0.042893  \n",
       "4  bbd2ffd7-17f4-4506-8572-c1ea58c3f9a8  juliette & the licks    706  0.042235  "
      ]
     },
     "execution_count": 32,
     "metadata": {},
     "output_type": "execute_result"
    }
   ],
   "source": [
    "top_data_percent = top_data.copy()\n",
    "top_data_percent['Percent'] = top_data['Plays'] / top_data[['ID', 'Plays']].groupby('ID').Plays.transform('sum')\n",
    "top_data_percent.head()"
   ]
  },
  {
   "cell_type": "code",
   "execution_count": 33,
   "metadata": {},
   "outputs": [
    {
     "data": {
      "text/html": [
       "<div>\n",
       "<style scoped>\n",
       "    .dataframe tbody tr th:only-of-type {\n",
       "        vertical-align: middle;\n",
       "    }\n",
       "\n",
       "    .dataframe tbody tr th {\n",
       "        vertical-align: top;\n",
       "    }\n",
       "\n",
       "    .dataframe thead th {\n",
       "        text-align: right;\n",
       "    }\n",
       "</style>\n",
       "<table border=\"1\" class=\"dataframe\">\n",
       "  <thead>\n",
       "    <tr style=\"text-align: right;\">\n",
       "      <th></th>\n",
       "      <th>ID</th>\n",
       "      <th>Artist_ID</th>\n",
       "      <th>Artist</th>\n",
       "      <th>Plays</th>\n",
       "      <th>Percent</th>\n",
       "      <th>Info</th>\n",
       "      <th>Genres</th>\n",
       "      <th>best_genre</th>\n",
       "      <th>Popularity</th>\n",
       "    </tr>\n",
       "  </thead>\n",
       "  <tbody>\n",
       "    <tr>\n",
       "      <th>0</th>\n",
       "      <td>00000c289a1829a808ac09c00daf10bc3c4e223b</td>\n",
       "      <td>3bd73256-3905-4f3a-97e2-8b341527f805</td>\n",
       "      <td>betty blowtorch</td>\n",
       "      <td>2137</td>\n",
       "      <td>0.127842</td>\n",
       "      <td>{'external_urls': {'spotify': 'https://open.sp...</td>\n",
       "      <td>[riot grrrl]</td>\n",
       "      <td>riot grrrl</td>\n",
       "      <td>19</td>\n",
       "    </tr>\n",
       "    <tr>\n",
       "      <th>1</th>\n",
       "      <td>0159d9ae1c8d76ab7fe3aa868a38e1da56cc06ab</td>\n",
       "      <td>3bd73256-3905-4f3a-97e2-8b341527f805</td>\n",
       "      <td>betty blowtorch</td>\n",
       "      <td>42</td>\n",
       "      <td>0.011105</td>\n",
       "      <td>{'external_urls': {'spotify': 'https://open.sp...</td>\n",
       "      <td>[riot grrrl]</td>\n",
       "      <td>riot grrrl</td>\n",
       "      <td>19</td>\n",
       "    </tr>\n",
       "    <tr>\n",
       "      <th>2</th>\n",
       "      <td>0285490bb23814cf0dc18a5668261e243572d4eb</td>\n",
       "      <td>3bd73256-3905-4f3a-97e2-8b341527f805</td>\n",
       "      <td>betty blowtorch</td>\n",
       "      <td>41</td>\n",
       "      <td>0.010299</td>\n",
       "      <td>{'external_urls': {'spotify': 'https://open.sp...</td>\n",
       "      <td>[riot grrrl]</td>\n",
       "      <td>riot grrrl</td>\n",
       "      <td>19</td>\n",
       "    </tr>\n",
       "    <tr>\n",
       "      <th>3</th>\n",
       "      <td>03d2e7186a6c29f281f6ff8b9bb2f7503822e7de</td>\n",
       "      <td>3bd73256-3905-4f3a-97e2-8b341527f805</td>\n",
       "      <td>betty blowtorch</td>\n",
       "      <td>67</td>\n",
       "      <td>0.010819</td>\n",
       "      <td>{'external_urls': {'spotify': 'https://open.sp...</td>\n",
       "      <td>[riot grrrl]</td>\n",
       "      <td>riot grrrl</td>\n",
       "      <td>19</td>\n",
       "    </tr>\n",
       "    <tr>\n",
       "      <th>4</th>\n",
       "      <td>04e0999468b2bbd922f0fdd41ffd9a5f26f97609</td>\n",
       "      <td>3bd73256-3905-4f3a-97e2-8b341527f805</td>\n",
       "      <td>betty blowtorch</td>\n",
       "      <td>3</td>\n",
       "      <td>0.006122</td>\n",
       "      <td>{'external_urls': {'spotify': 'https://open.sp...</td>\n",
       "      <td>[riot grrrl]</td>\n",
       "      <td>riot grrrl</td>\n",
       "      <td>19</td>\n",
       "    </tr>\n",
       "  </tbody>\n",
       "</table>\n",
       "</div>"
      ],
      "text/plain": [
       "                                         ID  \\\n",
       "0  00000c289a1829a808ac09c00daf10bc3c4e223b   \n",
       "1  0159d9ae1c8d76ab7fe3aa868a38e1da56cc06ab   \n",
       "2  0285490bb23814cf0dc18a5668261e243572d4eb   \n",
       "3  03d2e7186a6c29f281f6ff8b9bb2f7503822e7de   \n",
       "4  04e0999468b2bbd922f0fdd41ffd9a5f26f97609   \n",
       "\n",
       "                              Artist_ID           Artist  Plays   Percent  \\\n",
       "0  3bd73256-3905-4f3a-97e2-8b341527f805  betty blowtorch   2137  0.127842   \n",
       "1  3bd73256-3905-4f3a-97e2-8b341527f805  betty blowtorch     42  0.011105   \n",
       "2  3bd73256-3905-4f3a-97e2-8b341527f805  betty blowtorch     41  0.010299   \n",
       "3  3bd73256-3905-4f3a-97e2-8b341527f805  betty blowtorch     67  0.010819   \n",
       "4  3bd73256-3905-4f3a-97e2-8b341527f805  betty blowtorch      3  0.006122   \n",
       "\n",
       "                                                Info        Genres  \\\n",
       "0  {'external_urls': {'spotify': 'https://open.sp...  [riot grrrl]   \n",
       "1  {'external_urls': {'spotify': 'https://open.sp...  [riot grrrl]   \n",
       "2  {'external_urls': {'spotify': 'https://open.sp...  [riot grrrl]   \n",
       "3  {'external_urls': {'spotify': 'https://open.sp...  [riot grrrl]   \n",
       "4  {'external_urls': {'spotify': 'https://open.sp...  [riot grrrl]   \n",
       "\n",
       "   best_genre  Popularity  \n",
       "0  riot grrrl          19  \n",
       "1  riot grrrl          19  \n",
       "2  riot grrrl          19  \n",
       "3  riot grrrl          19  \n",
       "4  riot grrrl          19  "
      ]
     },
     "execution_count": 33,
     "metadata": {},
     "output_type": "execute_result"
    }
   ],
   "source": [
    "all_data = top_data_percent.merge(add_data, on = 'Artist')\n",
    "all_data.head()"
   ]
  },
  {
   "cell_type": "code",
   "execution_count": 34,
   "metadata": {},
   "outputs": [
    {
     "data": {
      "image/png": "[encoded data removed]",
      "text/plain": [
       "<Figure size 936x360 with 1 Axes>"
      ]
     },
     "metadata": {
      "needs_background": "light"
     },
     "output_type": "display_data"
    }
   ],
   "source": [
    "all_data[['best_genre', 'Percent']].groupby('best_genre').sum().hist(bins = 100, figsize = (13, 5))\n",
    "plt.yscale('log')\n",
    "plt.title('Sum of percent of listening time per genre')\n",
    "plt.xlabel('Sum of percent')\n",
    "_ = plt.ylabel('Number of genres')"
   ]
  },
  {
   "cell_type": "code",
   "execution_count": 35,
   "metadata": {},
   "outputs": [
    {
     "data": {
      "text/html": [
       "<div>\n",
       "<style scoped>\n",
       "    .dataframe tbody tr th:only-of-type {\n",
       "        vertical-align: middle;\n",
       "    }\n",
       "\n",
       "    .dataframe tbody tr th {\n",
       "        vertical-align: top;\n",
       "    }\n",
       "\n",
       "    .dataframe thead th {\n",
       "        text-align: right;\n",
       "    }\n",
       "</style>\n",
       "<table border=\"1\" class=\"dataframe\">\n",
       "  <thead>\n",
       "    <tr style=\"text-align: right;\">\n",
       "      <th></th>\n",
       "      <th>Percent</th>\n",
       "    </tr>\n",
       "    <tr>\n",
       "      <th>best_genre</th>\n",
       "      <th></th>\n",
       "    </tr>\n",
       "  </thead>\n",
       "  <tbody>\n",
       "    <tr>\n",
       "      <th>kansas city hip hop</th>\n",
       "      <td>0.224099</td>\n",
       "    </tr>\n",
       "    <tr>\n",
       "      <th>belarusian pop</th>\n",
       "      <td>0.228380</td>\n",
       "    </tr>\n",
       "    <tr>\n",
       "      <th>ukrainian pop</th>\n",
       "      <td>0.242180</td>\n",
       "    </tr>\n",
       "    <tr>\n",
       "      <th>death doom</th>\n",
       "      <td>0.248212</td>\n",
       "    </tr>\n",
       "    <tr>\n",
       "      <th>backing track</th>\n",
       "      <td>0.254336</td>\n",
       "    </tr>\n",
       "    <tr>\n",
       "      <th>...</th>\n",
       "      <td>...</td>\n",
       "    </tr>\n",
       "    <tr>\n",
       "      <th>pop rock</th>\n",
       "      <td>10153.227699</td>\n",
       "    </tr>\n",
       "    <tr>\n",
       "      <th>electronica</th>\n",
       "      <td>13105.734487</td>\n",
       "    </tr>\n",
       "    <tr>\n",
       "      <th>alternative metal</th>\n",
       "      <td>16197.328686</td>\n",
       "    </tr>\n",
       "    <tr>\n",
       "      <th>dance pop</th>\n",
       "      <td>17389.556886</td>\n",
       "    </tr>\n",
       "    <tr>\n",
       "      <th>rock</th>\n",
       "      <td>63035.525025</td>\n",
       "    </tr>\n",
       "  </tbody>\n",
       "</table>\n",
       "<p>2731 rows × 1 columns</p>\n",
       "</div>"
      ],
      "text/plain": [
       "                          Percent\n",
       "best_genre                       \n",
       "kansas city hip hop      0.224099\n",
       "belarusian pop           0.228380\n",
       "ukrainian pop            0.242180\n",
       "death doom               0.248212\n",
       "backing track            0.254336\n",
       "...                           ...\n",
       "pop rock             10153.227699\n",
       "electronica          13105.734487\n",
       "alternative metal    16197.328686\n",
       "dance pop            17389.556886\n",
       "rock                 63035.525025\n",
       "\n",
       "[2731 rows x 1 columns]"
      ]
     },
     "execution_count": 35,
     "metadata": {},
     "output_type": "execute_result"
    }
   ],
   "source": [
    "all_data[['best_genre', 'Percent']].groupby('best_genre').sum().sort_values(by = 'Percent')"
   ]
  },
  {
   "cell_type": "code",
   "execution_count": 36,
   "metadata": {},
   "outputs": [
    {
     "data": {
      "text/html": [
       "<div>\n",
       "<style scoped>\n",
       "    .dataframe tbody tr th:only-of-type {\n",
       "        vertical-align: middle;\n",
       "    }\n",
       "\n",
       "    .dataframe tbody tr th {\n",
       "        vertical-align: top;\n",
       "    }\n",
       "\n",
       "    .dataframe thead th {\n",
       "        text-align: right;\n",
       "    }\n",
       "</style>\n",
       "<table border=\"1\" class=\"dataframe\">\n",
       "  <thead>\n",
       "    <tr style=\"text-align: right;\">\n",
       "      <th></th>\n",
       "      <th>ID</th>\n",
       "      <th>Artist_ID</th>\n",
       "      <th>Artist</th>\n",
       "      <th>Plays</th>\n",
       "      <th>Percent</th>\n",
       "      <th>Info</th>\n",
       "      <th>Genres</th>\n",
       "      <th>best_genre</th>\n",
       "      <th>Popularity</th>\n",
       "    </tr>\n",
       "  </thead>\n",
       "  <tbody>\n",
       "    <tr>\n",
       "      <th>0</th>\n",
       "      <td>00000c289a1829a808ac09c00daf10bc3c4e223b</td>\n",
       "      <td>3bd73256-3905-4f3a-97e2-8b341527f805</td>\n",
       "      <td>betty blowtorch</td>\n",
       "      <td>2137</td>\n",
       "      <td>0.127842</td>\n",
       "      <td>{'external_urls': {'spotify': 'https://open.sp...</td>\n",
       "      <td>[riot grrrl]</td>\n",
       "      <td>riot grrrl</td>\n",
       "      <td>19</td>\n",
       "    </tr>\n",
       "    <tr>\n",
       "      <th>1</th>\n",
       "      <td>0159d9ae1c8d76ab7fe3aa868a38e1da56cc06ab</td>\n",
       "      <td>3bd73256-3905-4f3a-97e2-8b341527f805</td>\n",
       "      <td>betty blowtorch</td>\n",
       "      <td>42</td>\n",
       "      <td>0.011105</td>\n",
       "      <td>{'external_urls': {'spotify': 'https://open.sp...</td>\n",
       "      <td>[riot grrrl]</td>\n",
       "      <td>riot grrrl</td>\n",
       "      <td>19</td>\n",
       "    </tr>\n",
       "    <tr>\n",
       "      <th>2</th>\n",
       "      <td>0285490bb23814cf0dc18a5668261e243572d4eb</td>\n",
       "      <td>3bd73256-3905-4f3a-97e2-8b341527f805</td>\n",
       "      <td>betty blowtorch</td>\n",
       "      <td>41</td>\n",
       "      <td>0.010299</td>\n",
       "      <td>{'external_urls': {'spotify': 'https://open.sp...</td>\n",
       "      <td>[riot grrrl]</td>\n",
       "      <td>riot grrrl</td>\n",
       "      <td>19</td>\n",
       "    </tr>\n",
       "    <tr>\n",
       "      <th>3</th>\n",
       "      <td>03d2e7186a6c29f281f6ff8b9bb2f7503822e7de</td>\n",
       "      <td>3bd73256-3905-4f3a-97e2-8b341527f805</td>\n",
       "      <td>betty blowtorch</td>\n",
       "      <td>67</td>\n",
       "      <td>0.010819</td>\n",
       "      <td>{'external_urls': {'spotify': 'https://open.sp...</td>\n",
       "      <td>[riot grrrl]</td>\n",
       "      <td>riot grrrl</td>\n",
       "      <td>19</td>\n",
       "    </tr>\n",
       "    <tr>\n",
       "      <th>4</th>\n",
       "      <td>04e0999468b2bbd922f0fdd41ffd9a5f26f97609</td>\n",
       "      <td>3bd73256-3905-4f3a-97e2-8b341527f805</td>\n",
       "      <td>betty blowtorch</td>\n",
       "      <td>3</td>\n",
       "      <td>0.006122</td>\n",
       "      <td>{'external_urls': {'spotify': 'https://open.sp...</td>\n",
       "      <td>[riot grrrl]</td>\n",
       "      <td>riot grrrl</td>\n",
       "      <td>19</td>\n",
       "    </tr>\n",
       "    <tr>\n",
       "      <th>...</th>\n",
       "      <td>...</td>\n",
       "      <td>...</td>\n",
       "      <td>...</td>\n",
       "      <td>...</td>\n",
       "      <td>...</td>\n",
       "      <td>...</td>\n",
       "      <td>...</td>\n",
       "      <td>...</td>\n",
       "      <td>...</td>\n",
       "    </tr>\n",
       "    <tr>\n",
       "      <th>15553751</th>\n",
       "      <td>d375f346d239a15445b464c7b139b5f11641835b</td>\n",
       "      <td>NaN</td>\n",
       "      <td>as diabatz</td>\n",
       "      <td>149</td>\n",
       "      <td>0.009205</td>\n",
       "      <td>{'external_urls': {'spotify': 'https://open.sp...</td>\n",
       "      <td>[brazilian rockabilly, psychobilly, rock curit...</td>\n",
       "      <td>psychobilly</td>\n",
       "      <td>11</td>\n",
       "    </tr>\n",
       "    <tr>\n",
       "      <th>15553752</th>\n",
       "      <td>d7a0a0d499c8f9e127d990d5b49225339ad572ba</td>\n",
       "      <td>NaN</td>\n",
       "      <td>as diabatz</td>\n",
       "      <td>120</td>\n",
       "      <td>0.005539</td>\n",
       "      <td>{'external_urls': {'spotify': 'https://open.sp...</td>\n",
       "      <td>[brazilian rockabilly, psychobilly, rock curit...</td>\n",
       "      <td>psychobilly</td>\n",
       "      <td>11</td>\n",
       "    </tr>\n",
       "    <tr>\n",
       "      <th>15553753</th>\n",
       "      <td>dbdbcec60934d38e130c38cc65b29f56b7c2b8a5</td>\n",
       "      <td>NaN</td>\n",
       "      <td>as diabatz</td>\n",
       "      <td>224</td>\n",
       "      <td>0.025050</td>\n",
       "      <td>{'external_urls': {'spotify': 'https://open.sp...</td>\n",
       "      <td>[brazilian rockabilly, psychobilly, rock curit...</td>\n",
       "      <td>psychobilly</td>\n",
       "      <td>11</td>\n",
       "    </tr>\n",
       "    <tr>\n",
       "      <th>15553754</th>\n",
       "      <td>ecfedd97388a4a2a3fa2bf7c7e3caa0ab0abf93e</td>\n",
       "      <td>NaN</td>\n",
       "      <td>as diabatz</td>\n",
       "      <td>284</td>\n",
       "      <td>0.011709</td>\n",
       "      <td>{'external_urls': {'spotify': 'https://open.sp...</td>\n",
       "      <td>[brazilian rockabilly, psychobilly, rock curit...</td>\n",
       "      <td>psychobilly</td>\n",
       "      <td>11</td>\n",
       "    </tr>\n",
       "    <tr>\n",
       "      <th>15553755</th>\n",
       "      <td>f8de05bac31d666f29467d3a9814fbce8129b1f0</td>\n",
       "      <td>NaN</td>\n",
       "      <td>as diabatz</td>\n",
       "      <td>14</td>\n",
       "      <td>0.004387</td>\n",
       "      <td>{'external_urls': {'spotify': 'https://open.sp...</td>\n",
       "      <td>[brazilian rockabilly, psychobilly, rock curit...</td>\n",
       "      <td>psychobilly</td>\n",
       "      <td>11</td>\n",
       "    </tr>\n",
       "  </tbody>\n",
       "</table>\n",
       "<p>15553756 rows × 9 columns</p>\n",
       "</div>"
      ],
      "text/plain": [
       "                                                ID  \\\n",
       "0         00000c289a1829a808ac09c00daf10bc3c4e223b   \n",
       "1         0159d9ae1c8d76ab7fe3aa868a38e1da56cc06ab   \n",
       "2         0285490bb23814cf0dc18a5668261e243572d4eb   \n",
       "3         03d2e7186a6c29f281f6ff8b9bb2f7503822e7de   \n",
       "4         04e0999468b2bbd922f0fdd41ffd9a5f26f97609   \n",
       "...                                            ...   \n",
       "15553751  d375f346d239a15445b464c7b139b5f11641835b   \n",
       "15553752  d7a0a0d499c8f9e127d990d5b49225339ad572ba   \n",
       "15553753  dbdbcec60934d38e130c38cc65b29f56b7c2b8a5   \n",
       "15553754  ecfedd97388a4a2a3fa2bf7c7e3caa0ab0abf93e   \n",
       "15553755  f8de05bac31d666f29467d3a9814fbce8129b1f0   \n",
       "\n",
       "                                     Artist_ID           Artist  Plays  \\\n",
       "0         3bd73256-3905-4f3a-97e2-8b341527f805  betty blowtorch   2137   \n",
       "1         3bd73256-3905-4f3a-97e2-8b341527f805  betty blowtorch     42   \n",
       "2         3bd73256-3905-4f3a-97e2-8b341527f805  betty blowtorch     41   \n",
       "3         3bd73256-3905-4f3a-97e2-8b341527f805  betty blowtorch     67   \n",
       "4         3bd73256-3905-4f3a-97e2-8b341527f805  betty blowtorch      3   \n",
       "...                                        ...              ...    ...   \n",
       "15553751                                   NaN       as diabatz    149   \n",
       "15553752                                   NaN       as diabatz    120   \n",
       "15553753                                   NaN       as diabatz    224   \n",
       "15553754                                   NaN       as diabatz    284   \n",
       "15553755                                   NaN       as diabatz     14   \n",
       "\n",
       "           Percent                                               Info  \\\n",
       "0         0.127842  {'external_urls': {'spotify': 'https://open.sp...   \n",
       "1         0.011105  {'external_urls': {'spotify': 'https://open.sp...   \n",
       "2         0.010299  {'external_urls': {'spotify': 'https://open.sp...   \n",
       "3         0.010819  {'external_urls': {'spotify': 'https://open.sp...   \n",
       "4         0.006122  {'external_urls': {'spotify': 'https://open.sp...   \n",
       "...            ...                                                ...   \n",
       "15553751  0.009205  {'external_urls': {'spotify': 'https://open.sp...   \n",
       "15553752  0.005539  {'external_urls': {'spotify': 'https://open.sp...   \n",
       "15553753  0.025050  {'external_urls': {'spotify': 'https://open.sp...   \n",
       "15553754  0.011709  {'external_urls': {'spotify': 'https://open.sp...   \n",
       "15553755  0.004387  {'external_urls': {'spotify': 'https://open.sp...   \n",
       "\n",
       "                                                     Genres   best_genre  \\\n",
       "0                                              [riot grrrl]   riot grrrl   \n",
       "1                                              [riot grrrl]   riot grrrl   \n",
       "2                                              [riot grrrl]   riot grrrl   \n",
       "3                                              [riot grrrl]   riot grrrl   \n",
       "4                                              [riot grrrl]   riot grrrl   \n",
       "...                                                     ...          ...   \n",
       "15553751  [brazilian rockabilly, psychobilly, rock curit...  psychobilly   \n",
       "15553752  [brazilian rockabilly, psychobilly, rock curit...  psychobilly   \n",
       "15553753  [brazilian rockabilly, psychobilly, rock curit...  psychobilly   \n",
       "15553754  [brazilian rockabilly, psychobilly, rock curit...  psychobilly   \n",
       "15553755  [brazilian rockabilly, psychobilly, rock curit...  psychobilly   \n",
       "\n",
       "          Popularity  \n",
       "0                 19  \n",
       "1                 19  \n",
       "2                 19  \n",
       "3                 19  \n",
       "4                 19  \n",
       "...              ...  \n",
       "15553751          11  \n",
       "15553752          11  \n",
       "15553753          11  \n",
       "15553754          11  \n",
       "15553755          11  \n",
       "\n",
       "[15553756 rows x 9 columns]"
      ]
     },
     "execution_count": 36,
     "metadata": {},
     "output_type": "execute_result"
    }
   ],
   "source": [
    "all_data"
   ]
  },
  {
   "cell_type": "markdown",
   "metadata": {},
   "source": [
    "Instead of the 17'535'655 entries, we now have 15'553'756 that have possess a lot more information"
   ]
  },
  {
   "cell_type": "markdown",
   "metadata": {},
   "source": [
    "### 5. Exploratory data analysis"
   ]
  },
  {
   "cell_type": "markdown",
   "metadata": {},
   "source": [
    "Now we look at the number of users that have listened to one artist"
   ]
  },
  {
   "cell_type": "code",
   "execution_count": 37,
   "metadata": {},
   "outputs": [
    {
     "data": {
      "text/html": [
       "<div>\n",
       "<style scoped>\n",
       "    .dataframe tbody tr th:only-of-type {\n",
       "        vertical-align: middle;\n",
       "    }\n",
       "\n",
       "    .dataframe tbody tr th {\n",
       "        vertical-align: top;\n",
       "    }\n",
       "\n",
       "    .dataframe thead th {\n",
       "        text-align: right;\n",
       "    }\n",
       "</style>\n",
       "<table border=\"1\" class=\"dataframe\">\n",
       "  <thead>\n",
       "    <tr style=\"text-align: right;\">\n",
       "      <th></th>\n",
       "      <th>Artist</th>\n",
       "      <th>nb_users</th>\n",
       "    </tr>\n",
       "  </thead>\n",
       "  <tbody>\n",
       "    <tr>\n",
       "      <th>0</th>\n",
       "      <td>da boy tommy</td>\n",
       "      <td>21</td>\n",
       "    </tr>\n",
       "    <tr>\n",
       "      <th>1</th>\n",
       "      <td>the bandits</td>\n",
       "      <td>21</td>\n",
       "    </tr>\n",
       "    <tr>\n",
       "      <th>2</th>\n",
       "      <td>ameritz</td>\n",
       "      <td>21</td>\n",
       "    </tr>\n",
       "    <tr>\n",
       "      <th>3</th>\n",
       "      <td>silber</td>\n",
       "      <td>21</td>\n",
       "    </tr>\n",
       "    <tr>\n",
       "      <th>4</th>\n",
       "      <td>maze featuring frankie beverly</td>\n",
       "      <td>21</td>\n",
       "    </tr>\n",
       "    <tr>\n",
       "      <th>...</th>\n",
       "      <td>...</td>\n",
       "      <td>...</td>\n",
       "    </tr>\n",
       "    <tr>\n",
       "      <th>33096</th>\n",
       "      <td>muse</td>\n",
       "      <td>46954</td>\n",
       "    </tr>\n",
       "    <tr>\n",
       "      <th>33097</th>\n",
       "      <td>red hot chili peppers</td>\n",
       "      <td>48924</td>\n",
       "    </tr>\n",
       "    <tr>\n",
       "      <th>33098</th>\n",
       "      <td>coldplay</td>\n",
       "      <td>66658</td>\n",
       "    </tr>\n",
       "    <tr>\n",
       "      <th>33099</th>\n",
       "      <td>the beatles</td>\n",
       "      <td>76245</td>\n",
       "    </tr>\n",
       "    <tr>\n",
       "      <th>33100</th>\n",
       "      <td>radiohead</td>\n",
       "      <td>77254</td>\n",
       "    </tr>\n",
       "  </tbody>\n",
       "</table>\n",
       "<p>33101 rows × 2 columns</p>\n",
       "</div>"
      ],
      "text/plain": [
       "                               Artist  nb_users\n",
       "0                        da boy tommy        21\n",
       "1                         the bandits        21\n",
       "2                             ameritz        21\n",
       "3                              silber        21\n",
       "4      maze featuring frankie beverly        21\n",
       "...                               ...       ...\n",
       "33096                            muse     46954\n",
       "33097           red hot chili peppers     48924\n",
       "33098                        coldplay     66658\n",
       "33099                     the beatles     76245\n",
       "33100                       radiohead     77254\n",
       "\n",
       "[33101 rows x 2 columns]"
      ]
     },
     "execution_count": 37,
     "metadata": {},
     "output_type": "execute_result"
    }
   ],
   "source": [
    "artists_nb_users_listen= all_data.groupby(['Artist']).size().sort_values(ascending = True).reset_index(name = 'nb_users')\n",
    "# we check how many times an artist occurs in dataset\n",
    "artists_nb_users_listen"
   ]
  },
  {
   "cell_type": "code",
   "execution_count": 38,
   "metadata": {},
   "outputs": [
    {
     "data": {
      "text/html": [
       "<div>\n",
       "<style scoped>\n",
       "    .dataframe tbody tr th:only-of-type {\n",
       "        vertical-align: middle;\n",
       "    }\n",
       "\n",
       "    .dataframe tbody tr th {\n",
       "        vertical-align: top;\n",
       "    }\n",
       "\n",
       "    .dataframe thead th {\n",
       "        text-align: right;\n",
       "    }\n",
       "</style>\n",
       "<table border=\"1\" class=\"dataframe\">\n",
       "  <thead>\n",
       "    <tr style=\"text-align: right;\">\n",
       "      <th></th>\n",
       "      <th>nb_users</th>\n",
       "    </tr>\n",
       "  </thead>\n",
       "  <tbody>\n",
       "    <tr>\n",
       "      <th>count</th>\n",
       "      <td>33101.000000</td>\n",
       "    </tr>\n",
       "    <tr>\n",
       "      <th>mean</th>\n",
       "      <td>469.887798</td>\n",
       "    </tr>\n",
       "    <tr>\n",
       "      <th>std</th>\n",
       "      <td>1940.298022</td>\n",
       "    </tr>\n",
       "    <tr>\n",
       "      <th>min</th>\n",
       "      <td>21.000000</td>\n",
       "    </tr>\n",
       "    <tr>\n",
       "      <th>25%</th>\n",
       "      <td>37.000000</td>\n",
       "    </tr>\n",
       "    <tr>\n",
       "      <th>50%</th>\n",
       "      <td>80.000000</td>\n",
       "    </tr>\n",
       "    <tr>\n",
       "      <th>75%</th>\n",
       "      <td>242.000000</td>\n",
       "    </tr>\n",
       "    <tr>\n",
       "      <th>max</th>\n",
       "      <td>77254.000000</td>\n",
       "    </tr>\n",
       "  </tbody>\n",
       "</table>\n",
       "</div>"
      ],
      "text/plain": [
       "           nb_users\n",
       "count  33101.000000\n",
       "mean     469.887798\n",
       "std     1940.298022\n",
       "min       21.000000\n",
       "25%       37.000000\n",
       "50%       80.000000\n",
       "75%      242.000000\n",
       "max    77254.000000"
      ]
     },
     "execution_count": 38,
     "metadata": {},
     "output_type": "execute_result"
    }
   ],
   "source": [
    "artists_nb_users_listen.describe()"
   ]
  },
  {
   "cell_type": "markdown",
   "metadata": {},
   "source": [
    "As expected, the distribution is exponential. More than 25% of the artists that have a matching entry in the spotify API have been listened only by 37 users, 50% by 80, 75% by 242.\n"
   ]
  },
  {
   "cell_type": "code",
   "execution_count": 39,
   "metadata": {},
   "outputs": [
    {
     "data": {
      "text/plain": [
       "Text(0.5, 0, 'Nb of users')"
      ]
     },
     "execution_count": 39,
     "metadata": {},
     "output_type": "execute_result"
    },
    {
     "data": {
      "image/png": "[encoded data removed]",
      "text/plain": [
       "<Figure size 432x288 with 1 Axes>"
      ]
     },
     "metadata": {
      "needs_background": "light"
     },
     "output_type": "display_data"
    }
   ],
   "source": [
    "sns.histplot(artists_nb_users_listen['nb_users'], log_scale = True)\n",
    "plt.title(\"Nb users listening to one artist\")\n",
    "plt.ylabel(\"Nb of artists\")\n",
    "plt.xlabel(\"Nb of users\")\n"
   ]
  },
  {
   "cell_type": "markdown",
   "metadata": {},
   "source": [
    "#### Now look at the users"
   ]
  },
  {
   "cell_type": "code",
   "execution_count": 40,
   "metadata": {},
   "outputs": [],
   "source": [
    "users_nb_artists_listen = top_data.groupby('ID').size().sort_values().reset_index(name = 'nb_artists_listen')"
   ]
  },
  {
   "cell_type": "code",
   "execution_count": 41,
   "metadata": {},
   "outputs": [
    {
     "data": {
      "text/html": [
       "<div>\n",
       "<style scoped>\n",
       "    .dataframe tbody tr th:only-of-type {\n",
       "        vertical-align: middle;\n",
       "    }\n",
       "\n",
       "    .dataframe tbody tr th {\n",
       "        vertical-align: top;\n",
       "    }\n",
       "\n",
       "    .dataframe thead th {\n",
       "        text-align: right;\n",
       "    }\n",
       "</style>\n",
       "<table border=\"1\" class=\"dataframe\">\n",
       "  <thead>\n",
       "    <tr style=\"text-align: right;\">\n",
       "      <th></th>\n",
       "      <th>nb_artists_listen</th>\n",
       "    </tr>\n",
       "  </thead>\n",
       "  <tbody>\n",
       "    <tr>\n",
       "      <th>count</th>\n",
       "      <td>358868.000000</td>\n",
       "    </tr>\n",
       "    <tr>\n",
       "      <th>mean</th>\n",
       "      <td>48.863234</td>\n",
       "    </tr>\n",
       "    <tr>\n",
       "      <th>std</th>\n",
       "      <td>8.524272</td>\n",
       "    </tr>\n",
       "    <tr>\n",
       "      <th>min</th>\n",
       "      <td>1.000000</td>\n",
       "    </tr>\n",
       "    <tr>\n",
       "      <th>25%</th>\n",
       "      <td>46.000000</td>\n",
       "    </tr>\n",
       "    <tr>\n",
       "      <th>50%</th>\n",
       "      <td>49.000000</td>\n",
       "    </tr>\n",
       "    <tr>\n",
       "      <th>75%</th>\n",
       "      <td>51.000000</td>\n",
       "    </tr>\n",
       "    <tr>\n",
       "      <th>max</th>\n",
       "      <td>166.000000</td>\n",
       "    </tr>\n",
       "  </tbody>\n",
       "</table>\n",
       "</div>"
      ],
      "text/plain": [
       "       nb_artists_listen\n",
       "count      358868.000000\n",
       "mean           48.863234\n",
       "std             8.524272\n",
       "min             1.000000\n",
       "25%            46.000000\n",
       "50%            49.000000\n",
       "75%            51.000000\n",
       "max           166.000000"
      ]
     },
     "execution_count": 41,
     "metadata": {},
     "output_type": "execute_result"
    }
   ],
   "source": [
    "users_nb_artists_listen.describe()"
   ]
  },
  {
   "cell_type": "markdown",
   "metadata": {},
   "source": [
    "Interestingly, we see that, although we have a lot of artists, users tend to listen to only a few of them. In average, a users has listened to 49 different artists with the quantiles being near from each other which is good."
   ]
  },
  {
   "cell_type": "markdown",
   "metadata": {},
   "source": [
    "Let's now see from where our users come from. It's possible that the origin of the user has an impact on what he listens"
   ]
  },
  {
   "cell_type": "code",
   "execution_count": 42,
   "metadata": {},
   "outputs": [],
   "source": [
    "nb_users_per_country = top_user.groupby('Country').size().reset_index(name = 'nb_users')"
   ]
  },
  {
   "cell_type": "code",
   "execution_count": 43,
   "metadata": {},
   "outputs": [],
   "source": [
    "nb_users_per_country = nb_users_per_country.sort_values('nb_users')"
   ]
  },
  {
   "cell_type": "code",
   "execution_count": 44,
   "metadata": {},
   "outputs": [
    {
     "data": {
      "text/plain": [
       "<matplotlib.axes._subplots.AxesSubplot at 0x16dac1e5448>"
      ]
     },
     "execution_count": 44,
     "metadata": {},
     "output_type": "execute_result"
    },
    {
     "data": {
      "image/png": "[encoded data removed]",
      "text/plain": [
       "<Figure size 720x720 with 1 Axes>"
      ]
     },
     "metadata": {
      "needs_background": "light"
     },
     "output_type": "display_data"
    }
   ],
   "source": [
    "#Only plotting the countries with more than 2000 users in the database\n",
    "fig, ax = plt.subplots(figsize=(10,10))\n",
    "sns.barplot(ax= ax, data = nb_users_per_country[nb_users_per_country['nb_users']>2000], x = 'nb_users', y = 'Country', )"
   ]
  },
  {
   "cell_type": "markdown",
   "metadata": {},
   "source": [
    "We can observe that most of our users come from the United States, Germany and the United Kingdom. More generally, we have a lot of european music culture with the exception of Brazil, Japan, Turkey, Mexico, Chile and Argentinia. We will therefore have that the most listened artists come from this culture. "
   ]
  },
  {
   "cell_type": "markdown",
   "metadata": {},
   "source": [
    "Let's now try to merge the two dataset together to continue the exploration"
   ]
  },
  {
   "cell_type": "code",
   "execution_count": 45,
   "metadata": {},
   "outputs": [],
   "source": [
    "top_merged = all_data.merge(top_user, left_on='ID', right_on='ID')\n",
    "top_merged = top_merged.drop(columns=['Artist_ID']) ##Drop when the users was registered and the artist_ID"
   ]
  },
  {
   "cell_type": "code",
   "execution_count": 46,
   "metadata": {},
   "outputs": [],
   "source": [
    "# !!! it seems that we lose approximetely 100k users by merging two datasets above. \n",
    "# But I guess we can't do anything with that, but probably it's good to mention it in eda ~rap\n",
    "\n",
    "# We decide to eliminate users, which have listened to less than 10 favourite artists (We'll use trivial recommendation for them)\n",
    "top_merged_IDs = top_merged.groupby(['ID']).size().reset_index()\n",
    "users_id = top_merged_IDs[top_merged_IDs[0] > 10]['ID']\n",
    "top_merged = top_merged[top_merged['ID'].isin(users_id)]"
   ]
  },
  {
   "cell_type": "markdown",
   "metadata": {},
   "source": [
    "Let's see if artists are more listened to one country or another"
   ]
  },
  {
   "cell_type": "code",
   "execution_count": 47,
   "metadata": {},
   "outputs": [],
   "source": [
    "artists_per_country = top_merged[['Artist', 'Country', 'ID', 'Plays']].groupby(['Artist','Country']).agg({'ID': len,\n",
    "                             'Plays': 'sum'}).rename(columns = {'ID':'nb_users'})"
   ]
  },
  {
   "cell_type": "code",
   "execution_count": 48,
   "metadata": {},
   "outputs": [
    {
     "data": {
      "text/html": [
       "<div>\n",
       "<style scoped>\n",
       "    .dataframe tbody tr th:only-of-type {\n",
       "        vertical-align: middle;\n",
       "    }\n",
       "\n",
       "    .dataframe tbody tr th {\n",
       "        vertical-align: top;\n",
       "    }\n",
       "\n",
       "    .dataframe thead th {\n",
       "        text-align: right;\n",
       "    }\n",
       "</style>\n",
       "<table border=\"1\" class=\"dataframe\">\n",
       "  <thead>\n",
       "    <tr style=\"text-align: right;\">\n",
       "      <th></th>\n",
       "      <th></th>\n",
       "      <th>nb_users</th>\n",
       "      <th>Plays</th>\n",
       "    </tr>\n",
       "    <tr>\n",
       "      <th>Artist</th>\n",
       "      <th>Country</th>\n",
       "      <th></th>\n",
       "      <th></th>\n",
       "    </tr>\n",
       "  </thead>\n",
       "  <tbody>\n",
       "    <tr>\n",
       "      <th rowspan=\"5\" valign=\"top\">!!!</th>\n",
       "      <th>American Samoa</th>\n",
       "      <td>1</td>\n",
       "      <td>1004</td>\n",
       "    </tr>\n",
       "    <tr>\n",
       "      <th>Andorra</th>\n",
       "      <td>1</td>\n",
       "      <td>22</td>\n",
       "    </tr>\n",
       "    <tr>\n",
       "      <th>Antarctica</th>\n",
       "      <td>2</td>\n",
       "      <td>309</td>\n",
       "    </tr>\n",
       "    <tr>\n",
       "      <th>Antigua and Barbuda</th>\n",
       "      <td>1</td>\n",
       "      <td>29</td>\n",
       "    </tr>\n",
       "    <tr>\n",
       "      <th>Argentina</th>\n",
       "      <td>14</td>\n",
       "      <td>1788</td>\n",
       "    </tr>\n",
       "    <tr>\n",
       "      <th>...</th>\n",
       "      <th>...</th>\n",
       "      <td>...</td>\n",
       "      <td>...</td>\n",
       "    </tr>\n",
       "    <tr>\n",
       "      <th rowspan=\"5\" valign=\"top\">ＬｕＬｕ</th>\n",
       "      <th>Poland</th>\n",
       "      <td>2</td>\n",
       "      <td>818</td>\n",
       "    </tr>\n",
       "    <tr>\n",
       "      <th>Russian Federation</th>\n",
       "      <td>1</td>\n",
       "      <td>30</td>\n",
       "    </tr>\n",
       "    <tr>\n",
       "      <th>Spain</th>\n",
       "      <td>1</td>\n",
       "      <td>21</td>\n",
       "    </tr>\n",
       "    <tr>\n",
       "      <th>Sweden</th>\n",
       "      <td>2</td>\n",
       "      <td>317</td>\n",
       "    </tr>\n",
       "    <tr>\n",
       "      <th>United Kingdom</th>\n",
       "      <td>3</td>\n",
       "      <td>114</td>\n",
       "    </tr>\n",
       "  </tbody>\n",
       "</table>\n",
       "<p>963313 rows × 2 columns</p>\n",
       "</div>"
      ],
      "text/plain": [
       "                            nb_users  Plays\n",
       "Artist Country                             \n",
       "!!!    American Samoa              1   1004\n",
       "       Andorra                     1     22\n",
       "       Antarctica                  2    309\n",
       "       Antigua and Barbuda         1     29\n",
       "       Argentina                  14   1788\n",
       "...                              ...    ...\n",
       "ＬｕＬｕ   Poland                      2    818\n",
       "       Russian Federation          1     30\n",
       "       Spain                       1     21\n",
       "       Sweden                      2    317\n",
       "       United Kingdom              3    114\n",
       "\n",
       "[963313 rows x 2 columns]"
      ]
     },
     "execution_count": 48,
     "metadata": {},
     "output_type": "execute_result"
    }
   ],
   "source": [
    "artists_per_country"
   ]
  },
  {
   "cell_type": "markdown",
   "metadata": {},
   "source": [
    "With this, we can also look at the most listened artist in one country:"
   ]
  },
  {
   "cell_type": "code",
   "execution_count": 49,
   "metadata": {},
   "outputs": [],
   "source": [
    "top1_artist_per_country = artists_per_country.unstack(1, fill_value = 0)"
   ]
  },
  {
   "cell_type": "code",
   "execution_count": 50,
   "metadata": {},
   "outputs": [
    {
     "data": {
      "text/html": [
       "<div>\n",
       "<style scoped>\n",
       "    .dataframe tbody tr th:only-of-type {\n",
       "        vertical-align: middle;\n",
       "    }\n",
       "\n",
       "    .dataframe tbody tr th {\n",
       "        vertical-align: top;\n",
       "    }\n",
       "\n",
       "    .dataframe thead tr th {\n",
       "        text-align: left;\n",
       "    }\n",
       "</style>\n",
       "<table border=\"1\" class=\"dataframe\">\n",
       "  <thead>\n",
       "    <tr>\n",
       "      <th></th>\n",
       "      <th>Artist</th>\n",
       "      <th colspan=\"9\" halign=\"left\">nb_users</th>\n",
       "      <th>...</th>\n",
       "      <th colspan=\"10\" halign=\"left\">Plays</th>\n",
       "    </tr>\n",
       "    <tr>\n",
       "      <th>Country</th>\n",
       "      <th></th>\n",
       "      <th>Afghanistan</th>\n",
       "      <th>Albania</th>\n",
       "      <th>Algeria</th>\n",
       "      <th>American Samoa</th>\n",
       "      <th>Andorra</th>\n",
       "      <th>Angola</th>\n",
       "      <th>Anguilla</th>\n",
       "      <th>Antarctica</th>\n",
       "      <th>Antigua and Barbuda</th>\n",
       "      <th>...</th>\n",
       "      <th>Vanuatu</th>\n",
       "      <th>Venezuela</th>\n",
       "      <th>Viet Nam</th>\n",
       "      <th>Virgin Islands, British</th>\n",
       "      <th>Virgin Islands, U.s.</th>\n",
       "      <th>Wallis and Futuna</th>\n",
       "      <th>Western Sahara</th>\n",
       "      <th>Yemen</th>\n",
       "      <th>Zambia</th>\n",
       "      <th>Zimbabwe</th>\n",
       "    </tr>\n",
       "  </thead>\n",
       "  <tbody>\n",
       "    <tr>\n",
       "      <th>0</th>\n",
       "      <td>!!!</td>\n",
       "      <td>0</td>\n",
       "      <td>0</td>\n",
       "      <td>0</td>\n",
       "      <td>1</td>\n",
       "      <td>1</td>\n",
       "      <td>0</td>\n",
       "      <td>0</td>\n",
       "      <td>2</td>\n",
       "      <td>1</td>\n",
       "      <td>...</td>\n",
       "      <td>0</td>\n",
       "      <td>1744</td>\n",
       "      <td>0</td>\n",
       "      <td>0</td>\n",
       "      <td>0</td>\n",
       "      <td>283</td>\n",
       "      <td>0</td>\n",
       "      <td>0</td>\n",
       "      <td>0</td>\n",
       "      <td>0</td>\n",
       "    </tr>\n",
       "    <tr>\n",
       "      <th>1</th>\n",
       "      <td>!action pact!</td>\n",
       "      <td>0</td>\n",
       "      <td>0</td>\n",
       "      <td>0</td>\n",
       "      <td>0</td>\n",
       "      <td>0</td>\n",
       "      <td>0</td>\n",
       "      <td>0</td>\n",
       "      <td>0</td>\n",
       "      <td>0</td>\n",
       "      <td>...</td>\n",
       "      <td>0</td>\n",
       "      <td>0</td>\n",
       "      <td>0</td>\n",
       "      <td>0</td>\n",
       "      <td>0</td>\n",
       "      <td>0</td>\n",
       "      <td>0</td>\n",
       "      <td>0</td>\n",
       "      <td>0</td>\n",
       "      <td>0</td>\n",
       "    </tr>\n",
       "    <tr>\n",
       "      <th>2</th>\n",
       "      <td>!deladap</td>\n",
       "      <td>0</td>\n",
       "      <td>0</td>\n",
       "      <td>0</td>\n",
       "      <td>0</td>\n",
       "      <td>0</td>\n",
       "      <td>0</td>\n",
       "      <td>0</td>\n",
       "      <td>0</td>\n",
       "      <td>0</td>\n",
       "      <td>...</td>\n",
       "      <td>0</td>\n",
       "      <td>0</td>\n",
       "      <td>0</td>\n",
       "      <td>0</td>\n",
       "      <td>0</td>\n",
       "      <td>0</td>\n",
       "      <td>0</td>\n",
       "      <td>0</td>\n",
       "      <td>0</td>\n",
       "      <td>0</td>\n",
       "    </tr>\n",
       "    <tr>\n",
       "      <th>3</th>\n",
       "      <td>!distain</td>\n",
       "      <td>0</td>\n",
       "      <td>0</td>\n",
       "      <td>0</td>\n",
       "      <td>0</td>\n",
       "      <td>0</td>\n",
       "      <td>0</td>\n",
       "      <td>0</td>\n",
       "      <td>0</td>\n",
       "      <td>0</td>\n",
       "      <td>...</td>\n",
       "      <td>0</td>\n",
       "      <td>0</td>\n",
       "      <td>0</td>\n",
       "      <td>0</td>\n",
       "      <td>0</td>\n",
       "      <td>0</td>\n",
       "      <td>0</td>\n",
       "      <td>0</td>\n",
       "      <td>0</td>\n",
       "      <td>0</td>\n",
       "    </tr>\n",
       "    <tr>\n",
       "      <th>4</th>\n",
       "      <td>!t.o.o.h.!</td>\n",
       "      <td>0</td>\n",
       "      <td>0</td>\n",
       "      <td>0</td>\n",
       "      <td>0</td>\n",
       "      <td>0</td>\n",
       "      <td>0</td>\n",
       "      <td>0</td>\n",
       "      <td>1</td>\n",
       "      <td>0</td>\n",
       "      <td>...</td>\n",
       "      <td>0</td>\n",
       "      <td>389</td>\n",
       "      <td>0</td>\n",
       "      <td>0</td>\n",
       "      <td>0</td>\n",
       "      <td>0</td>\n",
       "      <td>0</td>\n",
       "      <td>0</td>\n",
       "      <td>0</td>\n",
       "      <td>0</td>\n",
       "    </tr>\n",
       "    <tr>\n",
       "      <th>...</th>\n",
       "      <td>...</td>\n",
       "      <td>...</td>\n",
       "      <td>...</td>\n",
       "      <td>...</td>\n",
       "      <td>...</td>\n",
       "      <td>...</td>\n",
       "      <td>...</td>\n",
       "      <td>...</td>\n",
       "      <td>...</td>\n",
       "      <td>...</td>\n",
       "      <td>...</td>\n",
       "      <td>...</td>\n",
       "      <td>...</td>\n",
       "      <td>...</td>\n",
       "      <td>...</td>\n",
       "      <td>...</td>\n",
       "      <td>...</td>\n",
       "      <td>...</td>\n",
       "      <td>...</td>\n",
       "      <td>...</td>\n",
       "      <td>...</td>\n",
       "    </tr>\n",
       "    <tr>\n",
       "      <th>33096</th>\n",
       "      <td>비</td>\n",
       "      <td>0</td>\n",
       "      <td>0</td>\n",
       "      <td>0</td>\n",
       "      <td>0</td>\n",
       "      <td>0</td>\n",
       "      <td>0</td>\n",
       "      <td>0</td>\n",
       "      <td>0</td>\n",
       "      <td>0</td>\n",
       "      <td>...</td>\n",
       "      <td>0</td>\n",
       "      <td>893</td>\n",
       "      <td>1685</td>\n",
       "      <td>0</td>\n",
       "      <td>0</td>\n",
       "      <td>0</td>\n",
       "      <td>0</td>\n",
       "      <td>0</td>\n",
       "      <td>0</td>\n",
       "      <td>1353</td>\n",
       "    </tr>\n",
       "    <tr>\n",
       "      <th>33097</th>\n",
       "      <td>태양</td>\n",
       "      <td>0</td>\n",
       "      <td>0</td>\n",
       "      <td>0</td>\n",
       "      <td>0</td>\n",
       "      <td>0</td>\n",
       "      <td>0</td>\n",
       "      <td>0</td>\n",
       "      <td>0</td>\n",
       "      <td>0</td>\n",
       "      <td>...</td>\n",
       "      <td>0</td>\n",
       "      <td>0</td>\n",
       "      <td>0</td>\n",
       "      <td>0</td>\n",
       "      <td>0</td>\n",
       "      <td>0</td>\n",
       "      <td>0</td>\n",
       "      <td>0</td>\n",
       "      <td>0</td>\n",
       "      <td>0</td>\n",
       "    </tr>\n",
       "    <tr>\n",
       "      <th>33098</th>\n",
       "      <td>푸른새벽</td>\n",
       "      <td>0</td>\n",
       "      <td>0</td>\n",
       "      <td>0</td>\n",
       "      <td>0</td>\n",
       "      <td>0</td>\n",
       "      <td>0</td>\n",
       "      <td>0</td>\n",
       "      <td>0</td>\n",
       "      <td>0</td>\n",
       "      <td>...</td>\n",
       "      <td>0</td>\n",
       "      <td>0</td>\n",
       "      <td>0</td>\n",
       "      <td>0</td>\n",
       "      <td>0</td>\n",
       "      <td>0</td>\n",
       "      <td>0</td>\n",
       "      <td>0</td>\n",
       "      <td>0</td>\n",
       "      <td>0</td>\n",
       "    </tr>\n",
       "    <tr>\n",
       "      <th>33099</th>\n",
       "      <td>１０</td>\n",
       "      <td>0</td>\n",
       "      <td>0</td>\n",
       "      <td>0</td>\n",
       "      <td>0</td>\n",
       "      <td>0</td>\n",
       "      <td>0</td>\n",
       "      <td>0</td>\n",
       "      <td>0</td>\n",
       "      <td>0</td>\n",
       "      <td>...</td>\n",
       "      <td>0</td>\n",
       "      <td>0</td>\n",
       "      <td>0</td>\n",
       "      <td>0</td>\n",
       "      <td>0</td>\n",
       "      <td>0</td>\n",
       "      <td>0</td>\n",
       "      <td>0</td>\n",
       "      <td>0</td>\n",
       "      <td>0</td>\n",
       "    </tr>\n",
       "    <tr>\n",
       "      <th>33100</th>\n",
       "      <td>ＬｕＬｕ</td>\n",
       "      <td>0</td>\n",
       "      <td>0</td>\n",
       "      <td>0</td>\n",
       "      <td>0</td>\n",
       "      <td>0</td>\n",
       "      <td>0</td>\n",
       "      <td>0</td>\n",
       "      <td>0</td>\n",
       "      <td>0</td>\n",
       "      <td>...</td>\n",
       "      <td>0</td>\n",
       "      <td>0</td>\n",
       "      <td>0</td>\n",
       "      <td>0</td>\n",
       "      <td>0</td>\n",
       "      <td>0</td>\n",
       "      <td>0</td>\n",
       "      <td>0</td>\n",
       "      <td>0</td>\n",
       "      <td>0</td>\n",
       "    </tr>\n",
       "  </tbody>\n",
       "</table>\n",
       "<p>33101 rows × 479 columns</p>\n",
       "</div>"
      ],
      "text/plain": [
       "                Artist    nb_users                                         \\\n",
       "Country                Afghanistan Albania Algeria American Samoa Andorra   \n",
       "0                  !!!           0       0       0              1       1   \n",
       "1        !action pact!           0       0       0              0       0   \n",
       "2             !deladap           0       0       0              0       0   \n",
       "3             !distain           0       0       0              0       0   \n",
       "4           !t.o.o.h.!           0       0       0              0       0   \n",
       "...                ...         ...     ...     ...            ...     ...   \n",
       "33096                비           0       0       0              0       0   \n",
       "33097               태양           0       0       0              0       0   \n",
       "33098             푸른새벽           0       0       0              0       0   \n",
       "33099               １０           0       0       0              0       0   \n",
       "33100             ＬｕＬｕ           0       0       0              0       0   \n",
       "\n",
       "                                                        ...   Plays            \\\n",
       "Country Angola Anguilla Antarctica Antigua and Barbuda  ... Vanuatu Venezuela   \n",
       "0            0        0          2                   1  ...       0      1744   \n",
       "1            0        0          0                   0  ...       0         0   \n",
       "2            0        0          0                   0  ...       0         0   \n",
       "3            0        0          0                   0  ...       0         0   \n",
       "4            0        0          1                   0  ...       0       389   \n",
       "...        ...      ...        ...                 ...  ...     ...       ...   \n",
       "33096        0        0          0                   0  ...       0       893   \n",
       "33097        0        0          0                   0  ...       0         0   \n",
       "33098        0        0          0                   0  ...       0         0   \n",
       "33099        0        0          0                   0  ...       0         0   \n",
       "33100        0        0          0                   0  ...       0         0   \n",
       "\n",
       "                                                               \\\n",
       "Country Viet Nam Virgin Islands, British Virgin Islands, U.s.   \n",
       "0              0                       0                    0   \n",
       "1              0                       0                    0   \n",
       "2              0                       0                    0   \n",
       "3              0                       0                    0   \n",
       "4              0                       0                    0   \n",
       "...          ...                     ...                  ...   \n",
       "33096       1685                       0                    0   \n",
       "33097          0                       0                    0   \n",
       "33098          0                       0                    0   \n",
       "33099          0                       0                    0   \n",
       "33100          0                       0                    0   \n",
       "\n",
       "                                                                \n",
       "Country Wallis and Futuna Western Sahara Yemen Zambia Zimbabwe  \n",
       "0                     283              0     0      0        0  \n",
       "1                       0              0     0      0        0  \n",
       "2                       0              0     0      0        0  \n",
       "3                       0              0     0      0        0  \n",
       "4                       0              0     0      0        0  \n",
       "...                   ...            ...   ...    ...      ...  \n",
       "33096                   0              0     0      0     1353  \n",
       "33097                   0              0     0      0        0  \n",
       "33098                   0              0     0      0        0  \n",
       "33099                   0              0     0      0        0  \n",
       "33100                   0              0     0      0        0  \n",
       "\n",
       "[33101 rows x 479 columns]"
      ]
     },
     "execution_count": 50,
     "metadata": {},
     "output_type": "execute_result"
    }
   ],
   "source": [
    "top1_artist_per_country = top1_artist_per_country.reset_index()\n",
    "top1_artist_per_country"
   ]
  },
  {
   "cell_type": "code",
   "execution_count": 51,
   "metadata": {},
   "outputs": [
    {
     "name": "stderr",
     "output_type": "stream",
     "text": [
      "C:\\ProgramData\\Anaconda3\\lib\\site-packages\\pandas\\core\\generic.py:4153: PerformanceWarning: dropping on a non-lexsorted multi-index without a level parameter may impact performance.\n",
      "  obj = obj._drop_axis(labels, axis, level=level, errors=errors)\n"
     ]
    }
   ],
   "source": [
    "top1_artist_per_country = top1_artist_per_country.set_index(top1_artist_per_country['Artist']).drop(columns = 'Artist')"
   ]
  },
  {
   "cell_type": "code",
   "execution_count": 52,
   "metadata": {},
   "outputs": [
    {
     "name": "stdout",
     "output_type": "stream",
     "text": [
      "Most listened artist in Afghanistan: radiohead, with 12 users\n",
      "Most listened artist in Albania: metallica, with 14 users\n",
      "Most listened artist in Algeria: [unknown], with 7 users\n",
      "Most listened artist in American Samoa: radiohead, with 9 users\n",
      "Most listened artist in Andorra: obrint pas, with 39 users\n",
      "Most listened artist in Angola: beyoncé, with 8 users\n",
      "Most listened artist in Anguilla: muse, with 5 users\n",
      "Most listened artist in Antarctica: radiohead, with 76 users\n",
      "Most listened artist in Antigua and Barbuda: radiohead, with 9 users\n",
      "Most listened artist in Argentina: the beatles, with 812 users\n",
      "Most listened artist in Armenia: the beatles, with 13 users\n",
      "Most listened artist in Aruba: the beatles, with 11 users\n",
      "Most listened artist in Australia: radiohead, with 1983 users\n",
      "Most listened artist in Austria: die Ärzte, with 572 users\n",
      "Most listened artist in Azerbaijan: the beatles, with 16 users\n",
      "Most listened artist in Bahamas: radiohead, with 10 users\n",
      "Most listened artist in Bahrain: radiohead, with 7 users\n",
      "Most listened artist in Bangladesh: the beatles, with 24 users\n",
      "Most listened artist in Barbados: coldplay, with 14 users\n",
      "Most listened artist in Belarus: the prodigy, with 236 users\n",
      "Most listened artist in Belgium: radiohead, with 911 users\n",
      "Most listened artist in Belize: radiohead, with 4 users\n",
      "Most listened artist in Benin: ayo, with 2 users\n",
      "Most listened artist in Bermuda: radiohead, with 10 users\n",
      "Most listened artist in Bhutan: beirut, with 6 users\n",
      "Most listened artist in Bolivia: radiohead, with 15 users\n",
      "Most listened artist in Bosnia and Herzegovina: red hot chili peppers, with 68 users\n",
      "Most listened artist in Botswana: radiohead, with 8 users\n",
      "Most listened artist in Bouvet Island: pink floyd, with 5 users\n",
      "Most listened artist in Brazil: the beatles, with 4337 users\n",
      "Most listened artist in British Indian Ocean Territory: aphex twin, with 6 users\n",
      "Most listened artist in Brunei Darussalam: paramore, with 6 users\n",
      "Most listened artist in Bulgaria: metallica, with 699 users\n",
      "Most listened artist in Burkina Faso: red hot chili peppers, with 11 users\n",
      "Most listened artist in Burundi: johnny cash, with 3 users\n",
      "Most listened artist in Cambodia: radiohead, with 14 users\n",
      "Most listened artist in Cameroon: andrew bird, with 3 users\n",
      "Most listened artist in Canada: radiohead, with 2380 users\n",
      "Most listened artist in Cape Verde: bob marley, with 6 users\n",
      "Most listened artist in Cayman Islands: radiohead, with 9 users\n",
      "Most listened artist in Central African Republic: blink-182, with 2 users\n",
      "Most listened artist in Chad: madlib, with 5 users\n",
      "Most listened artist in Chile: radiohead, with 872 users\n",
      "Most listened artist in China: coldplay, with 390 users\n",
      "Most listened artist in Christmas Island: radiohead, with 28 users\n",
      "Most listened artist in Cocos (Keeling) Islands: placebo, with 24 users\n",
      "Most listened artist in Colombia: radiohead, with 483 users\n",
      "Most listened artist in Comoros: eldo, with 3 users\n",
      "Most listened artist in Congo: animal collective, with 3 users\n",
      "Most listened artist in Congo, the Democratic Republic of the: red hot chili peppers, with 5 users\n",
      "Most listened artist in Cook Islands: amy winehouse, with 5 users\n",
      "Most listened artist in Costa Rica: radiohead, with 76 users\n",
      "Most listened artist in Cote D'Ivoire: the beatles, with 8 users\n",
      "Most listened artist in Croatia: hladno pivo, with 515 users\n",
      "Most listened artist in Cuba: radiohead, with 16 users\n",
      "Most listened artist in Cyprus: radiohead, with 27 users\n",
      "Most listened artist in Czech Republic: coldplay, with 829 users\n",
      "Most listened artist in Denmark: radiohead, with 675 users\n",
      "Most listened artist in Djibouti: red hot chili peppers, with 13 users\n",
      "Most listened artist in Dominica: happysad, with 4 users\n",
      "Most listened artist in Dominican Republic: coldplay, with 25 users\n",
      "Most listened artist in Ecuador: radiohead, with 62 users\n",
      "Most listened artist in Egypt: pink floyd, with 50 users\n",
      "Most listened artist in El Salvador: coldplay, with 22 users\n",
      "Most listened artist in Equatorial Guinea: boards of canada, with 3 users\n",
      "Most listened artist in Eritrea: big black, with 2 users\n",
      "Most listened artist in Estonia: coldplay, with 234 users\n",
      "Most listened artist in Ethiopia: led zeppelin, with 5 users\n",
      "Most listened artist in Falkland Islands (Malvinas): radiohead, with 4 users\n",
      "Most listened artist in Faroe Islands: radiohead, with 18 users\n",
      "Most listened artist in Fiji: radiohead, with 12 users\n",
      "Most listened artist in Finland: metallica, with 2704 users\n",
      "Most listened artist in France: radiohead, with 1966 users\n",
      "Most listened artist in French Guiana: alicia keys, with 2 users\n",
      "Most listened artist in French Polynesia: placebo, with 5 users\n",
      "Most listened artist in French Southern Territories: coldplay, with 9 users\n",
      "Most listened artist in Gabon: the beatles, with 3 users\n",
      "Most listened artist in Gambia: bonobo, with 2 users\n",
      "Most listened artist in Georgia: radiohead, with 76 users\n",
      "Most listened artist in Germany: die Ärzte, with 6707 users\n",
      "Most listened artist in Ghana: kanye west, with 8 users\n",
      "Most listened artist in Gibraltar: the beatles, with 7 users\n",
      "Most listened artist in Greece: radiohead, with 465 users\n",
      "Most listened artist in Greenland: radiohead, with 10 users\n",
      "Most listened artist in Grenada: coldplay, with 4 users\n",
      "Most listened artist in Guadeloupe: coldplay, with 5 users\n",
      "Most listened artist in Guam: coldplay, with 7 users\n",
      "Most listened artist in Guatemala: ricardo arjona, with 43 users\n",
      "Most listened artist in Guinea-Bissau: the beatles, with 3 users\n",
      "Most listened artist in Guyana: *nsync, with 1 users\n",
      "Most listened artist in Haiti: arctic monkeys, with 5 users\n",
      "Most listened artist in Heard Island and Mcdonald Islands: radiohead, with 12 users\n",
      "Most listened artist in Holy See (Vatican City State): the beatles, with 21 users\n",
      "Most listened artist in Honduras: coldplay, with 10 users\n",
      "Most listened artist in Hong Kong: coldplay, with 92 users\n",
      "Most listened artist in Hungary: quimby, with 306 users\n",
      "Most listened artist in Iceland: sigur rós, with 155 users\n",
      "Most listened artist in India: coldplay, with 384 users\n",
      "Most listened artist in Indonesia: coldplay, with 196 users\n",
      "Most listened artist in Iran, Islamic Republic of: pink floyd, with 74 users\n",
      "Most listened artist in Iraq: metallica, with 4 users\n",
      "Most listened artist in Ireland: radiohead, with 540 users\n",
      "Most listened artist in Israel: the beatles, with 359 users\n",
      "Most listened artist in Italy: radiohead, with 2035 users\n",
      "Most listened artist in Jamaica: bob marley, with 36 users\n",
      "Most listened artist in Japan: the beatles, with 1451 users\n",
      "Most listened artist in Jordan: metallica, with 9 users\n",
      "Most listened artist in Kazakhstan: linkin park, with 70 users\n",
      "Most listened artist in Kenya: coldplay, with 7 users\n",
      "Most listened artist in Kiribati: radiohead, with 5 users\n",
      "Most listened artist in Korea, Democratic People's Republic of: radiohead, with 6 users\n",
      "Most listened artist in Korea, Republic of: radiohead, with 118 users\n",
      "Most listened artist in Kuwait: rihanna, with 9 users\n",
      "Most listened artist in Kyrgyzstan: the beatles, with 5 users\n",
      "Most listened artist in Lao People's Democratic Republic: bloc party, with 2 users\n",
      "Most listened artist in Latvia: coldplay, with 424 users\n",
      "Most listened artist in Lebanon: coldplay, with 18 users\n",
      "Most listened artist in Lesotho: !!!, with 2 users\n",
      "Most listened artist in Liberia: bonobo, with 2 users\n",
      "Most listened artist in Libyan Arab Jamahiriya: 2pac, with 5 users\n",
      "Most listened artist in Liechtenstein: the beatles, with 8 users\n",
      "Most listened artist in Lithuania: coldplay, with 475 users\n",
      "Most listened artist in Luxembourg: radiohead, with 31 users\n",
      "Most listened artist in Macao: radiohead, with 8 users\n",
      "Most listened artist in Macedonia: radiohead, with 69 users\n",
      "Most listened artist in Madagascar: avril lavigne, with 5 users\n",
      "Most listened artist in Malawi: the beatles, with 4 users\n",
      "Most listened artist in Malaysia: coldplay, with 116 users\n",
      "Most listened artist in Maldives: coldplay, with 6 users\n",
      "Most listened artist in Mali: ac/dc, with 3 users\n",
      "Most listened artist in Malta: radiohead, with 16 users\n",
      "Most listened artist in Marshall Islands: bob marley, with 2 users\n",
      "Most listened artist in Martinique: michael jackson, with 7 users\n",
      "Most listened artist in Mauritania: charles mingus, with 2 users\n",
      "Most listened artist in Mauritius: coldplay, with 13 users\n",
      "Most listened artist in Mayotte: arctic monkeys, with 3 users\n",
      "Most listened artist in Mexico: radiohead, with 1578 users\n",
      "Most listened artist in Micronesia, Federated States of: radiohead, with 8 users\n",
      "Most listened artist in Moldova: coldplay, with 42 users\n",
      "Most listened artist in Monaco: arctic monkeys, with 7 users\n",
      "Most listened artist in Mongolia: röyksopp, with 9 users\n",
      "Most listened artist in Montenegro: massive attack, with 21 users\n",
      "Most listened artist in Montserrat: radiohead, with 5 users\n"
     ]
    },
    {
     "name": "stdout",
     "output_type": "stream",
     "text": [
      "Most listened artist in Morocco: coldplay, with 17 users\n",
      "Most listened artist in Mozambique: bob marley, with 4 users\n",
      "Most listened artist in Myanmar: amy winehouse, with 3 users\n",
      "Most listened artist in Namibia: arcade fire, with 3 users\n",
      "Most listened artist in Nauru: the beatles, with 4 users\n",
      "Most listened artist in Nepal: the beatles, with 15 users\n",
      "Most listened artist in Netherlands: coldplay, with 2616 users\n",
      "Most listened artist in Netherlands Antilles: radiohead, with 5 users\n",
      "Most listened artist in New Caledonia: serge gainsbourg, with 3 users\n",
      "Most listened artist in New Zealand: radiohead, with 385 users\n",
      "Most listened artist in Nicaragua: portishead, with 6 users\n",
      "Most listened artist in Niger: the beatles, with 4 users\n",
      "Most listened artist in Nigeria: akon, with 8 users\n",
      "Most listened artist in Niue: radiohead, with 19 users\n",
      "Most listened artist in Norfolk Island: radiohead, with 6 users\n",
      "Most listened artist in Northern Mariana Islands: amy winehouse, with 3 users\n",
      "Most listened artist in Norway: coldplay, with 1264 users\n",
      "Most listened artist in Oman: alicia keys, with 3 users\n",
      "Most listened artist in Pakistan: junoon, with 18 users\n",
      "Most listened artist in Palau: coldplay, with 2 users\n",
      "Most listened artist in Palestinian Territory, Occupied: the beatles, with 12 users\n",
      "Most listened artist in Panama: linkin park, with 14 users\n",
      "Most listened artist in Papua New Guinea: radiohead, with 8 users\n",
      "Most listened artist in Paraguay: radiohead, with 31 users\n",
      "Most listened artist in Peru: the beatles, with 146 users\n",
      "Most listened artist in Philippines: eraserheads, with 170 users\n",
      "Most listened artist in Pitcairn: massive attack, with 6 users\n",
      "Most listened artist in Poland: metallica, with 3856 users\n",
      "Most listened artist in Portugal: radiohead, with 1012 users\n",
      "Most listened artist in Puerto Rico: the beatles, with 61 users\n",
      "Most listened artist in Qatar: jack johnson, with 6 users\n",
      "Most listened artist in Reunion: radiohead, with 11 users\n",
      "Most listened artist in Romania: coldplay, with 654 users\n",
      "Most listened artist in Russian Federation: radiohead, with 3135 users\n",
      "Most listened artist in Rwanda: bob marley & the wailers, with 3 users\n",
      "Most listened artist in Saint Helena: the beatles, with 6 users\n",
      "Most listened artist in Saint Kitts and Nevis: the beatles, with 5 users\n",
      "Most listened artist in Saint Lucia: bob marley & the wailers, with 3 users\n",
      "Most listened artist in Saint Pierre and Miquelon: air, with 3 users\n",
      "Most listened artist in Saint Vincent and the Grenadines: the beatles, with 9 users\n",
      "Most listened artist in Samoa: pink floyd, with 4 users\n",
      "Most listened artist in San Marino: amy winehouse, with 3 users\n",
      "Most listened artist in Sao Tome and Principe: radiohead, with 7 users\n",
      "Most listened artist in Saudi Arabia: coldplay, with 24 users\n",
      "Most listened artist in Senegal: jay-z, with 3 users\n",
      "Most listened artist in Serbia: depeche mode, with 268 users\n",
      "Most listened artist in Seychelles: coldplay, with 6 users\n",
      "Most listened artist in Sierra Leone: beirut, with 3 users\n",
      "Most listened artist in Singapore: coldplay, with 158 users\n",
      "Most listened artist in Slovakia: coldplay, with 327 users\n",
      "Most listened artist in Slovenia: red hot chili peppers, with 138 users\n",
      "Most listened artist in Solomon Islands: django reinhardt, with 3 users\n",
      "Most listened artist in Somalia: radiohead, with 5 users\n",
      "Most listened artist in South Africa: radiohead, with 175 users\n",
      "Most listened artist in South Georgia and the South Sandwich Islands: radiohead, with 21 users\n",
      "Most listened artist in Spain: coldplay, with 3102 users\n",
      "Most listened artist in Sri Lanka: the beatles, with 10 users\n",
      "Most listened artist in Sudan: bob dylan, with 2 users\n",
      "Most listened artist in Suriname: air, with 2 users\n",
      "Most listened artist in Svalbard and Jan Mayen: radiohead, with 11 users\n",
      "Most listened artist in Swaziland: franz ferdinand, with 4 users\n",
      "Most listened artist in Sweden: coldplay, with 3173 users\n",
      "Most listened artist in Switzerland: coldplay, with 647 users\n",
      "Most listened artist in Syrian Arab Republic: the beatles, with 10 users\n",
      "Most listened artist in Taiwan: radiohead, with 132 users\n",
      "Most listened artist in Tajikistan: radiohead, with 4 users\n",
      "Most listened artist in Tanzania, United Republic of: kanye west, with 5 users\n",
      "Most listened artist in Thailand: coldplay, with 161 users\n",
      "Most listened artist in Timor-Leste: nirvana, with 4 users\n",
      "Most listened artist in Togo: bob marley, with 5 users\n",
      "Most listened artist in Tokelau: radiohead, with 6 users\n",
      "Most listened artist in Tonga: animal collective, with 2 users\n",
      "Most listened artist in Trinidad and Tobago: the beatles, with 13 users\n",
      "Most listened artist in Tunisia: akon, with 19 users\n",
      "Most listened artist in Turkey: radiohead, with 1675 users\n",
      "Most listened artist in Turkmenistan: kanye west, with 4 users\n",
      "Most listened artist in Turks and Caicos Islands: red hot chili peppers, with 5 users\n",
      "Most listened artist in Tuvalu: radiohead, with 10 users\n",
      "Most listened artist in Uganda: radiohead, with 9 users\n",
      "Most listened artist in Ukraine: radiohead, with 765 users\n",
      "Most listened artist in United Arab Emirates: coldplay, with 34 users\n",
      "Most listened artist in United Kingdom: radiohead, with 8300 users\n",
      "Most listened artist in United States: the beatles, with 22178 users\n",
      "Most listened artist in United States Minor Outlying Islands: the beatles, with 37 users\n",
      "Most listened artist in Uruguay: the beatles, with 83 users\n",
      "Most listened artist in Uzbekistan: red hot chili peppers, with 14 users\n",
      "Most listened artist in Vanuatu: the beatles, with 7 users\n",
      "Most listened artist in Venezuela: the beatles, with 166 users\n",
      "Most listened artist in Viet Nam: the beatles, with 40 users\n",
      "Most listened artist in Virgin Islands, British: the beatles, with 12 users\n",
      "Most listened artist in Virgin Islands, U.s.: radiohead, with 9 users\n",
      "Most listened artist in Wallis and Futuna: the beatles, with 10 users\n",
      "Most listened artist in Western Sahara: radiohead, with 9 users\n",
      "Most listened artist in Yemen: system of a down, with 5 users\n",
      "Most listened artist in Zambia: bob dylan, with 4 users\n",
      "Most listened artist in Zimbabwe: coldplay, with 18 users\n"
     ]
    }
   ],
   "source": [
    "for country in top1_artist_per_country['nb_users']:\n",
    "    print(f\"Most listened artist in {country}: {top1_artist_per_country['nb_users'][country].idxmax()}, with {top1_artist_per_country['nb_users'][country].max()} users\")"
   ]
  },
  {
   "cell_type": "markdown",
   "metadata": {},
   "source": [
    "Look at it in terms of plays:"
   ]
  },
  {
   "cell_type": "code",
   "execution_count": 53,
   "metadata": {},
   "outputs": [
    {
     "name": "stdout",
     "output_type": "stream",
     "text": [
      "Most listened artist in Afghanistan: anti-flag, with 4292 plays\n",
      "Most listened artist in Albania: metallica, with 26215 plays\n",
      "Most listened artist in Algeria: the devil wears prada, with 5274 plays\n",
      "Most listened artist in American Samoa: radiohead, with 5038 plays\n",
      "Most listened artist in Andorra: antònia font, with 14014 plays\n",
      "Most listened artist in Angola: atmosphere, with 16932 plays\n",
      "Most listened artist in Anguilla: boards of canada, with 1294 plays\n",
      "Most listened artist in Antarctica: ildjarn, with 39747 plays\n",
      "Most listened artist in Antigua and Barbuda: the killers, with 4180 plays\n",
      "Most listened artist in Argentina: the beatles, with 314047 plays\n",
      "Most listened artist in Armenia: the beatles, with 11391 plays\n",
      "Most listened artist in Aruba: the beatles, with 25775 plays\n",
      "Most listened artist in Australia: radiohead, with 832008 plays\n",
      "Most listened artist in Austria: nofx, with 477505 plays\n",
      "Most listened artist in Azerbaijan: massive attack, with 4054 plays\n",
      "Most listened artist in Bahamas: the roots, with 8539 plays\n",
      "Most listened artist in Bahrain: melanie c, with 10956 plays\n",
      "Most listened artist in Bangladesh: metallica, with 14300 plays\n",
      "Most listened artist in Barbados: john mayer, with 11122 plays\n",
      "Most listened artist in Belarus: radiohead, with 102478 plays\n",
      "Most listened artist in Belgium: radiohead, with 293903 plays\n",
      "Most listened artist in Belize: devendra banhart, with 801 plays\n",
      "Most listened artist in Benin: sum 41, with 3178 plays\n",
      "Most listened artist in Bermuda: kidneythieves, with 2830 plays\n",
      "Most listened artist in Bhutan: the offspring, with 5885 plays\n",
      "Most listened artist in Bolivia: the gathering, with 13396 plays\n",
      "Most listened artist in Bosnia and Herzegovina: azra, with 38753 plays\n",
      "Most listened artist in Botswana: the rolling stones, with 9022 plays\n",
      "Most listened artist in Bouvet Island: the beatles, with 8318 plays\n",
      "Most listened artist in Brazil: the beatles, with 2116042 plays\n",
      "Most listened artist in British Indian Ocean Territory: aphex twin, with 5853 plays\n",
      "Most listened artist in Brunei Darussalam: dir en grey, with 8545 plays\n",
      "Most listened artist in Bulgaria: metallica, with 300046 plays\n",
      "Most listened artist in Burkina Faso: the cranberries, with 6320 plays\n",
      "Most listened artist in Burundi: madonna, with 11852 plays\n",
      "Most listened artist in Cambodia: the cat empire, with 27489 plays\n",
      "Most listened artist in Cameroon: radiohead, with 2639 plays\n",
      "Most listened artist in Canada: the beatles, with 1097570 plays\n",
      "Most listened artist in Cape Verde: pj harvey, with 2318 plays\n",
      "Most listened artist in Cayman Islands: the doors, with 5022 plays\n",
      "Most listened artist in Central African Republic: gil scott-heron, with 586 plays\n",
      "Most listened artist in Chad: myslovitz, with 1277 plays\n",
      "Most listened artist in Chile: radiohead, with 274521 plays\n",
      "Most listened artist in China: coldplay, with 106994 plays\n",
      "Most listened artist in Christmas Island: capsule, with 21561 plays\n",
      "Most listened artist in Cocos (Keeling) Islands: [unknown], with 16084 plays\n",
      "Most listened artist in Colombia: radiohead, with 137430 plays\n",
      "Most listened artist in Comoros: o.s.t.r., with 3538 plays\n",
      "Most listened artist in Congo: elisa, with 10302 plays\n",
      "Most listened artist in Congo, the Democratic Republic of the: pan sonic, with 3309 plays\n",
      "Most listened artist in Cook Islands: mcfly, with 9774 plays\n",
      "Most listened artist in Costa Rica: beastie boys, with 25845 plays\n",
      "Most listened artist in Cote D'Ivoire: dream theater, with 21026 plays\n",
      "Most listened artist in Croatia: hladno pivo, with 234725 plays\n",
      "Most listened artist in Cuba: radiohead, with 4283 plays\n",
      "Most listened artist in Cyprus: portishead, with 45889 plays\n",
      "Most listened artist in Czech Republic: nightwish, with 347564 plays\n",
      "Most listened artist in Denmark: radiohead, with 235984 plays\n",
      "Most listened artist in Djibouti: nine inch nails, with 16464 plays\n",
      "Most listened artist in Dominica: edyta geppert, with 3573 plays\n",
      "Most listened artist in Dominican Republic: beyoncé, with 19716 plays\n",
      "Most listened artist in Ecuador: the beatles, with 43122 plays\n",
      "Most listened artist in Egypt: pink floyd, with 20798 plays\n",
      "Most listened artist in El Salvador: yann tiersen, with 17304 plays\n",
      "Most listened artist in Equatorial Guinea: kagrra,, with 6751 plays\n",
      "Most listened artist in Eritrea: nine inch nails, with 5270 plays\n",
      "Most listened artist in Estonia: linkin park, with 158870 plays\n",
      "Most listened artist in Ethiopia: nasum, with 2881 plays\n",
      "Most listened artist in Falkland Islands (Malvinas): travis, with 4462 plays\n",
      "Most listened artist in Faroe Islands: radiohead, with 6217 plays\n",
      "Most listened artist in Fiji: modest mouse, with 6888 plays\n",
      "Most listened artist in Finland: in flames, with 1533966 plays\n",
      "Most listened artist in France: radiohead, with 659898 plays\n",
      "Most listened artist in French Guiana: mariah carey, with 1908 plays\n",
      "Most listened artist in French Polynesia: raimundos, with 3110 plays\n",
      "Most listened artist in French Southern Territories: timbaland, with 3872 plays\n",
      "Most listened artist in Gabon: phish, with 2401 plays\n",
      "Most listened artist in Gambia: oasis, with 3412 plays\n",
      "Most listened artist in Georgia: pink floyd, with 35224 plays\n",
      "Most listened artist in Germany: die Ärzte, with 2955844 plays\n",
      "Most listened artist in Ghana: nina simone, with 6221 plays\n",
      "Most listened artist in Gibraltar: yann tiersen, with 7506 plays\n",
      "Most listened artist in Greece: radiohead, with 88408 plays\n",
      "Most listened artist in Greenland: klamydia, with 17265 plays\n",
      "Most listened artist in Grenada: kylie minogue, with 1327 plays\n",
      "Most listened artist in Guadeloupe: beatsteaks, with 4701 plays\n",
      "Most listened artist in Guam: screeching weasel, with 15610 plays\n",
      "Most listened artist in Guatemala: tristania, with 35774 plays\n",
      "Most listened artist in Guinea-Bissau: tom waits, with 3643 plays\n",
      "Most listened artist in Guyana: dj bobo, with 5458 plays\n",
      "Most listened artist in Haiti: meshell ndegéocello, with 4401 plays\n",
      "Most listened artist in Heard Island and Mcdonald Islands: ea80, with 8743 plays\n",
      "Most listened artist in Holy See (Vatican City State): marilyn manson, with 20833 plays\n",
      "Most listened artist in Honduras: the beatles, with 5613 plays\n",
      "Most listened artist in Hong Kong: muse, with 66422 plays\n",
      "Most listened artist in Hungary: nine inch nails, with 90921 plays\n",
      "Most listened artist in Iceland: the beatles, with 83947 plays\n",
      "Most listened artist in India: pink floyd, with 158854 plays\n",
      "Most listened artist in Indonesia: radiohead, with 56046 plays\n",
      "Most listened artist in Iran, Islamic Republic of: pink floyd, with 78875 plays\n",
      "Most listened artist in Iraq: various production, with 3698 plays\n",
      "Most listened artist in Ireland: the beatles, with 177685 plays\n",
      "Most listened artist in Israel: the beatles, with 157804 plays\n",
      "Most listened artist in Italy: radiohead, with 468008 plays\n",
      "Most listened artist in Jamaica: x-ray dog, with 15837 plays\n",
      "Most listened artist in Japan: the beatles, with 688057 plays\n",
      "Most listened artist in Jordan: queensrÿche, with 5661 plays\n",
      "Most listened artist in Kazakhstan: linkin park, with 33755 plays\n",
      "Most listened artist in Kenya: the beatles, with 5558 plays\n",
      "Most listened artist in Kiribati: sri chinmoy, with 5027 plays\n",
      "Most listened artist in Korea, Democratic People's Republic of: the fall, with 5063 plays\n",
      "Most listened artist in Korea, Republic of: younha, with 85961 plays\n",
      "Most listened artist in Kuwait: tool, with 10979 plays\n",
      "Most listened artist in Kyrgyzstan: the beatles, with 6493 plays\n",
      "Most listened artist in Lao People's Democratic Republic: guns n' roses, with 6047 plays\n",
      "Most listened artist in Latvia: metallica, with 158435 plays\n",
      "Most listened artist in Lebanon: najwa karam, with 42343 plays\n",
      "Most listened artist in Lesotho: iron maiden, with 12381 plays\n",
      "Most listened artist in Liberia: blink-182, with 1514 plays\n",
      "Most listened artist in Libyan Arab Jamahiriya: dark tranquillity, with 8082 plays\n",
      "Most listened artist in Liechtenstein: björk, with 4090 plays\n",
      "Most listened artist in Lithuania: coldplay, with 123201 plays\n",
      "Most listened artist in Luxembourg: anathema, with 7409 plays\n",
      "Most listened artist in Macao: radiohead, with 4804 plays\n",
      "Most listened artist in Macedonia: katatonia, with 28639 plays\n",
      "Most listened artist in Madagascar: erik satie, with 2045 plays\n",
      "Most listened artist in Malawi: beatsteaks, with 2324 plays\n",
      "Most listened artist in Malaysia: coldplay, with 61621 plays\n",
      "Most listened artist in Maldives: devendra banhart, with 4573 plays\n",
      "Most listened artist in Mali: pearl jam, with 1915 plays\n",
      "Most listened artist in Malta: déspairsray, with 8930 plays\n",
      "Most listened artist in Marshall Islands: gentleman, with 1574 plays\n",
      "Most listened artist in Martinique: sizzla, with 2104 plays\n",
      "Most listened artist in Mauritania: bob marley, with 3249 plays\n",
      "Most listened artist in Mauritius: muse, with 4672 plays\n",
      "Most listened artist in Mayotte: brian eno, with 2133 plays\n",
      "Most listened artist in Mexico: radiohead, with 664288 plays\n",
      "Most listened artist in Micronesia, Federated States of: taking back sunday, with 6435 plays\n",
      "Most listened artist in Moldova: moonspell, with 15574 plays\n",
      "Most listened artist in Monaco: tori amos, with 9918 plays\n",
      "Most listened artist in Mongolia: armin van buuren, with 4920 plays\n",
      "Most listened artist in Montenegro: atb, with 15258 plays\n",
      "Most listened artist in Montserrat: strung out, with 2735 plays\n",
      "Most listened artist in Morocco: epic45, with 9657 plays\n",
      "Most listened artist in Mozambique: relient k, with 8695 plays\n",
      "Most listened artist in Myanmar: the national, with 806 plays\n",
      "Most listened artist in Namibia: tegan and sara, with 17023 plays\n",
      "Most listened artist in Nauru: 3 doors down, with 2193 plays\n",
      "Most listened artist in Nepal: the beatles, with 11737 plays\n",
      "Most listened artist in Netherlands: the beatles, with 815762 plays\n",
      "Most listened artist in Netherlands Antilles: nine inch nails, with 15012 plays\n",
      "Most listened artist in New Caledonia: ryan adams, with 1808 plays\n",
      "Most listened artist in New Zealand: enrique iglesias, with 234371 plays\n",
      "Most listened artist in Nicaragua: mariah carey, with 2618 plays\n",
      "Most listened artist in Niger: 3 steps ahead, with 11695 plays\n",
      "Most listened artist in Nigeria: yusuf islam, with 3995 plays\n",
      "Most listened artist in Niue: sigur rós, with 5544 plays\n",
      "Most listened artist in Norfolk Island: mclusky, with 3457 plays\n"
     ]
    },
    {
     "name": "stdout",
     "output_type": "stream",
     "text": [
      "Most listened artist in Northern Mariana Islands: eloy, with 14693 plays\n",
      "Most listened artist in Norway: in flames, with 494294 plays\n",
      "Most listened artist in Oman: brandy, with 2253 plays\n",
      "Most listened artist in Pakistan: metallica, with 22872 plays\n",
      "Most listened artist in Palau: the beatles, with 1836 plays\n",
      "Most listened artist in Palestinian Territory, Occupied: arctic monkeys, with 12736 plays\n",
      "Most listened artist in Panama: alexz johnson, with 7609 plays\n",
      "Most listened artist in Papua New Guinea: lisa stansfield, with 6152 plays\n",
      "Most listened artist in Paraguay: radiohead, with 13451 plays\n",
      "Most listened artist in Peru: the beatles, with 116771 plays\n",
      "Most listened artist in Philippines: the beatles, with 66561 plays\n",
      "Most listened artist in Pitcairn: the beatles, with 5924 plays\n",
      "Most listened artist in Poland: o.s.t.r., with 2191520 plays\n",
      "Most listened artist in Portugal: radiohead, with 341515 plays\n",
      "Most listened artist in Puerto Rico: the beatles, with 20052 plays\n",
      "Most listened artist in Qatar: orphaned land, with 6793 plays\n",
      "Most listened artist in Reunion: bushido, with 15203 plays\n",
      "Most listened artist in Romania: pink floyd, with 223238 plays\n",
      "Most listened artist in Russian Federation: radiohead, with 1204438 plays\n",
      "Most listened artist in Rwanda: iron maiden, with 1466 plays\n",
      "Most listened artist in Saint Helena: the rolling stones, with 4060 plays\n",
      "Most listened artist in Saint Kitts and Nevis: loikaemie, with 6283 plays\n",
      "Most listened artist in Saint Lucia: the beatles, with 7349 plays\n",
      "Most listened artist in Saint Pierre and Miquelon: three 6 mafia, with 2072 plays\n",
      "Most listened artist in Saint Vincent and the Grenadines: andrew bird, with 5044 plays\n",
      "Most listened artist in Samoa: bonobo, with 1210 plays\n",
      "Most listened artist in San Marino: my morning jacket, with 4489 plays\n",
      "Most listened artist in Sao Tome and Principe: devo, with 12366 plays\n",
      "Most listened artist in Saudi Arabia: kylie minogue, with 103716 plays\n",
      "Most listened artist in Senegal: incognito, with 1573 plays\n",
      "Most listened artist in Serbia: pink floyd, with 94575 plays\n",
      "Most listened artist in Seychelles: nine inch nails, with 3954 plays\n",
      "Most listened artist in Sierra Leone: the libertines, with 3530 plays\n",
      "Most listened artist in Singapore: radiohead, with 51775 plays\n",
      "Most listened artist in Slovakia: hans zimmer, with 195144 plays\n",
      "Most listened artist in Slovenia: pink floyd, with 97015 plays\n",
      "Most listened artist in Solomon Islands: 2pac, with 6359 plays\n",
      "Most listened artist in Somalia: pink floyd, with 4086 plays\n",
      "Most listened artist in South Africa: radiohead, with 66850 plays\n",
      "Most listened artist in South Georgia and the South Sandwich Islands: the berzerker, with 17774 plays\n",
      "Most listened artist in Spain: radiohead, with 731205 plays\n",
      "Most listened artist in Sri Lanka: linkin park, with 5968 plays\n",
      "Most listened artist in Sudan: quasimoto, with 1444 plays\n",
      "Most listened artist in Suriname: elliott smith, with 2289 plays\n",
      "Most listened artist in Svalbard and Jan Mayen: fear factory, with 6295 plays\n",
      "Most listened artist in Swaziland: saves the day, with 4597 plays\n",
      "Most listened artist in Sweden: kent, with 1904571 plays\n",
      "Most listened artist in Switzerland: radiohead, with 179010 plays\n",
      "Most listened artist in Syrian Arab Republic: secret garden, with 4078 plays\n",
      "Most listened artist in Taiwan: radiohead, with 51601 plays\n",
      "Most listened artist in Tajikistan: sun city girls, with 3822 plays\n",
      "Most listened artist in Tanzania, United Republic of: mansions, with 4004 plays\n",
      "Most listened artist in Thailand: britney spears, with 66449 plays\n",
      "Most listened artist in Timor-Leste: emery, with 2572 plays\n",
      "Most listened artist in Togo: paolo meneguzzi, with 6366 plays\n",
      "Most listened artist in Tokelau: the beatles, with 4577 plays\n",
      "Most listened artist in Tonga: thievery corporation, with 3952 plays\n",
      "Most listened artist in Trinidad and Tobago: chemistry, with 28363 plays\n",
      "Most listened artist in Tunisia: rihanna, with 8875 plays\n",
      "Most listened artist in Turkey: pink floyd, with 550947 plays\n",
      "Most listened artist in Turkmenistan: boards of canada, with 4149 plays\n",
      "Most listened artist in Turks and Caicos Islands: blink-182, with 7792 plays\n",
      "Most listened artist in Tuvalu: cocteau twins, with 5558 plays\n",
      "Most listened artist in Uganda: johann sebastian bach, with 13785 plays\n",
      "Most listened artist in Ukraine: radiohead, with 254543 plays\n",
      "Most listened artist in United Arab Emirates: super junior, with 15031 plays\n",
      "Most listened artist in United Kingdom: radiohead, with 2689161 plays\n",
      "Most listened artist in United States: the beatles, with 10705201 plays\n",
      "Most listened artist in United States Minor Outlying Islands: bob dylan, with 24184 plays\n",
      "Most listened artist in Uruguay: the beatles, with 29374 plays\n",
      "Most listened artist in Uzbekistan: coldplay, with 33846 plays\n",
      "Most listened artist in Vanuatu: closterkeller, with 2826 plays\n",
      "Most listened artist in Venezuela: radiohead, with 57711 plays\n",
      "Most listened artist in Viet Nam: coldplay, with 18419 plays\n",
      "Most listened artist in Virgin Islands, British: placebo, with 15122 plays\n",
      "Most listened artist in Virgin Islands, U.s.: akira yamaoka, with 19721 plays\n",
      "Most listened artist in Wallis and Futuna: the living end, with 12180 plays\n",
      "Most listened artist in Western Sahara: dark sanctuary, with 3616 plays\n",
      "Most listened artist in Yemen: joan of arc, with 6150 plays\n",
      "Most listened artist in Zambia: red hot chili peppers, with 3714 plays\n",
      "Most listened artist in Zimbabwe: big bang, with 35111 plays\n"
     ]
    }
   ],
   "source": [
    "for country in top1_artist_per_country['Plays']:\n",
    "    print(f\"Most listened artist in {country}: {top1_artist_per_country['Plays'][country].idxmax()}, with {top1_artist_per_country['Plays'][country].max()} plays\")"
   ]
  },
  {
   "cell_type": "markdown",
   "metadata": {},
   "source": [
    "We observe that the number of plays and users that listen to an artist doesn't always lead to the same top result. However we can argue that there seem to be cultural differences between the countries leading to different top groups/genres. For example, most nordic countries, have a rock/metal group as top position, while more West-European tend to listen to pop.\n",
    "\n",
    "\n",
    "We therefore decide to inspect for each users, the max number of plays they have. "
   ]
  },
  {
   "cell_type": "code",
   "execution_count": 54,
   "metadata": {},
   "outputs": [],
   "source": [
    "max_top = top_data.groupby(['ID'])['Plays'].max()"
   ]
  },
  {
   "cell_type": "code",
   "execution_count": 55,
   "metadata": {},
   "outputs": [
    {
     "data": {
      "text/plain": [
       "Text(0, 0.5, 'Number of users')"
      ]
     },
     "execution_count": 55,
     "metadata": {},
     "output_type": "execute_result"
    },
    {
     "data": {
      "image/png": "[encoded data removed]",
      "text/plain": [
       "<Figure size 936x360 with 1 Axes>"
      ]
     },
     "metadata": {
      "needs_background": "light"
     },
     "output_type": "display_data"
    }
   ],
   "source": [
    "max_top.reset_index().hist(bins = 100, figsize = (13, 5))\n",
    "plt.yscale('log')\n",
    "plt.title('Number of plays for most listened artist per user')\n",
    "plt.xlabel('Number of plays')\n",
    "plt.ylabel('Number of users')"
   ]
  },
  {
   "cell_type": "code",
   "execution_count": 56,
   "metadata": {},
   "outputs": [
    {
     "data": {
      "text/html": [
       "<div>\n",
       "<style scoped>\n",
       "    .dataframe tbody tr th:only-of-type {\n",
       "        vertical-align: middle;\n",
       "    }\n",
       "\n",
       "    .dataframe tbody tr th {\n",
       "        vertical-align: top;\n",
       "    }\n",
       "\n",
       "    .dataframe thead th {\n",
       "        text-align: right;\n",
       "    }\n",
       "</style>\n",
       "<table border=\"1\" class=\"dataframe\">\n",
       "  <thead>\n",
       "    <tr style=\"text-align: right;\">\n",
       "      <th></th>\n",
       "      <th>ID</th>\n",
       "      <th>Artist_ID</th>\n",
       "      <th>Artist</th>\n",
       "      <th>Plays</th>\n",
       "    </tr>\n",
       "  </thead>\n",
       "  <tbody>\n",
       "    <tr>\n",
       "      <th>9654928</th>\n",
       "      <td>8d0384537845e7f2b1b8b3e8a9f67eb8d9439794</td>\n",
       "      <td>dcaa4f81-bfb7-44eb-8594-4e74f004b6e4</td>\n",
       "      <td>nofx</td>\n",
       "      <td>419157</td>\n",
       "    </tr>\n",
       "  </tbody>\n",
       "</table>\n",
       "</div>"
      ],
      "text/plain": [
       "                                               ID  \\\n",
       "9654928  8d0384537845e7f2b1b8b3e8a9f67eb8d9439794   \n",
       "\n",
       "                                    Artist_ID Artist   Plays  \n",
       "9654928  dcaa4f81-bfb7-44eb-8594-4e74f004b6e4   nofx  419157  "
      ]
     },
     "execution_count": 56,
     "metadata": {},
     "output_type": "execute_result"
    }
   ],
   "source": [
    "top_data[top_data['Plays'] == top_data['Plays'].max()]"
   ]
  },
  {
   "cell_type": "markdown",
   "metadata": {},
   "source": [
    "Most user can be found at the start of scale (notice the logY scale), but some users are truly amazing, with the max plays sitting at 419157. After some research, nofx, the artist this user has been listening to, mainly makes music of about 2 minutes, still this user has more or less listened to 1.6 years of nofx in about 4 years. We really suspect that this is due to a bot. To not have this kind of biases, we argue that taking the number of users listening to an artist is more representative of its fame in the corresponding country"
   ]
  },
  {
   "cell_type": "code",
   "execution_count": 57,
   "metadata": {},
   "outputs": [
    {
     "data": {
      "text/html": [
       "<div>\n",
       "<style scoped>\n",
       "    .dataframe tbody tr th:only-of-type {\n",
       "        vertical-align: middle;\n",
       "    }\n",
       "\n",
       "    .dataframe tbody tr th {\n",
       "        vertical-align: top;\n",
       "    }\n",
       "\n",
       "    .dataframe thead th {\n",
       "        text-align: right;\n",
       "    }\n",
       "</style>\n",
       "<table border=\"1\" class=\"dataframe\">\n",
       "  <thead>\n",
       "    <tr style=\"text-align: right;\">\n",
       "      <th></th>\n",
       "      <th>ID</th>\n",
       "      <th>Gender</th>\n",
       "      <th>Age</th>\n",
       "      <th>Country</th>\n",
       "      <th>Registered</th>\n",
       "    </tr>\n",
       "  </thead>\n",
       "  <tbody>\n",
       "    <tr>\n",
       "      <th>197654</th>\n",
       "      <td>8d0384537845e7f2b1b8b3e8a9f67eb8d9439794</td>\n",
       "      <td>m</td>\n",
       "      <td>31.0</td>\n",
       "      <td>Austria</td>\n",
       "      <td>Nov 11, 2005</td>\n",
       "    </tr>\n",
       "  </tbody>\n",
       "</table>\n",
       "</div>"
      ],
      "text/plain": [
       "                                              ID Gender   Age  Country  \\\n",
       "197654  8d0384537845e7f2b1b8b3e8a9f67eb8d9439794      m  31.0  Austria   \n",
       "\n",
       "          Registered  \n",
       "197654  Nov 11, 2005  "
      ]
     },
     "execution_count": 57,
     "metadata": {},
     "output_type": "execute_result"
    }
   ],
   "source": [
    "top_user[top_user['ID'] == '8d0384537845e7f2b1b8b3e8a9f67eb8d9439794']"
   ]
  },
  {
   "cell_type": "markdown",
   "metadata": {},
   "source": [
    "## 6.Measurement of the quality of the individual recommendation"
   ]
  },
  {
   "cell_type": "code",
   "execution_count": 63,
   "metadata": {},
   "outputs": [],
   "source": [
    "#Splits the dataframe into a train and a test set randomly\n",
    "def split_train_test(df, train_size = 0.9 ,seed = 42, apply_seed = False):\n",
    "    uniques_ids = df.ID.unique()\n",
    "    if apply_seed:\n",
    "        np.random.seed(seed)\n",
    "    train = pd.DataFrame()\n",
    "    test = pd.DataFrame()\n",
    "    \n",
    "    for user_id in uniques_ids:\n",
    "        user_sub = df[df['ID'] == user_id]\n",
    "        randomization = np.random.permutation(user_sub.index)\n",
    "        user_sub_train = user_sub.loc[randomization[0:int(len(randomization)*train_size)]]\n",
    "        user_sub_test = user_sub.loc[randomization[int(len(user_sub)*train_size):len(user_sub)]]\n",
    "        \n",
    "        train = train.append(user_sub_train)\n",
    "        test = test.append(user_sub_test)\n",
    "    \n",
    "    return train, test\n"
   ]
  },
  {
   "cell_type": "markdown",
   "metadata": {},
   "source": [
    "Computes just mean absolute error"
   ]
  },
  {
   "cell_type": "code",
   "execution_count": 64,
   "metadata": {},
   "outputs": [],
   "source": [
    "def compute_mae(pred_method, helper_df):\n",
    "    mae = 0\n",
    "    for i, row in test.iterrows():\n",
    "        user = row.ID\n",
    "        artist = row.Artist\n",
    "        prediction = pred_method(user, artist, helper_df)\n",
    "        mae += abs(row.Plays - prediction)\n",
    "    return mae/len(test)"
   ]
  },
  {
   "cell_type": "markdown",
   "metadata": {},
   "source": [
    "Computes accuracy, precision and recall"
   ]
  },
  {
   "cell_type": "code",
   "execution_count": 65,
   "metadata": {},
   "outputs": [],
   "source": [
    "def compute_appreciation(pred_method, helper_df, user_specific_threshold = None, threshold = 100):\n",
    "    predictions = np.zeros(len(test))\n",
    "    reals = np.zeros(len(test))\n",
    "    indice = 0\n",
    "    for i, row in test.iterrows():\n",
    "        user = row.ID\n",
    "        artist = row.Artist\n",
    "        prediction = pred_method(user, artist, helper_df)\n",
    "        predictions[indice] = prediction > threshold\n",
    "        reals[indice] = row.Plays > threshold\n",
    "        indice += 1\n",
    "    \n",
    "    tp = np.sum(np.bitwise_and(predictions==1, reals == 1))\n",
    "    tn = np.sum(np.bitwise_and(predictions==0, reals == 0))\n",
    "    \n",
    "    fn = np.sum(np.bitwise_and(predictions== 0, reals == 1))\n",
    "    \n",
    "    acc = np.sum(predictions == reals)\n",
    "    \n",
    "    return acc/len(test), tp/(tp+tn), tp/(tp + fn)"
   ]
  },
  {
   "cell_type": "markdown",
   "metadata": {},
   "source": [
    "Computes mae, accuracy, precision and recall in one go"
   ]
  },
  {
   "cell_type": "code",
   "execution_count": 66,
   "metadata": {},
   "outputs": [],
   "source": [
    "def compute_mae_and_app(test_df, pred_method, helper_df, threshold = 100):\n",
    "    predictions = np.zeros(len(test_df))\n",
    "    reals = np.zeros(len(test_df))\n",
    "    indice = 0\n",
    "    mae = 0\n",
    "    for i, row in test_df.iterrows():\n",
    "        user = row.ID\n",
    "        artist = row.Artist\n",
    "        prediction = pred_method(user, artist, helper_df)\n",
    "        mae += abs(row.Plays - prediction)\n",
    "        predictions[indice] = prediction > threshold\n",
    "        reals[indice] = row.Plays > threshold\n",
    "        indice += 1\n",
    "    \n",
    "    tp = np.sum(np.bitwise_and(predictions==1, reals == 1))\n",
    "    tn = np.sum(np.bitwise_and(predictions==0, reals == 0))\n",
    "    \n",
    "    fn = np.sum(np.bitwise_and(predictions== 0, reals == 1))\n",
    "    \n",
    "    acc = np.sum(predictions == reals)\n",
    "    \n",
    "    return mae/len(test_df), acc/len(test_df), tp/(tp+tn), tp/(tp + fn)"
   ]
  },
  {
   "cell_type": "code",
   "execution_count": 95,
   "metadata": {},
   "outputs": [],
   "source": [
    "def compute_n_rounds(pred_method, nb_users_selected = 500, n = 10, seed = 42):\n",
    "    \"\"\"\n",
    "    Computes the mae, accuracy, precision and recall on n round of the pred_method\n",
    "    \n",
    "    pred_method = method that allows to compute the prediction\n",
    "    nb_users_selected = number of users in the sub-sample\n",
    "    n = number of rounds\n",
    "    seed = seed for random generation of sub-samples\n",
    "    \"\"\"\n",
    "    np.random.seed(seed)\n",
    "    maes, accs, precs, recs = [],[],[],[]\n",
    "    nb_users = len(top_merged[['ID']].groupby('ID'))\n",
    "    \n",
    "    for i in range(n):\n",
    "        print(f\"===== Epoch {i} =====\")\n",
    "        selected_users = np.random.randint(0, nb_users, nb_users_selected) #Generate a random list of nb_users_select users\n",
    "        subset_500_users = top_merged.groupby('ID').size()[selected_users]\n",
    "        subset = top_merged[top_merged.ID.isin(subset_500_users.index)]\n",
    "        train, test = split_train_test(subset, train_size=0.95)\n",
    "\n",
    "        if pred_method == compute_pred_avg_user:\n",
    "            avg_user_listens = train[['ID', 'Plays']].groupby(\"ID\").mean('Plays').reset_index()\n",
    "            mae, acc, prec, rec = compute_mae_and_app(test, pred_method, avg_user_listens)\n",
    "\n",
    "        elif pred_method == compute_pred_avg_artist:\n",
    "            avg_artist_listens = train[['Artist', 'Plays']].groupby(\"Artist\").mean('Plays').reset_index()\n",
    "            mae, acc, prec, rec = compute_mae_and_app(test, pred_method, avg_artist_listens)\n",
    "        else:\n",
    "            mae, acc, prec, rec = compute_mae_and_app(test, pred_method, train) #sim measures doesn't a helper set\n",
    "        \n",
    "        maes.append(mae)\n",
    "        accs.append(acc)\n",
    "        precs.append(prec)\n",
    "        recs.append(rec)\n",
    "        \n",
    "    return maes, accs, precs, recs\n"
   ]
  },
  {
   "cell_type": "markdown",
   "metadata": {},
   "source": [
    "# 7.Testing different prediction method"
   ]
  },
  {
   "cell_type": "markdown",
   "metadata": {},
   "source": [
    "### Predicting only based on the user average listens\n",
    "\n",
    "Trivially predict the mean of the user: $\\large pred(u,i) = \\mu_{u} = \\sum_{k \\in I(u)} \\frac{Plays(u, k)}{|I(u)|}$\n",
    "\n",
    "where, $u$ is the usere we're making the prediction for, $i$ is the artist we want to predict the number of plays, $I(u)$ is the set of Artist the user has listened to.\n",
    "\n",
    "Have still to measure the performance ? How?"
   ]
  },
  {
   "cell_type": "code",
   "execution_count": 96,
   "metadata": {},
   "outputs": [],
   "source": [
    "def compute_pred_avg_user(user, artist_i, avg_listens):\n",
    "    return int(avg_listens[avg_listens['ID'] == user]['Plays'])"
   ]
  },
  {
   "cell_type": "markdown",
   "metadata": {},
   "source": [
    "#### Results on individual prediction"
   ]
  },
  {
   "cell_type": "code",
   "execution_count": 97,
   "metadata": {},
   "outputs": [
    {
     "name": "stdout",
     "output_type": "stream",
     "text": [
      "===== Epoch 0 =====\n",
      "===== Epoch 1 =====\n",
      "===== Epoch 2 =====\n",
      "===== Epoch 3 =====\n",
      "===== Epoch 4 =====\n",
      "===== Epoch 5 =====\n",
      "===== Epoch 6 =====\n",
      "===== Epoch 7 =====\n",
      "===== Epoch 8 =====\n",
      "===== Epoch 9 =====\n",
      "Time required to do the prediction on 10 rounds 111.43679547309875\n"
     ]
    }
   ],
   "source": [
    "start = time.time()\n",
    "maes_users, accs_users, precs_users, recs_users = compute_n_rounds(compute_pred_avg_user)\n",
    "end = time.time()\n",
    "print(f\"Time required to do the prediction on 10 rounds {end - start}\")"
   ]
  },
  {
   "cell_type": "code",
   "execution_count": 90,
   "metadata": {},
   "outputs": [
    {
     "data": {
      "text/plain": [
       "Text(0.5, 1.0, 'Mean absolute error on 10 runs')"
      ]
     },
     "execution_count": 90,
     "metadata": {},
     "output_type": "execute_result"
    },
    {
     "data": {
      "image/png": "[encoded data removed]",
      "text/plain": [
       "<Figure size 432x288 with 1 Axes>"
      ]
     },
     "metadata": {
      "needs_background": "light"
     },
     "output_type": "display_data"
    }
   ],
   "source": [
    "sns.barplot(data = pd.DataFrame(maes_users, columns = [\"Mae_User_avg\"]))\n",
    "plt.ylabel(\"Mean absolute error\")\n",
    "plt.title(\"Mean absolute error on 10 runs\")"
   ]
  },
  {
   "cell_type": "code",
   "execution_count": 101,
   "metadata": {},
   "outputs": [
    {
     "data": {
      "text/plain": [
       "<matplotlib.axes._subplots.AxesSubplot at 0x16de30ff788>"
      ]
     },
     "execution_count": 101,
     "metadata": {},
     "output_type": "execute_result"
    },
    {
     "data": {
      "image/png": "[encoded data removed]",
      "text/plain": [
       "<Figure size 432x288 with 1 Axes>"
      ]
     },
     "metadata": {
      "needs_background": "light"
     },
     "output_type": "display_data"
    }
   ],
   "source": [
    "sns.barplot(data = pd.DataFrame({\"Accuracy_User_avg\":accs_users, \"Precision_User_avg\":precs_users, \"Recall_User_avg\":recs_users}))"
   ]
  },
  {
   "cell_type": "markdown",
   "metadata": {},
   "source": [
    "#### Results on group prediction"
   ]
  },
  {
   "cell_type": "markdown",
   "metadata": {},
   "source": [
    "### Predicting only based on the artist average listens\n",
    "\n",
    "\n",
    "Trivially predict the mean of the artist for each user: $\\large pred(u,i) = \\mu_{i} =\\sum_{v \\in U(i)} \\frac{Plays(v,i)}{|U(i)|}$\n",
    "\n",
    "where $U(i)$ is the set of users that has listened artist i\n",
    "\n"
   ]
  },
  {
   "cell_type": "code",
   "execution_count": 76,
   "metadata": {},
   "outputs": [],
   "source": [
    "def compute_pred_avg_artist(user, artist_i, avg_listens):\n",
    "    prediction = avg_listens[avg_listens['Artist'] == artist_i]\n",
    "    if len(prediction) == 0: \n",
    "        return int(avg_listens['Plays'].mean()) # What to return when we haven't seen the artist?\n",
    "    else:\n",
    "        return int(prediction['Plays'])"
   ]
  },
  {
   "cell_type": "markdown",
   "metadata": {},
   "source": [
    "#### Results on individual prediction"
   ]
  },
  {
   "cell_type": "code",
   "execution_count": 102,
   "metadata": {},
   "outputs": [
    {
     "name": "stdout",
     "output_type": "stream",
     "text": [
      "===== Epoch 0 =====\n",
      "===== Epoch 1 =====\n",
      "===== Epoch 2 =====\n",
      "===== Epoch 3 =====\n",
      "===== Epoch 4 =====\n",
      "===== Epoch 5 =====\n",
      "===== Epoch 6 =====\n",
      "===== Epoch 7 =====\n",
      "===== Epoch 8 =====\n",
      "===== Epoch 9 =====\n",
      "Time required to do the prediction on 10 rounds 125.36408591270447\n"
     ]
    }
   ],
   "source": [
    "start_artist = time.time()\n",
    "maes_artist, accs_artist, precs_artist, recs_artist = compute_n_rounds(compute_pred_avg_artist)\n",
    "end_artist = time.time()\n",
    "print(f\"Time required to do the prediction on 10 rounds {end_artist - start_artist}\")"
   ]
  },
  {
   "cell_type": "code",
   "execution_count": 103,
   "metadata": {},
   "outputs": [
    {
     "data": {
      "text/plain": [
       "Text(0.5, 1.0, 'Mean absolute error on 10 runs')"
      ]
     },
     "execution_count": 103,
     "metadata": {},
     "output_type": "execute_result"
    },
    {
     "data": {
      "image/png": "[encoded data removed]",
      "text/plain": [
       "<Figure size 432x288 with 1 Axes>"
      ]
     },
     "metadata": {
      "needs_background": "light"
     },
     "output_type": "display_data"
    }
   ],
   "source": [
    "sns.barplot(data = pd.DataFrame(maes_artist, columns = [\"Mae_Artist_avg\"]))\n",
    "plt.ylabel(\"Mean absolute error\")\n",
    "plt.title(\"Mean absolute error on 10 runs\")"
   ]
  },
  {
   "cell_type": "code",
   "execution_count": 104,
   "metadata": {},
   "outputs": [
    {
     "data": {
      "text/plain": [
       "<matplotlib.axes._subplots.AxesSubplot at 0x16dc50ea088>"
      ]
     },
     "execution_count": 104,
     "metadata": {},
     "output_type": "execute_result"
    },
    {
     "data": {
      "image/png": "[encoded data removed]",
      "text/plain": [
       "<Figure size 432x288 with 1 Axes>"
      ]
     },
     "metadata": {
      "needs_background": "light"
     },
     "output_type": "display_data"
    }
   ],
   "source": [
    "sns.barplot(data = pd.DataFrame({\"Accuracy_Artist_avg\":accs_artist, \"Precision_Artist_avg\":precs_artist, \"Recall_Artist_avg\":recs_artist}))"
   ]
  },
  {
   "cell_type": "markdown",
   "metadata": {},
   "source": [
    "###  Using User similarity\n",
    "\n",
    "**User specific prediction**: Compute similarity based on Jaccard distance: Each user has a set of artist he has listened to.\n",
    "\n",
    "$\\large sim(u,v)$ = Jacc$(I(u), I(v))$ = $\\Large \\frac{|I(u) \\cap I(v)|}{|I(u) \\cup I(v)|}$\n",
    "\n",
    "Once we have this similarity, check if a new artist will be listened a lot by the user by comparing it to all the other users that have listened to him, this is the user-specific sum : \n",
    "\n",
    "$\\large \\tilde{u} =  \\frac{\\sum_{v \\in U(i)} sim(u,v) \\cdot (Plays(v,i) - \\mu_{v})}{ \\sum_{v \\in U(i)} sim(u,v)} $\n",
    "\n",
    "where $U(i)$ is the set of users that have listened to the group $i$\n",
    "\n",
    "and add the mean of the user to it so we have:\n",
    "\n",
    "$\\large p(u, i) = \\mu_{u} + \\tilde{u} $"
   ]
  },
  {
   "cell_type": "code",
   "execution_count": 62,
   "metadata": {},
   "outputs": [],
   "source": [
    "def compute_pred_user_item(user, artist, df):\n",
    "    user_artists = set(df[df['ID'] == user]['Artist']) #Get the set of the current user we want to get the prediction from\n",
    "    artist_has_user = set(df[(df['Artist'] == artist) & (df['ID'] != user)]['ID']) #Set of artist that have rated the user\n",
    "    \n",
    "    num = 0\n",
    "    denom = 0\n",
    "    \n",
    "    for i, x in enumerate(artist_has_user):\n",
    "        user_i_artists = set(df[df['ID'] == x]['Artist'])\n",
    "        sim_with_i = len(user_artists.intersection(user_i_artists))/len(user_artists.union(user_i_artists))\n",
    "        \n",
    "        num += sim_with_i * (int(df[(df['ID'] == x) & (df['Artist'] == artist)]['Plays']) - int(df[df['ID'] == x]['Plays'].mean()))\n",
    "        denom += sim_with_i\n",
    "    \n",
    "    if denom == 0:\n",
    "        return df[df['ID'] == user]['Plays'].mean()\n",
    "    else:\n",
    "        return df[df['ID'] == user]['Plays'].mean() + num/denom\n",
    "    \n",
    "    \n",
    "    "
   ]
  },
  {
   "cell_type": "markdown",
   "metadata": {},
   "source": [
    "#### Results on individual prediction"
   ]
  },
  {
   "cell_type": "code",
   "execution_count": 105,
   "metadata": {},
   "outputs": [
    {
     "name": "stdout",
     "output_type": "stream",
     "text": [
      "===== Epoch 0 =====\n",
      "===== Epoch 1 =====\n",
      "===== Epoch 2 =====\n",
      "===== Epoch 3 =====\n",
      "===== Epoch 4 =====\n",
      "===== Epoch 5 =====\n",
      "===== Epoch 6 =====\n",
      "===== Epoch 7 =====\n",
      "===== Epoch 8 =====\n",
      "===== Epoch 9 =====\n",
      "Time required to do the prediction on 10 rounds 1429.8288717269897\n"
     ]
    }
   ],
   "source": [
    "start_artist = time.time()\n",
    "maes_sim, accs_sim, precs_sim, recs_sim = compute_n_rounds(compute_pred_user_item)\n",
    "end_artist = time.time()\n",
    "print(f\"Time required to do the prediction on 10 rounds {end_artist - start_artist}\")"
   ]
  },
  {
   "cell_type": "code",
   "execution_count": 106,
   "metadata": {},
   "outputs": [
    {
     "data": {
      "text/plain": [
       "Text(0.5, 1.0, 'Mean absolute error on 10 runs')"
      ]
     },
     "execution_count": 106,
     "metadata": {},
     "output_type": "execute_result"
    },
    {
     "data": {
      "image/png": "[encoded data removed]",
      "text/plain": [
       "<Figure size 432x288 with 1 Axes>"
      ]
     },
     "metadata": {
      "needs_background": "light"
     },
     "output_type": "display_data"
    }
   ],
   "source": [
    "sns.barplot(data = pd.DataFrame(maes_artist, columns = [\"Mae_User_sim\"]))\n",
    "plt.ylabel(\"Mean absolute error\")\n",
    "plt.title(\"Mean absolute error on 10 runs\")"
   ]
  },
  {
   "cell_type": "code",
   "execution_count": 107,
   "metadata": {},
   "outputs": [
    {
     "data": {
      "text/plain": [
       "<matplotlib.axes._subplots.AxesSubplot at 0x16dcba0a608>"
      ]
     },
     "execution_count": 107,
     "metadata": {},
     "output_type": "execute_result"
    },
    {
     "data": {
      "image/png": "[encoded data removed]",
      "text/plain": [
       "<Figure size 432x288 with 1 Axes>"
      ]
     },
     "metadata": {
      "needs_background": "light"
     },
     "output_type": "display_data"
    }
   ],
   "source": [
    "sns.barplot(data = pd.DataFrame({\"Accuracy_User_sim\":accs_artist, \"Precision_User_sim\":precs_artist, \"Recall_User_sim\":recs_artist}))"
   ]
  },
  {
   "cell_type": "markdown",
   "metadata": {},
   "source": [
    "###  Using KNN\n",
    "\n",
    "**User specific prediction**: Still computes similarity between the users but uses the only the k neirest neighbors to make the predictions.\n",
    "\n",
    "$\\large \\tilde{u} =  \\frac{\\sum_{v \\in KNN(i)} sim(u,v) \\cdot (Plays(v,i) - \\mu_{v})}{ \\sum_{v \\in KNN(i)} sim(u,v)} $\n",
    "\n",
    "where $KNN(i)$ is the set of neighbors of $u$ that have listened to the group $i$.\n",
    "\n",
    "and then do as before:\n",
    "\n",
    "$\\large p(u, i) = \\mu_{u} + \\tilde{u} $"
   ]
  },
  {
   "cell_type": "code",
   "execution_count": null,
   "metadata": {},
   "outputs": [],
   "source": []
  },
  {
   "cell_type": "markdown",
   "metadata": {},
   "source": [
    "## 8. Comparison between techniques"
   ]
  },
  {
   "cell_type": "code",
   "execution_count": null,
   "metadata": {},
   "outputs": [],
   "source": [
    "maes_to_plot = pd.DataFrame(columns = ['User_avg', 'Artist_avg', 'Similarity'])\n",
    "accs_to_plot = pd.DataFrame(columns = ['User_avg', 'Artist_avg', 'Similarity'])\n",
    "precs_to_plot = pd.DataFrame(columns = ['User_avg', 'Artist_avg', 'Similarity'])\n",
    "recs_to_plot = pd.DataFrame(columns = ['User_avg', 'Artist_avg', 'Similarity'])\n",
    "\n",
    "for i in range(len(maes_users)):\n",
    "    mae_entry = {'User_avg':maes_users[i], 'Artist_avg':maes_artists[i], 'Similarity':maes_user_item[i]}\n",
    "    acc_entry  = {'User_avg':accs_users[i], 'Artist_avg':accs_artists[i], 'Similarity':accs_user_item[i]}\n",
    "    prec_entry  = {'User_avg':precs_users[i], 'Artist_avg':precs_artists[i], 'Similarity':precs_user_item[i]}\n",
    "    rec_entry  = {'User_avg':recs_users[i], 'Artist_avg':recs_artists[i], 'Similarity':recs_user_item[i]}\n",
    "    maes_to_plot = maes_to_plot.append(mae_entry, ignore_index = True)\n",
    "    accs_to_plot = accs_to_plot.append(acc_entry, ignore_index = True)\n",
    "    precs_to_plot = precs_to_plot.append(prec_entry, ignore_index = True)\n",
    "    recs_to_plot = recs_to_plot.append(rec_entry, ignore_index = True)"
   ]
  },
  {
   "cell_type": "code",
   "execution_count": null,
   "metadata": {},
   "outputs": [],
   "source": [
    "sns.barplot(data=maes_to_plot)"
   ]
  },
  {
   "cell_type": "code",
   "execution_count": null,
   "metadata": {},
   "outputs": [],
   "source": [
    "sns.barplot(data = accs_to_plot)"
   ]
  },
  {
   "cell_type": "code",
   "execution_count": null,
   "metadata": {},
   "outputs": [],
   "source": [
    "sns.barplot(data = precs_to_plot)"
   ]
  },
  {
   "cell_type": "code",
   "execution_count": null,
   "metadata": {},
   "outputs": [],
   "source": [
    "sns.barplot(data = recs_to_plot)"
   ]
  },
  {
   "cell_type": "markdown",
   "metadata": {},
   "source": [
    "### Measurment of the quality of the group recommender systems:"
   ]
  },
  {
   "cell_type": "markdown",
   "metadata": {},
   "source": [
    "First we need a way to generate groups:\n",
    "We want groups that have the most artists in common. As this is a NP hard problem (Finding the optimal set of clusters in a graph), we create our groups using a greedy approach where at each iteration we try to add the user in the group that maximizes the set of artists.\n",
    "For our mesurments, we want to try to get at least 5 artists in common for each groups"
   ]
  },
  {
   "cell_type": "code",
   "execution_count": 51,
   "metadata": {},
   "outputs": [],
   "source": [
    "def get_user_groups(df):\n",
    "    user_artists = df[['ID', 'Artist']].groupby('ID').agg(set) \n",
    "    all_max_groups= [] #List of the max groups\n",
    "    for user1_ID, user1_artists in user_artists.iterrows():\n",
    "        max_group = ([user1_ID], user1_artists.Artist) #Start with the user and try to add other users in the group\n",
    "        flag = True\n",
    "        while(flag):\n",
    "            max_group, flag = maximize_set(max_group, user_artists)\n",
    "        \n",
    "        users = sorted(max_group[0])\n",
    "        artists = sorted(max_group[1]) #Converts arg to list => We do this step of sorting to only get the group once\n",
    "        max_group = (users, artists)\n",
    "        if max_group not in all_max_groups:#Allows to not have duplicated groups\n",
    "            all_max_groups.append(max_group)\n",
    "        \n",
    "    return all_max_groups\n",
    "\n",
    "def maximize_set(max_group, user_artists):\n",
    "    max_set = set()\n",
    "    for user2_ID, user2_artists in user_artists.iterrows(): \n",
    "        if(user2_ID not in max_group[0]): #Go through all the user that are not already in the group\n",
    "            new_set = max_group[1].intersection(user2_artists.Artist) \n",
    "            if(len(new_set) > len(max_set) and len(new_set) > 5): #keeps the biggest new set & nb_artists > 5\n",
    "                max_set = new_set\n",
    "                new_user_in_group = user2_ID\n",
    "    \n",
    "    if(len(max_set) == 0):\n",
    "        return (max_group[0], max_group[1]), False\n",
    "    \n",
    "    max_group[0].append(new_user_in_group)\n",
    "    return (max_group[0], max_set), True\n",
    "        "
   ]
  },
  {
   "cell_type": "code",
   "execution_count": 52,
   "metadata": {},
   "outputs": [
    {
     "name": "stdout",
     "output_type": "stream",
     "text": [
      "Time needed : 60.439040660858154\n"
     ]
    }
   ],
   "source": [
    "import time\n",
    "start = time.time()\n",
    "groups = get_user_groups(subset)\n",
    "end = time.time()\n",
    "print(f\"Time needed : {end-start}\")"
   ]
  },
  {
   "cell_type": "code",
   "execution_count": 53,
   "metadata": {},
   "outputs": [],
   "source": [
    "def get_group_recommendation_according_to_our_algorithm(users, same_artists, df, threshold = 100):\n",
    "    recommendations = pd.DataFrame(columns = [\"Artist\", \"nb_likes\"])\n",
    "    for artist in same_artists:\n",
    "        nb_likes = 0\n",
    "        for user in users:\n",
    "            if df[(df['ID'] == user) & (df['Artist'] == artist)].iloc[0]['Plays'] > threshold:\n",
    "                nb_likes += 1\n",
    "        recommendations = recommendations.append({\"Artist\": artist, \"nb_likes\" : nb_likes}, ignore_index = True)\n",
    "    return recommendations.sort_values(\"nb_likes\", ascending=False).reset_index().drop(columns = ['index'])\n",
    "    "
   ]
  },
  {
   "cell_type": "code",
   "execution_count": 54,
   "metadata": {},
   "outputs": [],
   "source": [
    "def test_recommander(pred_method, df, helper_df, group_of_users, same_artists, threshold = 100):\n",
    "    \n",
    "    list_of_artists = dict()\n",
    "    \n",
    "    for user in group_of_users:\n",
    "        nb_likes = 0\n",
    "        for artist in df[(df['ID'] == user) & (df['Artist'].isin(same_artists))]['Artist']:\n",
    "            list_of_artists[artist] = 0\n",
    "        \n",
    "    for artist in list_of_artists.keys():\n",
    "        for user in group_of_users:\n",
    "            nb_plays = get_nb_plays(user, artist, df)\n",
    "                \n",
    "            if nb_plays != -1:\n",
    "                if nb_plays > threshold:\n",
    "                    list_of_artists[artist] += 1\n",
    "            \n",
    "            else:\n",
    "                prediction = pred_method(user, artist, helper_df)\n",
    "                if prediction > threshold:\n",
    "                    list_of_artists[artist] += 1\n",
    "    \n",
    "    recommendation = pd.DataFrame(columns = [\"Artist\", \"nb_likes\"])\n",
    "    \n",
    "    for entry in list_of_artists:\n",
    "        recommendation = recommendation.append({\"Artist\":entry, \"nb_likes\":list_of_artists[entry]}, ignore_index = True)\n",
    "    \n",
    "    return recommendation.sort_values(\"nb_likes\", ascending = False).reset_index().drop(columns = \"index\")\n",
    "\n",
    "def get_nb_plays(user, artist, df):\n",
    "    res = df[(df['ID'] == user) & (df['Artist'] == artist)]\n",
    "    if len(res) == 0:\n",
    "        return -1\n",
    "    else:\n",
    "        return res.iloc[0]['Plays']\n",
    "    "
   ]
  },
  {
   "cell_type": "code",
   "execution_count": 73,
   "metadata": {},
   "outputs": [],
   "source": [
    "def get_quality_of_group_recommendation(pred_method, groups):\n",
    "    dcg_idcg = []\n",
    "    for id_artists in groups:\n",
    "        users = id_artists[0]\n",
    "        same_artists = id_artists[1][0:5]#Take the first 5\n",
    "        \n",
    "        \n",
    "        reals = get_group_recommendation_according_to_our_algorithm(users, same_artists, subset)  \n",
    "        \n",
    "        \n",
    "        if(pred_method == compute_pred_avg_user):\n",
    "            preds = test_recommander(pred_method, subset, avg_user_listens, users, same_artists)\n",
    "        elif(pred_method == compute_pred_avg_artist):\n",
    "            preds = test_recommander(pred_method, subset, avg_artist_listens, users, same_artists)\n",
    "    \n",
    "    \n",
    "        reals['Rank'] = [i for i in range(1, len(reals)+ 1)]\n",
    "        preds['Rank'] = [i for i in range(1, len(reals)+ 1)] #Not same rank for items rated equally\n",
    "        final = reals.merge(preds, on = 'Artist')\n",
    "\n",
    "        log_ranks_pred = np.log2(f['Rank_y'])\n",
    "        log_ranks_pred = log_ranks_pred.where(log_ranks_pred > 0, 1)\n",
    "\n",
    "        log_ranks_real = np.log2(f['Rank_x'])\n",
    "        log_ranks_real = log_ranks_real.where(log_ranks_real > 0, 1)\n",
    "\n",
    "        DCG = np.sum(final['nb_likes_x']/log_ranks_pred)\n",
    "        IDCG = np.sum(final['nb_likes_x']/log_ranks_real)\n",
    "        \n",
    "        if IDCG == 0: #Case nobody has liked anything\n",
    "            dcg_idcg.append(1.0)\n",
    "        else:\n",
    "        dcg_idcg.append(DCG/IDCG)\n",
    "    \n",
    "    return dcg_idcg\n",
    "    "
   ]
  },
  {
   "cell_type": "markdown",
   "metadata": {},
   "source": [
    "## Generate all things"
   ]
  },
  {
   "cell_type": "code",
   "execution_count": 84,
   "metadata": {},
   "outputs": [],
   "source": [
    "def dcg_idcg(reals, preds):\n",
    "    reals['Rank'] = [i for i in range(1, len(reals)+ 1)]\n",
    "    preds['Rank'] = [i for i in range(1, len(reals)+ 1)] #Not same rank for items rated equally\n",
    "    final = reals.merge(preds, on = 'Artist')\n",
    "    log_ranks_pred = np.log2(final['Rank_y'])\n",
    "    log_ranks_pred = log_ranks_pred.where(log_ranks_pred > 0, 1)\n",
    "    log_ranks_real = np.log2(final['Rank_x'])\n",
    "    log_ranks_real = log_ranks_real.where(log_ranks_real > 0, 1)\n",
    "    DCG = np.sum(final['nb_likes_x']/log_ranks_pred)\n",
    "    IDCG = np.sum(final['nb_likes_x']/log_ranks_real)\n",
    "    if IDCG == 0: #Case nobody has liked anything\n",
    "        return 1.0\n",
    "    return DCG/IDCG"
   ]
  },
  {
   "cell_type": "code",
   "execution_count": 85,
   "metadata": {},
   "outputs": [],
   "source": [
    "def compute_group_and_single_recommendation_for_all(nb_users_selected = 500, n = 10, seed = 42):\n",
    "    np.random.seed(seed)\n",
    "    maes, accs, precs, recs = [],[],[],[]\n",
    "    nb_users = len(top_merged.groupby('ID'))\n",
    "    all_dcgs = []\n",
    "    for i in range(n):\n",
    "        print(f\"=== EPOCH {i}===\")\n",
    "        selected_users = np.random.randint(0, nb_users, nb_users_selected)\n",
    "        print(selected_users)\n",
    "        subset_500_users = top_merged.groupby('ID').size()[selected_users]\n",
    "        subset = top_merged[top_merged.ID.isin(subset_500_users.index)]\n",
    "        train, test = split_train_test(subset, train_size=0.95)\n",
    "        \n",
    "        \n",
    "        avg_user_listens = train.groupby(\"ID\").mean('Plays').reset_index() # Needed for the average user pred\n",
    "        avg_artist_listens = train.groupby(\"Artist\").mean('Plays').reset_index() #Needed for the average artists pred\n",
    "        \n",
    "        print(\"Started predicting\")\n",
    "        mae1, acc1, prec1, rec1 = compute_mae_and_app(test, compute_pred_avg_user, avg_user_listens)\n",
    "        mae2, acc2, prec2, rec2 = compute_mae_and_app(test, compute_pred_avg_artist, avg_artist_listens)\n",
    "        \n",
    "        mae3, acc3, prec3, rec3 = compute_mae_and_app(test, compute_pred_user_item, train)\n",
    "        \n",
    "        maes.append([mae1,mae2,mae3]) #Adding like this to then use easily a dataframe\n",
    "        accs.append([acc1,acc2,acc3])\n",
    "        precs.append([prec1,prec2, prec3])\n",
    "        recs.append([rec1,rec2,rec3])\n",
    "        \n",
    "        print(\"Starting group step\")\n",
    "        \n",
    "        groups = get_user_groups(subset)\n",
    "        print(\"Finished forming the groups\")\n",
    "        \n",
    "        at_least_5_users = [] #Keeping only the groups with at least 5 users.\n",
    "        for group in groups:\n",
    "            if(len(group[0])> 4):\n",
    "                at_least_5_users.append(group)\n",
    "        \n",
    "        dcgs = []\n",
    "        for id_artists in at_least_5_users:\n",
    "            users = np.array(id_artists[0])\n",
    "            same_artists = id_artists[1][0:5] #Take the first 5\n",
    "            reals = get_group_recommendation_according_to_our_algorithm(users, same_artists, subset) #What should be recommended\n",
    "            \n",
    "            preds_user = test_recommander(compute_pred_avg_user, subset, avg_user_listens, users, same_artists)\n",
    "            preds_artist = test_recommander(compute_pred_avg_artist, subset, avg_artist_listens, users, same_artists)\n",
    "            preds_sim = test_recommander(compute_pred_user_item, subset, subset, users, same_artists)\n",
    "            \n",
    "            dcg_users = dcg_idcg(reals, preds_user)\n",
    "            dcg_artists = dcg_idcg(reals, preds_artist)\n",
    "            dcg_sim = dcg_idcg(reals, preds_sim)\n",
    "            \n",
    "            dcgs.append([dcg_users, dcg_artists, dcg_sim])\n",
    "        all_dcgs.append(dcgs)  \n",
    "        \n",
    "        \n",
    "    return maes, accs, precs, recs, all_dcgs\n"
   ]
  },
  {
   "cell_type": "code",
   "execution_count": 58,
   "metadata": {},
   "outputs": [],
   "source": [
    "import time"
   ]
  },
  {
   "cell_type": "code",
   "execution_count": 86,
   "metadata": {},
   "outputs": [
    {
     "name": "stdout",
     "output_type": "stream",
     "text": [
      "=== EPOCH 0===\n",
      "[121958 146867 131932 259178 119879 110268 207892  54886 137337  87498\n",
      " 175203 191335 278167  41090 329365  64820 262913 321879 194027 327069\n",
      " 252709 199041 267455 103355 235796 214176 184779 347449 258795 156730\n",
      " 346622 149503 130523   2747 123855  65725 129981  84654  67435 319030\n",
      " 328947  31551 273538 331236   3890  41606 256840 349457 141699 270936\n",
      " 239931 239629 205041 174073 207624  68148 252801 124243 251995 154555\n",
      "  48555 256508 279303 106530  80077 298064 200551 281601 208261 240181\n",
      " 341097 315139 171829 271836 202283 196769  37065 223165  99299  11534\n",
      "  40397 257750 353531 263160  55591 220884  23247  24300  82798   9268\n",
      " 348951 274329 194776 217851 236584  38044 313358  48984 302918 264712\n",
      " 120151 133767 124375 179262 136330 301648 164231  13986  61858 129312\n",
      "  12666 300804 134633 288998 326649 104488 183323 284806 270536  30535\n",
      " 314400 351279 297366  77373 123684 273109  24538 201664 139182 158338\n",
      " 184064 214020  98806  90982 121626 119176 218126 218969 122409  23419\n",
      " 253618 245310  50015 248550 122096 107059 185340 110687 350083 211428\n",
      " 105878 202982 198286 249002 250396 164899 324767 337594 355570  43585\n",
      "  64044 109556   2693 357403 243307 200235  25939 152906  18047 288249\n",
      "  75766  44262 285920 161152 128376 137848  92787 127948  55016  21959\n",
      " 136602 225928 265892 228576  13545 165838 335674 355701  61087  68840\n",
      " 118451 313149  39353 193075 214283 314877  65318 241025  67172 216688\n",
      " 256951  93264 246458 288880 225281 112859 352228 269536 317824 257426\n",
      " 177789 218164 313003 125657 235167 157381 194806  70467 183734  98506\n",
      " 109751 287486 168229 106081  89045  34698 110078 342767  22671 355528\n",
      "  86202  51663  15708 354050 311955 133883 318394 112547  34754 226814\n",
      " 237714 142483 133983 214835  84896  71295 219686 273255 299648 132874\n",
      "   8155 301528  47254 284062  85981  30306 147718 308987 120975 358745\n",
      " 107512 147443 133121 162688 283076 117796 291999 192506 174088 269544\n",
      " 173714  15151  66690   4499   6295 321184 274327 143946  32711 267683\n",
      " 184423 179426 133629 300504 213090 133272 243548 178047 283501 119121\n",
      "  77505   2869 257186 312252 112296  94179  90272  38467 285472 353556\n",
      " 135059  58871 128391  86416 332415 306208 256687 201163 107450 171890\n",
      " 281974 116381  47333 134508 205362 338357 150810 292890  49377 316189\n",
      " 136672 225732 355323 171836 205615  45714 102946 105983 187563 124123\n",
      " 305628  82989 298356 305669 178274 163707 325352 295972 265564 131373\n",
      " 115294 124019  65726 141564 268246 181408 118015 216386 254079  26641\n",
      " 165656 163817  36631 242289  72991   4014 273237  18070 297921  56958\n",
      "  82074  10729 230785 176089 197392 158823 105864 209141  54748   5801\n",
      " 150262 235362  29592 272791 139788 219963 248710 220984 332460 258067\n",
      " 264512  77575 268799 237549  70031  87922 124046  32097 142038 124862\n",
      " 230229 118834  93848  52921 180798 126141 181372 284821  55609 227897\n",
      "  31024  70313 184078 357429 113632 251451   3051 179819  87235 197484\n",
      " 189407 211810 203687  73523 236175  94476 233841 279163 345757 222866\n",
      "  86672  73847 344894 210706  28251 103481  25945 352996  32217   8308\n",
      " 268093 183062 220552 100235  74740 328761 225913 279040 177247 138877\n",
      "   5237  20056 176615 187628 114548 134415  29375 140734  16964 113429\n",
      " 252764 190710 216139  67215 331186 144356 203861 355612   9435 175150\n",
      " 340976  51293  78781 191475 160196 226507 306063 239833 252377 166319\n",
      " 121172 356902 318717  59101 288790  23049 210677  68385 126131 196489\n",
      "  23289 271967 191232 304119   9540  16364  27663  51991 188751 162049\n",
      "  94704  49115 353151 219295 191962 197459 149143 190347  11938 353824]\n",
      "Started predicting\n",
      "Starting group step\n",
      "Finished forming the groups\n",
      "=== EPOCH 1===\n",
      "[ 11955 245144 306732  96626 184642 332018 179751 146216  67959   8272\n",
      " 132645  24419 213411  48555 136248 167233 194512 239133 189934 122082\n",
      " 146236  25379 222261 280512 220113 171317 104302  98906  43327 177526\n",
      " 355931 177813  31977 261456   6714 106680 339381  52299 327268 355196\n",
      " 303056  68446 214862  61516 125223 167188  83521  71366 175369  40888\n",
      " 318339 346154 202088 206051 185406  98474 129986  68345 122617 158002\n",
      "  59117 285239 208554   3991  23519 288801 262970 173697 344193  17801\n",
      "  39566 154229 159435 189009  17421 256080 257230  78027   7546 333583\n",
      " 177695 278550 271969 241569 296317 261536 317763 345258 296518 172483\n",
      " 326512 270460 272700 104554 231059  44494 346815  32481  28401  40431\n",
      " 326603 352617 123311 248482 120327 209754 239198  40149  12863 160636\n",
      " 220696  22499 238691 257128 351362  32132 126272 135605 214034 342240\n",
      " 261085  10633 181607 266140 131086 263818  57251 186781 148936 288465\n",
      " 155154  40131 202565 135282 245152 251231 115663 345749  34851 289009\n",
      " 345750 135230 121497 319996 311483 282716 175541 343205 191933  18456\n",
      " 317947 327777 206091  36232  67323 278236 263276 208922 235253 219190\n",
      " 131024 257075 228844 249596 275212 179598 115729  76593  55041 230230\n",
      " 235114 325516  67562 354243  64046 358602 138161 278767 311785 274187\n",
      "  66572  86700  57061 117957 268266 309490 228394  87630  77228 274198\n",
      "   1767   4708 237729 320143  52158  28082  34024 285605   5351 344772\n",
      " 104720 124501  90577 126875 222284 143849 220928 139380  43441 113682\n",
      "  80865  13882 114883 222658 174504 212361 357659 110625 125934 200317\n",
      " 229714 233651 258669 339171 181880  39530 139906 320838  87193 123498\n",
      " 181393 221435 204781 278829 116254 142428 302728 182434  11344 114491\n",
      "  44619 107107 226351 133015 221257 191289 112319 270492 208358 147711\n",
      "  85030 173083 245649 234408 280784  35402  65088 159331 160059 183688\n",
      " 141755 272111  77664 100274 224903 324805  87738 203379 305596  12857\n",
      " 318044  31460  86923 311944 274770 188944  96159  16802 278477 297264\n",
      "  93621 153231  56843 125179 165591 356477 215649  44935  22507 202132\n",
      " 346415 319367 158747  17673 109619  35470 303747 145614 241635 323551\n",
      "  53821 297834   6654 112259 216616 350408 289590 357659  48484  44078\n",
      "   4225  74745 241268 176559 199748  11721 108878  39437 150061 163798\n",
      " 201612 341981  98215 303312 333760 138480 142127 281904  17752 220801\n",
      "  66573 192888 289010 263136 285840 233886  73541  52838 291544 344421\n",
      " 279709  39585 274238 162352  46647 175450 357942 261972 108050 137366\n",
      " 271718  35183 179819 328750 149710  57194  26082 147378 127899 269951\n",
      " 182414  32143 121952 320558 221374 286859 193126 335078  12202  27987\n",
      " 166812 247274  76848 184943 257476 144699 230721 225366  51069  40409\n",
      " 258329 356166 111689 106948 192558   1611  31657  18462 247824  89299\n",
      " 300691 236526 344417 341541  52788 173595 161356  87964 328391 275850\n",
      "  10924  15921  17813 104748 196322 133140  39927  30539 273827 123031\n",
      " 347295 166746  52703 320954 348255 216415 348121 218186 142189 265809\n",
      " 306534 337028  63887 179338 317685 356463   7882  70825 276054 302710\n",
      " 194145 167248  83081 161361 109337  15362 275927 175234 237441 280917\n",
      " 177367 161403 307784 309113 305130 102017   7585   4122  16838 148373\n",
      " 285251 188429 219233 186283  66025  66520  17344 319346 277103 306408\n",
      " 292412  84564 144622 250105 136774  78563 229351 286603 318926 137104\n",
      "   1825 126187 248870 322253  12470 265914 158340 161155 271102 270950\n",
      " 294306 336876 165961  27702 269883 286743 298971  76821  96683  68446\n",
      " 211282 346034 285183 250527  43884 156218  45819  83162 213704  79606]\n",
      "Started predicting\n",
      "Starting group step\n",
      "Finished forming the groups\n",
      "=== EPOCH 2===\n",
      "[116774 219403 268243 337248   4406 102439 188250  90692 161943 214985\n",
      " 358586 112631  44895 254408 305904 308450  75179 147659  76554 131015\n",
      "  44425 257997 152448 284734 305547  26628  89421 133264 152505 346773\n",
      "  30617 248588 162754 272394 294980 329317   6251 101429 318390 252093\n",
      " 164078  86966 229666  67344 312250 121720  94840 231306 105293 176112\n",
      " 254235   8998 305010  22969 146855 118259  31107 176703  14789 206418\n",
      " 275358 332801 291626 163544  74536 310331  31087 263085 230714 132393\n",
      " 214646  45972 348802 301505  41354 328471  47191 317972  10136 328423\n",
      " 334204 210474  39342 343995 226519 295105 106198  69810 291982 276476\n",
      " 325145  90329 343098  48473 171969 273826 187741  43775 319085 274259\n",
      "  50937 307276 193110 274169  95439 320670 147979  68832  56108 136757\n",
      "   6647  30145 103894 151839  98702 116839 267574 134952 327806 116775\n",
      "  60487 301937 113584 110549 319734  71461  52470 198689 325760 100361\n",
      " 201895 169743  68525 105879 355853 333401 213331   2728 345655  22167\n",
      " 167001 206108  73711 168469 193320 178608 334581 338570  76851  80962\n",
      " 297209  80286 285818 256005  26085 300230 249567  63493  48248  26156\n",
      " 216425 201241 134948 202516 186354 334107  48119 146713  76432  78451\n",
      "  85340 281555 290680 235249 265732 145781 349801 222331 208317 257010\n",
      " 282437 316041  44649 297684 324395 186499 191244 297161 114383  20242\n",
      " 194501 116313  97544 215597 100151 112457   8770  11602 101437  10466\n",
      " 177147 138524 288369  40043 225848  87333 136683 214578 161238 149779\n",
      " 131305 189681 228609  65567  91483   8951 235270 329474 242456  62831\n",
      "  28936  15574 249840 135143 208703 159703 284506 161772 309249 162304\n",
      " 303919 279998  68823  46782 284234 289305 106265  46300 352810  44665\n",
      " 170624 196360 355398 243572 316789 114946 304328 312961 296777 310864\n",
      " 328445 155712 232825  51857   5765 343016  30761 299886 245955 132455\n",
      " 277602 133507 159808  29992 319710 114358 154514 285844 103932  27763\n",
      " 178628 198975 135937 172914  49602 201806 254694 226889  19734 264973\n",
      " 231989 264059  39980   9440 135891  73415  90352 294369 106860 214200\n",
      " 357511 331800 260008 265105 340529 217768 294689 206947  51569 132688\n",
      " 123915  74447 184906 287693  72361 280374  50618 271026  81844 115933\n",
      " 284644 343554 140405 315527  66513 157882 156189  72258 212278 275361\n",
      " 255354  86427  45272  83053 323868  37633 303672 183224 271657 174776\n",
      " 228038 335045 323066 104936 100378  50293  55272 201440 270814 289953\n",
      " 280213  95447 211774  99675  62289 289321 265567 239264 323145 161304\n",
      "  44940 136433 263545 222892  66948  22814   3230 105825 108998  38824\n",
      " 119410 312560 191061  71812 196363  58876  55572  87304  88668 114266\n",
      "  75111 335511 180890 194695  68348 285501 347465  37783 125985  51703\n",
      " 241467 243614 350701 195954  65923 153320 326892 162526 340872   2380\n",
      " 123256 168175 244441  94389 230656    743  40124 144200 118174 181292\n",
      " 252731  45653 308216 241864  41302 339155 229673 294042 103620 280033\n",
      " 142024 308129  74106 322283 271041 280942   5656  12193 208264 126474\n",
      " 102748 144501 236923 345510 159836  63628   5642  83746 270062 283205\n",
      " 116408 181106 229499 183714 224778 282359 172336 318242  68764 355415\n",
      " 140515 123816  39276  31711 175749 248073 167129  39764   4844 247958\n",
      " 107181 286774 347276 101510 226276 146236 190360 279169 266983  38937\n",
      " 204263 308804 196669 115911 295404 358344 285350 317907  83059 152946\n",
      " 268938 148711 304105 197733 347945 184329  11736 164986 321539  80338\n",
      " 114946 341901  69385  65285 153886 120862 135688  90100 327803 222105\n",
      "  67713 148959  46811 146181 235037 325531 101558 330093 151843   6089]\n"
     ]
    },
    {
     "name": "stdout",
     "output_type": "stream",
     "text": [
      "Started predicting\n",
      "Starting group step\n",
      "Finished forming the groups\n",
      "=== EPOCH 3===\n",
      "[157791  87597 312752   2830  74800 170719  72709  50230 341967  31563\n",
      " 252942 168458 169335   4914 218788 351416 311383 317170  17472 129005\n",
      "  59582 248869 247157 316056 100731 165924 140002 101303 292091 159598\n",
      " 192522  20813 231842  96493 279408 258217 325190 155406 224404 308724\n",
      "  55889  94729 168876 172471 346110 189301 212573 137585  27432  99197\n",
      " 257434  26061 296317 236479 214121 306033  91585 318009  35295 212945\n",
      " 121713 246228 170349 174858  70557 260031 214910 172370 294063 243805\n",
      " 266594 349251  16629 317091 342777 320474  90758 185527 159955 273944\n",
      " 245605 193531 268983 172880 325613 222692  28617 250027 148330  11878\n",
      "  99634 324070  67309 124907 221083 265897   1444   6630  57125 325723\n",
      "  37532 317932  93255 353356 174884  75266 193869  19167 285654 312056\n",
      " 104524 247272 112689 328340 333930 204574  14833 205830 279352 125219\n",
      " 234837 143060 198332 190954  71756  78789  67867 147103 285516 276961\n",
      " 128223 236127 221740  96324 353378 231501 265361  41034 120706 106140\n",
      " 218873 291581  13888 144425  69765 285498 244304 314386 145259 142140\n",
      " 182255 175223 278401  57874 155488 176197 270769  48530  77461 343426\n",
      " 102011 153732  60637 335938 354534  74395 339840 147605 253422  37478\n",
      "  21584 276274 292601  96241 310759  41434 166458 105676 212294  15219\n",
      "   7893 218336 186797 136670 157804 216480 316788  12565 249242  43674\n",
      " 144404  31668 317090  57593 344622   5769  61038  78567 229156 334504\n",
      " 349152 181948  50738 239473 146873  35560 350652 229792  92690 154061\n",
      "  13453  19334 340083 132641 292895 172329  68768 227190 101336  37275\n",
      " 172454  63639 258802  53123 294664 187747  43845 133337 222561 298560\n",
      " 253654 189539  98724 105777   6572  65850 301145 357770  18870 245587\n",
      "  21754 247360 283883 257100 330297 180323 320378 238379 291813  11724\n",
      "  42381 167883  24820 273598 321657 355738 266533    245  45027  58551\n",
      "  69056 158041  75367 318879 338520 298507 239651  39117 341485 273057\n",
      " 162672 155543 322247 271322 240038 168092  21918  21310 327978 213010\n",
      " 239090 196151 352955 323626 293167 350503 343329  32109 117104  66834\n",
      " 163072 316503 249752  88279 246611 333280 206107 109674 172514  91159\n",
      "  81127 332843 248288 313661  10382 171935 111827  55165 136990 309050\n",
      "  67270 329216 321860  66781 297445  50966 167366 205931  80501 184712\n",
      "  65510  53366 278012 307553 120734 175036 214572 108157 140934 343352\n",
      " 270322   1087 145665 126827   3489 209177 335691   2489 253282 175413\n",
      " 189852 312111 139102 319719 353740 171097  89237 175687 168324 296243\n",
      " 165120  97836 297333 231615 345469  56755 173919  59526 123058  97500\n",
      " 219357 270228   8742 202735 160299 135146 306470  87699 136725  46531\n",
      " 286920 331575  25922 332120  67999  55249 336492 263921 111974 111470\n",
      " 309770 279482 178270    604 234037 351473 345464  76994 307457 126955\n",
      " 225123  71983  68084  63677 153215 296797 328018 202411   6558 194621\n",
      " 328590 249756  13010 282798 352083 136572 290806  99200 101062 162532\n",
      " 208456 295609 245530 263755 286860 168032 251534 298575 329057 192456\n",
      " 285683 154074 337422 341858 217622 264456 205104 327263 256428  70415\n",
      " 345375 338712  61476  40610 204935 183536 314147  31349  19416  31057\n",
      " 215398 101369 155075  63690 162046 175199 111963 268030  19091 329783\n",
      " 190463  35149 211753  15176 273591  90798  92823 144168 274435 207282\n",
      "  95191  62976  20446 300425  40800 320482 312849 137816  27451 142491\n",
      " 195252 167410 177160  88215 303763 194009 279492 354330 343975  72902\n",
      "  84050 105525 343633  44174  85426 112068 337092  32228 251050 309126\n",
      " 298269 260592 309706  32307  44064 242440  34314  79227 329291 266121]\n",
      "Started predicting\n",
      "Starting group step\n",
      "Finished forming the groups\n",
      "=== EPOCH 4===\n",
      "[ 58355 226788  13500 236566  65832 343702  86995 132847  81930  56320\n",
      " 191664 258859  62788 281741  10758  70778 102843 159255  96998   9091\n",
      " 349422 350362 273341 274869 222664 357214 336486 285634 258150 353465\n",
      "   4783 151449  75679 193888 106791 170500 328201 123565  79804  67156\n",
      "  28585  87921 197112 171289 150920 137270 103047 254579 285751 314098\n",
      "  75501 288586  12451 286609 282398   2536 239623 350819 221170 357781\n",
      " 190529 313632 278985  64308  29100 336066  30330 237862 252513 165937\n",
      "  45875 267867 225400 285338 229476 349609 256795  23358 258289  75921\n",
      " 180920 346479   1616   7062 150558  92962 300440 113318  86276  17051\n",
      " 204294  71529  95477  25463 284073 242473 101176 127826 223679 102011\n",
      " 106712 326462 234001 297076 207086 347052 242963 171839 125589 114977\n",
      " 316540  98466 358596  98104  47630 195878 299202 329478 218794 317715\n",
      " 176942 115440  21997 330996 240667  60619 162577 129336   2412  37810\n",
      " 224292 234443  20221 172903 154216 154866 145362 222149 124662  47147\n",
      " 317504 273585 156208 173122  50147 221092 263621 240236 287709 175310\n",
      " 184700   7250  45341 310119  73160 329338 356769   9453  24921  69997\n",
      " 348516 158079  23714 181993 102977 342028 216170 188778 132360  79764\n",
      " 207979 232112 355140  78740  38716 283079  84569 182610 260920 213710\n",
      " 279716   5160 247922  71116 150662 181592 180738 208223 232168 139943\n",
      "   4595  91633 136470 232897 306911 323077 314182 214292 117344 128079\n",
      " 242457  55550  55118 339157 183396  21104 124607 207540 123441 285724\n",
      " 164196 162194 171149 241788 245646 292211 161995  92479  71818 173230\n",
      "  16136 198123 152757 232053 150241  16880 154752  22025 132748 152836\n",
      " 265306 300710 330458  77357 193367  52766 207430 162264  98072 209874\n",
      " 311683 186072 296417 197583 274433 148295  42154 277977 349716  47888\n",
      " 219421 226090 121893   4220 227642  20523 256331  10404 290149 167726\n",
      " 174842  29382 184226  11482 295577   6327 173438 320810 180626 233912\n",
      " 340544 162170 184881 179871 117044  62428 112085  79922 336731  69164\n",
      " 320891 108658 195419 309268 180585 134414 221402  88529 255379 133093\n",
      " 250976 197613 322298 101811 275330 105600  29941  49968 197184 236278\n",
      " 277920 221532 287922  20533 213310  95277 201133  40113 109062 128127\n",
      " 181180 236010 214741 264203 277029 306014 316903 253862 147436  24212\n",
      " 290198 227806 338859 219349 353300 349032 188883  32603  49894 227991\n",
      " 124152 335978 352926  72196 331216 281280 272036 118365  16065  93985\n",
      " 317163 218140 200836 295069 317034  11436 155281 171428 201987 245717\n",
      " 215920  79405  28539  14132 171671 301921 213127  20695 247636  97503\n",
      " 173909 245448 333003  94315 223654 305166  85580  55799  62292 335988\n",
      " 195624 110449 184595 237458 271850 143486 179785 258884  94465 344875\n",
      " 123188  53971 208120  71173 167676 165266 243857 295110 224884 198836\n",
      " 279294 345496 253341 164003  43341 318376 291990  42673 255503 265819\n",
      " 164667 301416 130801 244461 279301 238084 212738 281866   9781 336908\n",
      " 121406 173367 356262 233317 273474 216989 300651 203176  44121 110986\n",
      " 230987 176917  29349 168459 126371  68401 300263  83615 221890 149272\n",
      " 203858 278372 355429  42026 112914  59161 340064 265524 172260  10771\n",
      " 116356 205231 213927 133117 149271  33605 234111 268035 356300 243092\n",
      " 157380 319745 326789 220252 294550 160073  98648  17059  63898  52614\n",
      " 334385 338708 186413 191441 326070 358452 349296  58333 323822 155661\n",
      " 290598  44669  17705  89500 103164 190439 136479 151707 263935 172770\n",
      "  20531 218290  42630  80800 140250 122478 122842 154581  59421 214491\n",
      " 129046 307937 348977 172287 343927   8718 252823  63241 145448 356654]\n",
      "Started predicting\n",
      "Starting group step\n",
      "Finished forming the groups\n",
      "=== EPOCH 5===\n",
      "[236714 258813 292339 339759 200398 341913 345024   9165 104370  12642\n",
      "  82933 323464 353754  13032  39492 182840 188062 182324 253150 232235\n",
      " 130621 258363 339110 221107 147145 338415 253424 346876 169772 146052\n",
      " 126751 185479 224851 122601  16552  90613 234441 301561 306695  13008\n",
      "  26675  40805  13004 289373  86759 168526 347799 339200 334609  21106\n",
      "  25297  92082 302886 328890 356507  22154 208820 150689  37560 241000\n",
      "  57600  68503 100263 147393 199749  86977  35782 207895 326194 123773\n",
      " 262839 300871 104747 197052 263961  69952 345856 119401 111811 180427\n",
      " 173133 310743  29597 229920 138864 154555 323118   4831  42740  79552\n",
      " 133089 258429 200299 166858 288743 237427 330740 177633 155934 263836\n",
      "  51532 157833 162092 211184 214609 347802    415  41223  36812  85657\n",
      " 245839 241364   9453  47576 130363  79226 331552 126880 278085 229774\n",
      "  11848 291707 216351 173887 292517 118953 141780 157346  80206 111210\n",
      " 166239 115826  69321  44392 147606 146816 178767 128442 316116  32464\n",
      " 135440 191960 325656 289216 159868 280653 225813 154948 185742 266611\n",
      "  10814 234731 260270 354908 272469 351759 300224   3378 326662 174825\n",
      " 155605 226161 332039 101349 194518 129695 340056  14459 191404  63367\n",
      "  48502  73534 227524  63780 261354 184826  47208 154426  53889 118879\n",
      " 222934 333855 340975 251458 357841 160617 330195 270976 344489 323527\n",
      "  40583 275411 341264 133098 341679 345557  28022 210063 256736 353111\n",
      " 296096  47351 167111  40541 297679   7886 216492 331849  25399 302400\n",
      "  79233 113190 284555 322461  14988 109528 160992 162577 237407 220427\n",
      " 206710 112565 125877 153298  50644  34091  28481 127796  14271 193083\n",
      "  49354 244146 122496 236770 354784 116840 265818 276116 320205 298806\n",
      " 300015   8066 222270  86120 317980 278800  48825 189552 251267  77035\n",
      " 287085 112597  37325 230861 128440 296520 126692 277418 171432  67976\n",
      " 271467  68034 252948 216102 304759 128941 158948  67215 227483  16381\n",
      "  48733 218872  42070 116385 137201 265828 204182 196330 209192 151647\n",
      " 236506  63351 111937  77900  88197 206682   3633 112482 155199 168882\n",
      " 332749 206425  70599  43252  28670  58275  82653 211642 318223 264372\n",
      " 286073 351710 182946 123300 286669 105720 200430  50237  82086  39128\n",
      " 310720 325054 124763  80988 195017 152583  58727 272733  69021   8616\n",
      "  51854 163543 171340  59377 112147 191907 282636  76506 282129 295943\n",
      " 145833 227056  40711   1083 245049 186994 242327  41515 344167 194522\n",
      " 181682 165075 115938 175613 309719  66983  11260 116462 146509 272788\n",
      " 205088 290664 132972 299774 141120 150840 297285 184461  73947  56856\n",
      " 127615  67494 115990 336742 165008 144542 110643 136987 339078 133137\n",
      " 165071  78785 184956 225793 237720 136046 225706 348903 350216 314509\n",
      " 112975 169839  70514 121132 331272 246107  68071 132747 217466 338816\n",
      " 103803 129411 325929 206496 272750 273991 107917 127804 322842 204793\n",
      " 275788 207541 217863 118212 313409 354917 193099 127433 319113 213912\n",
      " 282393 281203 271718 247435 195001 245190  86097 345118 358160 115086\n",
      "  85985 192021 253636 296951 196879  87931 343200  39208 206211 166752\n",
      " 184667  22730  64446  56434 300785 202819  88715 349366 221443 178008\n",
      " 211714 340944 337978 256113 257709  17164 236142  93562 147516  25419\n",
      "  91099   1408 173723 213810 154049 311876  60576 176094 216398  51520\n",
      " 150295 287240 174498 282940 179855 192327  78269  94635 336592 254554\n",
      " 267996 170302  93450 183894 341187 331271  55804 285427 343216 139783\n",
      " 221126 216178 256033 358220  52323 336716 140670   3776 240123 256248\n",
      "  39230 286260 278114 284738 140445  23098 113519  85400  20640 252464]\n"
     ]
    },
    {
     "name": "stdout",
     "output_type": "stream",
     "text": [
      "Started predicting\n",
      "Starting group step\n",
      "Finished forming the groups\n",
      "=== EPOCH 6===\n",
      "[174556 290521  72826 200340 108434  99567 108710 136206 323379 190586\n",
      "  38057 303421  59578  26097 205744 142750  89370 350214 232392 228030\n",
      " 136592 266048  91882 287036   6801 350252  33708 147987 254137 193585\n",
      " 184485 300684 255100 259557 125095  23729 185280 139211  18976 209662\n",
      " 155711 243821 272804 305163 157268  32065 115717 222527 229871 279297\n",
      " 115455  81274 142038  13794 275438  92593 106303 182373 187897  34576\n",
      " 303044  57353  71550 188277  61598 340674 196566 328862  14128 314080\n",
      " 342422   4590  85527  95807  43829  43847 325692 266616 175118 206543\n",
      "   9557 281348  88229 192412 213701 122378 247246  94179  14919  13472\n",
      "  19967 322095   8407 228767  62067 327831  76370 351894 288245   4142\n",
      "  31217 119640 193680 184439 295282 132918 183846 300777 145808 313462\n",
      " 179611 295192  73054 284007 241617 230896  21870  63691 345126  10190\n",
      "  70625 214338 194868 201245 355566 235620 138306 352465 304508 133572\n",
      " 148992 315002 266622 136099 110820  62648  92010 309885 296747 207819\n",
      " 171492  91913   6626 329271 300432 286538  46808  27887  21401 262455\n",
      " 207696 165489  28920  44383 307401  90578   7941 326856  84582 281080\n",
      "   7246  15734  42944 148680 343485 103601 323993  42904 146847 322348\n",
      " 144572 190790 224860  26272 138212 108659 273060 351702 228829 324694\n",
      "  45843  14224 358014 299536 267445 216704 188892 301465 273836 358322\n",
      " 256267 126985 136204  59302 285041 332836 302005 183615   5695 344346\n",
      " 310861  21882 138138 144853 281699 301726 338374 163605  36878 321450\n",
      "  52682  89172  67712 135638  93180 287516 237504 316029  49499 126841\n",
      "  30374 316423 117811 208048 298902  57553 155007 355027 358023 356513\n",
      " 315088 107447 340314 308817 346752 132691 119363 266407 325795 198552\n",
      " 106181 281036  33360 108701 239654  69625 305611 174615 228301  59294\n",
      "  65424  25530  10430  32135 132490 186329 340889 349085  65213 140937\n",
      " 210394 247432   5081 313027 200196 138084 185461 281615 346444 291585\n",
      " 168721  87002 147748  28388 129328  66205 136758 267025 190571 135973\n",
      " 181260  22582 144639 184310 172351 231303 161631 200311 126932 219858\n",
      " 180365  49367 272205 352331 155407 204053  26801 177250 288656 155814\n",
      " 331223 275113  99958 295897 123670 113092 145343 220644 194695  38439\n",
      " 159630  47065  82648 350289 338971 134043 340375 127845 270801 114529\n",
      " 151385 287676  39554 266086 310172 103765 150316  58587 189847 346017\n",
      " 293466 223536 203855   5780 109838  41996 226191 213020 225678  72202\n",
      " 157723  70480 172864 348409 340026 286259 234082 325690  83213 345122\n",
      " 328194   5823  56158  75248 109028 317663  90438 291672 176733 233052\n",
      " 322708 289679 234232 285737  86406 182659 116283 233214  73925 318976\n",
      "  64354  66504 124643 309372  53534 293796 305114  84853 316685 265687\n",
      " 282434 194343 255752 254252 260842 113301  55198 172593 335034 146335\n",
      " 110603 295967  11399  51106 139086 260921 216597 317242 154206 302600\n",
      " 141866 327170 242879 309320 332273 110546 132291 326149 325352  11617\n",
      " 231386  45768 313592 350235 345303  41365  79037 281060 137626  90484\n",
      "  47259 250827 206182 234209 169845 143749  73499 131410  19089 163151\n",
      " 107395   1117 167539 350416  23563  83402  70886 291295 276168  51594\n",
      " 105679  97673 334222 357180  82654  77714 264124 217923  35307 198589\n",
      " 307298 295619  18510  18422  95936 145781 283893 310143 214776 131550\n",
      " 212154 331089  74191 304883 160489 226474 225603 263118 153094 330584\n",
      " 271533  30680 341662 255253 271424 270276 133330  90037 152293 223864\n",
      "  25964  93965 285007 130053 211035   7621 103995 150908 115524  56290\n",
      " 261279 349193 104990  18555 251281 192043 131781  90848  48829 235780]\n",
      "Started predicting\n",
      "Starting group step\n",
      "Finished forming the groups\n",
      "=== EPOCH 7===\n",
      "[112588 295764 328234  18367 225151 102948  62998 240050   4811 292636\n",
      " 105923 168299 164148 168114 107938  68455  76776 287096  80147  77629\n",
      " 126751 212439  22167 273723 239126 141734 156126  53234 279344 274128\n",
      " 128910 127930  95264  46092  53458 157120  17588 277600 237684 211534\n",
      " 131307 224376  51592  67904 311786 236863 342580  77086 250397 100588\n",
      "  64393 214279  64807 250619 162477 126468  17444  53785  34295   6225\n",
      " 231070 131464  25224  63528  61294   8618 221863 180590  70463 263298\n",
      " 159754  48559 192065 124940 213740 342143 196307 147416  72313  76565\n",
      "  95341 226047 208963 221175 182316 302655 284870 354238 250335  28808\n",
      " 287349 211181 339405 251106 120297 114605 322058 151581 168764 175975\n",
      " 285707 123219 197302 300908 259165  46809  43083 119184 321274 324332\n",
      " 150023 176205 210556  72368 331718  86865 224511 156138 296188 106723\n",
      " 236951 295084  66365 113050  44368 228490 245676  11366  81221 354219\n",
      " 348032 292118   3730 268705  32501 139345  26047  38741 274183  70473\n",
      " 261517 295250  71490  53633 118098 227588 327543 270409 355503 189838\n",
      " 310027  35057  62789 193620 151996 178155 313757  44833 351247  64778\n",
      "  86017 270464 344934  25954 270206 165909 124215  20565 200861 212925\n",
      " 189656 116578 267878 358103 123362 331181 181230 172884 152610 353268\n",
      " 326944 282016 264136 344676 331322 178201 140033  44415 176171 330643\n",
      " 274925 230788 311530 208664 198327 136271  54930 346735 178534 263581\n",
      " 223924 195705 260586 123565 157050 156997 255917 176460 198906 114646\n",
      " 259946  52725  15976  51658 185758 111379  11080 289492  80132 212580\n",
      " 288425  65354  41782 235295 258905  46582 311556 309606   3204 247171\n",
      " 226995 227019 149509 153821   3818 123301 100081 160306  13319 171397\n",
      " 244816  13419  30817  31058  73370 270801 136132 120953  14085 241875\n",
      "  82265 125552 255430  53927 235779  27581  20399 322961 119437 308475\n",
      "  44033 321793  57918 320731  16001 147547 301716 128917 322633 336826\n",
      " 192125 271506 111556     21  27602 282242 215480 328145 230605 340452\n",
      " 108052  13158 228344 145176 147274 241834  71217 117570  74525 343500\n",
      "  24838 217677 254820 182066 165455  86984 248117  32431 271710 262808\n",
      " 325009 235806 306617 354444 319049 190901 346366 111851  69463 138131\n",
      "  69525  46426 343279 247670  86386 192123  73019  41340 119069  19299\n",
      "  15074 306519 333167 251480 174338  22291  14104  67876 334096 101146\n",
      "  79768  62495 345155 151104 243224 155281 199015 185548 165505 315140\n",
      " 127769 330264 288571 173108 350807  85042 107073 112369 199994 183471\n",
      " 305054   5660 335235 310285 315892 161551  94101 253196  51680 212992\n",
      " 212660  46998  83648 169888  93739  32407 193247 232432  62546 171155\n",
      " 319923  12725 164286 116508 309073 330830 222241 153886  10575 273229\n",
      " 120754 344440  11800 293270 182145  18809 223119 148874 341531  65674\n",
      " 136272  54745 167519 197779 330111 236646 200582 237339  88786 176594\n",
      "  17772 198641 131308  81242 353743  54626 168332 176285  71550 182497\n",
      " 193654 288626 290344  56400 112758 309352 295727 180272  26597 267023\n",
      " 197884 273124 237750  60295 245184 227191 283723  58847 154223 172625\n",
      "  56019 121359 173121  66516 145601 254524 212717  23035  38601  26135\n",
      "   2350  87353  36906 294134 220653  20924 247516 112646 133584 221606\n",
      "  80908 186010 130774  27641 275464 119491 344071 161234  30251 341781\n",
      " 358124 235384 179841  60357  27592  98603 100622   9380 330225  62228\n",
      " 244682 344424 231395 283719  70199  26587 272712  38280 324133 144742\n",
      " 292227 203749  59872 300599 310827 189912  18779 184626  56529  67382\n",
      " 123619 283975 106829  65216  41993 332428  98292  89798  48230 329300]\n",
      "Started predicting\n",
      "Starting group step\n",
      "Finished forming the groups\n",
      "=== EPOCH 8===\n",
      "[257436 119359 311880 217489 163688 119191  96531  86988 307853  78399\n",
      "  66009  92715  77364  27749 215876 271108  54633   7602 273688 147836\n",
      " 304741  10109  89549  89960 139114 105575 349999 163640 256114  27593\n",
      " 309083 201544 136152  88719 200714 214960 338110 135688 345659 274225\n",
      " 109757 279584  20848 168450 185107  67957 249633  63954 174267 317098\n",
      " 302731  83402 128445 189295 109525  22396 270013 334480 235244 347769\n",
      " 347303 294985 290842 229642  55225  97649  90687 336581  52595 163664\n",
      " 237439 302282 217001 163656 252147   3217 228812  80611 159701 111580\n",
      " 183458 155229 324221 287611 221560 223542 200382 157135 111512 231066\n",
      " 170483  48012  95079 351459  23046 226502  96513 147472 244136 164505\n",
      " 174920  11301  69905 208165  74971 151451 210301 217393  21912 225107\n",
      " 159638 140109 193458 310904 319852  31822 178794  33750 253871 139525\n",
      "  69604 143669 270222 336208 201498 162157 149726  22655 313766 306682\n",
      "  47888 209430  63748 175459 152502  98422  76465 341083 206736 310629\n",
      " 295068 317019 326688 327960  20879 268829 101759 119084 109979 337984\n",
      " 240877 198798  44236 103938 223422 274941 348702 120240 310024 139418\n",
      " 346031  18718 354111  50019  28864  73181 247981   5289  91205  68283\n",
      " 315296 221722 310779  96324 229827 176589   2353  80163 146881 222697\n",
      "  20146 147950 235120  95762 230240 175175   9776 126138 255168 290878\n",
      "  94409  52822  70209 158637 130691 339200  89132  78866 151224  14460\n",
      " 156102 113592 233534 302088 289347 175652 135565 138315 245679  68332\n",
      "  52794 237884 229231 238375 279137 256390 198980 342932  58758 251195\n",
      " 346496 285088 149016  93929 185239 142109 209920  35731   5179 234111\n",
      "  54638  91512  12397 189155 265561 312051  51173 350149  57807 142167\n",
      " 351846 209794  43519  13792 356775  52535 205893 275482 302177 118876\n",
      " 301239  62149 345888 131120 226755 219836 166470 107849  97575 170937\n",
      " 347509  95029 194336 172425   9738  86178 355618 317302 312077 248563\n",
      " 292407 320936  56657 239994 327021  82418 258136 105370 284506 270388\n",
      " 344752  60587 211659  86777 198029  83530 139376 253395  87907  78450\n",
      " 298930 179610  63719 167083 152406 212309 259500 284206  90507 315239\n",
      " 302691 223843  77260  18277 320338 349611 219221 295332 118185 191141\n",
      " 295125 186592 221449 206159 107481 123809 179149 265129 188836  85770\n",
      "  56103 265596 203444 130078  75600  17511 202152 268448 120913 149549\n",
      "   3266 220063 221020 203644 252318 288588 147752  12867 209150 129007\n",
      " 323741 187865 244985  77144   3572 137888 319240 167816 293902  34111\n",
      " 207793  94101 217294 334080 287015 357351  68439  60505 118833 335650\n",
      " 240675 300485 296104 240504 185749 344597  46537 118791 155764 108185\n",
      " 103033 138840 165086 269113 135821 290477  32446 215432 224804 317618\n",
      " 352717 190226 242704  56236 179797 132020  70113 248551  47016  38831\n",
      "  23549 180529 209921 345808  75260  74976 332538 241594 101989 266501\n",
      " 194743  81618 276179 358248  56442 263776  58133 308231  59137  70419\n",
      " 100233 319005  74179 335006 280138 299084  60099 105270  40597 350536\n",
      " 317358 245970 149213 342211 249173 351458 264946 181912  70418 207719\n",
      " 113857 264210 183205 278690  20098 157847 178520 273532 168709 357183\n",
      "  78624  48494 231747 323098 259358  12846 277855 294618 326793 314305\n",
      " 112061 290278 246125  89835 219248 131291 213989 107651 258197 295163\n",
      " 300235 343241  78993  91339 258850 197406 169268 287844 201167 102914\n",
      "  50531 110634 144630 354298 346186 301260 234776  70625 255578  43852\n",
      " 275262 262618 147616 290325 155426 163029 136146 286710 146036  54732\n",
      " 265088 166459  12095 107183 341936  91578  19198 122630 270555 355834]\n"
     ]
    },
    {
     "name": "stdout",
     "output_type": "stream",
     "text": [
      "Started predicting\n",
      "Starting group step\n",
      "Finished forming the groups\n",
      "=== EPOCH 9===\n",
      "[ 21316 162799 106472  79368 294278 245555  44945 351956 130048 233855\n",
      " 337325  50817 307287 143167  54320  23906 130358 155941 283848  50682\n",
      " 324238   7863   4702 213256 182757 316575 132115 307604 155290 278203\n",
      "  19274 222990 219143 260667 251622  16548 279699   5118 270704  11894\n",
      " 121737 208009 213167  77336 157337 143096  84467 313438  61218 155270\n",
      " 315445 128443 186884 163660 322819  56809  19978 313500  28039     48\n",
      " 252714 105313 346769 180536  38064 131345 242028 228247 328866 163645\n",
      "  68960 330833 144350 127532  66588  91152  48501 296791  12738 140790\n",
      " 215076 336183  57656 103153 165199 317798 133889   7796 351984 161196\n",
      "  39914 123503  74170 162928 146571 342416 258657 214849 186583  99360\n",
      "  58766 117348  59563 160179  95364 124609 333996 281140 110448 315008\n",
      "  37397 162563 109703 158607 168591 272171 346476  39331 120286 285293\n",
      " 353210 242827 166107 181101 293839  55226  66044  36172  74398 247879\n",
      " 186954 173604  65341 236993 249819  88004 211937 263896 190313 355246\n",
      " 195632 117988 190895 147033 338847  93346  77071  92484  55220 326466\n",
      " 211225 265620 332270  83905 229825 154222 155651 164122 298455 131644\n",
      " 190658 358120 343909 326004  32163  91125 248472 210609 301756  50080\n",
      " 238660  18892 299825  49514 185603 242683 326423 303644 294547  31092\n",
      " 268682 275362    724 131953 273647  43146 262182    736 248837 221892\n",
      " 350758 252495 259000 203791 111920 233076 328768  15671 355849 189905\n",
      "  64986 254399 305000 164081 279902 286944 159740  65339 329591  85959\n",
      " 304569 301114 269347 197409 352024 358517 230326 178658 334054 172121\n",
      " 227715 341860 195988 183511 303252 290063 131327 236036  25618 221994\n",
      " 103325 200303 306818 296776  71293  47156 207915  14305  27146 271411\n",
      " 113410 263465  23523  49510 131234 245904 309640 221627 195271 156559\n",
      " 319391 200051 248685 208485 321501 312422 355729  98772 174286  78028\n",
      " 245473   4865 332610  26057 181815  97092 229952 258017 253963  39515\n",
      " 101592 270713 210182 100442 319030 289004 294277 336625  55050 324457\n",
      " 315611 216867 264262 168839 121758  43810 140121 357801 301969 353102\n",
      "  25754 231586 250477 147581 269888 292004 124033 291940 117600  22777\n",
      "  94528 230545 230479 289901 228775  28491 269945  14580 320840 144506\n",
      "   6101  83326 177077 222572 235426  60475 347089 353302  29236 252410\n",
      "  37925 218550 285048 266715  21319 172675  14684 185701 213842 260783\n",
      " 264804 252930 302623 160427 137211 306361 207422   6762 322585  43905\n",
      " 197619  46050 132906 222006 291624 190304  25102 351611 167601 253069\n",
      " 154302  64181 346543 192654 353265  76421 311322 164792 215706 288090\n",
      "  30396   2597 349129 196222 171695  35191 208505 243620 231130 143544\n",
      " 221275  93448 123611 263966 273896 354107  53744 241283 324181 340696\n",
      " 263123 146191  15361 159560 167091 339205 131504 171403 209735 270774\n",
      " 200104 184393 164224 336810 333048 215425 272249   8163 108930 166545\n",
      " 111550 120377  73171   7413 263519  45683 125591 237267  87540  68285\n",
      "  95173  19775 263802  33345 220987 281742 309340 264390 311214 343259\n",
      " 232792  28855 106489  23985 183213 107165 301853  89697 248710  65521\n",
      "   7602  38512 126608 180966 224589  34568 106938 345106 247840 281968\n",
      " 292986 257466 290705 222209 140485 213148 137091 316589 230971 233990\n",
      " 162517 162174 166059 101696 181686 218512 259495 136039 265687  25914\n",
      " 246716  78965  78684  93520  44017 121012  69930  93971  26655 240528\n",
      " 275673 294066 168093 175154 172308  16367 100118 272921 314636  44482\n",
      "  44992 286718  31340  65585 285815 324965  55443 233304 353019 330828\n",
      "  18194 287526 140369  45462 326936 343018 179152 251093  19491 310287]\n",
      "Started predicting\n",
      "Starting group step\n",
      "Finished forming the groups\n",
      "Time1962.6893713474274\n",
      "[[124.75205479452055, 217.23561643835617, 166.38317029199746], [142.41403026134802, 241.8837689133425, 169.58966437010204], [119.37008959338387, 206.5975189524466, 154.6322512382082], [123.34439834024896, 226.18603042876902, 161.30616946243558], [147.90896646132785, 223.8986995208761, 183.4838452878326], [140.20041180507894, 221.89910775566233, 179.2281394847038], [126.62371487320083, 212.7196710075394, 167.5547084796794], [126.05797101449275, 223.09178743961354, 175.07654895795213], [137.65175498967653, 237.69373709566415, 169.50768466417833], [123.84710743801652, 218.99380165289256, 175.9608802206766]]\n",
      "[[0.8095890410958904, 0.4863013698630137, 0.7808219178082192], [0.827372764786795, 0.5185694635488308, 0.7943603851444292], [0.833907649896623, 0.5065472088215024, 0.7725706409372847], [0.8091286307053942, 0.5020746887966805, 0.7627939142461964], [0.8302532511978097, 0.5284052019164955, 0.7809719370294319], [0.7934111187371311, 0.49759780370624573, 0.7542896362388469], [0.8108293351610693, 0.5305003427004797, 0.7827278958190541], [0.8191856452726018, 0.47964113181504486, 0.7529330572808833], [0.8107364074328974, 0.4989676531314522, 0.7646249139710943], [0.803030303030303, 0.5020661157024794, 0.768595041322314]]\n",
      "[[0.5406091370558376, 0.8140845070422535, 0.5307017543859649], [0.5245220282626767, 0.7904509283819628, 0.529004329004329], [0.5355371900826447, 0.817687074829932, 0.5450490633363069], [0.5461538461538461, 0.8140495867768595, 0.5466908431550317], [0.5663643858202803, 0.8160621761658031, 0.5591586327782647], [0.5198961937716263, 0.7903448275862069, 0.5250227479526842], [0.5908706677937448, 0.838501291989664, 0.5884413309982487], [0.4709351305812974, 0.7697841726618705, 0.48762603116406966], [0.5025466893039049, 0.7572413793103449, 0.513051305130513], [0.532590051457976, 0.7846364883401921, 0.5241935483870968]]\n",
      "[[0.9301310043668122, 0.8413391557496361, 0.8806404657933042], [0.9320531757754801, 0.880354505169867, 0.9025110782865583], [0.9139633286318759, 0.847672778561354, 0.8617771509167842], [0.9141630901287554, 0.8454935622317596, 0.8626609442060086], [0.9346938775510204, 0.8571428571428571, 0.8680272108843538], [0.898355754857997, 0.8565022421524664, 0.8624813153961136], [0.9307589880159787, 0.8641810918774967, 0.8948069241011984], [0.8734375, 0.8359375, 0.83125], [0.8888888888888888, 0.8243243243243243, 0.8558558558558559], [0.9186390532544378, 0.8461538461538461, 0.8653846153846154]]\n",
      "[[[1.0, 1.0, 1.0], [1.0, 1.0, 1.0], [1.0, 1.0, 1.0]], [[1.0, 1.0, 1.0], [1.0, 1.0, 1.0], [1.0, 1.0, 1.0], [1.0, 1.0, 1.0], [1.0, 1.0, 1.0], [0.9999999999999999, 0.9999999999999999, 0.9999999999999999]], [[1.0, 1.0, 1.0], [1.0, 1.0, 1.0], [0.9999999999999999, 0.9999999999999999, 0.9999999999999999], [1.0, 1.0, 1.0]], [[1.0, 1.0, 1.0], [1.0, 1.0, 1.0], [1.0, 1.0, 1.0], [1.0, 1.0, 1.0], [1.0, 1.0, 1.0], [1.0, 1.0, 1.0], [1.0, 1.0, 1.0]], [[1.0, 1.0, 1.0]], [[1.0, 1.0, 1.0], [1.0, 1.0, 1.0]], [[1.0, 1.0, 1.0], [1.0, 1.0, 1.0]], [[1.0, 1.0, 1.0]], [[1.0, 1.0, 1.0], [1.0, 1.0, 1.0]], []]\n"
     ]
    }
   ],
   "source": [
    "start = time.time()\n",
    "maes, accs, precs, recs, all_dcgs = compute_group_and_single_recommendation_for_all(nb_users_selected = 500, n = 10)\n",
    "end = time.time()\n",
    "print(f\"Time{end-start}\")\n",
    "print(maes)\n",
    "print(accs)\n",
    "print(precs)\n",
    "print(recs)\n",
    "print(all_dcgs)"
   ]
  },
  {
   "cell_type": "code",
   "execution_count": 87,
   "metadata": {},
   "outputs": [],
   "source": [
    "maes_to_plot = pd.DataFrame(maes, columns = ['User_avg', 'Artist_avg', 'Similarity'])\n",
    "accs_to_plot = pd.DataFrame(accs, columns = ['User_avg', 'Artist_avg', 'Similarity'])\n",
    "precs_to_plot = pd.DataFrame(precs, columns = ['User_avg', 'Artist_avg', 'Similarity'])\n",
    "recs_to_plot = pd.DataFrame(recs, columns = ['User_avg', 'Artist_avg', 'Similarity'])\n"
   ]
  },
  {
   "cell_type": "code",
   "execution_count": 88,
   "metadata": {},
   "outputs": [
    {
     "data": {
      "text/html": [
       "<div>\n",
       "<style scoped>\n",
       "    .dataframe tbody tr th:only-of-type {\n",
       "        vertical-align: middle;\n",
       "    }\n",
       "\n",
       "    .dataframe tbody tr th {\n",
       "        vertical-align: top;\n",
       "    }\n",
       "\n",
       "    .dataframe thead th {\n",
       "        text-align: right;\n",
       "    }\n",
       "</style>\n",
       "<table border=\"1\" class=\"dataframe\">\n",
       "  <thead>\n",
       "    <tr style=\"text-align: right;\">\n",
       "      <th></th>\n",
       "      <th>User_avg</th>\n",
       "      <th>Artist_avg</th>\n",
       "      <th>Similarity</th>\n",
       "    </tr>\n",
       "  </thead>\n",
       "  <tbody>\n",
       "    <tr>\n",
       "      <th>0</th>\n",
       "      <td>124.752055</td>\n",
       "      <td>217.235616</td>\n",
       "      <td>166.383170</td>\n",
       "    </tr>\n",
       "    <tr>\n",
       "      <th>1</th>\n",
       "      <td>142.414030</td>\n",
       "      <td>241.883769</td>\n",
       "      <td>169.589664</td>\n",
       "    </tr>\n",
       "    <tr>\n",
       "      <th>2</th>\n",
       "      <td>119.370090</td>\n",
       "      <td>206.597519</td>\n",
       "      <td>154.632251</td>\n",
       "    </tr>\n",
       "    <tr>\n",
       "      <th>3</th>\n",
       "      <td>123.344398</td>\n",
       "      <td>226.186030</td>\n",
       "      <td>161.306169</td>\n",
       "    </tr>\n",
       "    <tr>\n",
       "      <th>4</th>\n",
       "      <td>147.908966</td>\n",
       "      <td>223.898700</td>\n",
       "      <td>183.483845</td>\n",
       "    </tr>\n",
       "    <tr>\n",
       "      <th>5</th>\n",
       "      <td>140.200412</td>\n",
       "      <td>221.899108</td>\n",
       "      <td>179.228139</td>\n",
       "    </tr>\n",
       "    <tr>\n",
       "      <th>6</th>\n",
       "      <td>126.623715</td>\n",
       "      <td>212.719671</td>\n",
       "      <td>167.554708</td>\n",
       "    </tr>\n",
       "    <tr>\n",
       "      <th>7</th>\n",
       "      <td>126.057971</td>\n",
       "      <td>223.091787</td>\n",
       "      <td>175.076549</td>\n",
       "    </tr>\n",
       "    <tr>\n",
       "      <th>8</th>\n",
       "      <td>137.651755</td>\n",
       "      <td>237.693737</td>\n",
       "      <td>169.507685</td>\n",
       "    </tr>\n",
       "    <tr>\n",
       "      <th>9</th>\n",
       "      <td>123.847107</td>\n",
       "      <td>218.993802</td>\n",
       "      <td>175.960880</td>\n",
       "    </tr>\n",
       "  </tbody>\n",
       "</table>\n",
       "</div>"
      ],
      "text/plain": [
       "     User_avg  Artist_avg  Similarity\n",
       "0  124.752055  217.235616  166.383170\n",
       "1  142.414030  241.883769  169.589664\n",
       "2  119.370090  206.597519  154.632251\n",
       "3  123.344398  226.186030  161.306169\n",
       "4  147.908966  223.898700  183.483845\n",
       "5  140.200412  221.899108  179.228139\n",
       "6  126.623715  212.719671  167.554708\n",
       "7  126.057971  223.091787  175.076549\n",
       "8  137.651755  237.693737  169.507685\n",
       "9  123.847107  218.993802  175.960880"
      ]
     },
     "execution_count": 88,
     "metadata": {},
     "output_type": "execute_result"
    }
   ],
   "source": [
    "maes_to_plot"
   ]
  },
  {
   "cell_type": "code",
   "execution_count": 89,
   "metadata": {},
   "outputs": [
    {
     "data": {
      "text/plain": [
       "<matplotlib.axes._subplots.AxesSubplot at 0x1778fb22248>"
      ]
     },
     "execution_count": 89,
     "metadata": {},
     "output_type": "execute_result"
    },
    {
     "data": {
      "image/png": "[encoded data removed]",
      "text/plain": [
       "<Figure size 432x288 with 1 Axes>"
      ]
     },
     "metadata": {
      "needs_background": "light"
     },
     "output_type": "display_data"
    }
   ],
   "source": [
    "sns.barplot(data=maes_to_plot)"
   ]
  },
  {
   "cell_type": "code",
   "execution_count": 90,
   "metadata": {},
   "outputs": [
    {
     "data": {
      "text/plain": [
       "<matplotlib.axes._subplots.AxesSubplot at 0x1778981e948>"
      ]
     },
     "execution_count": 90,
     "metadata": {},
     "output_type": "execute_result"
    },
    {
     "data": {
      "image/png": "[encoded data removed]",
      "text/plain": [
       "<Figure size 432x288 with 1 Axes>"
      ]
     },
     "metadata": {
      "needs_background": "light"
     },
     "output_type": "display_data"
    }
   ],
   "source": [
    "sns.barplot(data=accs_to_plot)"
   ]
  },
  {
   "cell_type": "code",
   "execution_count": 91,
   "metadata": {},
   "outputs": [
    {
     "data": {
      "text/plain": [
       "<matplotlib.axes._subplots.AxesSubplot at 0x177a52adb88>"
      ]
     },
     "execution_count": 91,
     "metadata": {},
     "output_type": "execute_result"
    },
    {
     "data": {
      "image/png": "[encoded data removed]",
      "text/plain": [
       "<Figure size 432x288 with 1 Axes>"
      ]
     },
     "metadata": {
      "needs_background": "light"
     },
     "output_type": "display_data"
    }
   ],
   "source": [
    "sns.barplot(data=precs_to_plot)"
   ]
  },
  {
   "cell_type": "code",
   "execution_count": 92,
   "metadata": {},
   "outputs": [
    {
     "data": {
      "text/plain": [
       "<matplotlib.axes._subplots.AxesSubplot at 0x177a9a78c88>"
      ]
     },
     "execution_count": 92,
     "metadata": {},
     "output_type": "execute_result"
    },
    {
     "data": {
      "image/png": "[encoded data removed]",
      "text/plain": [
       "<Figure size 432x288 with 1 Axes>"
      ]
     },
     "metadata": {
      "needs_background": "light"
     },
     "output_type": "display_data"
    }
   ],
   "source": [
    "sns.barplot(data=recs_to_plot)"
   ]
  },
  {
   "cell_type": "code",
   "execution_count": null,
   "metadata": {},
   "outputs": [],
   "source": [
    "def recommander(pred_method, df, hepler_df, group_of_users, threshold = 100):\n",
    "    list_of_artists = dict()\n",
    "    for user in group_of_users:\n",
    "        nb_likes = 0\n",
    "        for artist in df[df['ID'] == user]['Artist']:\n",
    "            list_of_artists[artist] = 0\n",
    "    \n",
    "    \n",
    "    print(list_of_artists.keys())\n",
    "    for artist in list_of_artists.keys():\n",
    "        for user in group_of_users:\n",
    "            nb_plays = get_nb_plays(user, artist, df)\n",
    "            \n",
    "            if nb_plays != -1:\n",
    "                if nb_plays > threshold:\n",
    "                    list_of_artists[artist] += 1\n",
    "            \n",
    "            else:\n",
    "                prediction = pred_method(user, artist, helper_df)\n",
    "                if prediction > threshold:\n",
    "                    list_of_artists[artist] += 1\n",
    "    \n",
    "    recommendation = pd.DataFrame(columns = [\"Artist\", \"nb_likes\"])\n",
    "    \n",
    "    for entry in list_of_artists:\n",
    "        recommendation = recommendation.append({\"Artist\":entry, \"nb_likes\":list_of_artists[entry]}, ignore_index = True)\n",
    "    \n",
    "    return recommendation.sort_values(\"nb_likes\", ascending = False).reset_index().drop(columns = \"index\")\n"
   ]
  },
  {
   "cell_type": "code",
   "execution_count": null,
   "metadata": {},
   "outputs": [],
   "source": []
  },
  {
   "cell_type": "code",
   "execution_count": null,
   "metadata": {},
   "outputs": [],
   "source": []
  }
 ],
 "metadata": {
  "kernelspec": {
   "display_name": "Python 3",
   "language": "python",
   "name": "python3"
  },
  "language_info": {
   "codemirror_mode": {
    "name": "ipython",
    "version": 3
   },
   "file_extension": ".py",
   "mimetype": "text/x-python",
   "name": "python",
   "nbconvert_exporter": "python",
   "pygments_lexer": "ipython3",
   "version": "3.7.6"
  }
 },
 "nbformat": 4,
 "nbformat_minor": 4
}
