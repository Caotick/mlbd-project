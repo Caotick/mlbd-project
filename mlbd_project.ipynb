{
 "cells": [
  {
   "cell_type": "markdown",
   "metadata": {},
   "source": [
    "# MLBD : Project on the music dataset\n",
    "\n",
    "The base subject is : Predicting a playlist that satisfies group members (e.g., to decide the music to play in a party). By playlist we mean a set of artists.\n",
    "\n",
    "Research questions : \n",
    "- Can we generate a playlist of artists for multiple users based on what they listened?"
   ]
  },
  {
   "cell_type": "markdown",
   "metadata": {},
   "source": [
    "### 1. Imports"
   ]
  },
  {
   "cell_type": "code",
   "execution_count": 6,
   "metadata": {},
   "outputs": [],
   "source": [
    "import numpy as np\n",
    "import pandas as pd\n",
    "import matplotlib.pyplot as plt\n",
    "import seaborn as sns\n",
    "import time\n",
    "from sklearn.neighbors import NearestNeighbors\n",
    "\n",
    "#import spotipy\n",
    "#from spotipy.oauth2 import SpotifyClientCredentials, SpotifyOAuth\n",
    "#import credentials\n",
    "import ast\n",
    "import os"
   ]
  },
  {
   "cell_type": "code",
   "execution_count": 7,
   "metadata": {},
   "outputs": [],
   "source": [
    "#sp = spotipy.Spotify(auth_manager = SpotifyClientCredentials(client_id = credentials.clientId, client_secret = credentials.clientSecret))"
   ]
  },
  {
   "cell_type": "markdown",
   "metadata": {},
   "source": [
    "### 2. Load the data"
   ]
  },
  {
   "cell_type": "code",
   "execution_count": 8,
   "metadata": {
    "jupyter": {
     "outputs_hidden": true
    }
   },
   "outputs": [],
   "source": [
    "DATA_FOLDER = 'data/'\n",
    "TOP_FOLDER = DATA_FOLDER + 'lastfm-dataset-360k/'\n",
    "TIMELINE_FOLDER = DATA_FOLDER + 'lastfm-dataset-1k/'\n",
    "GROUP_FOLDER = 'data/groups/'\n",
    "#Using just the artists\n",
    "top_user = pd.read_csv(TOP_FOLDER + 'usersha1-profile.tsv', sep = '\\t', error_bad_lines = False, header = None)\n",
    "top_data = pd.read_csv(TOP_FOLDER + 'usersha1-artmbid-artname-plays.tsv', sep = '\\t', error_bad_lines = False, header = None)\n",
    "\n",
    "# This file was created using the data expansion done in part 3\n",
    "spotify_data = pd.read_csv(DATA_FOLDER + 'full_spotify_info.csv', error_bad_lines = False, header = 0)\n",
    "\n",
    "#timeline_user = pd.read_csv(TIMELINE_FOLDER + 'userid-profile.tsv', sep = '\\t', error_bad_lines = False, header = 0)\n",
    "#timeline_data = pd.read_csv(TIMELINE_FOLDER + 'userid-timestamp-artid-artname-traid-traname.tsv', sep = '\\t', error_bad_lines = False, header = None)"
   ]
  },
  {
   "cell_type": "code",
   "execution_count": 9,
   "metadata": {},
   "outputs": [
    {
     "data": {
      "text/html": [
       "<div>\n",
       "<style scoped>\n",
       "    .dataframe tbody tr th:only-of-type {\n",
       "        vertical-align: middle;\n",
       "    }\n",
       "\n",
       "    .dataframe tbody tr th {\n",
       "        vertical-align: top;\n",
       "    }\n",
       "\n",
       "    .dataframe thead th {\n",
       "        text-align: right;\n",
       "    }\n",
       "</style>\n",
       "<table border=\"1\" class=\"dataframe\">\n",
       "  <thead>\n",
       "    <tr style=\"text-align: right;\">\n",
       "      <th></th>\n",
       "      <th>0</th>\n",
       "      <th>1</th>\n",
       "      <th>2</th>\n",
       "      <th>3</th>\n",
       "      <th>4</th>\n",
       "    </tr>\n",
       "  </thead>\n",
       "  <tbody>\n",
       "    <tr>\n",
       "      <th>0</th>\n",
       "      <td>00000c289a1829a808ac09c00daf10bc3c4e223b</td>\n",
       "      <td>f</td>\n",
       "      <td>22.0</td>\n",
       "      <td>Germany</td>\n",
       "      <td>Feb 1, 2007</td>\n",
       "    </tr>\n",
       "    <tr>\n",
       "      <th>1</th>\n",
       "      <td>00001411dc427966b17297bf4d69e7e193135d89</td>\n",
       "      <td>f</td>\n",
       "      <td>NaN</td>\n",
       "      <td>Canada</td>\n",
       "      <td>Dec 4, 2007</td>\n",
       "    </tr>\n",
       "    <tr>\n",
       "      <th>2</th>\n",
       "      <td>00004d2ac9316e22dc007ab2243d6fcb239e707d</td>\n",
       "      <td>NaN</td>\n",
       "      <td>NaN</td>\n",
       "      <td>Germany</td>\n",
       "      <td>Sep 1, 2006</td>\n",
       "    </tr>\n",
       "    <tr>\n",
       "      <th>3</th>\n",
       "      <td>000063d3fe1cf2ba248b9e3c3f0334845a27a6bf</td>\n",
       "      <td>m</td>\n",
       "      <td>19.0</td>\n",
       "      <td>Mexico</td>\n",
       "      <td>Apr 28, 2008</td>\n",
       "    </tr>\n",
       "    <tr>\n",
       "      <th>4</th>\n",
       "      <td>00007a47085b9aab8af55f52ec8846ac479ac4fe</td>\n",
       "      <td>m</td>\n",
       "      <td>28.0</td>\n",
       "      <td>United States</td>\n",
       "      <td>Jan 27, 2006</td>\n",
       "    </tr>\n",
       "  </tbody>\n",
       "</table>\n",
       "</div>"
      ],
      "text/plain": [
       "                                          0    1     2              3  \\\n",
       "0  00000c289a1829a808ac09c00daf10bc3c4e223b    f  22.0        Germany   \n",
       "1  00001411dc427966b17297bf4d69e7e193135d89    f   NaN         Canada   \n",
       "2  00004d2ac9316e22dc007ab2243d6fcb239e707d  NaN   NaN        Germany   \n",
       "3  000063d3fe1cf2ba248b9e3c3f0334845a27a6bf    m  19.0         Mexico   \n",
       "4  00007a47085b9aab8af55f52ec8846ac479ac4fe    m  28.0  United States   \n",
       "\n",
       "              4  \n",
       "0   Feb 1, 2007  \n",
       "1   Dec 4, 2007  \n",
       "2   Sep 1, 2006  \n",
       "3  Apr 28, 2008  \n",
       "4  Jan 27, 2006  "
      ]
     },
     "execution_count": 9,
     "metadata": {},
     "output_type": "execute_result"
    }
   ],
   "source": [
    "top_user.head()"
   ]
  },
  {
   "cell_type": "code",
   "execution_count": 10,
   "metadata": {},
   "outputs": [
    {
     "data": {
      "text/html": [
       "<div>\n",
       "<style scoped>\n",
       "    .dataframe tbody tr th:only-of-type {\n",
       "        vertical-align: middle;\n",
       "    }\n",
       "\n",
       "    .dataframe tbody tr th {\n",
       "        vertical-align: top;\n",
       "    }\n",
       "\n",
       "    .dataframe thead th {\n",
       "        text-align: right;\n",
       "    }\n",
       "</style>\n",
       "<table border=\"1\" class=\"dataframe\">\n",
       "  <thead>\n",
       "    <tr style=\"text-align: right;\">\n",
       "      <th></th>\n",
       "      <th>0</th>\n",
       "      <th>1</th>\n",
       "      <th>2</th>\n",
       "      <th>3</th>\n",
       "    </tr>\n",
       "  </thead>\n",
       "  <tbody>\n",
       "    <tr>\n",
       "      <th>0</th>\n",
       "      <td>00000c289a1829a808ac09c00daf10bc3c4e223b</td>\n",
       "      <td>3bd73256-3905-4f3a-97e2-8b341527f805</td>\n",
       "      <td>betty blowtorch</td>\n",
       "      <td>2137</td>\n",
       "    </tr>\n",
       "    <tr>\n",
       "      <th>1</th>\n",
       "      <td>00000c289a1829a808ac09c00daf10bc3c4e223b</td>\n",
       "      <td>f2fb0ff0-5679-42ec-a55c-15109ce6e320</td>\n",
       "      <td>die Ärzte</td>\n",
       "      <td>1099</td>\n",
       "    </tr>\n",
       "    <tr>\n",
       "      <th>2</th>\n",
       "      <td>00000c289a1829a808ac09c00daf10bc3c4e223b</td>\n",
       "      <td>b3ae82c2-e60b-4551-a76d-6620f1b456aa</td>\n",
       "      <td>melissa etheridge</td>\n",
       "      <td>897</td>\n",
       "    </tr>\n",
       "    <tr>\n",
       "      <th>3</th>\n",
       "      <td>00000c289a1829a808ac09c00daf10bc3c4e223b</td>\n",
       "      <td>3d6bbeb7-f90e-4d10-b440-e153c0d10b53</td>\n",
       "      <td>elvenking</td>\n",
       "      <td>717</td>\n",
       "    </tr>\n",
       "    <tr>\n",
       "      <th>4</th>\n",
       "      <td>00000c289a1829a808ac09c00daf10bc3c4e223b</td>\n",
       "      <td>bbd2ffd7-17f4-4506-8572-c1ea58c3f9a8</td>\n",
       "      <td>juliette &amp; the licks</td>\n",
       "      <td>706</td>\n",
       "    </tr>\n",
       "  </tbody>\n",
       "</table>\n",
       "</div>"
      ],
      "text/plain": [
       "                                          0  \\\n",
       "0  00000c289a1829a808ac09c00daf10bc3c4e223b   \n",
       "1  00000c289a1829a808ac09c00daf10bc3c4e223b   \n",
       "2  00000c289a1829a808ac09c00daf10bc3c4e223b   \n",
       "3  00000c289a1829a808ac09c00daf10bc3c4e223b   \n",
       "4  00000c289a1829a808ac09c00daf10bc3c4e223b   \n",
       "\n",
       "                                      1                     2     3  \n",
       "0  3bd73256-3905-4f3a-97e2-8b341527f805       betty blowtorch  2137  \n",
       "1  f2fb0ff0-5679-42ec-a55c-15109ce6e320             die Ärzte  1099  \n",
       "2  b3ae82c2-e60b-4551-a76d-6620f1b456aa     melissa etheridge   897  \n",
       "3  3d6bbeb7-f90e-4d10-b440-e153c0d10b53             elvenking   717  \n",
       "4  bbd2ffd7-17f4-4506-8572-c1ea58c3f9a8  juliette & the licks   706  "
      ]
     },
     "execution_count": 10,
     "metadata": {},
     "output_type": "execute_result"
    }
   ],
   "source": [
    "top_data.head()"
   ]
  },
  {
   "cell_type": "markdown",
   "metadata": {},
   "source": [
    "As we see, the columns have not proper names, we reformat them in this cell:"
   ]
  },
  {
   "cell_type": "code",
   "execution_count": 11,
   "metadata": {},
   "outputs": [],
   "source": [
    "#Need to rename the columns\n",
    "top_user.rename(columns = {0 : 'ID', 1 : 'Gender', 2 : 'Age', 3 : 'Country', 4 : 'Registered'}, inplace = True)\n",
    "top_data.rename(columns = {0 : 'ID', 1 : 'Artist_ID', 2 : 'Artist', 3 : 'Plays'}, inplace = True)"
   ]
  },
  {
   "cell_type": "code",
   "execution_count": 12,
   "metadata": {},
   "outputs": [
    {
     "data": {
      "text/plain": [
       "(359347, 5)"
      ]
     },
     "execution_count": 12,
     "metadata": {},
     "output_type": "execute_result"
    }
   ],
   "source": [
    "top_user.shape"
   ]
  },
  {
   "cell_type": "code",
   "execution_count": 13,
   "metadata": {
    "scrolled": true
   },
   "outputs": [
    {
     "data": {
      "text/plain": [
       "(17535655, 4)"
      ]
     },
     "execution_count": 13,
     "metadata": {},
     "output_type": "execute_result"
    }
   ],
   "source": [
    "top_data.shape"
   ]
  },
  {
   "cell_type": "markdown",
   "metadata": {},
   "source": [
    "We have 359'347 users in the users dataset and 17'535'655 entries of type (user, Artist, Plays)"
   ]
  },
  {
   "cell_type": "code",
   "execution_count": 14,
   "metadata": {},
   "outputs": [
    {
     "name": "stdout",
     "output_type": "stream",
     "text": [
      "ID                0\n",
      "Gender        32775\n",
      "Age           74900\n",
      "Country           0\n",
      "Registered        0\n",
      "dtype: int64 \n",
      "\n",
      "ID                0\n",
      "Artist_ID    226137\n",
      "Artist          204\n",
      "Plays             0\n",
      "dtype: int64 \n",
      "\n"
     ]
    }
   ],
   "source": [
    "# we'll check the number of NaNs for each dataset\n",
    "print(top_user.isna().sum(), '\\n')\n",
    "print(top_data.isna().sum(), '\\n')"
   ]
  },
  {
   "cell_type": "markdown",
   "metadata": {},
   "source": [
    "There is no missing entries for the user dataset, however we miss a lot of artist_ID and some artists name. We therefore remove the 204 artists with no name as there we can't recommand them."
   ]
  },
  {
   "cell_type": "code",
   "execution_count": 15,
   "metadata": {},
   "outputs": [],
   "source": [
    "to_drop = top_data[top_data['Artist'].isna()].index\n",
    "top_data = top_data.drop(to_drop)"
   ]
  },
  {
   "cell_type": "markdown",
   "metadata": {},
   "source": [
    "Let's see how many artists we have and users that have at least listen to one music:"
   ]
  },
  {
   "cell_type": "code",
   "execution_count": 16,
   "metadata": {},
   "outputs": [
    {
     "name": "stdout",
     "output_type": "stream",
     "text": [
      "The dataset has 292363 artists\n"
     ]
    }
   ],
   "source": [
    "print(f\"The dataset has {len(top_data.groupby('Artist').count())} artists\")"
   ]
  },
  {
   "cell_type": "code",
   "execution_count": 17,
   "metadata": {},
   "outputs": [
    {
     "name": "stdout",
     "output_type": "stream",
     "text": [
      "The music dataset has 358868 users, meaning that 479 did not listen to anything and have therefore no matching entries\n"
     ]
    }
   ],
   "source": [
    "nb_users_in_top_data = len(top_data.groupby('ID').count())\n",
    "print(f\"The music dataset has {nb_users_in_top_data} users, meaning that {359347-nb_users_in_top_data} did not listen to anything and have therefore no matching entries\")"
   ]
  },
  {
   "cell_type": "markdown",
   "metadata": {},
   "source": [
    "### 3. Data expansion using spotify API"
   ]
  },
  {
   "cell_type": "code",
   "execution_count": 18,
   "metadata": {},
   "outputs": [],
   "source": [
    "import time\n",
    "def spotipySearch(x) :\n",
    "    s = sp.search(q = 'artist:' + str(x), type = 'artist')\n",
    "    inter = s['artists']['items']\n",
    "    if(len(inter) > 0) :\n",
    "        inter[0]\n",
    "        time.sleep(1) \n",
    "    else :\n",
    "        return []\n",
    "        time.sleep(1)"
   ]
  },
  {
   "cell_type": "code",
   "execution_count": 19,
   "metadata": {},
   "outputs": [
    {
     "data": {
      "text/plain": [
       "44623"
      ]
     },
     "execution_count": 19,
     "metadata": {},
     "output_type": "execute_result"
    }
   ],
   "source": [
    "nbUser = top_data.groupby(by = 'Artist').size()\n",
    "multipleUsers = nbUser[nbUser > 20].reset_index()[['Artist']] #We take artists that have more than 20 users listening to them\n",
    "mostListened = top_data[top_data['Plays'] > 50][['Artist']] #As well as more than 50 total Plays\n",
    "filteredArtist = multipleUsers.merge(mostListened, on = 'Artist')['Artist'].unique()\n",
    "filteredArtist.size"
   ]
  },
  {
   "cell_type": "code",
   "execution_count": 20,
   "metadata": {},
   "outputs": [
    {
     "data": {
      "text/html": [
       "<div>\n",
       "<style scoped>\n",
       "    .dataframe tbody tr th:only-of-type {\n",
       "        vertical-align: middle;\n",
       "    }\n",
       "\n",
       "    .dataframe tbody tr th {\n",
       "        vertical-align: top;\n",
       "    }\n",
       "\n",
       "    .dataframe thead th {\n",
       "        text-align: right;\n",
       "    }\n",
       "</style>\n",
       "<table border=\"1\" class=\"dataframe\">\n",
       "  <thead>\n",
       "    <tr style=\"text-align: right;\">\n",
       "      <th></th>\n",
       "      <th>Artist</th>\n",
       "    </tr>\n",
       "  </thead>\n",
       "  <tbody>\n",
       "    <tr>\n",
       "      <th>0</th>\n",
       "      <td>!!!</td>\n",
       "    </tr>\n",
       "    <tr>\n",
       "      <th>1</th>\n",
       "      <td>!action pact!</td>\n",
       "    </tr>\n",
       "    <tr>\n",
       "      <th>2</th>\n",
       "      <td>!deladap</td>\n",
       "    </tr>\n",
       "    <tr>\n",
       "      <th>3</th>\n",
       "      <td>!distain</td>\n",
       "    </tr>\n",
       "    <tr>\n",
       "      <th>4</th>\n",
       "      <td>!t.o.o.h.!</td>\n",
       "    </tr>\n",
       "  </tbody>\n",
       "</table>\n",
       "</div>"
      ],
      "text/plain": [
       "          Artist\n",
       "0            !!!\n",
       "1  !action pact!\n",
       "2       !deladap\n",
       "3       !distain\n",
       "4     !t.o.o.h.!"
      ]
     },
     "execution_count": 20,
     "metadata": {},
     "output_type": "execute_result"
    }
   ],
   "source": [
    "top_data_genre = pd.DataFrame(data = {'Artist' : filteredArtist})\n",
    "top_data_genre.head()"
   ]
  },
  {
   "cell_type": "code",
   "execution_count": 21,
   "metadata": {},
   "outputs": [
    {
     "data": {
      "text/html": [
       "<div>\n",
       "<style scoped>\n",
       "    .dataframe tbody tr th:only-of-type {\n",
       "        vertical-align: middle;\n",
       "    }\n",
       "\n",
       "    .dataframe tbody tr th {\n",
       "        vertical-align: top;\n",
       "    }\n",
       "\n",
       "    .dataframe thead th {\n",
       "        text-align: right;\n",
       "    }\n",
       "</style>\n",
       "<table border=\"1\" class=\"dataframe\">\n",
       "  <thead>\n",
       "    <tr style=\"text-align: right;\">\n",
       "      <th></th>\n",
       "      <th>Artist</th>\n",
       "    </tr>\n",
       "  </thead>\n",
       "  <tbody>\n",
       "    <tr>\n",
       "      <th>0</th>\n",
       "      <td>!!!</td>\n",
       "    </tr>\n",
       "    <tr>\n",
       "      <th>1</th>\n",
       "      <td>!action pact!</td>\n",
       "    </tr>\n",
       "    <tr>\n",
       "      <th>2</th>\n",
       "      <td>!deladap</td>\n",
       "    </tr>\n",
       "    <tr>\n",
       "      <th>3</th>\n",
       "      <td>!distain</td>\n",
       "    </tr>\n",
       "    <tr>\n",
       "      <th>4</th>\n",
       "      <td>!t.o.o.h.!</td>\n",
       "    </tr>\n",
       "  </tbody>\n",
       "</table>\n",
       "</div>"
      ],
      "text/plain": [
       "          Artist\n",
       "0            !!!\n",
       "1  !action pact!\n",
       "2       !deladap\n",
       "3       !distain\n",
       "4     !t.o.o.h.!"
      ]
     },
     "execution_count": 21,
     "metadata": {},
     "output_type": "execute_result"
    }
   ],
   "source": [
    "#top_data_genre['Info'] = top_data_genre.Artist.apply(lambda x: spotipySearch(x))\n",
    "top_data_genre.head()"
   ]
  },
  {
   "cell_type": "code",
   "execution_count": 22,
   "metadata": {},
   "outputs": [],
   "source": [
    "#top_data_genre.to_csv(DATA_FOLDER + 'full_spotify_correct_info.csv', index = False)"
   ]
  },
  {
   "cell_type": "markdown",
   "metadata": {},
   "source": [
    "### 4.Spotify API Data analysis"
   ]
  },
  {
   "cell_type": "markdown",
   "metadata": {},
   "source": [
    "We first need to change the Info column from a string to a dictionary"
   ]
  },
  {
   "cell_type": "code",
   "execution_count": 23,
   "metadata": {},
   "outputs": [
    {
     "data": {
      "text/html": [
       "<div>\n",
       "<style scoped>\n",
       "    .dataframe tbody tr th:only-of-type {\n",
       "        vertical-align: middle;\n",
       "    }\n",
       "\n",
       "    .dataframe tbody tr th {\n",
       "        vertical-align: top;\n",
       "    }\n",
       "\n",
       "    .dataframe thead th {\n",
       "        text-align: right;\n",
       "    }\n",
       "</style>\n",
       "<table border=\"1\" class=\"dataframe\">\n",
       "  <thead>\n",
       "    <tr style=\"text-align: right;\">\n",
       "      <th></th>\n",
       "      <th>Artist</th>\n",
       "      <th>Info</th>\n",
       "    </tr>\n",
       "  </thead>\n",
       "  <tbody>\n",
       "    <tr>\n",
       "      <th>0</th>\n",
       "      <td>!!!</td>\n",
       "      <td>{'external_urls': {'spotify': 'https://open.sp...</td>\n",
       "    </tr>\n",
       "    <tr>\n",
       "      <th>1</th>\n",
       "      <td>!action pact!</td>\n",
       "      <td>{'external_urls': {'spotify': 'https://open.sp...</td>\n",
       "    </tr>\n",
       "    <tr>\n",
       "      <th>2</th>\n",
       "      <td>!deladap</td>\n",
       "      <td>{'external_urls': {'spotify': 'https://open.sp...</td>\n",
       "    </tr>\n",
       "    <tr>\n",
       "      <th>3</th>\n",
       "      <td>!distain</td>\n",
       "      <td>{'external_urls': {'spotify': 'https://open.sp...</td>\n",
       "    </tr>\n",
       "    <tr>\n",
       "      <th>4</th>\n",
       "      <td>!t.o.o.h.!</td>\n",
       "      <td>{'external_urls': {'spotify': 'https://open.sp...</td>\n",
       "    </tr>\n",
       "  </tbody>\n",
       "</table>\n",
       "</div>"
      ],
      "text/plain": [
       "          Artist                                               Info\n",
       "0            !!!  {'external_urls': {'spotify': 'https://open.sp...\n",
       "1  !action pact!  {'external_urls': {'spotify': 'https://open.sp...\n",
       "2       !deladap  {'external_urls': {'spotify': 'https://open.sp...\n",
       "3       !distain  {'external_urls': {'spotify': 'https://open.sp...\n",
       "4     !t.o.o.h.!  {'external_urls': {'spotify': 'https://open.sp..."
      ]
     },
     "execution_count": 23,
     "metadata": {},
     "output_type": "execute_result"
    }
   ],
   "source": [
    "add_data = spotify_data.copy()\n",
    "add_data['Info'] = add_data['Info'].map(lambda x: x if isinstance(x, str) else \"{}\").map(lambda x: ast.literal_eval(x))\n",
    "add_data.head()"
   ]
  },
  {
   "cell_type": "code",
   "execution_count": 24,
   "metadata": {},
   "outputs": [
    {
     "data": {
      "text/html": [
       "<div>\n",
       "<style scoped>\n",
       "    .dataframe tbody tr th:only-of-type {\n",
       "        vertical-align: middle;\n",
       "    }\n",
       "\n",
       "    .dataframe tbody tr th {\n",
       "        vertical-align: top;\n",
       "    }\n",
       "\n",
       "    .dataframe thead th {\n",
       "        text-align: right;\n",
       "    }\n",
       "</style>\n",
       "<table border=\"1\" class=\"dataframe\">\n",
       "  <thead>\n",
       "    <tr style=\"text-align: right;\">\n",
       "      <th></th>\n",
       "      <th>Artist</th>\n",
       "      <th>Info</th>\n",
       "      <th>Genres</th>\n",
       "    </tr>\n",
       "  </thead>\n",
       "  <tbody>\n",
       "    <tr>\n",
       "      <th>0</th>\n",
       "      <td>!!!</td>\n",
       "      <td>{'external_urls': {'spotify': 'https://open.sp...</td>\n",
       "      <td>[alternative dance, dance rock, dance-punk, el...</td>\n",
       "    </tr>\n",
       "    <tr>\n",
       "      <th>1</th>\n",
       "      <td>!action pact!</td>\n",
       "      <td>{'external_urls': {'spotify': 'https://open.sp...</td>\n",
       "      <td>[anarcho-punk, uk82]</td>\n",
       "    </tr>\n",
       "    <tr>\n",
       "      <th>2</th>\n",
       "      <td>!deladap</td>\n",
       "      <td>{'external_urls': {'spotify': 'https://open.sp...</td>\n",
       "      <td>[balkan brass, electro swing]</td>\n",
       "    </tr>\n",
       "    <tr>\n",
       "      <th>3</th>\n",
       "      <td>!distain</td>\n",
       "      <td>{'external_urls': {'spotify': 'https://open.sp...</td>\n",
       "      <td>[dark electro, futurepop, neo-synthpop]</td>\n",
       "    </tr>\n",
       "    <tr>\n",
       "      <th>4</th>\n",
       "      <td>!t.o.o.h.!</td>\n",
       "      <td>{'external_urls': {'spotify': 'https://open.sp...</td>\n",
       "      <td>[technical grindcore]</td>\n",
       "    </tr>\n",
       "  </tbody>\n",
       "</table>\n",
       "</div>"
      ],
      "text/plain": [
       "          Artist                                               Info  \\\n",
       "0            !!!  {'external_urls': {'spotify': 'https://open.sp...   \n",
       "1  !action pact!  {'external_urls': {'spotify': 'https://open.sp...   \n",
       "2       !deladap  {'external_urls': {'spotify': 'https://open.sp...   \n",
       "3       !distain  {'external_urls': {'spotify': 'https://open.sp...   \n",
       "4     !t.o.o.h.!  {'external_urls': {'spotify': 'https://open.sp...   \n",
       "\n",
       "                                              Genres  \n",
       "0  [alternative dance, dance rock, dance-punk, el...  \n",
       "1                               [anarcho-punk, uk82]  \n",
       "2                      [balkan brass, electro swing]  \n",
       "3            [dark electro, futurepop, neo-synthpop]  \n",
       "4                              [technical grindcore]  "
      ]
     },
     "execution_count": 24,
     "metadata": {},
     "output_type": "execute_result"
    }
   ],
   "source": [
    "add_data['Genres'] = add_data['Info'].map(lambda x: x['genres'] if len(x) > 0 else [])\n",
    "add_data.head()"
   ]
  },
  {
   "cell_type": "code",
   "execution_count": 25,
   "metadata": {},
   "outputs": [
    {
     "data": {
      "text/plain": [
       "4258"
      ]
     },
     "execution_count": 25,
     "metadata": {},
     "output_type": "execute_result"
    }
   ],
   "source": [
    "genres = add_data['Genres'].tolist()\n",
    "all_genres = [item for sublist in genres for item in sublist]\n",
    "unique_genres = set(all_genres)\n",
    "len(unique_genres)"
   ]
  },
  {
   "cell_type": "code",
   "execution_count": 26,
   "metadata": {},
   "outputs": [
    {
     "data": {
      "text/plain": [
       "[('rock', 665),\n",
       " ('dance pop', 511),\n",
       " ('hip hop', 475),\n",
       " ('country rock', 460),\n",
       " ('pop rock', 454),\n",
       " ('pop', 449),\n",
       " ('rap', 415),\n",
       " ('mellow gold', 412),\n",
       " ('adult standards', 402),\n",
       " ('classic rock', 395),\n",
       " ('alternative metal', 391),\n",
       " ('alternative rock', 387),\n",
       " ('soft rock', 387),\n",
       " ('folk rock', 381),\n",
       " ('pop rap', 366),\n",
       " ('indie rock', 362),\n",
       " ('album rock', 362),\n",
       " ('art rock', 358),\n",
       " ('new wave pop', 357),\n",
       " ('folk', 356),\n",
       " ('urban contemporary', 350),\n",
       " ('hard rock', 349),\n",
       " ('latin', 346),\n",
       " ('funk', 345),\n",
       " ('post-teen pop', 334)]"
      ]
     },
     "execution_count": 26,
     "metadata": {},
     "output_type": "execute_result"
    }
   ],
   "source": [
    "from collections import Counter\n",
    "c = Counter(all_genres)\n",
    "c.most_common(25)"
   ]
  },
  {
   "cell_type": "code",
   "execution_count": 27,
   "metadata": {},
   "outputs": [],
   "source": [
    "def most_common_genre(l, c) :\n",
    "    best = \"\"\n",
    "    best_num = 0\n",
    "    for elem in l:\n",
    "        if(c[elem] > best_num) :\n",
    "            best = elem\n",
    "            best_num = c[elem]\n",
    "    return best"
   ]
  },
  {
   "cell_type": "code",
   "execution_count": 28,
   "metadata": {},
   "outputs": [
    {
     "data": {
      "text/html": [
       "<div>\n",
       "<style scoped>\n",
       "    .dataframe tbody tr th:only-of-type {\n",
       "        vertical-align: middle;\n",
       "    }\n",
       "\n",
       "    .dataframe tbody tr th {\n",
       "        vertical-align: top;\n",
       "    }\n",
       "\n",
       "    .dataframe thead th {\n",
       "        text-align: right;\n",
       "    }\n",
       "</style>\n",
       "<table border=\"1\" class=\"dataframe\">\n",
       "  <thead>\n",
       "    <tr style=\"text-align: right;\">\n",
       "      <th></th>\n",
       "      <th>Artist</th>\n",
       "      <th>Info</th>\n",
       "      <th>Genres</th>\n",
       "      <th>Most_common_genre</th>\n",
       "    </tr>\n",
       "  </thead>\n",
       "  <tbody>\n",
       "    <tr>\n",
       "      <th>0</th>\n",
       "      <td>!!!</td>\n",
       "      <td>{'external_urls': {'spotify': 'https://open.sp...</td>\n",
       "      <td>[alternative dance, dance rock, dance-punk, el...</td>\n",
       "      <td>electronica</td>\n",
       "    </tr>\n",
       "    <tr>\n",
       "      <th>1</th>\n",
       "      <td>!action pact!</td>\n",
       "      <td>{'external_urls': {'spotify': 'https://open.sp...</td>\n",
       "      <td>[anarcho-punk, uk82]</td>\n",
       "      <td>uk82</td>\n",
       "    </tr>\n",
       "    <tr>\n",
       "      <th>2</th>\n",
       "      <td>!deladap</td>\n",
       "      <td>{'external_urls': {'spotify': 'https://open.sp...</td>\n",
       "      <td>[balkan brass, electro swing]</td>\n",
       "      <td>balkan brass</td>\n",
       "    </tr>\n",
       "    <tr>\n",
       "      <th>3</th>\n",
       "      <td>!distain</td>\n",
       "      <td>{'external_urls': {'spotify': 'https://open.sp...</td>\n",
       "      <td>[dark electro, futurepop, neo-synthpop]</td>\n",
       "      <td>neo-synthpop</td>\n",
       "    </tr>\n",
       "    <tr>\n",
       "      <th>4</th>\n",
       "      <td>!t.o.o.h.!</td>\n",
       "      <td>{'external_urls': {'spotify': 'https://open.sp...</td>\n",
       "      <td>[technical grindcore]</td>\n",
       "      <td>technical grindcore</td>\n",
       "    </tr>\n",
       "  </tbody>\n",
       "</table>\n",
       "</div>"
      ],
      "text/plain": [
       "          Artist                                               Info  \\\n",
       "0            !!!  {'external_urls': {'spotify': 'https://open.sp...   \n",
       "1  !action pact!  {'external_urls': {'spotify': 'https://open.sp...   \n",
       "2       !deladap  {'external_urls': {'spotify': 'https://open.sp...   \n",
       "3       !distain  {'external_urls': {'spotify': 'https://open.sp...   \n",
       "4     !t.o.o.h.!  {'external_urls': {'spotify': 'https://open.sp...   \n",
       "\n",
       "                                              Genres    Most_common_genre  \n",
       "0  [alternative dance, dance rock, dance-punk, el...          electronica  \n",
       "1                               [anarcho-punk, uk82]                 uk82  \n",
       "2                      [balkan brass, electro swing]         balkan brass  \n",
       "3            [dark electro, futurepop, neo-synthpop]         neo-synthpop  \n",
       "4                              [technical grindcore]  technical grindcore  "
      ]
     },
     "execution_count": 28,
     "metadata": {},
     "output_type": "execute_result"
    }
   ],
   "source": [
    "add_data['Most_common_genre'] = add_data['Genres'].map(lambda x: most_common_genre(x, c))\n",
    "add_data.head()"
   ]
  },
  {
   "cell_type": "code",
   "execution_count": 29,
   "metadata": {},
   "outputs": [
    {
     "data": {
      "image/png": "[encoded data removed]",
      "text/plain": [
       "<Figure size 936x360 with 1 Axes>"
      ]
     },
     "metadata": {
      "needs_background": "light"
     },
     "output_type": "display_data"
    }
   ],
   "source": [
    "\n",
    "add_data.groupby('Most_common_genre').size().hist(bins = 25, figsize = (13, 5))\n",
    "plt.yscale('log')\n",
    "plt.title('Number of artists which have the same best genre')\n",
    "plt.xlabel('Number of artists')\n",
    "_ = plt.ylabel('Number of genres')"
   ]
  },
  {
   "cell_type": "code",
   "execution_count": 30,
   "metadata": {},
   "outputs": [
    {
     "data": {
      "text/plain": [
       "Most_common_genre\n",
       "                    11522\n",
       "a cappella             20\n",
       "abstract                4\n",
       "abstract beats          3\n",
       "abstract hip hop       42\n",
       "                    ...  \n",
       "zim urban groove        1\n",
       "zither                  1\n",
       "zolo                   15\n",
       "zouk                   13\n",
       "zydeco                  1\n",
       "Length: 2732, dtype: int64"
      ]
     },
     "execution_count": 30,
     "metadata": {},
     "output_type": "execute_result"
    }
   ],
   "source": [
    "add_data.groupby('Most_common_genre').size()"
   ]
  },
  {
   "cell_type": "markdown",
   "metadata": {},
   "source": [
    "In this case, we see that there are 11522 artists which do not have any genres attached to them, this probably comes from a lack of information about these artists in general from Spotify."
   ]
  },
  {
   "cell_type": "code",
   "execution_count": 31,
   "metadata": {},
   "outputs": [],
   "source": [
    "add_data = add_data[add_data['Genres'].map(len) > 0]"
   ]
  },
  {
   "cell_type": "code",
   "execution_count": 32,
   "metadata": {},
   "outputs": [
    {
     "data": {
      "image/png": "[encoded data removed]",
      "text/plain": [
       "<Figure size 936x360 with 1 Axes>"
      ]
     },
     "metadata": {
      "needs_background": "light"
     },
     "output_type": "display_data"
    }
   ],
   "source": [
    "add_data.groupby('Most_common_genre').size().hist(bins = 25, figsize = (13, 5))\n",
    "plt.yscale('log')\n",
    "plt.title('Number of artists which have the same best genre (without no genre)')\n",
    "plt.xlabel('Number of artists')\n",
    "_ = plt.ylabel('Number of genres')"
   ]
  },
  {
   "cell_type": "markdown",
   "metadata": {},
   "source": [
    "We can see that there are some issues with the Spotify API part where Artist such as She will be take as Ed Sheeran. This will be fixed by setting a bigger threshold on the number of users which are listening to the same artist."
   ]
  },
  {
   "cell_type": "code",
   "execution_count": 33,
   "metadata": {},
   "outputs": [
    {
     "data": {
      "text/html": [
       "<div>\n",
       "<style scoped>\n",
       "    .dataframe tbody tr th:only-of-type {\n",
       "        vertical-align: middle;\n",
       "    }\n",
       "\n",
       "    .dataframe tbody tr th {\n",
       "        vertical-align: top;\n",
       "    }\n",
       "\n",
       "    .dataframe thead th {\n",
       "        text-align: right;\n",
       "    }\n",
       "</style>\n",
       "<table border=\"1\" class=\"dataframe\">\n",
       "  <thead>\n",
       "    <tr style=\"text-align: right;\">\n",
       "      <th></th>\n",
       "      <th>ID</th>\n",
       "      <th>Artist_ID</th>\n",
       "      <th>Artist</th>\n",
       "      <th>Plays</th>\n",
       "      <th>Percent</th>\n",
       "    </tr>\n",
       "  </thead>\n",
       "  <tbody>\n",
       "    <tr>\n",
       "      <th>0</th>\n",
       "      <td>00000c289a1829a808ac09c00daf10bc3c4e223b</td>\n",
       "      <td>3bd73256-3905-4f3a-97e2-8b341527f805</td>\n",
       "      <td>betty blowtorch</td>\n",
       "      <td>2137</td>\n",
       "      <td>0.127842</td>\n",
       "    </tr>\n",
       "    <tr>\n",
       "      <th>1</th>\n",
       "      <td>00000c289a1829a808ac09c00daf10bc3c4e223b</td>\n",
       "      <td>f2fb0ff0-5679-42ec-a55c-15109ce6e320</td>\n",
       "      <td>die Ärzte</td>\n",
       "      <td>1099</td>\n",
       "      <td>0.065745</td>\n",
       "    </tr>\n",
       "    <tr>\n",
       "      <th>2</th>\n",
       "      <td>00000c289a1829a808ac09c00daf10bc3c4e223b</td>\n",
       "      <td>b3ae82c2-e60b-4551-a76d-6620f1b456aa</td>\n",
       "      <td>melissa etheridge</td>\n",
       "      <td>897</td>\n",
       "      <td>0.053661</td>\n",
       "    </tr>\n",
       "    <tr>\n",
       "      <th>3</th>\n",
       "      <td>00000c289a1829a808ac09c00daf10bc3c4e223b</td>\n",
       "      <td>3d6bbeb7-f90e-4d10-b440-e153c0d10b53</td>\n",
       "      <td>elvenking</td>\n",
       "      <td>717</td>\n",
       "      <td>0.042893</td>\n",
       "    </tr>\n",
       "    <tr>\n",
       "      <th>4</th>\n",
       "      <td>00000c289a1829a808ac09c00daf10bc3c4e223b</td>\n",
       "      <td>bbd2ffd7-17f4-4506-8572-c1ea58c3f9a8</td>\n",
       "      <td>juliette &amp; the licks</td>\n",
       "      <td>706</td>\n",
       "      <td>0.042235</td>\n",
       "    </tr>\n",
       "  </tbody>\n",
       "</table>\n",
       "</div>"
      ],
      "text/plain": [
       "                                         ID  \\\n",
       "0  00000c289a1829a808ac09c00daf10bc3c4e223b   \n",
       "1  00000c289a1829a808ac09c00daf10bc3c4e223b   \n",
       "2  00000c289a1829a808ac09c00daf10bc3c4e223b   \n",
       "3  00000c289a1829a808ac09c00daf10bc3c4e223b   \n",
       "4  00000c289a1829a808ac09c00daf10bc3c4e223b   \n",
       "\n",
       "                              Artist_ID                Artist  Plays   Percent  \n",
       "0  3bd73256-3905-4f3a-97e2-8b341527f805       betty blowtorch   2137  0.127842  \n",
       "1  f2fb0ff0-5679-42ec-a55c-15109ce6e320             die Ärzte   1099  0.065745  \n",
       "2  b3ae82c2-e60b-4551-a76d-6620f1b456aa     melissa etheridge    897  0.053661  \n",
       "3  3d6bbeb7-f90e-4d10-b440-e153c0d10b53             elvenking    717  0.042893  \n",
       "4  bbd2ffd7-17f4-4506-8572-c1ea58c3f9a8  juliette & the licks    706  0.042235  "
      ]
     },
     "execution_count": 33,
     "metadata": {},
     "output_type": "execute_result"
    }
   ],
   "source": [
    "top_data_percent = top_data.copy()\n",
    "top_data_percent['Percent'] = top_data['Plays'] / top_data[['ID', 'Plays']].groupby('ID').Plays.transform('sum')\n",
    "top_data_percent.head()"
   ]
  },
  {
   "cell_type": "code",
   "execution_count": 34,
   "metadata": {},
   "outputs": [
    {
     "data": {
      "text/html": [
       "<div>\n",
       "<style scoped>\n",
       "    .dataframe tbody tr th:only-of-type {\n",
       "        vertical-align: middle;\n",
       "    }\n",
       "\n",
       "    .dataframe tbody tr th {\n",
       "        vertical-align: top;\n",
       "    }\n",
       "\n",
       "    .dataframe thead th {\n",
       "        text-align: right;\n",
       "    }\n",
       "</style>\n",
       "<table border=\"1\" class=\"dataframe\">\n",
       "  <thead>\n",
       "    <tr style=\"text-align: right;\">\n",
       "      <th></th>\n",
       "      <th>ID</th>\n",
       "      <th>Artist_ID</th>\n",
       "      <th>Artist</th>\n",
       "      <th>Plays</th>\n",
       "      <th>Percent</th>\n",
       "      <th>Info</th>\n",
       "      <th>Genres</th>\n",
       "      <th>Most_common_genre</th>\n",
       "    </tr>\n",
       "  </thead>\n",
       "  <tbody>\n",
       "    <tr>\n",
       "      <th>0</th>\n",
       "      <td>00000c289a1829a808ac09c00daf10bc3c4e223b</td>\n",
       "      <td>3bd73256-3905-4f3a-97e2-8b341527f805</td>\n",
       "      <td>betty blowtorch</td>\n",
       "      <td>2137</td>\n",
       "      <td>0.127842</td>\n",
       "      <td>{'external_urls': {'spotify': 'https://open.sp...</td>\n",
       "      <td>[riot grrrl]</td>\n",
       "      <td>riot grrrl</td>\n",
       "    </tr>\n",
       "    <tr>\n",
       "      <th>1</th>\n",
       "      <td>0159d9ae1c8d76ab7fe3aa868a38e1da56cc06ab</td>\n",
       "      <td>3bd73256-3905-4f3a-97e2-8b341527f805</td>\n",
       "      <td>betty blowtorch</td>\n",
       "      <td>42</td>\n",
       "      <td>0.011105</td>\n",
       "      <td>{'external_urls': {'spotify': 'https://open.sp...</td>\n",
       "      <td>[riot grrrl]</td>\n",
       "      <td>riot grrrl</td>\n",
       "    </tr>\n",
       "    <tr>\n",
       "      <th>2</th>\n",
       "      <td>0285490bb23814cf0dc18a5668261e243572d4eb</td>\n",
       "      <td>3bd73256-3905-4f3a-97e2-8b341527f805</td>\n",
       "      <td>betty blowtorch</td>\n",
       "      <td>41</td>\n",
       "      <td>0.010299</td>\n",
       "      <td>{'external_urls': {'spotify': 'https://open.sp...</td>\n",
       "      <td>[riot grrrl]</td>\n",
       "      <td>riot grrrl</td>\n",
       "    </tr>\n",
       "    <tr>\n",
       "      <th>3</th>\n",
       "      <td>03d2e7186a6c29f281f6ff8b9bb2f7503822e7de</td>\n",
       "      <td>3bd73256-3905-4f3a-97e2-8b341527f805</td>\n",
       "      <td>betty blowtorch</td>\n",
       "      <td>67</td>\n",
       "      <td>0.010819</td>\n",
       "      <td>{'external_urls': {'spotify': 'https://open.sp...</td>\n",
       "      <td>[riot grrrl]</td>\n",
       "      <td>riot grrrl</td>\n",
       "    </tr>\n",
       "    <tr>\n",
       "      <th>4</th>\n",
       "      <td>04e0999468b2bbd922f0fdd41ffd9a5f26f97609</td>\n",
       "      <td>3bd73256-3905-4f3a-97e2-8b341527f805</td>\n",
       "      <td>betty blowtorch</td>\n",
       "      <td>3</td>\n",
       "      <td>0.006122</td>\n",
       "      <td>{'external_urls': {'spotify': 'https://open.sp...</td>\n",
       "      <td>[riot grrrl]</td>\n",
       "      <td>riot grrrl</td>\n",
       "    </tr>\n",
       "  </tbody>\n",
       "</table>\n",
       "</div>"
      ],
      "text/plain": [
       "                                         ID  \\\n",
       "0  00000c289a1829a808ac09c00daf10bc3c4e223b   \n",
       "1  0159d9ae1c8d76ab7fe3aa868a38e1da56cc06ab   \n",
       "2  0285490bb23814cf0dc18a5668261e243572d4eb   \n",
       "3  03d2e7186a6c29f281f6ff8b9bb2f7503822e7de   \n",
       "4  04e0999468b2bbd922f0fdd41ffd9a5f26f97609   \n",
       "\n",
       "                              Artist_ID           Artist  Plays   Percent  \\\n",
       "0  3bd73256-3905-4f3a-97e2-8b341527f805  betty blowtorch   2137  0.127842   \n",
       "1  3bd73256-3905-4f3a-97e2-8b341527f805  betty blowtorch     42  0.011105   \n",
       "2  3bd73256-3905-4f3a-97e2-8b341527f805  betty blowtorch     41  0.010299   \n",
       "3  3bd73256-3905-4f3a-97e2-8b341527f805  betty blowtorch     67  0.010819   \n",
       "4  3bd73256-3905-4f3a-97e2-8b341527f805  betty blowtorch      3  0.006122   \n",
       "\n",
       "                                                Info        Genres  \\\n",
       "0  {'external_urls': {'spotify': 'https://open.sp...  [riot grrrl]   \n",
       "1  {'external_urls': {'spotify': 'https://open.sp...  [riot grrrl]   \n",
       "2  {'external_urls': {'spotify': 'https://open.sp...  [riot grrrl]   \n",
       "3  {'external_urls': {'spotify': 'https://open.sp...  [riot grrrl]   \n",
       "4  {'external_urls': {'spotify': 'https://open.sp...  [riot grrrl]   \n",
       "\n",
       "  Most_common_genre  \n",
       "0        riot grrrl  \n",
       "1        riot grrrl  \n",
       "2        riot grrrl  \n",
       "3        riot grrrl  \n",
       "4        riot grrrl  "
      ]
     },
     "execution_count": 34,
     "metadata": {},
     "output_type": "execute_result"
    }
   ],
   "source": [
    "all_data = top_data_percent.merge(add_data, on = 'Artist')\n",
    "all_data.head()"
   ]
  },
  {
   "cell_type": "code",
   "execution_count": 35,
   "metadata": {},
   "outputs": [
    {
     "data": {
      "image/png": "[encoded data removed]",
      "text/plain": [
       "<Figure size 936x360 with 1 Axes>"
      ]
     },
     "metadata": {
      "needs_background": "light"
     },
     "output_type": "display_data"
    }
   ],
   "source": [
    "all_data[['Most_common_genre', 'Percent']].groupby('Most_common_genre').sum().hist(bins = 100, figsize = (13, 5))\n",
    "plt.yscale('log')\n",
    "plt.title('Sum of percent of listening time per genre')\n",
    "plt.xlabel('Sum of percent')\n",
    "_ = plt.ylabel('Number of genres')"
   ]
  },
  {
   "cell_type": "code",
   "execution_count": 36,
   "metadata": {},
   "outputs": [
    {
     "data": {
      "text/html": [
       "<div>\n",
       "<style scoped>\n",
       "    .dataframe tbody tr th:only-of-type {\n",
       "        vertical-align: middle;\n",
       "    }\n",
       "\n",
       "    .dataframe tbody tr th {\n",
       "        vertical-align: top;\n",
       "    }\n",
       "\n",
       "    .dataframe thead th {\n",
       "        text-align: right;\n",
       "    }\n",
       "</style>\n",
       "<table border=\"1\" class=\"dataframe\">\n",
       "  <thead>\n",
       "    <tr style=\"text-align: right;\">\n",
       "      <th></th>\n",
       "      <th>Percent</th>\n",
       "    </tr>\n",
       "    <tr>\n",
       "      <th>Most_common_genre</th>\n",
       "      <th></th>\n",
       "    </tr>\n",
       "  </thead>\n",
       "  <tbody>\n",
       "    <tr>\n",
       "      <th>kansas city hip hop</th>\n",
       "      <td>0.224099</td>\n",
       "    </tr>\n",
       "    <tr>\n",
       "      <th>belarusian pop</th>\n",
       "      <td>0.228380</td>\n",
       "    </tr>\n",
       "    <tr>\n",
       "      <th>ukrainian pop</th>\n",
       "      <td>0.242180</td>\n",
       "    </tr>\n",
       "    <tr>\n",
       "      <th>death doom</th>\n",
       "      <td>0.248212</td>\n",
       "    </tr>\n",
       "    <tr>\n",
       "      <th>backing track</th>\n",
       "      <td>0.254336</td>\n",
       "    </tr>\n",
       "    <tr>\n",
       "      <th>...</th>\n",
       "      <td>...</td>\n",
       "    </tr>\n",
       "    <tr>\n",
       "      <th>pop rock</th>\n",
       "      <td>10153.227699</td>\n",
       "    </tr>\n",
       "    <tr>\n",
       "      <th>electronica</th>\n",
       "      <td>13105.734487</td>\n",
       "    </tr>\n",
       "    <tr>\n",
       "      <th>alternative metal</th>\n",
       "      <td>16197.328686</td>\n",
       "    </tr>\n",
       "    <tr>\n",
       "      <th>dance pop</th>\n",
       "      <td>17389.556886</td>\n",
       "    </tr>\n",
       "    <tr>\n",
       "      <th>rock</th>\n",
       "      <td>63035.525025</td>\n",
       "    </tr>\n",
       "  </tbody>\n",
       "</table>\n",
       "<p>2731 rows × 1 columns</p>\n",
       "</div>"
      ],
      "text/plain": [
       "                          Percent\n",
       "Most_common_genre                \n",
       "kansas city hip hop      0.224099\n",
       "belarusian pop           0.228380\n",
       "ukrainian pop            0.242180\n",
       "death doom               0.248212\n",
       "backing track            0.254336\n",
       "...                           ...\n",
       "pop rock             10153.227699\n",
       "electronica          13105.734487\n",
       "alternative metal    16197.328686\n",
       "dance pop            17389.556886\n",
       "rock                 63035.525025\n",
       "\n",
       "[2731 rows x 1 columns]"
      ]
     },
     "execution_count": 36,
     "metadata": {},
     "output_type": "execute_result"
    }
   ],
   "source": [
    "all_data[['Most_common_genre', 'Percent']].groupby('Most_common_genre').sum().sort_values(by = 'Percent')"
   ]
  },
  {
   "cell_type": "code",
   "execution_count": 37,
   "metadata": {},
   "outputs": [
    {
     "data": {
      "text/html": [
       "<div>\n",
       "<style scoped>\n",
       "    .dataframe tbody tr th:only-of-type {\n",
       "        vertical-align: middle;\n",
       "    }\n",
       "\n",
       "    .dataframe tbody tr th {\n",
       "        vertical-align: top;\n",
       "    }\n",
       "\n",
       "    .dataframe thead th {\n",
       "        text-align: right;\n",
       "    }\n",
       "</style>\n",
       "<table border=\"1\" class=\"dataframe\">\n",
       "  <thead>\n",
       "    <tr style=\"text-align: right;\">\n",
       "      <th></th>\n",
       "      <th>ID</th>\n",
       "      <th>Artist_ID</th>\n",
       "      <th>Artist</th>\n",
       "      <th>Plays</th>\n",
       "      <th>Percent</th>\n",
       "      <th>Info</th>\n",
       "      <th>Genres</th>\n",
       "      <th>Most_common_genre</th>\n",
       "    </tr>\n",
       "  </thead>\n",
       "  <tbody>\n",
       "    <tr>\n",
       "      <th>0</th>\n",
       "      <td>00000c289a1829a808ac09c00daf10bc3c4e223b</td>\n",
       "      <td>3bd73256-3905-4f3a-97e2-8b341527f805</td>\n",
       "      <td>betty blowtorch</td>\n",
       "      <td>2137</td>\n",
       "      <td>0.127842</td>\n",
       "      <td>{'external_urls': {'spotify': 'https://open.sp...</td>\n",
       "      <td>[riot grrrl]</td>\n",
       "      <td>riot grrrl</td>\n",
       "    </tr>\n",
       "    <tr>\n",
       "      <th>1</th>\n",
       "      <td>0159d9ae1c8d76ab7fe3aa868a38e1da56cc06ab</td>\n",
       "      <td>3bd73256-3905-4f3a-97e2-8b341527f805</td>\n",
       "      <td>betty blowtorch</td>\n",
       "      <td>42</td>\n",
       "      <td>0.011105</td>\n",
       "      <td>{'external_urls': {'spotify': 'https://open.sp...</td>\n",
       "      <td>[riot grrrl]</td>\n",
       "      <td>riot grrrl</td>\n",
       "    </tr>\n",
       "    <tr>\n",
       "      <th>2</th>\n",
       "      <td>0285490bb23814cf0dc18a5668261e243572d4eb</td>\n",
       "      <td>3bd73256-3905-4f3a-97e2-8b341527f805</td>\n",
       "      <td>betty blowtorch</td>\n",
       "      <td>41</td>\n",
       "      <td>0.010299</td>\n",
       "      <td>{'external_urls': {'spotify': 'https://open.sp...</td>\n",
       "      <td>[riot grrrl]</td>\n",
       "      <td>riot grrrl</td>\n",
       "    </tr>\n",
       "    <tr>\n",
       "      <th>3</th>\n",
       "      <td>03d2e7186a6c29f281f6ff8b9bb2f7503822e7de</td>\n",
       "      <td>3bd73256-3905-4f3a-97e2-8b341527f805</td>\n",
       "      <td>betty blowtorch</td>\n",
       "      <td>67</td>\n",
       "      <td>0.010819</td>\n",
       "      <td>{'external_urls': {'spotify': 'https://open.sp...</td>\n",
       "      <td>[riot grrrl]</td>\n",
       "      <td>riot grrrl</td>\n",
       "    </tr>\n",
       "    <tr>\n",
       "      <th>4</th>\n",
       "      <td>04e0999468b2bbd922f0fdd41ffd9a5f26f97609</td>\n",
       "      <td>3bd73256-3905-4f3a-97e2-8b341527f805</td>\n",
       "      <td>betty blowtorch</td>\n",
       "      <td>3</td>\n",
       "      <td>0.006122</td>\n",
       "      <td>{'external_urls': {'spotify': 'https://open.sp...</td>\n",
       "      <td>[riot grrrl]</td>\n",
       "      <td>riot grrrl</td>\n",
       "    </tr>\n",
       "    <tr>\n",
       "      <th>...</th>\n",
       "      <td>...</td>\n",
       "      <td>...</td>\n",
       "      <td>...</td>\n",
       "      <td>...</td>\n",
       "      <td>...</td>\n",
       "      <td>...</td>\n",
       "      <td>...</td>\n",
       "      <td>...</td>\n",
       "    </tr>\n",
       "    <tr>\n",
       "      <th>15553751</th>\n",
       "      <td>d375f346d239a15445b464c7b139b5f11641835b</td>\n",
       "      <td>NaN</td>\n",
       "      <td>as diabatz</td>\n",
       "      <td>149</td>\n",
       "      <td>0.009205</td>\n",
       "      <td>{'external_urls': {'spotify': 'https://open.sp...</td>\n",
       "      <td>[brazilian rockabilly, psychobilly, rock curit...</td>\n",
       "      <td>psychobilly</td>\n",
       "    </tr>\n",
       "    <tr>\n",
       "      <th>15553752</th>\n",
       "      <td>d7a0a0d499c8f9e127d990d5b49225339ad572ba</td>\n",
       "      <td>NaN</td>\n",
       "      <td>as diabatz</td>\n",
       "      <td>120</td>\n",
       "      <td>0.005539</td>\n",
       "      <td>{'external_urls': {'spotify': 'https://open.sp...</td>\n",
       "      <td>[brazilian rockabilly, psychobilly, rock curit...</td>\n",
       "      <td>psychobilly</td>\n",
       "    </tr>\n",
       "    <tr>\n",
       "      <th>15553753</th>\n",
       "      <td>dbdbcec60934d38e130c38cc65b29f56b7c2b8a5</td>\n",
       "      <td>NaN</td>\n",
       "      <td>as diabatz</td>\n",
       "      <td>224</td>\n",
       "      <td>0.025050</td>\n",
       "      <td>{'external_urls': {'spotify': 'https://open.sp...</td>\n",
       "      <td>[brazilian rockabilly, psychobilly, rock curit...</td>\n",
       "      <td>psychobilly</td>\n",
       "    </tr>\n",
       "    <tr>\n",
       "      <th>15553754</th>\n",
       "      <td>ecfedd97388a4a2a3fa2bf7c7e3caa0ab0abf93e</td>\n",
       "      <td>NaN</td>\n",
       "      <td>as diabatz</td>\n",
       "      <td>284</td>\n",
       "      <td>0.011709</td>\n",
       "      <td>{'external_urls': {'spotify': 'https://open.sp...</td>\n",
       "      <td>[brazilian rockabilly, psychobilly, rock curit...</td>\n",
       "      <td>psychobilly</td>\n",
       "    </tr>\n",
       "    <tr>\n",
       "      <th>15553755</th>\n",
       "      <td>f8de05bac31d666f29467d3a9814fbce8129b1f0</td>\n",
       "      <td>NaN</td>\n",
       "      <td>as diabatz</td>\n",
       "      <td>14</td>\n",
       "      <td>0.004387</td>\n",
       "      <td>{'external_urls': {'spotify': 'https://open.sp...</td>\n",
       "      <td>[brazilian rockabilly, psychobilly, rock curit...</td>\n",
       "      <td>psychobilly</td>\n",
       "    </tr>\n",
       "  </tbody>\n",
       "</table>\n",
       "<p>15553756 rows × 8 columns</p>\n",
       "</div>"
      ],
      "text/plain": [
       "                                                ID  \\\n",
       "0         00000c289a1829a808ac09c00daf10bc3c4e223b   \n",
       "1         0159d9ae1c8d76ab7fe3aa868a38e1da56cc06ab   \n",
       "2         0285490bb23814cf0dc18a5668261e243572d4eb   \n",
       "3         03d2e7186a6c29f281f6ff8b9bb2f7503822e7de   \n",
       "4         04e0999468b2bbd922f0fdd41ffd9a5f26f97609   \n",
       "...                                            ...   \n",
       "15553751  d375f346d239a15445b464c7b139b5f11641835b   \n",
       "15553752  d7a0a0d499c8f9e127d990d5b49225339ad572ba   \n",
       "15553753  dbdbcec60934d38e130c38cc65b29f56b7c2b8a5   \n",
       "15553754  ecfedd97388a4a2a3fa2bf7c7e3caa0ab0abf93e   \n",
       "15553755  f8de05bac31d666f29467d3a9814fbce8129b1f0   \n",
       "\n",
       "                                     Artist_ID           Artist  Plays  \\\n",
       "0         3bd73256-3905-4f3a-97e2-8b341527f805  betty blowtorch   2137   \n",
       "1         3bd73256-3905-4f3a-97e2-8b341527f805  betty blowtorch     42   \n",
       "2         3bd73256-3905-4f3a-97e2-8b341527f805  betty blowtorch     41   \n",
       "3         3bd73256-3905-4f3a-97e2-8b341527f805  betty blowtorch     67   \n",
       "4         3bd73256-3905-4f3a-97e2-8b341527f805  betty blowtorch      3   \n",
       "...                                        ...              ...    ...   \n",
       "15553751                                   NaN       as diabatz    149   \n",
       "15553752                                   NaN       as diabatz    120   \n",
       "15553753                                   NaN       as diabatz    224   \n",
       "15553754                                   NaN       as diabatz    284   \n",
       "15553755                                   NaN       as diabatz     14   \n",
       "\n",
       "           Percent                                               Info  \\\n",
       "0         0.127842  {'external_urls': {'spotify': 'https://open.sp...   \n",
       "1         0.011105  {'external_urls': {'spotify': 'https://open.sp...   \n",
       "2         0.010299  {'external_urls': {'spotify': 'https://open.sp...   \n",
       "3         0.010819  {'external_urls': {'spotify': 'https://open.sp...   \n",
       "4         0.006122  {'external_urls': {'spotify': 'https://open.sp...   \n",
       "...            ...                                                ...   \n",
       "15553751  0.009205  {'external_urls': {'spotify': 'https://open.sp...   \n",
       "15553752  0.005539  {'external_urls': {'spotify': 'https://open.sp...   \n",
       "15553753  0.025050  {'external_urls': {'spotify': 'https://open.sp...   \n",
       "15553754  0.011709  {'external_urls': {'spotify': 'https://open.sp...   \n",
       "15553755  0.004387  {'external_urls': {'spotify': 'https://open.sp...   \n",
       "\n",
       "                                                     Genres Most_common_genre  \n",
       "0                                              [riot grrrl]        riot grrrl  \n",
       "1                                              [riot grrrl]        riot grrrl  \n",
       "2                                              [riot grrrl]        riot grrrl  \n",
       "3                                              [riot grrrl]        riot grrrl  \n",
       "4                                              [riot grrrl]        riot grrrl  \n",
       "...                                                     ...               ...  \n",
       "15553751  [brazilian rockabilly, psychobilly, rock curit...       psychobilly  \n",
       "15553752  [brazilian rockabilly, psychobilly, rock curit...       psychobilly  \n",
       "15553753  [brazilian rockabilly, psychobilly, rock curit...       psychobilly  \n",
       "15553754  [brazilian rockabilly, psychobilly, rock curit...       psychobilly  \n",
       "15553755  [brazilian rockabilly, psychobilly, rock curit...       psychobilly  \n",
       "\n",
       "[15553756 rows x 8 columns]"
      ]
     },
     "execution_count": 37,
     "metadata": {},
     "output_type": "execute_result"
    }
   ],
   "source": [
    "all_data"
   ]
  },
  {
   "cell_type": "markdown",
   "metadata": {},
   "source": [
    "Instead of the 17'535'655 entries, we now have 15'553'756 that have possess a lot more information"
   ]
  },
  {
   "cell_type": "markdown",
   "metadata": {},
   "source": [
    "### 5. Exploratory data analysis"
   ]
  },
  {
   "cell_type": "markdown",
   "metadata": {},
   "source": [
    "Now we look at the number of users that have listened to one artist"
   ]
  },
  {
   "cell_type": "code",
   "execution_count": 38,
   "metadata": {},
   "outputs": [
    {
     "data": {
      "text/html": [
       "<div>\n",
       "<style scoped>\n",
       "    .dataframe tbody tr th:only-of-type {\n",
       "        vertical-align: middle;\n",
       "    }\n",
       "\n",
       "    .dataframe tbody tr th {\n",
       "        vertical-align: top;\n",
       "    }\n",
       "\n",
       "    .dataframe thead th {\n",
       "        text-align: right;\n",
       "    }\n",
       "</style>\n",
       "<table border=\"1\" class=\"dataframe\">\n",
       "  <thead>\n",
       "    <tr style=\"text-align: right;\">\n",
       "      <th></th>\n",
       "      <th>Artist</th>\n",
       "      <th>nb_users</th>\n",
       "    </tr>\n",
       "  </thead>\n",
       "  <tbody>\n",
       "    <tr>\n",
       "      <th>0</th>\n",
       "      <td>da boy tommy</td>\n",
       "      <td>21</td>\n",
       "    </tr>\n",
       "    <tr>\n",
       "      <th>1</th>\n",
       "      <td>the bandits</td>\n",
       "      <td>21</td>\n",
       "    </tr>\n",
       "    <tr>\n",
       "      <th>2</th>\n",
       "      <td>ameritz</td>\n",
       "      <td>21</td>\n",
       "    </tr>\n",
       "    <tr>\n",
       "      <th>3</th>\n",
       "      <td>silber</td>\n",
       "      <td>21</td>\n",
       "    </tr>\n",
       "    <tr>\n",
       "      <th>4</th>\n",
       "      <td>maze featuring frankie beverly</td>\n",
       "      <td>21</td>\n",
       "    </tr>\n",
       "    <tr>\n",
       "      <th>...</th>\n",
       "      <td>...</td>\n",
       "      <td>...</td>\n",
       "    </tr>\n",
       "    <tr>\n",
       "      <th>33096</th>\n",
       "      <td>muse</td>\n",
       "      <td>46954</td>\n",
       "    </tr>\n",
       "    <tr>\n",
       "      <th>33097</th>\n",
       "      <td>red hot chili peppers</td>\n",
       "      <td>48924</td>\n",
       "    </tr>\n",
       "    <tr>\n",
       "      <th>33098</th>\n",
       "      <td>coldplay</td>\n",
       "      <td>66658</td>\n",
       "    </tr>\n",
       "    <tr>\n",
       "      <th>33099</th>\n",
       "      <td>the beatles</td>\n",
       "      <td>76245</td>\n",
       "    </tr>\n",
       "    <tr>\n",
       "      <th>33100</th>\n",
       "      <td>radiohead</td>\n",
       "      <td>77254</td>\n",
       "    </tr>\n",
       "  </tbody>\n",
       "</table>\n",
       "<p>33101 rows × 2 columns</p>\n",
       "</div>"
      ],
      "text/plain": [
       "                               Artist  nb_users\n",
       "0                        da boy tommy        21\n",
       "1                         the bandits        21\n",
       "2                             ameritz        21\n",
       "3                              silber        21\n",
       "4      maze featuring frankie beverly        21\n",
       "...                               ...       ...\n",
       "33096                            muse     46954\n",
       "33097           red hot chili peppers     48924\n",
       "33098                        coldplay     66658\n",
       "33099                     the beatles     76245\n",
       "33100                       radiohead     77254\n",
       "\n",
       "[33101 rows x 2 columns]"
      ]
     },
     "execution_count": 38,
     "metadata": {},
     "output_type": "execute_result"
    }
   ],
   "source": [
    "artists_nb_users_listen= all_data.groupby(['Artist']).size().sort_values(ascending = True).reset_index(name = 'nb_users')\n",
    "# we check how many times an artist occurs in dataset\n",
    "artists_nb_users_listen"
   ]
  },
  {
   "cell_type": "code",
   "execution_count": 39,
   "metadata": {},
   "outputs": [
    {
     "data": {
      "text/html": [
       "<div>\n",
       "<style scoped>\n",
       "    .dataframe tbody tr th:only-of-type {\n",
       "        vertical-align: middle;\n",
       "    }\n",
       "\n",
       "    .dataframe tbody tr th {\n",
       "        vertical-align: top;\n",
       "    }\n",
       "\n",
       "    .dataframe thead th {\n",
       "        text-align: right;\n",
       "    }\n",
       "</style>\n",
       "<table border=\"1\" class=\"dataframe\">\n",
       "  <thead>\n",
       "    <tr style=\"text-align: right;\">\n",
       "      <th></th>\n",
       "      <th>nb_users</th>\n",
       "    </tr>\n",
       "  </thead>\n",
       "  <tbody>\n",
       "    <tr>\n",
       "      <th>count</th>\n",
       "      <td>33101.000000</td>\n",
       "    </tr>\n",
       "    <tr>\n",
       "      <th>mean</th>\n",
       "      <td>469.887798</td>\n",
       "    </tr>\n",
       "    <tr>\n",
       "      <th>std</th>\n",
       "      <td>1940.298022</td>\n",
       "    </tr>\n",
       "    <tr>\n",
       "      <th>min</th>\n",
       "      <td>21.000000</td>\n",
       "    </tr>\n",
       "    <tr>\n",
       "      <th>25%</th>\n",
       "      <td>37.000000</td>\n",
       "    </tr>\n",
       "    <tr>\n",
       "      <th>50%</th>\n",
       "      <td>80.000000</td>\n",
       "    </tr>\n",
       "    <tr>\n",
       "      <th>75%</th>\n",
       "      <td>242.000000</td>\n",
       "    </tr>\n",
       "    <tr>\n",
       "      <th>max</th>\n",
       "      <td>77254.000000</td>\n",
       "    </tr>\n",
       "  </tbody>\n",
       "</table>\n",
       "</div>"
      ],
      "text/plain": [
       "           nb_users\n",
       "count  33101.000000\n",
       "mean     469.887798\n",
       "std     1940.298022\n",
       "min       21.000000\n",
       "25%       37.000000\n",
       "50%       80.000000\n",
       "75%      242.000000\n",
       "max    77254.000000"
      ]
     },
     "execution_count": 39,
     "metadata": {},
     "output_type": "execute_result"
    }
   ],
   "source": [
    "artists_nb_users_listen.describe()"
   ]
  },
  {
   "cell_type": "markdown",
   "metadata": {},
   "source": [
    "As expected, the distribution is exponential. More than 25% of the artists that have a matching entry in the spotify API have been listened only by 37 users, 50% by 80, 75% by 242.\n"
   ]
  },
  {
   "cell_type": "code",
   "execution_count": 40,
   "metadata": {},
   "outputs": [
    {
     "data": {
      "text/plain": [
       "Text(0.5, 0, 'Nb of users')"
      ]
     },
     "execution_count": 40,
     "metadata": {},
     "output_type": "execute_result"
    },
    {
     "data": {
      "image/png": "[encoded data removed]",
      "text/plain": [
       "<Figure size 432x288 with 1 Axes>"
      ]
     },
     "metadata": {
      "needs_background": "light"
     },
     "output_type": "display_data"
    }
   ],
   "source": [
    "sns.histplot(artists_nb_users_listen['nb_users'], log_scale = True)\n",
    "plt.title(\"Nb users listening to one artist\")\n",
    "plt.ylabel(\"Nb of artists\")\n",
    "plt.xlabel(\"Nb of users\")\n"
   ]
  },
  {
   "cell_type": "markdown",
   "metadata": {},
   "source": [
    "#### Now look at the users"
   ]
  },
  {
   "cell_type": "code",
   "execution_count": 41,
   "metadata": {},
   "outputs": [],
   "source": [
    "users_nb_artists_listen = top_data.groupby('ID').size().sort_values().reset_index(name = 'nb_artists_listen')"
   ]
  },
  {
   "cell_type": "code",
   "execution_count": 42,
   "metadata": {},
   "outputs": [
    {
     "data": {
      "text/html": [
       "<div>\n",
       "<style scoped>\n",
       "    .dataframe tbody tr th:only-of-type {\n",
       "        vertical-align: middle;\n",
       "    }\n",
       "\n",
       "    .dataframe tbody tr th {\n",
       "        vertical-align: top;\n",
       "    }\n",
       "\n",
       "    .dataframe thead th {\n",
       "        text-align: right;\n",
       "    }\n",
       "</style>\n",
       "<table border=\"1\" class=\"dataframe\">\n",
       "  <thead>\n",
       "    <tr style=\"text-align: right;\">\n",
       "      <th></th>\n",
       "      <th>nb_artists_listen</th>\n",
       "    </tr>\n",
       "  </thead>\n",
       "  <tbody>\n",
       "    <tr>\n",
       "      <th>count</th>\n",
       "      <td>358868.000000</td>\n",
       "    </tr>\n",
       "    <tr>\n",
       "      <th>mean</th>\n",
       "      <td>48.863234</td>\n",
       "    </tr>\n",
       "    <tr>\n",
       "      <th>std</th>\n",
       "      <td>8.524272</td>\n",
       "    </tr>\n",
       "    <tr>\n",
       "      <th>min</th>\n",
       "      <td>1.000000</td>\n",
       "    </tr>\n",
       "    <tr>\n",
       "      <th>25%</th>\n",
       "      <td>46.000000</td>\n",
       "    </tr>\n",
       "    <tr>\n",
       "      <th>50%</th>\n",
       "      <td>49.000000</td>\n",
       "    </tr>\n",
       "    <tr>\n",
       "      <th>75%</th>\n",
       "      <td>51.000000</td>\n",
       "    </tr>\n",
       "    <tr>\n",
       "      <th>max</th>\n",
       "      <td>166.000000</td>\n",
       "    </tr>\n",
       "  </tbody>\n",
       "</table>\n",
       "</div>"
      ],
      "text/plain": [
       "       nb_artists_listen\n",
       "count      358868.000000\n",
       "mean           48.863234\n",
       "std             8.524272\n",
       "min             1.000000\n",
       "25%            46.000000\n",
       "50%            49.000000\n",
       "75%            51.000000\n",
       "max           166.000000"
      ]
     },
     "execution_count": 42,
     "metadata": {},
     "output_type": "execute_result"
    }
   ],
   "source": [
    "users_nb_artists_listen.describe()"
   ]
  },
  {
   "cell_type": "markdown",
   "metadata": {},
   "source": [
    "Interestingly, we see that, although we have a lot of artists, users tend to listen to only a few of them. In average, a users has listened to 49 different artists with the quantiles being near from each other which is good."
   ]
  },
  {
   "cell_type": "markdown",
   "metadata": {},
   "source": [
    "Let's now see from where our users come from. It's possible that the origin of the user has an impact on what he listens"
   ]
  },
  {
   "cell_type": "code",
   "execution_count": 43,
   "metadata": {},
   "outputs": [],
   "source": [
    "nb_users_per_country = top_user.groupby('Country').size().reset_index(name = 'nb_users')"
   ]
  },
  {
   "cell_type": "code",
   "execution_count": 44,
   "metadata": {},
   "outputs": [],
   "source": [
    "nb_users_per_country = nb_users_per_country.sort_values('nb_users')"
   ]
  },
  {
   "cell_type": "code",
   "execution_count": 45,
   "metadata": {},
   "outputs": [
    {
     "data": {
      "text/plain": [
       "<matplotlib.axes._subplots.AxesSubplot at 0x1809d7d3348>"
      ]
     },
     "execution_count": 45,
     "metadata": {},
     "output_type": "execute_result"
    },
    {
     "data": {
      "image/png": "[encoded data removed]",
      "text/plain": [
       "<Figure size 720x720 with 1 Axes>"
      ]
     },
     "metadata": {
      "needs_background": "light"
     },
     "output_type": "display_data"
    }
   ],
   "source": [
    "#Only plotting the countries with more than 2000 users in the database\n",
    "fig, ax = plt.subplots(figsize=(10,10))\n",
    "sns.barplot(ax= ax, data = nb_users_per_country[nb_users_per_country['nb_users']>2000], x = 'nb_users', y = 'Country', )"
   ]
  },
  {
   "cell_type": "markdown",
   "metadata": {},
   "source": [
    "We can observe that most of our users come from the United States, Germany and the United Kingdom. More generally, we have a lot of european music culture with the exception of Brazil, Japan, Turkey, Mexico, Chile and Argentinia. We will therefore have that the most listened artists come from this culture. "
   ]
  },
  {
   "cell_type": "markdown",
   "metadata": {},
   "source": [
    "Let's now try to merge the two dataset together to continue the exploration"
   ]
  },
  {
   "cell_type": "code",
   "execution_count": 46,
   "metadata": {},
   "outputs": [],
   "source": [
    "top_merged = all_data.merge(top_user, left_on='ID', right_on='ID')\n",
    "top_merged = top_merged.drop(columns=['Artist_ID']) ##Drop when the users was registered and the artist_ID"
   ]
  },
  {
   "cell_type": "code",
   "execution_count": 47,
   "metadata": {},
   "outputs": [],
   "source": [
    "# !!! it seems that we lose approximetely 100k users by merging two datasets above. \n",
    "# But I guess we can't do anything with that, but probably it's good to mention it in eda ~rap\n",
    "\n",
    "# We decide to eliminate users, which have listened to less than 10 favourite artists (We'll use trivial recommendation for them)\n",
    "top_merged_IDs = top_merged.groupby(['ID']).size().reset_index()\n",
    "users_id = top_merged_IDs[top_merged_IDs[0] > 10]['ID']\n",
    "top_merged = top_merged[top_merged['ID'].isin(users_id)]"
   ]
  },
  {
   "cell_type": "markdown",
   "metadata": {},
   "source": [
    "Let's see if artists are more listened to one country or another"
   ]
  },
  {
   "cell_type": "code",
   "execution_count": 48,
   "metadata": {},
   "outputs": [],
   "source": [
    "artists_per_country = top_merged[['Artist', 'Country', 'ID', 'Plays']].groupby(['Artist','Country']).agg({'ID': len,\n",
    "                             'Plays': 'sum'}).rename(columns = {'ID':'nb_users'})"
   ]
  },
  {
   "cell_type": "code",
   "execution_count": 49,
   "metadata": {},
   "outputs": [
    {
     "data": {
      "text/html": [
       "<div>\n",
       "<style scoped>\n",
       "    .dataframe tbody tr th:only-of-type {\n",
       "        vertical-align: middle;\n",
       "    }\n",
       "\n",
       "    .dataframe tbody tr th {\n",
       "        vertical-align: top;\n",
       "    }\n",
       "\n",
       "    .dataframe thead th {\n",
       "        text-align: right;\n",
       "    }\n",
       "</style>\n",
       "<table border=\"1\" class=\"dataframe\">\n",
       "  <thead>\n",
       "    <tr style=\"text-align: right;\">\n",
       "      <th></th>\n",
       "      <th></th>\n",
       "      <th>nb_users</th>\n",
       "      <th>Plays</th>\n",
       "    </tr>\n",
       "    <tr>\n",
       "      <th>Artist</th>\n",
       "      <th>Country</th>\n",
       "      <th></th>\n",
       "      <th></th>\n",
       "    </tr>\n",
       "  </thead>\n",
       "  <tbody>\n",
       "    <tr>\n",
       "      <th rowspan=\"5\" valign=\"top\">!!!</th>\n",
       "      <th>American Samoa</th>\n",
       "      <td>1</td>\n",
       "      <td>1004</td>\n",
       "    </tr>\n",
       "    <tr>\n",
       "      <th>Andorra</th>\n",
       "      <td>1</td>\n",
       "      <td>22</td>\n",
       "    </tr>\n",
       "    <tr>\n",
       "      <th>Antarctica</th>\n",
       "      <td>2</td>\n",
       "      <td>309</td>\n",
       "    </tr>\n",
       "    <tr>\n",
       "      <th>Antigua and Barbuda</th>\n",
       "      <td>1</td>\n",
       "      <td>29</td>\n",
       "    </tr>\n",
       "    <tr>\n",
       "      <th>Argentina</th>\n",
       "      <td>14</td>\n",
       "      <td>1788</td>\n",
       "    </tr>\n",
       "    <tr>\n",
       "      <th>...</th>\n",
       "      <th>...</th>\n",
       "      <td>...</td>\n",
       "      <td>...</td>\n",
       "    </tr>\n",
       "    <tr>\n",
       "      <th rowspan=\"5\" valign=\"top\">ＬｕＬｕ</th>\n",
       "      <th>Poland</th>\n",
       "      <td>2</td>\n",
       "      <td>818</td>\n",
       "    </tr>\n",
       "    <tr>\n",
       "      <th>Russian Federation</th>\n",
       "      <td>1</td>\n",
       "      <td>30</td>\n",
       "    </tr>\n",
       "    <tr>\n",
       "      <th>Spain</th>\n",
       "      <td>1</td>\n",
       "      <td>21</td>\n",
       "    </tr>\n",
       "    <tr>\n",
       "      <th>Sweden</th>\n",
       "      <td>2</td>\n",
       "      <td>317</td>\n",
       "    </tr>\n",
       "    <tr>\n",
       "      <th>United Kingdom</th>\n",
       "      <td>3</td>\n",
       "      <td>114</td>\n",
       "    </tr>\n",
       "  </tbody>\n",
       "</table>\n",
       "<p>963313 rows × 2 columns</p>\n",
       "</div>"
      ],
      "text/plain": [
       "                            nb_users  Plays\n",
       "Artist Country                             \n",
       "!!!    American Samoa              1   1004\n",
       "       Andorra                     1     22\n",
       "       Antarctica                  2    309\n",
       "       Antigua and Barbuda         1     29\n",
       "       Argentina                  14   1788\n",
       "...                              ...    ...\n",
       "ＬｕＬｕ   Poland                      2    818\n",
       "       Russian Federation          1     30\n",
       "       Spain                       1     21\n",
       "       Sweden                      2    317\n",
       "       United Kingdom              3    114\n",
       "\n",
       "[963313 rows x 2 columns]"
      ]
     },
     "execution_count": 49,
     "metadata": {},
     "output_type": "execute_result"
    }
   ],
   "source": [
    "artists_per_country"
   ]
  },
  {
   "cell_type": "markdown",
   "metadata": {},
   "source": [
    "With this, we can also look at the most listened artist in one country:"
   ]
  },
  {
   "cell_type": "code",
   "execution_count": 50,
   "metadata": {},
   "outputs": [],
   "source": [
    "top1_artist_per_country = artists_per_country.unstack(1, fill_value = 0)"
   ]
  },
  {
   "cell_type": "code",
   "execution_count": 51,
   "metadata": {},
   "outputs": [
    {
     "data": {
      "text/html": [
       "<div>\n",
       "<style scoped>\n",
       "    .dataframe tbody tr th:only-of-type {\n",
       "        vertical-align: middle;\n",
       "    }\n",
       "\n",
       "    .dataframe tbody tr th {\n",
       "        vertical-align: top;\n",
       "    }\n",
       "\n",
       "    .dataframe thead tr th {\n",
       "        text-align: left;\n",
       "    }\n",
       "</style>\n",
       "<table border=\"1\" class=\"dataframe\">\n",
       "  <thead>\n",
       "    <tr>\n",
       "      <th></th>\n",
       "      <th>Artist</th>\n",
       "      <th colspan=\"9\" halign=\"left\">nb_users</th>\n",
       "      <th>...</th>\n",
       "      <th colspan=\"10\" halign=\"left\">Plays</th>\n",
       "    </tr>\n",
       "    <tr>\n",
       "      <th>Country</th>\n",
       "      <th></th>\n",
       "      <th>Afghanistan</th>\n",
       "      <th>Albania</th>\n",
       "      <th>Algeria</th>\n",
       "      <th>American Samoa</th>\n",
       "      <th>Andorra</th>\n",
       "      <th>Angola</th>\n",
       "      <th>Anguilla</th>\n",
       "      <th>Antarctica</th>\n",
       "      <th>Antigua and Barbuda</th>\n",
       "      <th>...</th>\n",
       "      <th>Vanuatu</th>\n",
       "      <th>Venezuela</th>\n",
       "      <th>Viet Nam</th>\n",
       "      <th>Virgin Islands, British</th>\n",
       "      <th>Virgin Islands, U.s.</th>\n",
       "      <th>Wallis and Futuna</th>\n",
       "      <th>Western Sahara</th>\n",
       "      <th>Yemen</th>\n",
       "      <th>Zambia</th>\n",
       "      <th>Zimbabwe</th>\n",
       "    </tr>\n",
       "  </thead>\n",
       "  <tbody>\n",
       "    <tr>\n",
       "      <th>0</th>\n",
       "      <td>!!!</td>\n",
       "      <td>0</td>\n",
       "      <td>0</td>\n",
       "      <td>0</td>\n",
       "      <td>1</td>\n",
       "      <td>1</td>\n",
       "      <td>0</td>\n",
       "      <td>0</td>\n",
       "      <td>2</td>\n",
       "      <td>1</td>\n",
       "      <td>...</td>\n",
       "      <td>0</td>\n",
       "      <td>1744</td>\n",
       "      <td>0</td>\n",
       "      <td>0</td>\n",
       "      <td>0</td>\n",
       "      <td>283</td>\n",
       "      <td>0</td>\n",
       "      <td>0</td>\n",
       "      <td>0</td>\n",
       "      <td>0</td>\n",
       "    </tr>\n",
       "    <tr>\n",
       "      <th>1</th>\n",
       "      <td>!action pact!</td>\n",
       "      <td>0</td>\n",
       "      <td>0</td>\n",
       "      <td>0</td>\n",
       "      <td>0</td>\n",
       "      <td>0</td>\n",
       "      <td>0</td>\n",
       "      <td>0</td>\n",
       "      <td>0</td>\n",
       "      <td>0</td>\n",
       "      <td>...</td>\n",
       "      <td>0</td>\n",
       "      <td>0</td>\n",
       "      <td>0</td>\n",
       "      <td>0</td>\n",
       "      <td>0</td>\n",
       "      <td>0</td>\n",
       "      <td>0</td>\n",
       "      <td>0</td>\n",
       "      <td>0</td>\n",
       "      <td>0</td>\n",
       "    </tr>\n",
       "    <tr>\n",
       "      <th>2</th>\n",
       "      <td>!deladap</td>\n",
       "      <td>0</td>\n",
       "      <td>0</td>\n",
       "      <td>0</td>\n",
       "      <td>0</td>\n",
       "      <td>0</td>\n",
       "      <td>0</td>\n",
       "      <td>0</td>\n",
       "      <td>0</td>\n",
       "      <td>0</td>\n",
       "      <td>...</td>\n",
       "      <td>0</td>\n",
       "      <td>0</td>\n",
       "      <td>0</td>\n",
       "      <td>0</td>\n",
       "      <td>0</td>\n",
       "      <td>0</td>\n",
       "      <td>0</td>\n",
       "      <td>0</td>\n",
       "      <td>0</td>\n",
       "      <td>0</td>\n",
       "    </tr>\n",
       "    <tr>\n",
       "      <th>3</th>\n",
       "      <td>!distain</td>\n",
       "      <td>0</td>\n",
       "      <td>0</td>\n",
       "      <td>0</td>\n",
       "      <td>0</td>\n",
       "      <td>0</td>\n",
       "      <td>0</td>\n",
       "      <td>0</td>\n",
       "      <td>0</td>\n",
       "      <td>0</td>\n",
       "      <td>...</td>\n",
       "      <td>0</td>\n",
       "      <td>0</td>\n",
       "      <td>0</td>\n",
       "      <td>0</td>\n",
       "      <td>0</td>\n",
       "      <td>0</td>\n",
       "      <td>0</td>\n",
       "      <td>0</td>\n",
       "      <td>0</td>\n",
       "      <td>0</td>\n",
       "    </tr>\n",
       "    <tr>\n",
       "      <th>4</th>\n",
       "      <td>!t.o.o.h.!</td>\n",
       "      <td>0</td>\n",
       "      <td>0</td>\n",
       "      <td>0</td>\n",
       "      <td>0</td>\n",
       "      <td>0</td>\n",
       "      <td>0</td>\n",
       "      <td>0</td>\n",
       "      <td>1</td>\n",
       "      <td>0</td>\n",
       "      <td>...</td>\n",
       "      <td>0</td>\n",
       "      <td>389</td>\n",
       "      <td>0</td>\n",
       "      <td>0</td>\n",
       "      <td>0</td>\n",
       "      <td>0</td>\n",
       "      <td>0</td>\n",
       "      <td>0</td>\n",
       "      <td>0</td>\n",
       "      <td>0</td>\n",
       "    </tr>\n",
       "    <tr>\n",
       "      <th>...</th>\n",
       "      <td>...</td>\n",
       "      <td>...</td>\n",
       "      <td>...</td>\n",
       "      <td>...</td>\n",
       "      <td>...</td>\n",
       "      <td>...</td>\n",
       "      <td>...</td>\n",
       "      <td>...</td>\n",
       "      <td>...</td>\n",
       "      <td>...</td>\n",
       "      <td>...</td>\n",
       "      <td>...</td>\n",
       "      <td>...</td>\n",
       "      <td>...</td>\n",
       "      <td>...</td>\n",
       "      <td>...</td>\n",
       "      <td>...</td>\n",
       "      <td>...</td>\n",
       "      <td>...</td>\n",
       "      <td>...</td>\n",
       "      <td>...</td>\n",
       "    </tr>\n",
       "    <tr>\n",
       "      <th>33096</th>\n",
       "      <td>비</td>\n",
       "      <td>0</td>\n",
       "      <td>0</td>\n",
       "      <td>0</td>\n",
       "      <td>0</td>\n",
       "      <td>0</td>\n",
       "      <td>0</td>\n",
       "      <td>0</td>\n",
       "      <td>0</td>\n",
       "      <td>0</td>\n",
       "      <td>...</td>\n",
       "      <td>0</td>\n",
       "      <td>893</td>\n",
       "      <td>1685</td>\n",
       "      <td>0</td>\n",
       "      <td>0</td>\n",
       "      <td>0</td>\n",
       "      <td>0</td>\n",
       "      <td>0</td>\n",
       "      <td>0</td>\n",
       "      <td>1353</td>\n",
       "    </tr>\n",
       "    <tr>\n",
       "      <th>33097</th>\n",
       "      <td>태양</td>\n",
       "      <td>0</td>\n",
       "      <td>0</td>\n",
       "      <td>0</td>\n",
       "      <td>0</td>\n",
       "      <td>0</td>\n",
       "      <td>0</td>\n",
       "      <td>0</td>\n",
       "      <td>0</td>\n",
       "      <td>0</td>\n",
       "      <td>...</td>\n",
       "      <td>0</td>\n",
       "      <td>0</td>\n",
       "      <td>0</td>\n",
       "      <td>0</td>\n",
       "      <td>0</td>\n",
       "      <td>0</td>\n",
       "      <td>0</td>\n",
       "      <td>0</td>\n",
       "      <td>0</td>\n",
       "      <td>0</td>\n",
       "    </tr>\n",
       "    <tr>\n",
       "      <th>33098</th>\n",
       "      <td>푸른새벽</td>\n",
       "      <td>0</td>\n",
       "      <td>0</td>\n",
       "      <td>0</td>\n",
       "      <td>0</td>\n",
       "      <td>0</td>\n",
       "      <td>0</td>\n",
       "      <td>0</td>\n",
       "      <td>0</td>\n",
       "      <td>0</td>\n",
       "      <td>...</td>\n",
       "      <td>0</td>\n",
       "      <td>0</td>\n",
       "      <td>0</td>\n",
       "      <td>0</td>\n",
       "      <td>0</td>\n",
       "      <td>0</td>\n",
       "      <td>0</td>\n",
       "      <td>0</td>\n",
       "      <td>0</td>\n",
       "      <td>0</td>\n",
       "    </tr>\n",
       "    <tr>\n",
       "      <th>33099</th>\n",
       "      <td>１０</td>\n",
       "      <td>0</td>\n",
       "      <td>0</td>\n",
       "      <td>0</td>\n",
       "      <td>0</td>\n",
       "      <td>0</td>\n",
       "      <td>0</td>\n",
       "      <td>0</td>\n",
       "      <td>0</td>\n",
       "      <td>0</td>\n",
       "      <td>...</td>\n",
       "      <td>0</td>\n",
       "      <td>0</td>\n",
       "      <td>0</td>\n",
       "      <td>0</td>\n",
       "      <td>0</td>\n",
       "      <td>0</td>\n",
       "      <td>0</td>\n",
       "      <td>0</td>\n",
       "      <td>0</td>\n",
       "      <td>0</td>\n",
       "    </tr>\n",
       "    <tr>\n",
       "      <th>33100</th>\n",
       "      <td>ＬｕＬｕ</td>\n",
       "      <td>0</td>\n",
       "      <td>0</td>\n",
       "      <td>0</td>\n",
       "      <td>0</td>\n",
       "      <td>0</td>\n",
       "      <td>0</td>\n",
       "      <td>0</td>\n",
       "      <td>0</td>\n",
       "      <td>0</td>\n",
       "      <td>...</td>\n",
       "      <td>0</td>\n",
       "      <td>0</td>\n",
       "      <td>0</td>\n",
       "      <td>0</td>\n",
       "      <td>0</td>\n",
       "      <td>0</td>\n",
       "      <td>0</td>\n",
       "      <td>0</td>\n",
       "      <td>0</td>\n",
       "      <td>0</td>\n",
       "    </tr>\n",
       "  </tbody>\n",
       "</table>\n",
       "<p>33101 rows × 479 columns</p>\n",
       "</div>"
      ],
      "text/plain": [
       "                Artist    nb_users                                         \\\n",
       "Country                Afghanistan Albania Algeria American Samoa Andorra   \n",
       "0                  !!!           0       0       0              1       1   \n",
       "1        !action pact!           0       0       0              0       0   \n",
       "2             !deladap           0       0       0              0       0   \n",
       "3             !distain           0       0       0              0       0   \n",
       "4           !t.o.o.h.!           0       0       0              0       0   \n",
       "...                ...         ...     ...     ...            ...     ...   \n",
       "33096                비           0       0       0              0       0   \n",
       "33097               태양           0       0       0              0       0   \n",
       "33098             푸른새벽           0       0       0              0       0   \n",
       "33099               １０           0       0       0              0       0   \n",
       "33100             ＬｕＬｕ           0       0       0              0       0   \n",
       "\n",
       "                                                        ...   Plays            \\\n",
       "Country Angola Anguilla Antarctica Antigua and Barbuda  ... Vanuatu Venezuela   \n",
       "0            0        0          2                   1  ...       0      1744   \n",
       "1            0        0          0                   0  ...       0         0   \n",
       "2            0        0          0                   0  ...       0         0   \n",
       "3            0        0          0                   0  ...       0         0   \n",
       "4            0        0          1                   0  ...       0       389   \n",
       "...        ...      ...        ...                 ...  ...     ...       ...   \n",
       "33096        0        0          0                   0  ...       0       893   \n",
       "33097        0        0          0                   0  ...       0         0   \n",
       "33098        0        0          0                   0  ...       0         0   \n",
       "33099        0        0          0                   0  ...       0         0   \n",
       "33100        0        0          0                   0  ...       0         0   \n",
       "\n",
       "                                                               \\\n",
       "Country Viet Nam Virgin Islands, British Virgin Islands, U.s.   \n",
       "0              0                       0                    0   \n",
       "1              0                       0                    0   \n",
       "2              0                       0                    0   \n",
       "3              0                       0                    0   \n",
       "4              0                       0                    0   \n",
       "...          ...                     ...                  ...   \n",
       "33096       1685                       0                    0   \n",
       "33097          0                       0                    0   \n",
       "33098          0                       0                    0   \n",
       "33099          0                       0                    0   \n",
       "33100          0                       0                    0   \n",
       "\n",
       "                                                                \n",
       "Country Wallis and Futuna Western Sahara Yemen Zambia Zimbabwe  \n",
       "0                     283              0     0      0        0  \n",
       "1                       0              0     0      0        0  \n",
       "2                       0              0     0      0        0  \n",
       "3                       0              0     0      0        0  \n",
       "4                       0              0     0      0        0  \n",
       "...                   ...            ...   ...    ...      ...  \n",
       "33096                   0              0     0      0     1353  \n",
       "33097                   0              0     0      0        0  \n",
       "33098                   0              0     0      0        0  \n",
       "33099                   0              0     0      0        0  \n",
       "33100                   0              0     0      0        0  \n",
       "\n",
       "[33101 rows x 479 columns]"
      ]
     },
     "execution_count": 51,
     "metadata": {},
     "output_type": "execute_result"
    }
   ],
   "source": [
    "top1_artist_per_country = top1_artist_per_country.reset_index()\n",
    "top1_artist_per_country"
   ]
  },
  {
   "cell_type": "code",
   "execution_count": 52,
   "metadata": {},
   "outputs": [
    {
     "name": "stderr",
     "output_type": "stream",
     "text": [
      "C:\\ProgramData\\Anaconda3\\lib\\site-packages\\pandas\\core\\generic.py:4153: PerformanceWarning: dropping on a non-lexsorted multi-index without a level parameter may impact performance.\n",
      "  obj = obj._drop_axis(labels, axis, level=level, errors=errors)\n"
     ]
    }
   ],
   "source": [
    "top1_artist_per_country = top1_artist_per_country.set_index(top1_artist_per_country['Artist']).drop(columns = 'Artist')"
   ]
  },
  {
   "cell_type": "code",
   "execution_count": 53,
   "metadata": {},
   "outputs": [
    {
     "name": "stdout",
     "output_type": "stream",
     "text": [
      "Most listened artist in Afghanistan: radiohead, with 12 users\n",
      "Most listened artist in Albania: metallica, with 14 users\n",
      "Most listened artist in Algeria: [unknown], with 7 users\n",
      "Most listened artist in American Samoa: radiohead, with 9 users\n",
      "Most listened artist in Andorra: obrint pas, with 39 users\n",
      "Most listened artist in Angola: beyoncé, with 8 users\n",
      "Most listened artist in Anguilla: muse, with 5 users\n",
      "Most listened artist in Antarctica: radiohead, with 76 users\n",
      "Most listened artist in Antigua and Barbuda: radiohead, with 9 users\n",
      "Most listened artist in Argentina: the beatles, with 812 users\n",
      "Most listened artist in Armenia: the beatles, with 13 users\n",
      "Most listened artist in Aruba: the beatles, with 11 users\n",
      "Most listened artist in Australia: radiohead, with 1983 users\n",
      "Most listened artist in Austria: die Ärzte, with 572 users\n",
      "Most listened artist in Azerbaijan: the beatles, with 16 users\n",
      "Most listened artist in Bahamas: radiohead, with 10 users\n",
      "Most listened artist in Bahrain: radiohead, with 7 users\n",
      "Most listened artist in Bangladesh: the beatles, with 24 users\n",
      "Most listened artist in Barbados: coldplay, with 14 users\n",
      "Most listened artist in Belarus: the prodigy, with 236 users\n",
      "Most listened artist in Belgium: radiohead, with 911 users\n",
      "Most listened artist in Belize: radiohead, with 4 users\n",
      "Most listened artist in Benin: ayo, with 2 users\n",
      "Most listened artist in Bermuda: radiohead, with 10 users\n",
      "Most listened artist in Bhutan: beirut, with 6 users\n",
      "Most listened artist in Bolivia: radiohead, with 15 users\n",
      "Most listened artist in Bosnia and Herzegovina: red hot chili peppers, with 68 users\n",
      "Most listened artist in Botswana: radiohead, with 8 users\n",
      "Most listened artist in Bouvet Island: pink floyd, with 5 users\n",
      "Most listened artist in Brazil: the beatles, with 4337 users\n",
      "Most listened artist in British Indian Ocean Territory: aphex twin, with 6 users\n",
      "Most listened artist in Brunei Darussalam: paramore, with 6 users\n",
      "Most listened artist in Bulgaria: metallica, with 699 users\n",
      "Most listened artist in Burkina Faso: red hot chili peppers, with 11 users\n",
      "Most listened artist in Burundi: johnny cash, with 3 users\n",
      "Most listened artist in Cambodia: radiohead, with 14 users\n",
      "Most listened artist in Cameroon: andrew bird, with 3 users\n",
      "Most listened artist in Canada: radiohead, with 2380 users\n",
      "Most listened artist in Cape Verde: bob marley, with 6 users\n",
      "Most listened artist in Cayman Islands: radiohead, with 9 users\n",
      "Most listened artist in Central African Republic: blink-182, with 2 users\n",
      "Most listened artist in Chad: madlib, with 5 users\n",
      "Most listened artist in Chile: radiohead, with 872 users\n",
      "Most listened artist in China: coldplay, with 390 users\n",
      "Most listened artist in Christmas Island: radiohead, with 28 users\n",
      "Most listened artist in Cocos (Keeling) Islands: placebo, with 24 users\n",
      "Most listened artist in Colombia: radiohead, with 483 users\n",
      "Most listened artist in Comoros: eldo, with 3 users\n",
      "Most listened artist in Congo: animal collective, with 3 users\n",
      "Most listened artist in Congo, the Democratic Republic of the: red hot chili peppers, with 5 users\n",
      "Most listened artist in Cook Islands: amy winehouse, with 5 users\n",
      "Most listened artist in Costa Rica: radiohead, with 76 users\n",
      "Most listened artist in Cote D'Ivoire: the beatles, with 8 users\n",
      "Most listened artist in Croatia: hladno pivo, with 515 users\n",
      "Most listened artist in Cuba: radiohead, with 16 users\n",
      "Most listened artist in Cyprus: radiohead, with 27 users\n",
      "Most listened artist in Czech Republic: coldplay, with 829 users\n",
      "Most listened artist in Denmark: radiohead, with 675 users\n",
      "Most listened artist in Djibouti: red hot chili peppers, with 13 users\n",
      "Most listened artist in Dominica: happysad, with 4 users\n",
      "Most listened artist in Dominican Republic: coldplay, with 25 users\n",
      "Most listened artist in Ecuador: radiohead, with 62 users\n",
      "Most listened artist in Egypt: pink floyd, with 50 users\n",
      "Most listened artist in El Salvador: coldplay, with 22 users\n",
      "Most listened artist in Equatorial Guinea: boards of canada, with 3 users\n",
      "Most listened artist in Eritrea: big black, with 2 users\n",
      "Most listened artist in Estonia: coldplay, with 234 users\n",
      "Most listened artist in Ethiopia: led zeppelin, with 5 users\n",
      "Most listened artist in Falkland Islands (Malvinas): radiohead, with 4 users\n",
      "Most listened artist in Faroe Islands: radiohead, with 18 users\n",
      "Most listened artist in Fiji: radiohead, with 12 users\n",
      "Most listened artist in Finland: metallica, with 2704 users\n",
      "Most listened artist in France: radiohead, with 1966 users\n",
      "Most listened artist in French Guiana: alicia keys, with 2 users\n",
      "Most listened artist in French Polynesia: placebo, with 5 users\n",
      "Most listened artist in French Southern Territories: coldplay, with 9 users\n",
      "Most listened artist in Gabon: the beatles, with 3 users\n",
      "Most listened artist in Gambia: bonobo, with 2 users\n",
      "Most listened artist in Georgia: radiohead, with 76 users\n",
      "Most listened artist in Germany: die Ärzte, with 6707 users\n",
      "Most listened artist in Ghana: kanye west, with 8 users\n",
      "Most listened artist in Gibraltar: the beatles, with 7 users\n",
      "Most listened artist in Greece: radiohead, with 465 users\n",
      "Most listened artist in Greenland: radiohead, with 10 users\n",
      "Most listened artist in Grenada: coldplay, with 4 users\n",
      "Most listened artist in Guadeloupe: coldplay, with 5 users\n",
      "Most listened artist in Guam: coldplay, with 7 users\n",
      "Most listened artist in Guatemala: ricardo arjona, with 43 users\n",
      "Most listened artist in Guinea-Bissau: the beatles, with 3 users\n",
      "Most listened artist in Guyana: *nsync, with 1 users\n",
      "Most listened artist in Haiti: arctic monkeys, with 5 users\n",
      "Most listened artist in Heard Island and Mcdonald Islands: radiohead, with 12 users\n",
      "Most listened artist in Holy See (Vatican City State): the beatles, with 21 users\n",
      "Most listened artist in Honduras: coldplay, with 10 users\n",
      "Most listened artist in Hong Kong: coldplay, with 92 users\n",
      "Most listened artist in Hungary: quimby, with 306 users\n",
      "Most listened artist in Iceland: sigur rós, with 155 users\n",
      "Most listened artist in India: coldplay, with 384 users\n",
      "Most listened artist in Indonesia: coldplay, with 196 users\n",
      "Most listened artist in Iran, Islamic Republic of: pink floyd, with 74 users\n",
      "Most listened artist in Iraq: metallica, with 4 users\n",
      "Most listened artist in Ireland: radiohead, with 540 users\n",
      "Most listened artist in Israel: the beatles, with 359 users\n",
      "Most listened artist in Italy: radiohead, with 2035 users\n",
      "Most listened artist in Jamaica: bob marley, with 36 users\n",
      "Most listened artist in Japan: the beatles, with 1451 users\n",
      "Most listened artist in Jordan: metallica, with 9 users\n",
      "Most listened artist in Kazakhstan: linkin park, with 70 users\n",
      "Most listened artist in Kenya: coldplay, with 7 users\n",
      "Most listened artist in Kiribati: radiohead, with 5 users\n",
      "Most listened artist in Korea, Democratic People's Republic of: radiohead, with 6 users\n",
      "Most listened artist in Korea, Republic of: radiohead, with 118 users\n",
      "Most listened artist in Kuwait: rihanna, with 9 users\n",
      "Most listened artist in Kyrgyzstan: the beatles, with 5 users\n",
      "Most listened artist in Lao People's Democratic Republic: bloc party, with 2 users\n",
      "Most listened artist in Latvia: coldplay, with 424 users\n",
      "Most listened artist in Lebanon: coldplay, with 18 users\n",
      "Most listened artist in Lesotho: !!!, with 2 users\n",
      "Most listened artist in Liberia: bonobo, with 2 users\n",
      "Most listened artist in Libyan Arab Jamahiriya: 2pac, with 5 users\n",
      "Most listened artist in Liechtenstein: the beatles, with 8 users\n",
      "Most listened artist in Lithuania: coldplay, with 475 users\n",
      "Most listened artist in Luxembourg: radiohead, with 31 users\n",
      "Most listened artist in Macao: radiohead, with 8 users\n",
      "Most listened artist in Macedonia: radiohead, with 69 users\n",
      "Most listened artist in Madagascar: avril lavigne, with 5 users\n",
      "Most listened artist in Malawi: the beatles, with 4 users\n",
      "Most listened artist in Malaysia: coldplay, with 116 users\n",
      "Most listened artist in Maldives: coldplay, with 6 users\n",
      "Most listened artist in Mali: ac/dc, with 3 users\n",
      "Most listened artist in Malta: radiohead, with 16 users\n",
      "Most listened artist in Marshall Islands: bob marley, with 2 users\n",
      "Most listened artist in Martinique: michael jackson, with 7 users\n",
      "Most listened artist in Mauritania: charles mingus, with 2 users\n",
      "Most listened artist in Mauritius: coldplay, with 13 users\n",
      "Most listened artist in Mayotte: arctic monkeys, with 3 users\n",
      "Most listened artist in Mexico: radiohead, with 1578 users\n",
      "Most listened artist in Micronesia, Federated States of: radiohead, with 8 users\n",
      "Most listened artist in Moldova: coldplay, with 42 users\n",
      "Most listened artist in Monaco: arctic monkeys, with 7 users\n",
      "Most listened artist in Mongolia: röyksopp, with 9 users\n",
      "Most listened artist in Montenegro: massive attack, with 21 users\n",
      "Most listened artist in Montserrat: radiohead, with 5 users\n",
      "Most listened artist in Morocco: coldplay, with 17 users\n",
      "Most listened artist in Mozambique: bob marley, with 4 users\n",
      "Most listened artist in Myanmar: amy winehouse, with 3 users\n",
      "Most listened artist in Namibia: arcade fire, with 3 users\n",
      "Most listened artist in Nauru: the beatles, with 4 users\n",
      "Most listened artist in Nepal: the beatles, with 15 users\n",
      "Most listened artist in Netherlands: coldplay, with 2616 users\n",
      "Most listened artist in Netherlands Antilles: radiohead, with 5 users\n",
      "Most listened artist in New Caledonia: serge gainsbourg, with 3 users\n",
      "Most listened artist in New Zealand: radiohead, with 385 users\n",
      "Most listened artist in Nicaragua: portishead, with 6 users\n",
      "Most listened artist in Niger: the beatles, with 4 users\n",
      "Most listened artist in Nigeria: akon, with 8 users\n",
      "Most listened artist in Niue: radiohead, with 19 users\n",
      "Most listened artist in Norfolk Island: radiohead, with 6 users\n",
      "Most listened artist in Northern Mariana Islands: amy winehouse, with 3 users\n",
      "Most listened artist in Norway: coldplay, with 1264 users\n",
      "Most listened artist in Oman: alicia keys, with 3 users\n",
      "Most listened artist in Pakistan: junoon, with 18 users\n",
      "Most listened artist in Palau: coldplay, with 2 users\n",
      "Most listened artist in Palestinian Territory, Occupied: the beatles, with 12 users\n",
      "Most listened artist in Panama: linkin park, with 14 users\n",
      "Most listened artist in Papua New Guinea: radiohead, with 8 users\n",
      "Most listened artist in Paraguay: radiohead, with 31 users\n",
      "Most listened artist in Peru: the beatles, with 146 users\n",
      "Most listened artist in Philippines: eraserheads, with 170 users\n",
      "Most listened artist in Pitcairn: massive attack, with 6 users\n",
      "Most listened artist in Poland: metallica, with 3856 users\n",
      "Most listened artist in Portugal: radiohead, with 1012 users\n",
      "Most listened artist in Puerto Rico: the beatles, with 61 users\n",
      "Most listened artist in Qatar: jack johnson, with 6 users\n",
      "Most listened artist in Reunion: radiohead, with 11 users\n",
      "Most listened artist in Romania: coldplay, with 654 users\n",
      "Most listened artist in Russian Federation: radiohead, with 3135 users\n",
      "Most listened artist in Rwanda: bob marley & the wailers, with 3 users\n",
      "Most listened artist in Saint Helena: the beatles, with 6 users\n",
      "Most listened artist in Saint Kitts and Nevis: the beatles, with 5 users\n"
     ]
    },
    {
     "name": "stdout",
     "output_type": "stream",
     "text": [
      "Most listened artist in Saint Lucia: bob marley & the wailers, with 3 users\n",
      "Most listened artist in Saint Pierre and Miquelon: air, with 3 users\n",
      "Most listened artist in Saint Vincent and the Grenadines: the beatles, with 9 users\n",
      "Most listened artist in Samoa: pink floyd, with 4 users\n",
      "Most listened artist in San Marino: amy winehouse, with 3 users\n",
      "Most listened artist in Sao Tome and Principe: radiohead, with 7 users\n",
      "Most listened artist in Saudi Arabia: coldplay, with 24 users\n",
      "Most listened artist in Senegal: jay-z, with 3 users\n",
      "Most listened artist in Serbia: depeche mode, with 268 users\n",
      "Most listened artist in Seychelles: coldplay, with 6 users\n",
      "Most listened artist in Sierra Leone: beirut, with 3 users\n",
      "Most listened artist in Singapore: coldplay, with 158 users\n",
      "Most listened artist in Slovakia: coldplay, with 327 users\n",
      "Most listened artist in Slovenia: red hot chili peppers, with 138 users\n",
      "Most listened artist in Solomon Islands: django reinhardt, with 3 users\n",
      "Most listened artist in Somalia: radiohead, with 5 users\n",
      "Most listened artist in South Africa: radiohead, with 175 users\n",
      "Most listened artist in South Georgia and the South Sandwich Islands: radiohead, with 21 users\n",
      "Most listened artist in Spain: coldplay, with 3102 users\n",
      "Most listened artist in Sri Lanka: the beatles, with 10 users\n",
      "Most listened artist in Sudan: bob dylan, with 2 users\n",
      "Most listened artist in Suriname: air, with 2 users\n",
      "Most listened artist in Svalbard and Jan Mayen: radiohead, with 11 users\n",
      "Most listened artist in Swaziland: franz ferdinand, with 4 users\n",
      "Most listened artist in Sweden: coldplay, with 3173 users\n",
      "Most listened artist in Switzerland: coldplay, with 647 users\n",
      "Most listened artist in Syrian Arab Republic: the beatles, with 10 users\n",
      "Most listened artist in Taiwan: radiohead, with 132 users\n",
      "Most listened artist in Tajikistan: radiohead, with 4 users\n",
      "Most listened artist in Tanzania, United Republic of: kanye west, with 5 users\n",
      "Most listened artist in Thailand: coldplay, with 161 users\n",
      "Most listened artist in Timor-Leste: nirvana, with 4 users\n",
      "Most listened artist in Togo: bob marley, with 5 users\n",
      "Most listened artist in Tokelau: radiohead, with 6 users\n",
      "Most listened artist in Tonga: animal collective, with 2 users\n",
      "Most listened artist in Trinidad and Tobago: the beatles, with 13 users\n",
      "Most listened artist in Tunisia: akon, with 19 users\n",
      "Most listened artist in Turkey: radiohead, with 1675 users\n",
      "Most listened artist in Turkmenistan: kanye west, with 4 users\n",
      "Most listened artist in Turks and Caicos Islands: red hot chili peppers, with 5 users\n",
      "Most listened artist in Tuvalu: radiohead, with 10 users\n",
      "Most listened artist in Uganda: radiohead, with 9 users\n",
      "Most listened artist in Ukraine: radiohead, with 765 users\n",
      "Most listened artist in United Arab Emirates: coldplay, with 34 users\n",
      "Most listened artist in United Kingdom: radiohead, with 8300 users\n",
      "Most listened artist in United States: the beatles, with 22178 users\n",
      "Most listened artist in United States Minor Outlying Islands: the beatles, with 37 users\n",
      "Most listened artist in Uruguay: the beatles, with 83 users\n",
      "Most listened artist in Uzbekistan: red hot chili peppers, with 14 users\n",
      "Most listened artist in Vanuatu: the beatles, with 7 users\n",
      "Most listened artist in Venezuela: the beatles, with 166 users\n",
      "Most listened artist in Viet Nam: the beatles, with 40 users\n",
      "Most listened artist in Virgin Islands, British: the beatles, with 12 users\n",
      "Most listened artist in Virgin Islands, U.s.: radiohead, with 9 users\n",
      "Most listened artist in Wallis and Futuna: the beatles, with 10 users\n",
      "Most listened artist in Western Sahara: radiohead, with 9 users\n",
      "Most listened artist in Yemen: system of a down, with 5 users\n",
      "Most listened artist in Zambia: bob dylan, with 4 users\n",
      "Most listened artist in Zimbabwe: coldplay, with 18 users\n"
     ]
    }
   ],
   "source": [
    "for country in top1_artist_per_country['nb_users']:\n",
    "    print(f\"Most listened artist in {country}: {top1_artist_per_country['nb_users'][country].idxmax()}, with {top1_artist_per_country['nb_users'][country].max()} users\")"
   ]
  },
  {
   "cell_type": "markdown",
   "metadata": {},
   "source": [
    "Look at it in terms of plays:"
   ]
  },
  {
   "cell_type": "code",
   "execution_count": 54,
   "metadata": {},
   "outputs": [
    {
     "name": "stdout",
     "output_type": "stream",
     "text": [
      "Most listened artist in Afghanistan: anti-flag, with 4292 plays\n",
      "Most listened artist in Albania: metallica, with 26215 plays\n",
      "Most listened artist in Algeria: the devil wears prada, with 5274 plays\n",
      "Most listened artist in American Samoa: radiohead, with 5038 plays\n",
      "Most listened artist in Andorra: antònia font, with 14014 plays\n",
      "Most listened artist in Angola: atmosphere, with 16932 plays\n",
      "Most listened artist in Anguilla: boards of canada, with 1294 plays\n",
      "Most listened artist in Antarctica: ildjarn, with 39747 plays\n",
      "Most listened artist in Antigua and Barbuda: the killers, with 4180 plays\n",
      "Most listened artist in Argentina: the beatles, with 314047 plays\n",
      "Most listened artist in Armenia: the beatles, with 11391 plays\n",
      "Most listened artist in Aruba: the beatles, with 25775 plays\n",
      "Most listened artist in Australia: radiohead, with 832008 plays\n",
      "Most listened artist in Austria: nofx, with 477505 plays\n",
      "Most listened artist in Azerbaijan: massive attack, with 4054 plays\n",
      "Most listened artist in Bahamas: the roots, with 8539 plays\n",
      "Most listened artist in Bahrain: melanie c, with 10956 plays\n",
      "Most listened artist in Bangladesh: metallica, with 14300 plays\n",
      "Most listened artist in Barbados: john mayer, with 11122 plays\n",
      "Most listened artist in Belarus: radiohead, with 102478 plays\n",
      "Most listened artist in Belgium: radiohead, with 293903 plays\n",
      "Most listened artist in Belize: devendra banhart, with 801 plays\n",
      "Most listened artist in Benin: sum 41, with 3178 plays\n",
      "Most listened artist in Bermuda: kidneythieves, with 2830 plays\n",
      "Most listened artist in Bhutan: the offspring, with 5885 plays\n",
      "Most listened artist in Bolivia: the gathering, with 13396 plays\n",
      "Most listened artist in Bosnia and Herzegovina: azra, with 38753 plays\n",
      "Most listened artist in Botswana: the rolling stones, with 9022 plays\n",
      "Most listened artist in Bouvet Island: the beatles, with 8318 plays\n",
      "Most listened artist in Brazil: the beatles, with 2116042 plays\n",
      "Most listened artist in British Indian Ocean Territory: aphex twin, with 5853 plays\n",
      "Most listened artist in Brunei Darussalam: dir en grey, with 8545 plays\n",
      "Most listened artist in Bulgaria: metallica, with 300046 plays\n",
      "Most listened artist in Burkina Faso: the cranberries, with 6320 plays\n",
      "Most listened artist in Burundi: madonna, with 11852 plays\n",
      "Most listened artist in Cambodia: the cat empire, with 27489 plays\n",
      "Most listened artist in Cameroon: radiohead, with 2639 plays\n",
      "Most listened artist in Canada: the beatles, with 1097570 plays\n",
      "Most listened artist in Cape Verde: pj harvey, with 2318 plays\n",
      "Most listened artist in Cayman Islands: the doors, with 5022 plays\n",
      "Most listened artist in Central African Republic: gil scott-heron, with 586 plays\n",
      "Most listened artist in Chad: myslovitz, with 1277 plays\n",
      "Most listened artist in Chile: radiohead, with 274521 plays\n",
      "Most listened artist in China: coldplay, with 106994 plays\n",
      "Most listened artist in Christmas Island: capsule, with 21561 plays\n",
      "Most listened artist in Cocos (Keeling) Islands: [unknown], with 16084 plays\n",
      "Most listened artist in Colombia: radiohead, with 137430 plays\n",
      "Most listened artist in Comoros: o.s.t.r., with 3538 plays\n",
      "Most listened artist in Congo: elisa, with 10302 plays\n",
      "Most listened artist in Congo, the Democratic Republic of the: pan sonic, with 3309 plays\n",
      "Most listened artist in Cook Islands: mcfly, with 9774 plays\n",
      "Most listened artist in Costa Rica: beastie boys, with 25845 plays\n",
      "Most listened artist in Cote D'Ivoire: dream theater, with 21026 plays\n",
      "Most listened artist in Croatia: hladno pivo, with 234725 plays\n",
      "Most listened artist in Cuba: radiohead, with 4283 plays\n",
      "Most listened artist in Cyprus: portishead, with 45889 plays\n",
      "Most listened artist in Czech Republic: nightwish, with 347564 plays\n",
      "Most listened artist in Denmark: radiohead, with 235984 plays\n",
      "Most listened artist in Djibouti: nine inch nails, with 16464 plays\n",
      "Most listened artist in Dominica: edyta geppert, with 3573 plays\n",
      "Most listened artist in Dominican Republic: beyoncé, with 19716 plays\n",
      "Most listened artist in Ecuador: the beatles, with 43122 plays\n",
      "Most listened artist in Egypt: pink floyd, with 20798 plays\n",
      "Most listened artist in El Salvador: yann tiersen, with 17304 plays\n",
      "Most listened artist in Equatorial Guinea: kagrra,, with 6751 plays\n",
      "Most listened artist in Eritrea: nine inch nails, with 5270 plays\n",
      "Most listened artist in Estonia: linkin park, with 158870 plays\n",
      "Most listened artist in Ethiopia: nasum, with 2881 plays\n",
      "Most listened artist in Falkland Islands (Malvinas): travis, with 4462 plays\n",
      "Most listened artist in Faroe Islands: radiohead, with 6217 plays\n",
      "Most listened artist in Fiji: modest mouse, with 6888 plays\n",
      "Most listened artist in Finland: in flames, with 1533966 plays\n",
      "Most listened artist in France: radiohead, with 659898 plays\n",
      "Most listened artist in French Guiana: mariah carey, with 1908 plays\n",
      "Most listened artist in French Polynesia: raimundos, with 3110 plays\n",
      "Most listened artist in French Southern Territories: timbaland, with 3872 plays\n",
      "Most listened artist in Gabon: phish, with 2401 plays\n",
      "Most listened artist in Gambia: oasis, with 3412 plays\n",
      "Most listened artist in Georgia: pink floyd, with 35224 plays\n",
      "Most listened artist in Germany: die Ärzte, with 2955844 plays\n",
      "Most listened artist in Ghana: nina simone, with 6221 plays\n",
      "Most listened artist in Gibraltar: yann tiersen, with 7506 plays\n",
      "Most listened artist in Greece: radiohead, with 88408 plays\n",
      "Most listened artist in Greenland: klamydia, with 17265 plays\n",
      "Most listened artist in Grenada: kylie minogue, with 1327 plays\n",
      "Most listened artist in Guadeloupe: beatsteaks, with 4701 plays\n",
      "Most listened artist in Guam: screeching weasel, with 15610 plays\n",
      "Most listened artist in Guatemala: tristania, with 35774 plays\n",
      "Most listened artist in Guinea-Bissau: tom waits, with 3643 plays\n",
      "Most listened artist in Guyana: dj bobo, with 5458 plays\n",
      "Most listened artist in Haiti: meshell ndegéocello, with 4401 plays\n",
      "Most listened artist in Heard Island and Mcdonald Islands: ea80, with 8743 plays\n",
      "Most listened artist in Holy See (Vatican City State): marilyn manson, with 20833 plays\n",
      "Most listened artist in Honduras: the beatles, with 5613 plays\n",
      "Most listened artist in Hong Kong: muse, with 66422 plays\n",
      "Most listened artist in Hungary: nine inch nails, with 90921 plays\n",
      "Most listened artist in Iceland: the beatles, with 83947 plays\n",
      "Most listened artist in India: pink floyd, with 158854 plays\n",
      "Most listened artist in Indonesia: radiohead, with 56046 plays\n",
      "Most listened artist in Iran, Islamic Republic of: pink floyd, with 78875 plays\n",
      "Most listened artist in Iraq: various production, with 3698 plays\n",
      "Most listened artist in Ireland: the beatles, with 177685 plays\n",
      "Most listened artist in Israel: the beatles, with 157804 plays\n",
      "Most listened artist in Italy: radiohead, with 468008 plays\n",
      "Most listened artist in Jamaica: x-ray dog, with 15837 plays\n",
      "Most listened artist in Japan: the beatles, with 688057 plays\n",
      "Most listened artist in Jordan: queensrÿche, with 5661 plays\n",
      "Most listened artist in Kazakhstan: linkin park, with 33755 plays\n",
      "Most listened artist in Kenya: the beatles, with 5558 plays\n",
      "Most listened artist in Kiribati: sri chinmoy, with 5027 plays\n",
      "Most listened artist in Korea, Democratic People's Republic of: the fall, with 5063 plays\n",
      "Most listened artist in Korea, Republic of: younha, with 85961 plays\n",
      "Most listened artist in Kuwait: tool, with 10979 plays\n",
      "Most listened artist in Kyrgyzstan: the beatles, with 6493 plays\n",
      "Most listened artist in Lao People's Democratic Republic: guns n' roses, with 6047 plays\n",
      "Most listened artist in Latvia: metallica, with 158435 plays\n",
      "Most listened artist in Lebanon: najwa karam, with 42343 plays\n",
      "Most listened artist in Lesotho: iron maiden, with 12381 plays\n",
      "Most listened artist in Liberia: blink-182, with 1514 plays\n",
      "Most listened artist in Libyan Arab Jamahiriya: dark tranquillity, with 8082 plays\n",
      "Most listened artist in Liechtenstein: björk, with 4090 plays\n",
      "Most listened artist in Lithuania: coldplay, with 123201 plays\n",
      "Most listened artist in Luxembourg: anathema, with 7409 plays\n",
      "Most listened artist in Macao: radiohead, with 4804 plays\n",
      "Most listened artist in Macedonia: katatonia, with 28639 plays\n",
      "Most listened artist in Madagascar: erik satie, with 2045 plays\n",
      "Most listened artist in Malawi: beatsteaks, with 2324 plays\n",
      "Most listened artist in Malaysia: coldplay, with 61621 plays\n",
      "Most listened artist in Maldives: devendra banhart, with 4573 plays\n",
      "Most listened artist in Mali: pearl jam, with 1915 plays\n",
      "Most listened artist in Malta: déspairsray, with 8930 plays\n",
      "Most listened artist in Marshall Islands: gentleman, with 1574 plays\n",
      "Most listened artist in Martinique: sizzla, with 2104 plays\n",
      "Most listened artist in Mauritania: bob marley, with 3249 plays\n",
      "Most listened artist in Mauritius: muse, with 4672 plays\n",
      "Most listened artist in Mayotte: brian eno, with 2133 plays\n",
      "Most listened artist in Mexico: radiohead, with 664288 plays\n",
      "Most listened artist in Micronesia, Federated States of: taking back sunday, with 6435 plays\n",
      "Most listened artist in Moldova: moonspell, with 15574 plays\n",
      "Most listened artist in Monaco: tori amos, with 9918 plays\n",
      "Most listened artist in Mongolia: armin van buuren, with 4920 plays\n",
      "Most listened artist in Montenegro: atb, with 15258 plays\n",
      "Most listened artist in Montserrat: strung out, with 2735 plays\n",
      "Most listened artist in Morocco: epic45, with 9657 plays\n",
      "Most listened artist in Mozambique: relient k, with 8695 plays\n",
      "Most listened artist in Myanmar: the national, with 806 plays\n",
      "Most listened artist in Namibia: tegan and sara, with 17023 plays\n",
      "Most listened artist in Nauru: 3 doors down, with 2193 plays\n",
      "Most listened artist in Nepal: the beatles, with 11737 plays\n",
      "Most listened artist in Netherlands: the beatles, with 815762 plays\n",
      "Most listened artist in Netherlands Antilles: nine inch nails, with 15012 plays\n",
      "Most listened artist in New Caledonia: ryan adams, with 1808 plays\n",
      "Most listened artist in New Zealand: enrique iglesias, with 234371 plays\n",
      "Most listened artist in Nicaragua: mariah carey, with 2618 plays\n",
      "Most listened artist in Niger: 3 steps ahead, with 11695 plays\n",
      "Most listened artist in Nigeria: yusuf islam, with 3995 plays\n",
      "Most listened artist in Niue: sigur rós, with 5544 plays\n",
      "Most listened artist in Norfolk Island: mclusky, with 3457 plays\n",
      "Most listened artist in Northern Mariana Islands: eloy, with 14693 plays\n",
      "Most listened artist in Norway: in flames, with 494294 plays\n",
      "Most listened artist in Oman: brandy, with 2253 plays\n",
      "Most listened artist in Pakistan: metallica, with 22872 plays\n",
      "Most listened artist in Palau: the beatles, with 1836 plays\n",
      "Most listened artist in Palestinian Territory, Occupied: arctic monkeys, with 12736 plays\n",
      "Most listened artist in Panama: alexz johnson, with 7609 plays\n",
      "Most listened artist in Papua New Guinea: lisa stansfield, with 6152 plays\n",
      "Most listened artist in Paraguay: radiohead, with 13451 plays\n",
      "Most listened artist in Peru: the beatles, with 116771 plays\n",
      "Most listened artist in Philippines: the beatles, with 66561 plays\n",
      "Most listened artist in Pitcairn: the beatles, with 5924 plays\n",
      "Most listened artist in Poland: o.s.t.r., with 2191520 plays\n",
      "Most listened artist in Portugal: radiohead, with 341515 plays\n",
      "Most listened artist in Puerto Rico: the beatles, with 20052 plays\n",
      "Most listened artist in Qatar: orphaned land, with 6793 plays\n",
      "Most listened artist in Reunion: bushido, with 15203 plays\n",
      "Most listened artist in Romania: pink floyd, with 223238 plays\n",
      "Most listened artist in Russian Federation: radiohead, with 1204438 plays\n",
      "Most listened artist in Rwanda: iron maiden, with 1466 plays\n",
      "Most listened artist in Saint Helena: the rolling stones, with 4060 plays\n",
      "Most listened artist in Saint Kitts and Nevis: loikaemie, with 6283 plays\n",
      "Most listened artist in Saint Lucia: the beatles, with 7349 plays\n",
      "Most listened artist in Saint Pierre and Miquelon: three 6 mafia, with 2072 plays\n"
     ]
    },
    {
     "name": "stdout",
     "output_type": "stream",
     "text": [
      "Most listened artist in Saint Vincent and the Grenadines: andrew bird, with 5044 plays\n",
      "Most listened artist in Samoa: bonobo, with 1210 plays\n",
      "Most listened artist in San Marino: my morning jacket, with 4489 plays\n",
      "Most listened artist in Sao Tome and Principe: devo, with 12366 plays\n",
      "Most listened artist in Saudi Arabia: kylie minogue, with 103716 plays\n",
      "Most listened artist in Senegal: incognito, with 1573 plays\n",
      "Most listened artist in Serbia: pink floyd, with 94575 plays\n",
      "Most listened artist in Seychelles: nine inch nails, with 3954 plays\n",
      "Most listened artist in Sierra Leone: the libertines, with 3530 plays\n",
      "Most listened artist in Singapore: radiohead, with 51775 plays\n",
      "Most listened artist in Slovakia: hans zimmer, with 195144 plays\n",
      "Most listened artist in Slovenia: pink floyd, with 97015 plays\n",
      "Most listened artist in Solomon Islands: 2pac, with 6359 plays\n",
      "Most listened artist in Somalia: pink floyd, with 4086 plays\n",
      "Most listened artist in South Africa: radiohead, with 66850 plays\n",
      "Most listened artist in South Georgia and the South Sandwich Islands: the berzerker, with 17774 plays\n",
      "Most listened artist in Spain: radiohead, with 731205 plays\n",
      "Most listened artist in Sri Lanka: linkin park, with 5968 plays\n",
      "Most listened artist in Sudan: quasimoto, with 1444 plays\n",
      "Most listened artist in Suriname: elliott smith, with 2289 plays\n",
      "Most listened artist in Svalbard and Jan Mayen: fear factory, with 6295 plays\n",
      "Most listened artist in Swaziland: saves the day, with 4597 plays\n",
      "Most listened artist in Sweden: kent, with 1904571 plays\n",
      "Most listened artist in Switzerland: radiohead, with 179010 plays\n",
      "Most listened artist in Syrian Arab Republic: secret garden, with 4078 plays\n",
      "Most listened artist in Taiwan: radiohead, with 51601 plays\n",
      "Most listened artist in Tajikistan: sun city girls, with 3822 plays\n",
      "Most listened artist in Tanzania, United Republic of: mansions, with 4004 plays\n",
      "Most listened artist in Thailand: britney spears, with 66449 plays\n",
      "Most listened artist in Timor-Leste: emery, with 2572 plays\n",
      "Most listened artist in Togo: paolo meneguzzi, with 6366 plays\n",
      "Most listened artist in Tokelau: the beatles, with 4577 plays\n",
      "Most listened artist in Tonga: thievery corporation, with 3952 plays\n",
      "Most listened artist in Trinidad and Tobago: chemistry, with 28363 plays\n",
      "Most listened artist in Tunisia: rihanna, with 8875 plays\n",
      "Most listened artist in Turkey: pink floyd, with 550947 plays\n",
      "Most listened artist in Turkmenistan: boards of canada, with 4149 plays\n",
      "Most listened artist in Turks and Caicos Islands: blink-182, with 7792 plays\n",
      "Most listened artist in Tuvalu: cocteau twins, with 5558 plays\n",
      "Most listened artist in Uganda: johann sebastian bach, with 13785 plays\n",
      "Most listened artist in Ukraine: radiohead, with 254543 plays\n",
      "Most listened artist in United Arab Emirates: super junior, with 15031 plays\n",
      "Most listened artist in United Kingdom: radiohead, with 2689161 plays\n",
      "Most listened artist in United States: the beatles, with 10705201 plays\n",
      "Most listened artist in United States Minor Outlying Islands: bob dylan, with 24184 plays\n",
      "Most listened artist in Uruguay: the beatles, with 29374 plays\n",
      "Most listened artist in Uzbekistan: coldplay, with 33846 plays\n",
      "Most listened artist in Vanuatu: closterkeller, with 2826 plays\n",
      "Most listened artist in Venezuela: radiohead, with 57711 plays\n",
      "Most listened artist in Viet Nam: coldplay, with 18419 plays\n",
      "Most listened artist in Virgin Islands, British: placebo, with 15122 plays\n",
      "Most listened artist in Virgin Islands, U.s.: akira yamaoka, with 19721 plays\n",
      "Most listened artist in Wallis and Futuna: the living end, with 12180 plays\n",
      "Most listened artist in Western Sahara: dark sanctuary, with 3616 plays\n",
      "Most listened artist in Yemen: joan of arc, with 6150 plays\n",
      "Most listened artist in Zambia: red hot chili peppers, with 3714 plays\n",
      "Most listened artist in Zimbabwe: big bang, with 35111 plays\n"
     ]
    }
   ],
   "source": [
    "for country in top1_artist_per_country['Plays']:\n",
    "    print(f\"Most listened artist in {country}: {top1_artist_per_country['Plays'][country].idxmax()}, with {top1_artist_per_country['Plays'][country].max()} plays\")"
   ]
  },
  {
   "cell_type": "markdown",
   "metadata": {},
   "source": [
    "We observe that the number of plays and users that listen to an artist doesn't always lead to the same top result. However we can argue that there seem to be cultural differences between the countries leading to different top groups/genres. For example, most nordic countries, have a rock/metal group as top position, while more West-European tend to listen to pop.\n",
    "\n",
    "\n",
    "We therefore decide to inspect for each users, the max number of plays they have. "
   ]
  },
  {
   "cell_type": "code",
   "execution_count": 55,
   "metadata": {},
   "outputs": [],
   "source": [
    "max_top = top_data.groupby(['ID'])['Plays'].max()"
   ]
  },
  {
   "cell_type": "code",
   "execution_count": 56,
   "metadata": {},
   "outputs": [
    {
     "data": {
      "text/plain": [
       "Text(0, 0.5, 'Number of users')"
      ]
     },
     "execution_count": 56,
     "metadata": {},
     "output_type": "execute_result"
    },
    {
     "data": {
      "image/png": "[encoded data removed]",
      "text/plain": [
       "<Figure size 936x360 with 1 Axes>"
      ]
     },
     "metadata": {
      "needs_background": "light"
     },
     "output_type": "display_data"
    }
   ],
   "source": [
    "max_top.reset_index().hist(bins = 100, figsize = (13, 5))\n",
    "plt.yscale('log')\n",
    "plt.title('Number of plays for most listened artist per user')\n",
    "plt.xlabel('Number of plays')\n",
    "plt.ylabel('Number of users')"
   ]
  },
  {
   "cell_type": "code",
   "execution_count": 57,
   "metadata": {},
   "outputs": [
    {
     "data": {
      "text/html": [
       "<div>\n",
       "<style scoped>\n",
       "    .dataframe tbody tr th:only-of-type {\n",
       "        vertical-align: middle;\n",
       "    }\n",
       "\n",
       "    .dataframe tbody tr th {\n",
       "        vertical-align: top;\n",
       "    }\n",
       "\n",
       "    .dataframe thead th {\n",
       "        text-align: right;\n",
       "    }\n",
       "</style>\n",
       "<table border=\"1\" class=\"dataframe\">\n",
       "  <thead>\n",
       "    <tr style=\"text-align: right;\">\n",
       "      <th></th>\n",
       "      <th>ID</th>\n",
       "      <th>Artist_ID</th>\n",
       "      <th>Artist</th>\n",
       "      <th>Plays</th>\n",
       "    </tr>\n",
       "  </thead>\n",
       "  <tbody>\n",
       "    <tr>\n",
       "      <th>9654928</th>\n",
       "      <td>8d0384537845e7f2b1b8b3e8a9f67eb8d9439794</td>\n",
       "      <td>dcaa4f81-bfb7-44eb-8594-4e74f004b6e4</td>\n",
       "      <td>nofx</td>\n",
       "      <td>419157</td>\n",
       "    </tr>\n",
       "  </tbody>\n",
       "</table>\n",
       "</div>"
      ],
      "text/plain": [
       "                                               ID  \\\n",
       "9654928  8d0384537845e7f2b1b8b3e8a9f67eb8d9439794   \n",
       "\n",
       "                                    Artist_ID Artist   Plays  \n",
       "9654928  dcaa4f81-bfb7-44eb-8594-4e74f004b6e4   nofx  419157  "
      ]
     },
     "execution_count": 57,
     "metadata": {},
     "output_type": "execute_result"
    }
   ],
   "source": [
    "top_data[top_data['Plays'] == top_data['Plays'].max()]"
   ]
  },
  {
   "cell_type": "markdown",
   "metadata": {},
   "source": [
    "Most user can be found at the start of scale (notice the logY scale), but some users are truly amazing, with the max plays sitting at 419157. After some research, nofx, the artist this user has been listening to, mainly makes music of about 2 minutes, still this user has more or less listened to 1.6 years of nofx in about 4 years. We really suspect that this is due to a bot. To not have this kind of biases, we argue that taking the number of users listening to an artist is more representative of its fame in the corresponding country"
   ]
  },
  {
   "cell_type": "code",
   "execution_count": 58,
   "metadata": {},
   "outputs": [
    {
     "data": {
      "text/html": [
       "<div>\n",
       "<style scoped>\n",
       "    .dataframe tbody tr th:only-of-type {\n",
       "        vertical-align: middle;\n",
       "    }\n",
       "\n",
       "    .dataframe tbody tr th {\n",
       "        vertical-align: top;\n",
       "    }\n",
       "\n",
       "    .dataframe thead th {\n",
       "        text-align: right;\n",
       "    }\n",
       "</style>\n",
       "<table border=\"1\" class=\"dataframe\">\n",
       "  <thead>\n",
       "    <tr style=\"text-align: right;\">\n",
       "      <th></th>\n",
       "      <th>ID</th>\n",
       "      <th>Gender</th>\n",
       "      <th>Age</th>\n",
       "      <th>Country</th>\n",
       "      <th>Registered</th>\n",
       "    </tr>\n",
       "  </thead>\n",
       "  <tbody>\n",
       "    <tr>\n",
       "      <th>197654</th>\n",
       "      <td>8d0384537845e7f2b1b8b3e8a9f67eb8d9439794</td>\n",
       "      <td>m</td>\n",
       "      <td>31.0</td>\n",
       "      <td>Austria</td>\n",
       "      <td>Nov 11, 2005</td>\n",
       "    </tr>\n",
       "  </tbody>\n",
       "</table>\n",
       "</div>"
      ],
      "text/plain": [
       "                                              ID Gender   Age  Country  \\\n",
       "197654  8d0384537845e7f2b1b8b3e8a9f67eb8d9439794      m  31.0  Austria   \n",
       "\n",
       "          Registered  \n",
       "197654  Nov 11, 2005  "
      ]
     },
     "execution_count": 58,
     "metadata": {},
     "output_type": "execute_result"
    }
   ],
   "source": [
    "top_user[top_user['ID'] == '8d0384537845e7f2b1b8b3e8a9f67eb8d9439794']"
   ]
  },
  {
   "cell_type": "markdown",
   "metadata": {},
   "source": [
    "## 6.Measurement of the quality of the individual recommendation"
   ]
  },
  {
   "cell_type": "code",
   "execution_count": 59,
   "metadata": {},
   "outputs": [],
   "source": [
    "#Splits the dataframe into a train and a test set randomly\n",
    "def split_train_test(df, train_size = 0.9 ,seed = 42, apply_seed = False):\n",
    "    uniques_ids = df.ID.unique()\n",
    "    if apply_seed:\n",
    "        np.random.seed(seed)\n",
    "    train = pd.DataFrame()\n",
    "    test = pd.DataFrame()\n",
    "    \n",
    "    for user_id in uniques_ids:\n",
    "        user_sub = df[df['ID'] == user_id]\n",
    "        randomization = np.random.permutation(user_sub.index)\n",
    "        user_sub_train = user_sub.loc[randomization[0:int(len(randomization)*train_size)]]\n",
    "        user_sub_test = user_sub.loc[randomization[int(len(user_sub)*train_size):len(user_sub)]]\n",
    "        \n",
    "        train = train.append(user_sub_train)\n",
    "        test = test.append(user_sub_test)\n",
    "    \n",
    "    return train, test\n"
   ]
  },
  {
   "cell_type": "markdown",
   "metadata": {},
   "source": [
    "Computes just mean absolute error"
   ]
  },
  {
   "cell_type": "code",
   "execution_count": 60,
   "metadata": {},
   "outputs": [],
   "source": [
    "def compute_mae(pred_method, helper_df):\n",
    "    mae = 0\n",
    "    for i, row in test.iterrows():\n",
    "        user = row.ID\n",
    "        artist = row.Artist\n",
    "        prediction = pred_method(user, artist, helper_df)\n",
    "        mae += abs(row.Plays - prediction)\n",
    "    return mae/len(test)"
   ]
  },
  {
   "cell_type": "markdown",
   "metadata": {},
   "source": [
    "Computes accuracy, precision and recall"
   ]
  },
  {
   "cell_type": "code",
   "execution_count": 61,
   "metadata": {},
   "outputs": [],
   "source": [
    "def compute_appreciation(pred_method, helper_df, user_specific_threshold = None, threshold = 100):\n",
    "    predictions = np.zeros(len(test))\n",
    "    reals = np.zeros(len(test))\n",
    "    indice = 0\n",
    "    for i, row in test.iterrows():\n",
    "        user = row.ID\n",
    "        artist = row.Artist\n",
    "        prediction = pred_method(user, artist, helper_df)\n",
    "        predictions[indice] = prediction > threshold\n",
    "        reals[indice] = row.Plays > threshold\n",
    "        indice += 1\n",
    "    \n",
    "    tp = np.sum(np.bitwise_and(predictions==1, reals == 1))\n",
    "    fp = np.sum(np.bitwise_and(predictions==1, reals == 0))\n",
    "    \n",
    "    fn = np.sum(np.bitwise_and(predictions== 0, reals == 1))\n",
    "    \n",
    "    acc = np.sum(predictions == reals)\n",
    "    \n",
    "    return mae/len(test_df), acc/len(test_df), tp/(tp+fp), tp/(tp + fn)"
   ]
  },
  {
   "cell_type": "markdown",
   "metadata": {},
   "source": [
    "Computes mae, accuracy, precision and recall in one go"
   ]
  },
  {
   "cell_type": "code",
   "execution_count": 62,
   "metadata": {},
   "outputs": [],
   "source": [
    "def compute_mae_and_app(test_df, pred_method, helper_df, knn_df = None, knn = None, using_knn = False, threshold = 250):\n",
    "    predictions = np.zeros(len(test_df))\n",
    "    reals = np.zeros(len(test_df))\n",
    "    indice = 0\n",
    "    mae = 0\n",
    "    for i, row in test_df.iterrows():\n",
    "        user = row.ID\n",
    "        artist = row.Artist\n",
    "        if using_knn:\n",
    "            prediction = pred_method(user, artist, helper_df, knn_df, knn)\n",
    "        else:    \n",
    "            prediction = pred_method(user, artist, helper_df)\n",
    "        mae += abs(row.Plays - prediction)\n",
    "        predictions[indice] = prediction > threshold\n",
    "        reals[indice] = row.Plays > threshold\n",
    "        indice += 1\n",
    "    \n",
    "    tp = np.sum(np.bitwise_and(predictions==1, reals == 1))\n",
    "    fp = np.sum(np.bitwise_and(predictions==1, reals == 0))\n",
    "    \n",
    "    fn = np.sum(np.bitwise_and(predictions== 0, reals == 1))\n",
    "    \n",
    "    acc = np.sum(predictions == reals)\n",
    "    \n",
    "    return mae/len(test_df), acc/len(test_df), tp/(tp+fp), tp/(tp + fn)"
   ]
  },
  {
   "cell_type": "code",
   "execution_count": 63,
   "metadata": {},
   "outputs": [],
   "source": [
    "def compute_n_rounds(pred_method, nb_users_selected = 500, n = 10, n_neighbors = 6,seed = 42):\n",
    "    \"\"\"\n",
    "    Computes the mae, accuracy, precision and recall on n round of the pred_method\n",
    "    \n",
    "    pred_method = method that allows to compute the prediction\n",
    "    nb_users_selected = number of users in the sub-sample\n",
    "    n = number of rounds\n",
    "    seed = seed for random generation of sub-samples\n",
    "    \"\"\"\n",
    "    np.random.seed(seed)\n",
    "    maes, accs, precs, recs = [],[],[],[]\n",
    "    nb_users = len(top_merged[['ID']].groupby('ID'))\n",
    "    df = top_merged.groupby('ID').size()\n",
    "    rng = np.random.default_rng(seed = seed)\n",
    "    \n",
    "    for i in range(n):\n",
    "        print(f\"===== Epoch {i} =====\")\n",
    "        selected_users = rng.choice(nb_users, nb_users_selected, replace = False) #Generate a random list of nb_users_select users\n",
    "        subset_500_users = df[selected_users]\n",
    "        subset = top_merged[top_merged.ID.isin(subset_500_users.index)]\n",
    "        train, test = split_train_test(subset, train_size=0.95)\n",
    "\n",
    "        if pred_method == compute_pred_avg_user:\n",
    "            avg_user_listens = train[['ID', 'Plays']].groupby(\"ID\").mean('Plays').reset_index()\n",
    "            mae, acc, prec, rec = compute_mae_and_app(test, pred_method, avg_user_listens)\n",
    "\n",
    "        elif pred_method == compute_pred_avg_artist:\n",
    "            avg_artist_listens = train[['Artist', 'Plays']].groupby(\"Artist\").mean('Plays').reset_index()\n",
    "            mae, acc, prec, rec = compute_mae_and_app(test, pred_method, avg_artist_listens)\n",
    "        \n",
    "        elif pred_method == compute_pred_knn:\n",
    "            knn_pivot = subset.pivot_table(index = 'ID', columns = 'Artist', values = 'Plays').fillna(0).astype(bool)\n",
    "            model_knn = NearestNeighbors(metric='jaccard', n_neighbors=n_neighbors, n_jobs=-1)\n",
    "            model_knn.fit(knn_pivot)\n",
    "            mae, acc, prec, rec = compute_mae_and_app(test, pred_method, train, knn_pivot, model_knn, using_knn = True)\n",
    "        \n",
    "        else:\n",
    "            mae, acc, prec, rec = compute_mae_and_app(test, pred_method, train) #sim measures doesn't a helper set\n",
    "        \n",
    "        maes.append(mae)\n",
    "        accs.append(acc)\n",
    "        precs.append(prec)\n",
    "        recs.append(rec)\n",
    "        \n",
    "    return maes, accs, precs, recs\n"
   ]
  },
  {
   "cell_type": "markdown",
   "metadata": {},
   "source": [
    "## 7. Measurment of the quality of the group recommender systems:\n",
    "\n",
    "For the group recommendation system. We use a least measury principle, meaning we want to satisfy the most users. So for each user we need to get the number of plays, if it is over a certain threshold, we consider he likes it, otherwise not. We then aggregate all the individual predictions and try to select the artist with the most likes.\n",
    "\n",
    "To measure the performance of this we use the Discounted Cumulative Gain (DCG)."
   ]
  },
  {
   "cell_type": "code",
   "execution_count": 64,
   "metadata": {},
   "outputs": [],
   "source": [
    "def get_group_recommendation_according_to_our_algorithm(users, same_artists, df, threshold = 250):\n",
    "    recommendations = pd.DataFrame(columns = [\"Artist\", \"nb_likes\"])\n",
    "    for artist in same_artists:\n",
    "        nb_likes = 0\n",
    "        for user in users:\n",
    "            if df[(df['ID'] == user) & (df['Artist'] == artist)].iloc[0]['Plays'] > threshold:\n",
    "                nb_likes += 1\n",
    "        recommendations = recommendations.append({\"Artist\": artist, \"nb_likes\" : nb_likes}, ignore_index = True)\n",
    "    return recommendations.sort_values(\"nb_likes\", ascending=False).reset_index().drop(columns = ['index'])"
   ]
  },
  {
   "cell_type": "code",
   "execution_count": 65,
   "metadata": {},
   "outputs": [],
   "source": [
    "def get_nb_plays(user, artist, df):\n",
    "    res = df[(df['ID'] == user) & (df['Artist'] == artist)]\n",
    "    if len(res) == 0:\n",
    "        return -1\n",
    "    else:\n",
    "        return res.iloc[0]['Plays']\n",
    "\n",
    "def test_recommender(pred_method, df, helper_df, group_of_users, same_artists, threshold = 250):\n",
    "    list_of_artists = dict()\n",
    "    \n",
    "    for user in group_of_users:\n",
    "        nb_likes = 0\n",
    "        for artist in df[(df['ID'] == user) & (df['Artist'].isin(same_artists))]['Artist']:\n",
    "            list_of_artists[artist] = 0\n",
    "    \n",
    "    for artist in list_of_artists.keys():\n",
    "        for user in group_of_users:\n",
    "            if(user == group_of_users[0]): #Always takes first user because selection is randomized\n",
    "                nb_plays = get_nb_plays(user, artist, df)\n",
    "            \n",
    "            else: nb_plays = -1\n",
    "                \n",
    "            if nb_plays != -1:\n",
    "                if nb_plays > threshold:\n",
    "                    list_of_artists[artist] += 1\n",
    "            \n",
    "            else:\n",
    "                prediction = pred_method(user, artist, helper_df)\n",
    "                if prediction > threshold:\n",
    "                    list_of_artists[artist] += 1\n",
    "    \n",
    "    recommendation = pd.DataFrame(columns = [\"Artist\", \"nb_likes\"])\n",
    "    \n",
    "    for entry in list_of_artists:\n",
    "        recommendation = recommendation.append({\"Artist\":entry, \"nb_likes\":list_of_artists[entry]}, ignore_index = True)\n",
    "    \n",
    "    return recommendation.sort_values(\"nb_likes\", ascending = False).reset_index().drop(columns = \"index\")"
   ]
  },
  {
   "cell_type": "code",
   "execution_count": 66,
   "metadata": {},
   "outputs": [],
   "source": [
    "def dcg_idcg(reals, preds):\n",
    "    reals['Rank'] = [i for i in range(1, len(reals)+ 1)]\n",
    "    preds['Rank'] = [i for i in range(1, len(reals)+ 1)] #Not same rank for items rated equally\n",
    "    final = reals.merge(preds, on = 'Artist')\n",
    "    log_ranks_pred = np.log2(final['Rank_y'])\n",
    "    log_ranks_pred = log_ranks_pred.where(log_ranks_pred > 0, 1)\n",
    "    log_ranks_real = np.log2(final['Rank_x'])\n",
    "    log_ranks_real = log_ranks_real.where(log_ranks_real > 0, 1)\n",
    "    DCG = np.sum(final['nb_likes_x']/log_ranks_pred)\n",
    "    IDCG = np.sum(final['nb_likes_x']/log_ranks_real)\n",
    "    if IDCG == 0: #Case nobody has liked anything\n",
    "        return 1.0\n",
    "    return DCG/IDCG"
   ]
  },
  {
   "cell_type": "code",
   "execution_count": 67,
   "metadata": {},
   "outputs": [],
   "source": [
    "def measure_group_recommendation(pred_method, group_df, helper_df, rng):\n",
    "    users = group_df['ID'].unique()\n",
    "    measures = []\n",
    "    rng = rng\n",
    "    for nb_pred in range(10):\n",
    "        random_6_users = rng.choice(len(users), 6, replace = False)\n",
    "        my_6_users_group = users[random_6_users]\n",
    "        \n",
    "        aggregated_set = group_df[group_df['ID'].isin(users)][['ID','Artist']].groupby('ID').agg(set)\n",
    "        same_artists = aggregated_set.iloc[0]['Artist']\n",
    "        for i,row in aggregated_set.iterrows():\n",
    "            same_artists = same_artists.intersection(row['Artist'])\n",
    "        \n",
    "        random_5_artists = np.array(list(same_artists))\n",
    "        random_5_artists = random_5_artists[rng.choice(len(same_artists), 5, replace = False)]\n",
    "        \n",
    "        reals = get_group_recommendation_according_to_our_algorithm(my_6_users_group, random_5_artists, group)\n",
    "        preds = test_recommender(pred_method, group, helper_df, users, random_5_artists)\n",
    "        measures.append(dcg_idcg(reals, preds))\n",
    "    return measures"
   ]
  },
  {
   "cell_type": "markdown",
   "metadata": {},
   "source": [
    "# 8.Testing different prediction method"
   ]
  },
  {
   "cell_type": "markdown",
   "metadata": {},
   "source": [
    "### Predicting only based on the user average listens\n",
    "\n",
    "Trivially predict the mean of the user: $\\large pred(u,i) = \\mu_{u} = \\sum_{k \\in I(u)} \\frac{Plays(u, k)}{|I(u)|}$\n",
    "\n",
    "where, $u$ is the usere we're making the prediction for, $i$ is the artist we want to predict the number of plays, $I(u)$ is the set of Artist the user has listened to.\n",
    "\n",
    "Have still to measure the performance ? How?"
   ]
  },
  {
   "cell_type": "code",
   "execution_count": 68,
   "metadata": {},
   "outputs": [],
   "source": [
    "def compute_pred_avg_user(user, artist_i, avg_listens):\n",
    "    return int(avg_listens[avg_listens['ID'] == user]['Plays'])"
   ]
  },
  {
   "cell_type": "markdown",
   "metadata": {},
   "source": [
    "#### Results on individual prediction"
   ]
  },
  {
   "cell_type": "code",
   "execution_count": 69,
   "metadata": {},
   "outputs": [
    {
     "name": "stdout",
     "output_type": "stream",
     "text": [
      "===== Epoch 0 =====\n",
      "===== Epoch 1 =====\n",
      "===== Epoch 2 =====\n",
      "===== Epoch 3 =====\n",
      "===== Epoch 4 =====\n",
      "===== Epoch 5 =====\n",
      "===== Epoch 6 =====\n",
      "===== Epoch 7 =====\n",
      "===== Epoch 8 =====\n",
      "===== Epoch 9 =====\n",
      "Time required to do the prediction on 10 rounds 79.76528096199036\n"
     ]
    }
   ],
   "source": [
    "start = time.time()\n",
    "maes_users, accs_users, precs_users, recs_users = compute_n_rounds(compute_pred_avg_user)\n",
    "end = time.time()\n",
    "print(f\"Time required to do the prediction on 10 rounds {end - start}\")"
   ]
  },
  {
   "cell_type": "code",
   "execution_count": 70,
   "metadata": {},
   "outputs": [
    {
     "data": {
      "text/plain": [
       "Text(0.5, 1.0, 'Mean absolute error on 10 runs')"
      ]
     },
     "execution_count": 70,
     "metadata": {},
     "output_type": "execute_result"
    },
    {
     "data": {
      "image/png": "[encoded data removed]",
      "text/plain": [
       "<Figure size 432x288 with 1 Axes>"
      ]
     },
     "metadata": {
      "needs_background": "light"
     },
     "output_type": "display_data"
    }
   ],
   "source": [
    "sns.barplot(data = pd.DataFrame(maes_users, columns = [\"Mae_User_avg\"]))\n",
    "plt.ylabel(\"Mean absolute error\")\n",
    "plt.title(\"Mean absolute error on 10 runs\")"
   ]
  },
  {
   "cell_type": "code",
   "execution_count": 71,
   "metadata": {},
   "outputs": [
    {
     "data": {
      "text/plain": [
       "<matplotlib.axes._subplots.AxesSubplot at 0x1e81e1db388>"
      ]
     },
     "execution_count": 71,
     "metadata": {},
     "output_type": "execute_result"
    },
    {
     "data": {
      "image/png": "[encoded data removed]",
      "text/plain": [
       "<Figure size 432x288 with 1 Axes>"
      ]
     },
     "metadata": {
      "needs_background": "light"
     },
     "output_type": "display_data"
    }
   ],
   "source": [
    "sns.barplot(data = pd.DataFrame({\"Accuracy_User_avg\":accs_users, \"Precision_User_avg\":precs_users, \"Recall_User_avg\":recs_users}))"
   ]
  },
  {
   "cell_type": "markdown",
   "metadata": {},
   "source": [
    "#### Results on group prediction"
   ]
  },
  {
   "cell_type": "code",
   "execution_count": 69,
   "metadata": {},
   "outputs": [
    {
     "name": "stdout",
     "output_type": "stream",
     "text": [
      "Finished round 0\n",
      "Finished round 1\n",
      "Finished round 2\n",
      "Finished round 3\n",
      "Finished round 4\n",
      "Finished round 5\n",
      "Finished round 6\n",
      "Finished round 7\n",
      "Finished round 8\n",
      "Finished round 9\n",
      "Time required to do the predictions on 10 rounds 218.59457397460938\n"
     ]
    }
   ],
   "source": [
    "start = time.time()\n",
    "group_pred_measures = []\n",
    "rng = np.random.default_rng(seed = 42)\n",
    "for i in range(10):\n",
    "    measures = []\n",
    "    for file in os.listdir(GROUP_FOLDER):\n",
    "        group = pd.read_csv(f'{GROUP_FOLDER}{file}').drop(columns = ['Unnamed: 0'])\n",
    "        measures.append(measure_group_recommendation(compute_pred_avg_user, group, group.groupby('ID').mean('Plays').reset_index(), rng))\n",
    "    group_pred_measures.append(np.hstack(np.array(measures)).mean())\n",
    "    print(f\"Finished round {i}\")\n",
    "groups_user_avg = group_pred_measures\n",
    "end = time.time()\n",
    "print(f\"Time required to do the predictions on 10 rounds {end - start}\")"
   ]
  },
  {
   "cell_type": "code",
   "execution_count": 70,
   "metadata": {},
   "outputs": [
    {
     "data": {
      "text/plain": [
       "(0.8, 1.0)"
      ]
     },
     "execution_count": 70,
     "metadata": {},
     "output_type": "execute_result"
    },
    {
     "data": {
      "image/png": "[encoded data removed]",
      "text/plain": [
       "<Figure size 432x288 with 1 Axes>"
      ]
     },
     "metadata": {
      "needs_background": "light"
     },
     "output_type": "display_data"
    }
   ],
   "source": [
    "sns.barplot(data = pd.DataFrame(groups_user_avg, columns = [\"DCG\"]))\n",
    "plt.title(\"DCG on 120 groups for 10 epochs (User Avg)\")\n",
    "plt.ylim(0.8, 1.0)"
   ]
  },
  {
   "cell_type": "markdown",
   "metadata": {},
   "source": [
    "### Predicting only based on the artist average listens\n",
    "\n",
    "\n",
    "Trivially predict the mean of the artist for each user: $\\large pred(u,i) = \\mu_{i} =\\sum_{v \\in U(i)} \\frac{Plays(v,i)}{|U(i)|}$\n",
    "\n",
    "where $U(i)$ is the set of users that has listened artist i\n",
    "\n"
   ]
  },
  {
   "cell_type": "code",
   "execution_count": 74,
   "metadata": {},
   "outputs": [],
   "source": [
    "def compute_pred_avg_artist(user, artist_i, avg_listens):\n",
    "    prediction = avg_listens[avg_listens['Artist'] == artist_i]\n",
    "    if len(prediction) == 0: \n",
    "        return int(avg_listens['Plays'].mean()) # What to return when we haven't seen the artist?\n",
    "    else:\n",
    "        return int(prediction['Plays'])"
   ]
  },
  {
   "cell_type": "markdown",
   "metadata": {},
   "source": [
    "#### Results on individual prediction"
   ]
  },
  {
   "cell_type": "code",
   "execution_count": 75,
   "metadata": {},
   "outputs": [
    {
     "name": "stdout",
     "output_type": "stream",
     "text": [
      "===== Epoch 0 =====\n",
      "===== Epoch 1 =====\n",
      "===== Epoch 2 =====\n",
      "===== Epoch 3 =====\n",
      "===== Epoch 4 =====\n",
      "===== Epoch 5 =====\n",
      "===== Epoch 6 =====\n",
      "===== Epoch 7 =====\n",
      "===== Epoch 8 =====\n",
      "===== Epoch 9 =====\n",
      "Time required to do the prediction on 10 rounds 84.47276782989502\n"
     ]
    }
   ],
   "source": [
    "start_artist = time.time()\n",
    "maes_artists, accs_artists, precs_artists, recs_artists = compute_n_rounds(compute_pred_avg_artist)\n",
    "end_artist = time.time()\n",
    "print(f\"Time required to do the prediction on 10 rounds {end_artist - start_artist}\")"
   ]
  },
  {
   "cell_type": "code",
   "execution_count": 76,
   "metadata": {},
   "outputs": [
    {
     "data": {
      "text/plain": [
       "Text(0.5, 1.0, 'Mean absolute error on 10 runs')"
      ]
     },
     "execution_count": 76,
     "metadata": {},
     "output_type": "execute_result"
    },
    {
     "data": {
      "image/png": "[encoded data removed]",
      "text/plain": [
       "<Figure size 432x288 with 1 Axes>"
      ]
     },
     "metadata": {
      "needs_background": "light"
     },
     "output_type": "display_data"
    }
   ],
   "source": [
    "sns.barplot(data = pd.DataFrame(maes_artists, columns = [\"Mae_Artist_avg\"]))\n",
    "plt.ylabel(\"Mean absolute error\")\n",
    "plt.title(\"Mean absolute error on 10 runs\")"
   ]
  },
  {
   "cell_type": "code",
   "execution_count": 77,
   "metadata": {},
   "outputs": [
    {
     "data": {
      "text/plain": [
       "<matplotlib.axes._subplots.AxesSubplot at 0x1e81e18ef88>"
      ]
     },
     "execution_count": 77,
     "metadata": {},
     "output_type": "execute_result"
    },
    {
     "data": {
      "image/png": "[encoded data removed]",
      "text/plain": [
       "<Figure size 432x288 with 1 Axes>"
      ]
     },
     "metadata": {
      "needs_background": "light"
     },
     "output_type": "display_data"
    }
   ],
   "source": [
    "sns.barplot(data = pd.DataFrame({\"Accuracy_Artist_avg\":accs_artists, \"Precision_Artist_avg\":precs_artists, \"Recall_Artist_avg\":recs_artists}))"
   ]
  },
  {
   "cell_type": "markdown",
   "metadata": {},
   "source": [
    "#### Results on Group prediction"
   ]
  },
  {
   "cell_type": "code",
   "execution_count": 78,
   "metadata": {},
   "outputs": [
    {
     "name": "stdout",
     "output_type": "stream",
     "text": [
      "Finished round 0\n",
      "Finished round 1\n",
      "Finished round 2\n",
      "Finished round 3\n",
      "Finished round 4\n",
      "Finished round 5\n",
      "Finished round 6\n",
      "Finished round 7\n",
      "Finished round 8\n",
      "Finished round 9\n",
      "Time required to do the predictions on 10 rounds 243.1612515449524\n"
     ]
    }
   ],
   "source": [
    "start = time.time()\n",
    "group_pred_measures = []\n",
    "rng = np.random.default_rng(seed = 42)\n",
    "avg_artist_plays = top_merged.groupby('Artist').mean('Plays').reset_index()\n",
    "for i in range(10):\n",
    "    measures = []\n",
    "    for file in os.listdir(GROUP_FOLDER):\n",
    "        group = pd.read_csv(f'{GROUP_FOLDER}{file}').drop(columns = ['Unnamed: 0'])\n",
    "        measures.append(measure_group_recommendation(compute_pred_avg_artist, group,\n",
    "                                                     avg_artist_plays[avg_artist_plays['Artist'].isin(group['Artist'])] , rng))\n",
    "    group_pred_measures.append(np.hstack(np.array(measures)).mean())\n",
    "    print(f\"Finished round {i}\")\n",
    "groups_artist_avg = group_pred_measures\n",
    "end = time.time()\n",
    "print(f\"Time required to do the predictions on 10 rounds {end - start}\")"
   ]
  },
  {
   "cell_type": "code",
   "execution_count": 79,
   "metadata": {},
   "outputs": [
    {
     "data": {
      "text/plain": [
       "(0.8, 1.0)"
      ]
     },
     "execution_count": 79,
     "metadata": {},
     "output_type": "execute_result"
    },
    {
     "data": {
      "image/png": "[encoded data removed]",
      "text/plain": [
       "<Figure size 432x288 with 1 Axes>"
      ]
     },
     "metadata": {
      "needs_background": "light"
     },
     "output_type": "display_data"
    }
   ],
   "source": [
    "sns.barplot(data = pd.DataFrame(groups_artist_avg, columns = [\"DCG\"]))\n",
    "plt.title(\"DCG on 120 groups for 10 epochs\")\n",
    "plt.ylim(0.8, 1.0)"
   ]
  },
  {
   "cell_type": "markdown",
   "metadata": {},
   "source": [
    "###  Using User similarity\n",
    "\n",
    "**User specific prediction**: Compute similarity based on Jaccard distance: Each user has a set of artist he has listened to.\n",
    "\n",
    "$\\large sim(u,v)$ = Jacc$(I(u), I(v))$ = $\\Large \\frac{|I(u) \\cap I(v)|}{|I(u) \\cup I(v)|}$\n",
    "\n",
    "Once we have this similarity, check if a new artist will be listened a lot by the user by comparing it to all the other users that have listened to him, this is the user-specific sum : \n",
    "\n",
    "$\\large \\tilde{u} =  \\frac{\\sum_{v \\in U(i)} sim(u,v) \\cdot (Plays(v,i) - \\mu_{v})}{ \\sum_{v \\in U(i)} sim(u,v)} $\n",
    "\n",
    "where $U(i)$ is the set of users that have listened to the group $i$\n",
    "\n",
    "and add the mean of the user to it so we have:\n",
    "\n",
    "$\\large pred(u, i) = \\mu_{u} + \\tilde{u} $"
   ]
  },
  {
   "cell_type": "code",
   "execution_count": 80,
   "metadata": {},
   "outputs": [],
   "source": [
    "def compute_pred_user_item(user, artist, df):\n",
    "    user_artists = set(df[df['ID'] == user]['Artist']) #Get the set of the current user we want to get the prediction from\n",
    "    artist_has_user = set(df[(df['Artist'] == artist) & (df['ID'] != user)]['ID']) #Set of artist that have rated the user\n",
    "    \n",
    "    num = 0\n",
    "    denom = 0\n",
    "    \n",
    "    for i, x in enumerate(artist_has_user):\n",
    "        user_i_artists = set(df[df['ID'] == x]['Artist'])\n",
    "        sim_with_i = len(user_artists.intersection(user_i_artists))/len(user_artists.union(user_i_artists))\n",
    "        \n",
    "        num += sim_with_i * (int(df[(df['ID'] == x) & (df['Artist'] == artist)]['Plays']) - int(df[df['ID'] == x]['Plays'].mean()))\n",
    "        denom += sim_with_i\n",
    "    \n",
    "    if denom == 0:\n",
    "        return df[df['ID'] == user]['Plays'].mean()\n",
    "    else:\n",
    "        return df[df['ID'] == user]['Plays'].mean() + num/denom\n",
    "    \n",
    "    \n",
    "    "
   ]
  },
  {
   "cell_type": "markdown",
   "metadata": {},
   "source": [
    "#### Results on individual prediction"
   ]
  },
  {
   "cell_type": "code",
   "execution_count": 85,
   "metadata": {},
   "outputs": [
    {
     "name": "stdout",
     "output_type": "stream",
     "text": [
      "===== Epoch 0 =====\n",
      "===== Epoch 1 =====\n",
      "===== Epoch 2 =====\n",
      "===== Epoch 3 =====\n",
      "===== Epoch 4 =====\n",
      "===== Epoch 5 =====\n",
      "===== Epoch 6 =====\n",
      "===== Epoch 7 =====\n",
      "===== Epoch 8 =====\n",
      "===== Epoch 9 =====\n",
      "Time required to do the prediction on 10 rounds 1370.2510504722595\n"
     ]
    }
   ],
   "source": [
    "start_artist = time.time()\n",
    "maes_sim, accs_sim, precs_sim, recs_sim = compute_n_rounds(compute_pred_user_item)\n",
    "end_artist = time.time()\n",
    "print(f\"Time required to do the prediction on 10 rounds {end_artist - start_artist}\")"
   ]
  },
  {
   "cell_type": "code",
   "execution_count": 86,
   "metadata": {},
   "outputs": [
    {
     "data": {
      "text/plain": [
       "Text(0.5, 1.0, 'Mean absolute error on 10 runs')"
      ]
     },
     "execution_count": 86,
     "metadata": {},
     "output_type": "execute_result"
    },
    {
     "data": {
      "image/png": "[encoded data removed]",
      "text/plain": [
       "<Figure size 432x288 with 1 Axes>"
      ]
     },
     "metadata": {
      "needs_background": "light"
     },
     "output_type": "display_data"
    }
   ],
   "source": [
    "sns.barplot(data = pd.DataFrame(maes_sim, columns = [\"Mae_User_sim\"]))\n",
    "plt.ylabel(\"Mean absolute error\")\n",
    "plt.title(\"Mean absolute error on 10 runs\")"
   ]
  },
  {
   "cell_type": "code",
   "execution_count": 87,
   "metadata": {},
   "outputs": [
    {
     "data": {
      "text/plain": [
       "<matplotlib.axes._subplots.AxesSubplot at 0x1e81e5b9108>"
      ]
     },
     "execution_count": 87,
     "metadata": {},
     "output_type": "execute_result"
    },
    {
     "data": {
      "image/png": "[encoded data removed]",
      "text/plain": [
       "<Figure size 432x288 with 1 Axes>"
      ]
     },
     "metadata": {
      "needs_background": "light"
     },
     "output_type": "display_data"
    }
   ],
   "source": [
    "sns.barplot(data = pd.DataFrame({\"Accuracy_User_sim\":accs_sim, \"Precision_User_sim\":precs_sim, \"Recall_User_sim\":recs_sim}))"
   ]
  },
  {
   "cell_type": "markdown",
   "metadata": {},
   "source": [
    "#### Results on group prediction\n",
    "\n",
    "**This takes too much time**\n",
    "\n",
    "Furthermore we observed that it was less good for individual predictions, so this measure is a bit useless"
   ]
  },
  {
   "cell_type": "code",
   "execution_count": null,
   "metadata": {},
   "outputs": [],
   "source": [
    "\"\"\"\n",
    "start = time.time()\n",
    "group_pred_measures = []\n",
    "df = top_merged.groupby('ID').size()\n",
    "nb_users = len(df)\n",
    "rng = np.random.default_rng(seed = 42)\n",
    "for i in range(10):\n",
    "    measures = []\n",
    "    \n",
    "    selected_users = rng.choice(nb_users, 500, replace = False) #Generate a random list of nb_users_select users\n",
    "    subset_500_users = df[selected_users]\n",
    "    subset = top_merged[top_merged.ID.isin(subset_500_users.index)] #Subset to compare our group members too\n",
    "    \n",
    "    for file in os.listdir(GROUP_FOLDER):\n",
    "        group = pd.read_csv(f'{GROUP_FOLDER}{file}').drop(columns = ['Unnamed: 0'])\n",
    "        measures.append(measure_group_recommendation(compute_pred_user_item, group,\n",
    "                                                      subset, rng))\n",
    "    group_pred_measures.append(np.array(measures).flatten().mean())\n",
    "    print(f\"Finished round {i}\")\n",
    "group_user_avg = group_pred_measures\n",
    "end = time.time()\n",
    "print(f\"Time required to do the predictions on 10 rounds {end - start}\")\n",
    "\"\"\""
   ]
  },
  {
   "cell_type": "markdown",
   "metadata": {},
   "source": [
    "###  Using KNN\n",
    "\n",
    "**User specific prediction**: Still computes similarity between the users but uses the only the k neirest neighbors to make the predictions.\n",
    "\n",
    "$\\large \\tilde{u} =  \\frac{\\sum_{v \\in KNN(i)} sim(u,v) \\cdot (Plays(v,i) - \\mu_{v})}{ \\sum_{v \\in KNN(i)} sim(u,v)} $\n",
    "\n",
    "where $KNN(i)$ is the set of neighbors of $u$ that have listened to the group $i$.\n",
    "\n",
    "and then do as before:\n",
    "\n",
    "$\\large p(u, i) = \\mu_{u} + \\tilde{u} $"
   ]
  },
  {
   "cell_type": "code",
   "execution_count": null,
   "metadata": {},
   "outputs": [],
   "source": [
    "dists, indices = model_knn.kneighbors([knn_pivot.iloc[100]])\n",
    "dists = dists[:,1:] #eliminate comparing user_i with himself\n",
    "indices = indices[:,1:]\n",
    "indices[0]"
   ]
  },
  {
   "cell_type": "code",
   "execution_count": 102,
   "metadata": {},
   "outputs": [],
   "source": [
    "def compute_pred_knn(user, artist, df, knn_df, model_knn):\n",
    "    dists, indices = model_knn.kneighbors([knn_df.loc[user]])\n",
    "    dists = dists[:,1:] #eliminate comparing user_i with himself\n",
    "    indices = indices[:,1:] #eliminate comparing user_i with himself\n",
    "    \n",
    "    sims = 1-dists\n",
    "    \n",
    "    num = 0\n",
    "    denom = 0\n",
    "    \n",
    "    for i in range(len(indices)):\n",
    "        neighbor_i = knn_df.iloc[indices[0][i]].name\n",
    "        nb_plays = get_nb_plays(neighbor_i, artist, df)\n",
    "        \n",
    "        if nb_plays != -1:\n",
    "            num += sims[0][i] * (nb_plays - df[df['ID'] == neighbor_i]['Plays'].mean())\n",
    "            denom += sims[0][i]\n",
    "    \n",
    "    if denom == 0 or num == 0:\n",
    "        return df[df['ID'] == user]['Plays'].mean()\n",
    "    else:\n",
    "        return df[df['ID'] == user]['Plays'].mean() + num/denom\n",
    "    "
   ]
  },
  {
   "cell_type": "code",
   "execution_count": 104,
   "metadata": {},
   "outputs": [
    {
     "name": "stdout",
     "output_type": "stream",
     "text": [
      "===== Epoch 0 =====\n",
      "===== Epoch 1 =====\n",
      "===== Epoch 2 =====\n",
      "===== Epoch 3 =====\n",
      "===== Epoch 4 =====\n",
      "===== Epoch 5 =====\n",
      "===== Epoch 6 =====\n",
      "===== Epoch 7 =====\n",
      "===== Epoch 8 =====\n",
      "===== Epoch 9 =====\n",
      "Time required to do the prediction on 10 rounds 1845.54412484169\n"
     ]
    }
   ],
   "source": [
    "start = time.time()\n",
    "maes_knn, accs_knn, precs_knn, recs_knn = compute_n_rounds(compute_pred_knn, n_neighbors = 21)\n",
    "end = time.time()\n",
    "print(f\"Time required to do the prediction on 10 rounds {end - start}\")"
   ]
  },
  {
   "cell_type": "code",
   "execution_count": 105,
   "metadata": {},
   "outputs": [
    {
     "data": {
      "text/plain": [
       "Text(0.5, 1.0, 'Mean absolute error on 10 runs')"
      ]
     },
     "execution_count": 105,
     "metadata": {},
     "output_type": "execute_result"
    },
    {
     "data": {
      "image/png": "[encoded data removed]",
      "text/plain": [
       "<Figure size 432x288 with 1 Axes>"
      ]
     },
     "metadata": {
      "needs_background": "light"
     },
     "output_type": "display_data"
    }
   ],
   "source": [
    "sns.barplot(data = pd.DataFrame(maes_knn, columns = [\"Mae_Knn\"]))\n",
    "plt.ylabel(\"Mean absolute error\")\n",
    "plt.title(\"Mean absolute error on 10 runs\")"
   ]
  },
  {
   "cell_type": "code",
   "execution_count": 106,
   "metadata": {
    "scrolled": true
   },
   "outputs": [
    {
     "data": {
      "text/plain": [
       "<matplotlib.axes._subplots.AxesSubplot at 0x1e823041a08>"
      ]
     },
     "execution_count": 106,
     "metadata": {},
     "output_type": "execute_result"
    },
    {
     "data": {
      "image/png": "[encoded data removed]",
      "text/plain": [
       "<Figure size 432x288 with 1 Axes>"
      ]
     },
     "metadata": {
      "needs_background": "light"
     },
     "output_type": "display_data"
    }
   ],
   "source": [
    "sns.barplot(data = pd.DataFrame({\"Accuracy_KNN\":accs_knn, \"Precision_KNN\":precs_knn, \"Recall_KNN\":recs_knn}))"
   ]
  },
  {
   "cell_type": "markdown",
   "metadata": {},
   "source": [
    "**HyperParameter Search**\n",
    "\n",
    "Just a quick idea"
   ]
  },
  {
   "cell_type": "code",
   "execution_count": 96,
   "metadata": {},
   "outputs": [
    {
     "name": "stdout",
     "output_type": "stream",
     "text": [
      "===== Epoch 0 =====\n",
      "===== Epoch 0 =====\n",
      "===== Epoch 0 =====\n",
      "===== Epoch 0 =====\n",
      "Time required to do the prediction on 10 rounds 758.4922285079956\n"
     ]
    }
   ],
   "source": [
    "start = time.time()\n",
    "performances_df = pd.DataFrame()\n",
    "for neighbors in [6,11,21,31]: #Corresponds to 5, 10, 20\n",
    "    maes_knn_i, accs_knn_i, precs_knn_i, recs_knn_i = compute_n_rounds(compute_pred_knn, n = 1, nb_users_selected = 500, n_neighbors = neighbors)\n",
    "    \n",
    "    for i in range(len(maes_knn_i)):\n",
    "        performances_df = performances_df.append({'neighbors':neighbors, 'mae_acc_prec_rec':maes_knn_i[i], 'measurement_method':'MAE'}, ignore_index = True)\n",
    "        performances_df = performances_df.append({'neighbors':neighbors, 'mae_acc_prec_rec':accs_knn_i[i], 'measurement_method':'Accuracy'}, ignore_index = True)\n",
    "        performances_df = performances_df.append({'neighbors':neighbors, 'mae_acc_prec_rec':precs_knn_i[i], 'measurement_method':'Precision'}, ignore_index = True)\n",
    "        performances_df = performances_df.append({'neighbors':neighbors, 'mae_acc_prec_rec':recs_knn_i[i], 'measurement_method':'Recall'}, ignore_index = True)\n",
    "\n",
    "end = time.time()\n",
    "print(f\"Time required to do the prediction on 10 rounds {end - start}\")"
   ]
  },
  {
   "cell_type": "code",
   "execution_count": 99,
   "metadata": {},
   "outputs": [
    {
     "data": {
      "text/plain": [
       "<matplotlib.axes._subplots.AxesSubplot at 0x1e828739dc8>"
      ]
     },
     "execution_count": 99,
     "metadata": {},
     "output_type": "execute_result"
    },
    {
     "data": {
      "image/png": "[encoded data removed]",
      "text/plain": [
       "<Figure size 432x288 with 1 Axes>"
      ]
     },
     "metadata": {
      "needs_background": "light"
     },
     "output_type": "display_data"
    }
   ],
   "source": [
    "plt.title(\"Prediction measures on n neighbors during 5 epochs\")\n",
    "sns.lineplot(data = performances_df[performances_df['measurement_method'] != 'MAE'], x='neighbors', y='mae_acc_prec_rec', hue='measurement_method')"
   ]
  },
  {
   "cell_type": "code",
   "execution_count": 100,
   "metadata": {},
   "outputs": [
    {
     "data": {
      "text/plain": [
       "<matplotlib.axes._subplots.AxesSubplot at 0x1e82870dfc8>"
      ]
     },
     "execution_count": 100,
     "metadata": {},
     "output_type": "execute_result"
    },
    {
     "data": {
      "image/png": "[encoded data removed]",
      "text/plain": [
       "<Figure size 432x288 with 1 Axes>"
      ]
     },
     "metadata": {
      "needs_background": "light"
     },
     "output_type": "display_data"
    }
   ],
   "source": [
    "plt.title(\"Prediction measures on n neighbors during 5 epochs\")\n",
    "sns.barplot(data = performances_df[performances_df['measurement_method'] == 'MAE'], x='neighbors', y='mae_acc_prec_rec', hue='measurement_method')"
   ]
  },
  {
   "cell_type": "code",
   "execution_count": 101,
   "metadata": {},
   "outputs": [
    {
     "data": {
      "text/html": [
       "<div>\n",
       "<style scoped>\n",
       "    .dataframe tbody tr th:only-of-type {\n",
       "        vertical-align: middle;\n",
       "    }\n",
       "\n",
       "    .dataframe tbody tr th {\n",
       "        vertical-align: top;\n",
       "    }\n",
       "\n",
       "    .dataframe thead th {\n",
       "        text-align: right;\n",
       "    }\n",
       "</style>\n",
       "<table border=\"1\" class=\"dataframe\">\n",
       "  <thead>\n",
       "    <tr style=\"text-align: right;\">\n",
       "      <th></th>\n",
       "      <th>mae_acc_prec_rec</th>\n",
       "      <th>measurement_method</th>\n",
       "      <th>neighbors</th>\n",
       "    </tr>\n",
       "  </thead>\n",
       "  <tbody>\n",
       "    <tr>\n",
       "      <th>0</th>\n",
       "      <td>167.272469</td>\n",
       "      <td>MAE</td>\n",
       "      <td>6.0</td>\n",
       "    </tr>\n",
       "    <tr>\n",
       "      <th>4</th>\n",
       "      <td>167.505050</td>\n",
       "      <td>MAE</td>\n",
       "      <td>11.0</td>\n",
       "    </tr>\n",
       "    <tr>\n",
       "      <th>8</th>\n",
       "      <td>165.726368</td>\n",
       "      <td>MAE</td>\n",
       "      <td>21.0</td>\n",
       "    </tr>\n",
       "    <tr>\n",
       "      <th>12</th>\n",
       "      <td>167.024369</td>\n",
       "      <td>MAE</td>\n",
       "      <td>31.0</td>\n",
       "    </tr>\n",
       "  </tbody>\n",
       "</table>\n",
       "</div>"
      ],
      "text/plain": [
       "    mae_acc_prec_rec measurement_method  neighbors\n",
       "0         167.272469                MAE        6.0\n",
       "4         167.505050                MAE       11.0\n",
       "8         165.726368                MAE       21.0\n",
       "12        167.024369                MAE       31.0"
      ]
     },
     "execution_count": 101,
     "metadata": {},
     "output_type": "execute_result"
    }
   ],
   "source": [
    "performances_df[performances_df['measurement_method'] == 'MAE']"
   ]
  },
  {
   "cell_type": "markdown",
   "metadata": {},
   "source": [
    "### Predicting based on the average number of plays per genre and user\n",
    "\n",
    "The mean number of plays per genre and user is computed as : $\\large pred(u,i) = \\mu_{u,g} = \\sum_{k \\in I(u, g)} \\frac{Plays(u, k)}{|I(u, g)|}$\n",
    "\n",
    "where $u$ the user, $i$ the artist, $g$ the most common genre associated with the artist, and $I(u, g)$ the set of artists listened to by the user which have the same most common genre as the artist for which we are computing the prediction.\n"
   ]
  },
  {
   "cell_type": "code",
   "execution_count": 71,
   "metadata": {},
   "outputs": [
    {
     "data": {
      "text/html": [
       "<div>\n",
       "<style scoped>\n",
       "    .dataframe tbody tr th:only-of-type {\n",
       "        vertical-align: middle;\n",
       "    }\n",
       "\n",
       "    .dataframe tbody tr th {\n",
       "        vertical-align: top;\n",
       "    }\n",
       "\n",
       "    .dataframe thead th {\n",
       "        text-align: right;\n",
       "    }\n",
       "</style>\n",
       "<table border=\"1\" class=\"dataframe\">\n",
       "  <thead>\n",
       "    <tr style=\"text-align: right;\">\n",
       "      <th></th>\n",
       "      <th>ID</th>\n",
       "      <th>Most_common_genre</th>\n",
       "      <th>Plays</th>\n",
       "    </tr>\n",
       "  </thead>\n",
       "  <tbody>\n",
       "    <tr>\n",
       "      <th>0</th>\n",
       "      <td>00000c289a1829a808ac09c00daf10bc3c4e223b</td>\n",
       "      <td>alternative metal</td>\n",
       "      <td>174.500000</td>\n",
       "    </tr>\n",
       "    <tr>\n",
       "      <th>1</th>\n",
       "      <td>00000c289a1829a808ac09c00daf10bc3c4e223b</td>\n",
       "      <td>alternative rock</td>\n",
       "      <td>242.500000</td>\n",
       "    </tr>\n",
       "    <tr>\n",
       "      <th>2</th>\n",
       "      <td>00000c289a1829a808ac09c00daf10bc3c4e223b</td>\n",
       "      <td>country</td>\n",
       "      <td>145.000000</td>\n",
       "    </tr>\n",
       "    <tr>\n",
       "      <th>3</th>\n",
       "      <td>00000c289a1829a808ac09c00daf10bc3c4e223b</td>\n",
       "      <td>dance pop</td>\n",
       "      <td>248.000000</td>\n",
       "    </tr>\n",
       "    <tr>\n",
       "      <th>4</th>\n",
       "      <td>00000c289a1829a808ac09c00daf10bc3c4e223b</td>\n",
       "      <td>dance-punk</td>\n",
       "      <td>281.000000</td>\n",
       "    </tr>\n",
       "    <tr>\n",
       "      <th>...</th>\n",
       "      <td>...</td>\n",
       "      <td>...</td>\n",
       "      <td>...</td>\n",
       "    </tr>\n",
       "    <tr>\n",
       "      <th>6779827</th>\n",
       "      <td>ffff9ef87a7d9494ada2f9ade4b9ff637c0759ac</td>\n",
       "      <td>new age</td>\n",
       "      <td>80.000000</td>\n",
       "    </tr>\n",
       "    <tr>\n",
       "      <th>6779828</th>\n",
       "      <td>ffff9ef87a7d9494ada2f9ade4b9ff637c0759ac</td>\n",
       "      <td>norwegian metal</td>\n",
       "      <td>166.000000</td>\n",
       "    </tr>\n",
       "    <tr>\n",
       "      <th>6779829</th>\n",
       "      <td>ffff9ef87a7d9494ada2f9ade4b9ff637c0759ac</td>\n",
       "      <td>power metal</td>\n",
       "      <td>92.750000</td>\n",
       "    </tr>\n",
       "    <tr>\n",
       "      <th>6779830</th>\n",
       "      <td>ffff9ef87a7d9494ada2f9ade4b9ff637c0759ac</td>\n",
       "      <td>progressive power metal</td>\n",
       "      <td>128.000000</td>\n",
       "    </tr>\n",
       "    <tr>\n",
       "      <th>6779831</th>\n",
       "      <td>ffff9ef87a7d9494ada2f9ade4b9ff637c0759ac</td>\n",
       "      <td>rock</td>\n",
       "      <td>138.454545</td>\n",
       "    </tr>\n",
       "  </tbody>\n",
       "</table>\n",
       "<p>6779832 rows × 3 columns</p>\n",
       "</div>"
      ],
      "text/plain": [
       "                                               ID        Most_common_genre  \\\n",
       "0        00000c289a1829a808ac09c00daf10bc3c4e223b        alternative metal   \n",
       "1        00000c289a1829a808ac09c00daf10bc3c4e223b         alternative rock   \n",
       "2        00000c289a1829a808ac09c00daf10bc3c4e223b                  country   \n",
       "3        00000c289a1829a808ac09c00daf10bc3c4e223b                dance pop   \n",
       "4        00000c289a1829a808ac09c00daf10bc3c4e223b               dance-punk   \n",
       "...                                           ...                      ...   \n",
       "6779827  ffff9ef87a7d9494ada2f9ade4b9ff637c0759ac                  new age   \n",
       "6779828  ffff9ef87a7d9494ada2f9ade4b9ff637c0759ac          norwegian metal   \n",
       "6779829  ffff9ef87a7d9494ada2f9ade4b9ff637c0759ac              power metal   \n",
       "6779830  ffff9ef87a7d9494ada2f9ade4b9ff637c0759ac  progressive power metal   \n",
       "6779831  ffff9ef87a7d9494ada2f9ade4b9ff637c0759ac                     rock   \n",
       "\n",
       "              Plays  \n",
       "0        174.500000  \n",
       "1        242.500000  \n",
       "2        145.000000  \n",
       "3        248.000000  \n",
       "4        281.000000  \n",
       "...             ...  \n",
       "6779827   80.000000  \n",
       "6779828  166.000000  \n",
       "6779829   92.750000  \n",
       "6779830  128.000000  \n",
       "6779831  138.454545  \n",
       "\n",
       "[6779832 rows x 3 columns]"
      ]
     },
     "execution_count": 71,
     "metadata": {},
     "output_type": "execute_result"
    }
   ],
   "source": [
    "mean_genres_users = top_merged.groupby(['ID', 'Most_common_genre'])['Plays'].mean()\n",
    "mean_genres_users = mean_genres_users.reset_index()\n",
    "mean_genres_users"
   ]
  },
  {
   "cell_type": "code",
   "execution_count": 72,
   "metadata": {},
   "outputs": [],
   "source": [
    "def compute_pred_genre_avg_user(user, artist, mean_genres_users, artist_most_common) :\n",
    "    most_common = artist_most_common[artist_most_common['Artist'] == artist].Most_common_genre.iloc[0]\n",
    "    return mean_genres_users[(mean_genres_users['ID'] == user) & (mean_genres_users['Most_common_genre'] == most_common)].Plays.iloc[0]"
   ]
  },
  {
   "cell_type": "markdown",
   "metadata": {},
   "source": [
    "**Testing individual predictions**\n",
    "\n",
    "**Previous function doesn't match the need of this method**"
   ]
  },
  {
   "cell_type": "code",
   "execution_count": 73,
   "metadata": {},
   "outputs": [],
   "source": [
    "def compute_mae_and_app_genre(test_df, mean_genres_users, artist_most_common, threshold = 100):\n",
    "    predictions = np.zeros(len(test_df))\n",
    "    reals = np.zeros(len(test_df))\n",
    "    indice = 0\n",
    "    mae = 0\n",
    "    for i, row in test_df.iterrows():\n",
    "        user = row.ID\n",
    "        artist = row.Artist\n",
    "        prediction = compute_pred_genre_avg_user(user, artist, mean_genres_users, artist_most_common)\n",
    "        mae += abs(row.Plays - prediction)\n",
    "        predictions[indice] = prediction > threshold\n",
    "        reals[indice] = row.Plays > threshold\n",
    "        indice += 1\n",
    "    \n",
    "    tp = np.sum(np.bitwise_and(predictions==1, reals == 1))\n",
    "    fp = np.sum(np.bitwise_and(predictions==1, reals == 0))\n",
    "    \n",
    "    fn = np.sum(np.bitwise_and(predictions== 0, reals == 1))\n",
    "    \n",
    "    acc = np.sum(predictions == reals)\n",
    "    \n",
    "    return mae/len(test_df), acc/len(test_df), tp/(tp+fp), tp/(tp + fn)"
   ]
  },
  {
   "cell_type": "code",
   "execution_count": 74,
   "metadata": {},
   "outputs": [],
   "source": [
    "def compute_n_rounds_genre(nb_users_selected = 500, n = 10, seed = 42):\n",
    "    \"\"\"\n",
    "    Computes the mae, accuracy, precision and recall on n round of the pred_method\n",
    "    \n",
    "    pred_method = method that allows to compute the prediction\n",
    "    nb_users_selected = number of users in the sub-sample\n",
    "    n = number of rounds\n",
    "    seed = seed for random generation of sub-samples\n",
    "    \"\"\"\n",
    "    np.random.seed(seed)\n",
    "    maes, accs, precs, recs = [],[],[],[]\n",
    "    df = top_merged[['ID', 'Artist', 'Plays']]\n",
    "    df2 = df.groupby('ID').size()\n",
    "    nb_users = len(top_merged.ID.unique())\n",
    "    \n",
    "    for i in range(n):\n",
    "        print(f\"===== Epoch {i} =====\")\n",
    "        selected_users = np.random.randint(0, nb_users, nb_users_selected) #Generate a random list of nb_users_select users\n",
    "        subset_500_users = df2[selected_users]\n",
    "        subset = df[df.ID.isin(subset_500_users.index)]\n",
    "        train, test = split_train_test(subset, train_size=0.95)\n",
    "        test_genre_users = mean_genres_users[mean_genres_users.ID.isin(test.ID)]\n",
    "        \n",
    "        mae, acc, prec, rec = compute_mae_and_app_genre(test, test_genre_users, add_data[['Artist', 'Most_common_genre']])\n",
    "        \n",
    "        maes.append(mae)\n",
    "        accs.append(acc)\n",
    "        precs.append(prec)\n",
    "        recs.append(rec)\n",
    "        \n",
    "    return maes, accs, precs, recs"
   ]
  },
  {
   "cell_type": "code",
   "execution_count": 75,
   "metadata": {},
   "outputs": [],
   "source": [
    "def test_recommender_genre(df, mean_genres_users, artist_most_common, group_of_users, same_artists, threshold = 250):\n",
    "    list_of_artists = dict()\n",
    "    \n",
    "    for user in group_of_users:\n",
    "        nb_likes = 0\n",
    "        for artist in same_artists:\n",
    "            list_of_artists[artist] = 0\n",
    "    \n",
    "    for artist in list_of_artists.keys():\n",
    "        for user in group_of_users:\n",
    "            if(user == group_of_users[0]): #Always takes first user because selection is randomized\n",
    "                nb_plays = get_nb_plays(user, artist, df)\n",
    "            \n",
    "            else: nb_plays = -1\n",
    "                \n",
    "            if nb_plays != -1:\n",
    "                if nb_plays > threshold:\n",
    "                    list_of_artists[artist] += 1\n",
    "            \n",
    "            else:\n",
    "                prediction = compute_pred_genre_avg_user(user, artist, mean_genres_users, artist_most_common)\n",
    "                if prediction > threshold:\n",
    "                    list_of_artists[artist] += 1\n",
    "    \n",
    "    recommendation = pd.DataFrame(columns = [\"Artist\", \"nb_likes\"])\n",
    "    \n",
    "    for entry in list_of_artists:\n",
    "        recommendation = recommendation.append({\"Artist\":entry, \"nb_likes\":list_of_artists[entry]}, ignore_index = True)\n",
    "    \n",
    "    return recommendation.sort_values(\"nb_likes\", ascending = False).reset_index().drop(columns = \"index\")"
   ]
  },
  {
   "cell_type": "code",
   "execution_count": 88,
   "metadata": {},
   "outputs": [],
   "source": [
    "def measure_group_recommendation_genre(mean_genres_users, artist_most_common, group_df, rng):\n",
    "    users = group_df['ID'].unique()\n",
    "    mean_genres_users_group = mean_genres_users[mean_genres_users['ID'].isin(users)]\n",
    "    measures = []\n",
    "    rng = rng\n",
    "    for nb_pred in range(10):\n",
    "        random_6_users = rng.choice(len(users), 6, replace = False)\n",
    "        my_6_users_group = users[random_6_users]\n",
    "\n",
    "        aggregated_set = group[group['ID'].isin(users)][['ID','Artist']].groupby('ID').agg(set)\n",
    "        same_artists = aggregated_set.iloc[0]['Artist']\n",
    "        for i,row in aggregated_set.iterrows():\n",
    "            same_artists = same_artists.intersection(row['Artist'])\n",
    "\n",
    "        random_5_artists = np.array(list(same_artists))\n",
    "        random_5_artists = random_5_artists[rng.choice(len(same_artists), 5, replace = False)]\n",
    "\n",
    "        real = get_group_recommendation_according_to_our_algorithm(my_6_users_group, random_5_artists, group)\n",
    "        pred = test_recommender_genre(group, mean_genres_users_group, add_data[['Artist', 'Most_common_genre']], my_6_users_group, random_5_artists)\n",
    "        measures.append(dcg_idcg(real, pred))\n",
    "    return measures"
   ]
  },
  {
   "cell_type": "markdown",
   "metadata": {},
   "source": [
    "#### Individual prediction"
   ]
  },
  {
   "cell_type": "code",
   "execution_count": 114,
   "metadata": {},
   "outputs": [
    {
     "name": "stdout",
     "output_type": "stream",
     "text": [
      "===== Epoch 0 =====\n",
      "===== Epoch 1 =====\n",
      "===== Epoch 2 =====\n",
      "===== Epoch 3 =====\n",
      "===== Epoch 4 =====\n",
      "===== Epoch 5 =====\n",
      "===== Epoch 6 =====\n",
      "===== Epoch 7 =====\n",
      "===== Epoch 8 =====\n",
      "===== Epoch 9 =====\n",
      "Time required to do the prediction on 10 rounds 100.34366464614868\n"
     ]
    }
   ],
   "source": [
    "import time\n",
    "start = time.time()\n",
    "maes_genres, accs_genres, precs_genres, recs_genres = compute_n_rounds_genre()\n",
    "end = time.time()\n",
    "print(f\"Time required to do the prediction on 10 rounds {end - start}\")"
   ]
  },
  {
   "cell_type": "code",
   "execution_count": 117,
   "metadata": {},
   "outputs": [
    {
     "data": {
      "text/plain": [
       "Text(0.5, 1.0, 'Mean absolute error on 10 runs')"
      ]
     },
     "execution_count": 117,
     "metadata": {},
     "output_type": "execute_result"
    },
    {
     "data": {
      "image/png": "[encoded data removed]",
      "text/plain": [
       "<Figure size 432x288 with 1 Axes>"
      ]
     },
     "metadata": {
      "needs_background": "light"
     },
     "output_type": "display_data"
    }
   ],
   "source": [
    "sns.barplot(data = pd.DataFrame(maes_genres, columns = [\"Mae_Artist_avg\"]))\n",
    "plt.ylabel(\"Mean absolute error\")\n",
    "plt.title(\"Mean absolute error on 10 runs\")"
   ]
  },
  {
   "cell_type": "code",
   "execution_count": 118,
   "metadata": {},
   "outputs": [
    {
     "data": {
      "text/plain": [
       "<matplotlib.axes._subplots.AxesSubplot at 0x1e8285d7288>"
      ]
     },
     "execution_count": 118,
     "metadata": {},
     "output_type": "execute_result"
    },
    {
     "data": {
      "image/png": "[encoded data removed]",
      "text/plain": [
       "<Figure size 432x288 with 1 Axes>"
      ]
     },
     "metadata": {
      "needs_background": "light"
     },
     "output_type": "display_data"
    }
   ],
   "source": [
    "sns.barplot(data = pd.DataFrame({\"Accuracy_Artist_avg\":accs_genres, \"Precision_Artist_avg\":precs_genres, \"Recall_Artist_avg\":recs_genres}))"
   ]
  },
  {
   "cell_type": "code",
   "execution_count": 93,
   "metadata": {},
   "outputs": [
    {
     "name": "stdout",
     "output_type": "stream",
     "text": [
      "Finished round 0\n",
      "Finished round 1\n",
      "Finished round 2\n",
      "Finished round 3\n",
      "Finished round 4\n",
      "Finished round 5\n",
      "Finished round 6\n",
      "Finished round 7\n",
      "Finished round 8\n",
      "Finished round 9\n",
      "Time required to do the predictions on 10 rounds 222.698588848114\n"
     ]
    }
   ],
   "source": [
    "start = time.time()\n",
    "group_pred_measures = []\n",
    "rng = np.random.default_rng(seed = 42)\n",
    "\n",
    "for i in range(10):\n",
    "    measures = []\n",
    "    for file in os.listdir(GROUP_FOLDER):\n",
    "        group = pd.read_csv(f'{GROUP_FOLDER}{file}').drop(columns = ['Unnamed: 0'])\n",
    "        measures.append(measure_group_recommendation_genre(mean_genres_users, add_data[['Artist', 'Most_common_genre']], group, rng))\n",
    "    group_pred_measures.append(np.hstack(np.array(measures)).mean())\n",
    "    print(f\"Finished round {i}\")\n",
    "groups_genres = group_pred_measures\n",
    "end = time.time()\n",
    "print(f\"Time required to do the predictions on 10 rounds {end - start}\")"
   ]
  },
  {
   "cell_type": "code",
   "execution_count": 94,
   "metadata": {},
   "outputs": [
    {
     "data": {
      "text/plain": [
       "(0.8, 1.0)"
      ]
     },
     "execution_count": 94,
     "metadata": {},
     "output_type": "execute_result"
    },
    {
     "data": {
      "image/png": "[encoded data removed]",
      "text/plain": [
       "<Figure size 432x288 with 1 Axes>"
      ]
     },
     "metadata": {
      "needs_background": "light"
     },
     "output_type": "display_data"
    }
   ],
   "source": [
    "sns.barplot(data = pd.DataFrame(groups_genres, columns = [\"DCG\"]))\n",
    "plt.title(\"DCG on 120 groups for 10 epochs\")\n",
    "plt.ylim(0.8, 1.0)"
   ]
  },
  {
   "cell_type": "markdown",
   "metadata": {},
   "source": [
    "## 8. Comparison between techniques"
   ]
  },
  {
   "cell_type": "code",
   "execution_count": 121,
   "metadata": {},
   "outputs": [
    {
     "data": {
      "image/png": "[encoded data removed]",
      "text/plain": [
       "<Figure size 1080x432 with 1 Axes>"
      ]
     },
     "metadata": {
      "needs_background": "light"
     },
     "output_type": "display_data"
    }
   ],
   "source": [
    "fig = plt.figure(figsize= (15,6))\n",
    "measurments_df = pd.DataFrame(columns = ['method', 'mae_acc_prec_rec', 'measurement_method']) \n",
    "\n",
    "\n",
    "for i in range(len(maes_genres)):\n",
    "    measurments_df= measurments_df.append({'method':'Genre Similarity', 'mae_acc_prec_rec':maes_genres[i], 'measurement_method':'MAE'}, ignore_index = True)\n",
    "    measurments_df= measurments_df.append({'method':'Genre Similarity', 'mae_acc_prec_rec':accs_genres[i], 'measurement_method':'Accuracy'}, ignore_index = True)\n",
    "    measurments_df= measurments_df.append({'method':'Genre Similarity', 'mae_acc_prec_rec':precs_genres[i], 'measurement_method':'Precision'}, ignore_index = True)\n",
    "    measurments_df= measurments_df.append({'method':'Genre Similarity', 'mae_acc_prec_rec':recs_genres[i], 'measurement_method':'Recall'}, ignore_index = True)\n",
    "\n",
    "for i in range(len(maes_users)):\n",
    "    measurments_df= measurments_df.append({'method':'User average', 'mae_acc_prec_rec':maes_users[i], 'measurement_method':'MAE'}, ignore_index = True)\n",
    "    measurments_df= measurments_df.append({'method':'User average', 'mae_acc_prec_rec':accs_users[i], 'measurement_method':'Accuracy'}, ignore_index = True)\n",
    "    measurments_df= measurments_df.append({'method':'User average', 'mae_acc_prec_rec':precs_users[i], 'measurement_method':'Precision'}, ignore_index = True)\n",
    "    measurments_df= measurments_df.append({'method':'User average', 'mae_acc_prec_rec':recs_users[i], 'measurement_method':'Recall'}, ignore_index = True)\n",
    "\n",
    "for i in range(len(maes_knn)):\n",
    "    measurments_df= measurments_df.append({'method':'KNN', 'mae_acc_prec_rec':maes_knn[i], 'measurement_method':'MAE'}, ignore_index = True)\n",
    "    measurments_df= measurments_df.append({'method':'KNN', 'mae_acc_prec_rec':accs_knn[i], 'measurement_method':'Accuracy'}, ignore_index = True)\n",
    "    measurments_df= measurments_df.append({'method':'KNN', 'mae_acc_prec_rec':precs_knn[i], 'measurement_method':'Precision'}, ignore_index = True)\n",
    "    measurments_df= measurments_df.append({'method':'KNN', 'mae_acc_prec_rec':recs_knn[i], 'measurement_method':'Recall'}, ignore_index = True)\n",
    "\n",
    "for i in range(len(maes_sim)):\n",
    "    measurments_df= measurments_df.append({'method':'Full-Similarity', 'mae_acc_prec_rec':maes_sim[i], 'measurement_method':'MAE'}, ignore_index = True)\n",
    "    measurments_df= measurments_df.append({'method':'Full-Similarity', 'mae_acc_prec_rec':accs_sim[i], 'measurement_method':'Accuracy'}, ignore_index = True)\n",
    "    measurments_df= measurments_df.append({'method':'Full-Similarity', 'mae_acc_prec_rec':precs_sim[i], 'measurement_method':'Precision'}, ignore_index = True)\n",
    "    measurments_df= measurments_df.append({'method':'Full-Similarity', 'mae_acc_prec_rec':recs_sim[i], 'measurement_method':'Recall'}, ignore_index = True)\n",
    "\n",
    "for i in range(len(maes_artists)):\n",
    "    measurments_df= measurments_df.append({'method':'Artist average', 'mae_acc_prec_rec':maes_artists[i], 'measurement_method':'MAE'}, ignore_index = True)\n",
    "    measurments_df= measurments_df.append({'method':'Artist average', 'mae_acc_prec_rec':accs_artists[i], 'measurement_method':'Accuracy'}, ignore_index = True)\n",
    "    measurments_df= measurments_df.append({'method':'Artist average', 'mae_acc_prec_rec':precs_artists[i], 'measurement_method':'Precision'}, ignore_index = True)\n",
    "    measurments_df= measurments_df.append({'method':'Artist average', 'mae_acc_prec_rec':recs_artists[i], 'measurement_method':'Recall'}, ignore_index = True)\n",
    "\n",
    "\n",
    "sns.barplot(data =  measurments_df[measurments_df['measurement_method']!= 'MAE'] , x= 'method', y='mae_acc_prec_rec', hue='measurement_method')\n",
    "plt.ylabel('Percent')\n",
    "\n",
    "plt.savefig('data/all_measurements.png')"
   ]
  },
  {
   "cell_type": "markdown",
   "metadata": {},
   "source": [
    "### MAE comparison"
   ]
  },
  {
   "cell_type": "code",
   "execution_count": 125,
   "metadata": {},
   "outputs": [
    {
     "data": {
      "image/png": "[encoded data removed]",
      "text/plain": [
       "<Figure size 576x360 with 1 Axes>"
      ]
     },
     "metadata": {
      "needs_background": "light"
     },
     "output_type": "display_data"
    }
   ],
   "source": [
    "fig = plt.figure(figsize = (8,5))\n",
    "sns.barplot(data =  measurments_df[measurments_df['measurement_method']== 'MAE'] , x= 'method', y='mae_acc_prec_rec')\n",
    "plt.ylabel('MAE')\n",
    "plt.savefig('data/mae.png')"
   ]
  },
  {
   "cell_type": "markdown",
   "metadata": {},
   "source": [
    "### Group measurements (Only on bests method)"
   ]
  },
  {
   "cell_type": "code",
   "execution_count": 97,
   "metadata": {},
   "outputs": [],
   "source": [
    "NDCG_measures_df =  pd.DataFrame()\n",
    "\n",
    "for i in range(len(groups_genres)):\n",
    "    NDCG_measures_df = NDCG_measures_df.append({'method':'Genre Similarity', 'ndcg':groups_genres[i], 'measurement_method':'NDCG'}, ignore_index = True)\n",
    "    NDCG_measures_df = NDCG_measures_df.append({'method':'User Similarity', 'ndcg':groups_user_avg[i], 'measurement_method':'NDCG'}, ignore_index = True)"
   ]
  },
  {
   "cell_type": "code",
   "execution_count": 98,
   "metadata": {},
   "outputs": [
    {
     "data": {
      "image/png": "[encoded data removed]",
      "text/plain": [
       "<Figure size 432x288 with 1 Axes>"
      ]
     },
     "metadata": {
      "needs_background": "light"
     },
     "output_type": "display_data"
    }
   ],
   "source": [
    "sns.barplot(data = NDCG_measures_df, x=\"method\", y=\"ndcg\")\n",
    "plt.ylim(0.8, 1)\n",
    "plt.savefig('data/ndcg_idcg.png')"
   ]
  },
  {
   "cell_type": "markdown",
   "metadata": {},
   "source": [
    "Example of a prediction with the reality and the final group prediction score:"
   ]
  },
  {
   "cell_type": "code",
   "execution_count": 111,
   "metadata": {},
   "outputs": [],
   "source": [
    "for file in os.listdir(GROUP_FOLDER):\n",
    "    group = pd.read_csv(f'{GROUP_FOLDER}{file}').drop(columns = ['Unnamed: 0'])\n",
    "    users = group['ID'].unique()\n",
    "    random_6_users = rng.choice(len(users), 6, replace = False)\n",
    "    my_6_users_group = users[random_6_users]\n",
    "        \n",
    "    aggregated_set = group[group['ID'].isin(users)][['ID','Artist']].groupby('ID').agg(set)\n",
    "    same_artists = aggregated_set.iloc[0]['Artist']\n",
    "    for i,row in aggregated_set.iterrows():\n",
    "        same_artists = same_artists.intersection(row['Artist'])\n",
    "        \n",
    "    random_5_artists = np.array(list(same_artists))\n",
    "    random_5_artists = random_5_artists[rng.choice(len(same_artists), 5, replace = False)]\n",
    "    \n",
    "    real = get_group_recommendation_according_to_our_algorithm(my_6_users_group, random_5_artists, group)\n",
    "    mean_genres_group = mean_genres_users[mean_genres_users['ID'].isin(my_6_users_group)]\n",
    "    pred = test_recommender_genre(group, mean_genres_group, add_data[['Artist', 'Most_common_genre']], my_6_users_group, random_5_artists)\n",
    "    break"
   ]
  },
  {
   "cell_type": "code",
   "execution_count": 112,
   "metadata": {},
   "outputs": [
    {
     "data": {
      "text/html": [
       "<div>\n",
       "<style scoped>\n",
       "    .dataframe tbody tr th:only-of-type {\n",
       "        vertical-align: middle;\n",
       "    }\n",
       "\n",
       "    .dataframe tbody tr th {\n",
       "        vertical-align: top;\n",
       "    }\n",
       "\n",
       "    .dataframe thead th {\n",
       "        text-align: right;\n",
       "    }\n",
       "</style>\n",
       "<table border=\"1\" class=\"dataframe\">\n",
       "  <thead>\n",
       "    <tr style=\"text-align: right;\">\n",
       "      <th></th>\n",
       "      <th>Artist</th>\n",
       "      <th>nb_likes</th>\n",
       "    </tr>\n",
       "  </thead>\n",
       "  <tbody>\n",
       "    <tr>\n",
       "      <th>0</th>\n",
       "      <td>air</td>\n",
       "      <td>2</td>\n",
       "    </tr>\n",
       "    <tr>\n",
       "      <th>1</th>\n",
       "      <td>radiohead</td>\n",
       "      <td>2</td>\n",
       "    </tr>\n",
       "    <tr>\n",
       "      <th>2</th>\n",
       "      <td>sigur rós</td>\n",
       "      <td>1</td>\n",
       "    </tr>\n",
       "    <tr>\n",
       "      <th>3</th>\n",
       "      <td>muse</td>\n",
       "      <td>1</td>\n",
       "    </tr>\n",
       "    <tr>\n",
       "      <th>4</th>\n",
       "      <td>the rolling stones</td>\n",
       "      <td>1</td>\n",
       "    </tr>\n",
       "  </tbody>\n",
       "</table>\n",
       "</div>"
      ],
      "text/plain": [
       "               Artist nb_likes\n",
       "0                 air        2\n",
       "1           radiohead        2\n",
       "2           sigur rós        1\n",
       "3                muse        1\n",
       "4  the rolling stones        1"
      ]
     },
     "execution_count": 112,
     "metadata": {},
     "output_type": "execute_result"
    }
   ],
   "source": [
    "real"
   ]
  },
  {
   "cell_type": "code",
   "execution_count": 113,
   "metadata": {},
   "outputs": [
    {
     "data": {
      "text/html": [
       "<div>\n",
       "<style scoped>\n",
       "    .dataframe tbody tr th:only-of-type {\n",
       "        vertical-align: middle;\n",
       "    }\n",
       "\n",
       "    .dataframe tbody tr th {\n",
       "        vertical-align: top;\n",
       "    }\n",
       "\n",
       "    .dataframe thead th {\n",
       "        text-align: right;\n",
       "    }\n",
       "</style>\n",
       "<table border=\"1\" class=\"dataframe\">\n",
       "  <thead>\n",
       "    <tr style=\"text-align: right;\">\n",
       "      <th></th>\n",
       "      <th>Artist</th>\n",
       "      <th>nb_likes</th>\n",
       "    </tr>\n",
       "  </thead>\n",
       "  <tbody>\n",
       "    <tr>\n",
       "      <th>0</th>\n",
       "      <td>air</td>\n",
       "      <td>2</td>\n",
       "    </tr>\n",
       "    <tr>\n",
       "      <th>1</th>\n",
       "      <td>sigur rós</td>\n",
       "      <td>1</td>\n",
       "    </tr>\n",
       "    <tr>\n",
       "      <th>2</th>\n",
       "      <td>muse</td>\n",
       "      <td>1</td>\n",
       "    </tr>\n",
       "    <tr>\n",
       "      <th>3</th>\n",
       "      <td>the rolling stones</td>\n",
       "      <td>1</td>\n",
       "    </tr>\n",
       "    <tr>\n",
       "      <th>4</th>\n",
       "      <td>radiohead</td>\n",
       "      <td>1</td>\n",
       "    </tr>\n",
       "  </tbody>\n",
       "</table>\n",
       "</div>"
      ],
      "text/plain": [
       "               Artist nb_likes\n",
       "0                 air        2\n",
       "1           sigur rós        1\n",
       "2                muse        1\n",
       "3  the rolling stones        1\n",
       "4           radiohead        1"
      ]
     },
     "execution_count": 113,
     "metadata": {},
     "output_type": "execute_result"
    }
   ],
   "source": [
    "pred"
   ]
  },
  {
   "cell_type": "code",
   "execution_count": 114,
   "metadata": {},
   "outputs": [
    {
     "data": {
      "text/plain": [
       "0.8976332717519826"
      ]
     },
     "execution_count": 114,
     "metadata": {},
     "output_type": "execute_result"
    }
   ],
   "source": [
    "dcg_idcg(real, pred)"
   ]
  }
 ],
 "metadata": {
  "kernelspec": {
   "display_name": "Python 3",
   "language": "python",
   "name": "python3"
  },
  "language_info": {
   "codemirror_mode": {
    "name": "ipython",
    "version": 3
   },
   "file_extension": ".py",
   "mimetype": "text/x-python",
   "name": "python",
   "nbconvert_exporter": "python",
   "pygments_lexer": "ipython3",
   "version": "3.7.6"
  }
 },
 "nbformat": 4,
 "nbformat_minor": 4
}
